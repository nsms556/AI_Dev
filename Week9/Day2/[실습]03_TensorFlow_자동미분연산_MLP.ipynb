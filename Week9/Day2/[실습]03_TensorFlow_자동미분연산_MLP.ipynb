{
 "cells": [
  {
   "cell_type": "markdown",
   "metadata": {
    "id": "zeGS03mwS9S8"
   },
   "source": [
    "# 자동 미분과 그래디언트 테이프\n",
    "\n",
    "## 그레디언트 테이프\n",
    "\n",
    "- 텐서플로는 자동미분을 위한 `tf.GradientTape` API를 제공\n",
    "- `tf.GradientTape`는 컨텍스트 안에서 실행된 모든 연산을 테이프에 '기록'\n",
    "- 후진 방식 자동 미분(reverse mode differetiation)을 사용해서 테이프에 '기록된' 연산 그래디언트를 계산"
   ]
  },
  {
   "cell_type": "code",
   "execution_count": 1,
   "metadata": {
    "ExecuteTime": {
     "end_time": "2021-06-22T09:07:50.464363Z",
     "start_time": "2021-06-22T09:07:45.052400Z"
    },
    "colab": {
     "base_uri": "https://localhost:8080/"
    },
    "executionInfo": {
     "elapsed": 3058,
     "status": "ok",
     "timestamp": 1610608681130,
     "user": {
      "displayName": "­김인경[컴퓨터공학과]",
      "photoUrl": "https://lh3.googleusercontent.com/a-/AOh14GjxMrgAQR-dzRS0V-kACuhAc00Q18R0T9aK0VuTtQ=s64",
      "userId": "13760753515928488748"
     },
     "user_tz": -540
    },
    "id": "1xKk4DEWS1WE",
    "outputId": "d053ece0-4879-479c-a0b3-fcf73c5ee294"
   },
   "outputs": [
    {
     "name": "stdout",
     "output_type": "stream",
     "text": [
      "2.3.0\n"
     ]
    }
   ],
   "source": [
    "import tensorflow as tf\n",
    "\n",
    "print(tf.__version__)"
   ]
  },
  {
   "cell_type": "code",
   "execution_count": 2,
   "metadata": {
    "ExecuteTime": {
     "end_time": "2021-06-22T09:07:50.598548Z",
     "start_time": "2021-06-22T09:07:50.468360Z"
    },
    "colab": {
     "base_uri": "https://localhost:8080/"
    },
    "executionInfo": {
     "elapsed": 2143,
     "status": "ok",
     "timestamp": 1609600284503,
     "user": {
      "displayName": "­김인경[컴퓨터공학과]",
      "photoUrl": "https://lh3.googleusercontent.com/a-/AOh14GjxMrgAQR-dzRS0V-kACuhAc00Q18R0T9aK0VuTtQ=s64",
      "userId": "13760753515928488748"
     },
     "user_tz": -540
    },
    "id": "PvYCPZjVS66n",
    "outputId": "fb813d49-1b98-4b5b-da92-a05ce94ca0ad"
   },
   "outputs": [
    {
     "name": "stdout",
     "output_type": "stream",
     "text": [
      "y:  tf.Tensor(4.0, shape=(), dtype=float32)\n",
      "z:  tf.Tensor(16.0, shape=(), dtype=float32)\n",
      "tf.Tensor(\n",
      "[[8. 8.]\n",
      " [8. 8.]], shape=(2, 2), dtype=float32)\n"
     ]
    }
   ],
   "source": [
    "x = tf.ones((2, 2))\n",
    "# 1, 1\n",
    "# 1, 1\n",
    "with tf.GradientTape() as t:\n",
    "  t.watch(x)\n",
    "  y = tf.reduce_sum(x)\n",
    "  print('y: ', y)\n",
    "  z = tf.multiply(y, y)\n",
    "  print('z: ', z)\n",
    "\n",
    "# 입력 텐서 x에 대한 z의 도함수\n",
    "dz_dx = t.gradient(z, x)\n",
    "print(dz_dx)\n",
    "for i in [0, 1]:\n",
    "  for j in [0, 1]:\n",
    "    # AssertionError가 발생하지 않음\n",
    "    assert dz_dx[i][j].numpy() == 8.0"
   ]
  },
  {
   "cell_type": "code",
   "execution_count": 3,
   "metadata": {
    "ExecuteTime": {
     "end_time": "2021-06-22T09:09:33.606665Z",
     "start_time": "2021-06-22T09:09:33.597689Z"
    },
    "id": "3QAns_uTWDOK"
   },
   "outputs": [],
   "source": [
    "x = tf.ones((2, 2))\n",
    "\n",
    "with tf.GradientTape() as t:\n",
    "  t.watch(x)\n",
    "  y = tf.reduce_sum(x)\n",
    "  z = tf.multiply(y, y)\n",
    "\n",
    "# tf.GradientTape() 안에서 계산된 중간 값에 대한 그래디언트도 구할 수 있습니다.\n",
    "# 테이프 사용하여 중간값 y에 대한 도함수를 계산합니다. \n",
    "dz_dy = t.gradient(z, y)\n",
    "assert dz_dy.numpy() == 8.0"
   ]
  },
  {
   "cell_type": "markdown",
   "metadata": {
    "id": "L57STLmZqc4q"
   },
   "source": [
    "- `GradientTape.gradient()` 메소드가 호출되면 GradientTape에 포함된 리소스가 해제됨\n",
    "- 동일한 연산에 대해 여러 그래디언트를 계산하려면 지속성있는(`persistent=True`) 그래디언트 테이프를 생성하면 됨\n",
    "- 이렇게 생성한 그래디언트 테이프틑 `gradient()` 메소드의 다중 호출을 허용\n",
    "\n"
   ]
  },
  {
   "cell_type": "code",
   "execution_count": 5,
   "metadata": {
    "ExecuteTime": {
     "end_time": "2021-06-22T09:10:43.974467Z",
     "start_time": "2021-06-22T09:10:43.958844Z"
    },
    "colab": {
     "base_uri": "https://localhost:8080/"
    },
    "executionInfo": {
     "elapsed": 810,
     "status": "ok",
     "timestamp": 1609600584076,
     "user": {
      "displayName": "­김인경[컴퓨터공학과]",
      "photoUrl": "https://lh3.googleusercontent.com/a-/AOh14GjxMrgAQR-dzRS0V-kACuhAc00Q18R0T9aK0VuTtQ=s64",
      "userId": "13760753515928488748"
     },
     "user_tz": -540
    },
    "id": "PaMMgFWuqMvT",
    "outputId": "29d6641c-b23b-41be-8e74-b50f421ddd2d"
   },
   "outputs": [
    {
     "name": "stdout",
     "output_type": "stream",
     "text": [
      "tf.Tensor(108.0, shape=(), dtype=float32)\n",
      "tf.Tensor(6.0, shape=(), dtype=float32)\n"
     ]
    }
   ],
   "source": [
    "x = tf.constant(3.0)\n",
    "with tf.GradientTape(persistent=True) as t:\n",
    "  t.watch(x)\n",
    "  y = x * x\n",
    "  z = y * y  # z = x ^ 4\n",
    "dz_dx = t.gradient(z, x)  # 108.0 (4*x^3 at x = 3)\n",
    "print(dz_dx)\n",
    "dy_dx = t.gradient(y, x)  # 6.0   (2 * x at x = 3)\n",
    "print(dy_dx)\n",
    "del t  # 테이프에 대한 참조를 삭제합니다."
   ]
  },
  {
   "cell_type": "markdown",
   "metadata": {
    "id": "j-5Qfp8rr9MJ"
   },
   "source": [
    "## 제어 흐름 기록\n",
    "- 연산이 실행되는 순서대로 테이프에 기록되기 때문에, 파이썬 제어흐름이 자연스럽게 처리됨"
   ]
  },
  {
   "cell_type": "code",
   "execution_count": 6,
   "metadata": {
    "ExecuteTime": {
     "end_time": "2021-06-22T09:11:44.932927Z",
     "start_time": "2021-06-22T09:11:44.913958Z"
    },
    "colab": {
     "base_uri": "https://localhost:8080/"
    },
    "executionInfo": {
     "elapsed": 843,
     "status": "ok",
     "timestamp": 1609601317086,
     "user": {
      "displayName": "­김인경[컴퓨터공학과]",
      "photoUrl": "https://lh3.googleusercontent.com/a-/AOh14GjxMrgAQR-dzRS0V-kACuhAc00Q18R0T9aK0VuTtQ=s64",
      "userId": "13760753515928488748"
     },
     "user_tz": -540
    },
    "id": "HG3HB5dxq8Sz",
    "outputId": "27abc396-b22b-4864-bc32-91dc916f29f7"
   },
   "outputs": [
    {
     "name": "stdout",
     "output_type": "stream",
     "text": [
      "12.0\n",
      "12.0\n",
      "4.0\n"
     ]
    }
   ],
   "source": [
    "def f(x, y):\n",
    "  output = 1.0\n",
    "  for i in range(y):\n",
    "    if i > 1 and i < 5:   # output(1) * 2 * 3 * 4\n",
    "      output = tf.multiply(output, x)\n",
    "  return output\n",
    "\n",
    "def grad(x, y):\n",
    "  with tf.GradientTape() as t:\n",
    "    t.watch(x)\n",
    "    out = f(x, y)\n",
    "  return t.gradient(out, x)\n",
    "\n",
    "x = tf.convert_to_tensor(2.0)\n",
    "\n",
    "print(grad(x, 6).numpy())\n",
    "assert grad(x, 6).numpy() == 12.0\n",
    "\n",
    "print(grad(x, 5).numpy())\n",
    "assert grad(x, 5).numpy() == 12.0\n",
    "\n",
    "print(grad(x, 4).numpy())\n",
    "assert grad(x, 4).numpy() == 4.0"
   ]
  },
  {
   "cell_type": "markdown",
   "metadata": {
    "id": "wQ_5uA99urYY"
   },
   "source": [
    "## 고계도(Higher-order) 그래디언트\n",
    "- `GradientTape` 컨텍스트 매니저 안에 있는 연산들은 자동미분을 위해 기록됨\n",
    "- 만약 이 컨텍스트 안에서 그래디언트를 계산하면 해당 그래디언트 연산 또한 기록됨"
   ]
  },
  {
   "cell_type": "code",
   "execution_count": 8,
   "metadata": {
    "ExecuteTime": {
     "end_time": "2021-06-22T09:13:37.605981Z",
     "start_time": "2021-06-22T09:13:37.590008Z"
    },
    "id": "1zkLeU6cs7dl"
   },
   "outputs": [],
   "source": [
    "x = tf.Variable(1.0) \n",
    "\n",
    "with tf.GradientTape() as t:\n",
    "  with tf.GradientTape() as t2:\n",
    "    y = x * x * x\n",
    "  # 't' 컨텍스트 매니저 안의 그래디언트를 계산합니다.\n",
    "  # 이것은 또한 그래디언트 연산 자체도 미분가능하다는 것을 의미합니다. \n",
    "  dy_dx = t2.gradient(y, x)      # dy_dx = 3 * x^2 at x = 1\n",
    "d2y_dx2 = t.gradient(dy_dx, x)   # d2y_dx2 = 6 * x at x = 1\n",
    "\n",
    "assert dy_dx.numpy() == 3.0\n",
    "assert d2y_dx2.numpy() == 6.0"
   ]
  },
  {
   "cell_type": "markdown",
   "metadata": {
    "id": "938guO67wagr"
   },
   "source": [
    "# ANN(Artificial Neural Network)"
   ]
  },
  {
   "cell_type": "markdown",
   "metadata": {
    "id": "JRt64A-bwRXB"
   },
   "source": [
    "## Sequential 모델을 사용하는 경우\n",
    "- `Sequential` 모델은 각 레이어에 정확히 하나의 입력 텐서와 하나의 출력 텐서가 있는 일반 레이어 스택에 적합"
   ]
  },
  {
   "cell_type": "code",
   "execution_count": 9,
   "metadata": {
    "ExecuteTime": {
     "end_time": "2021-06-22T09:13:56.893393Z",
     "start_time": "2021-06-22T09:13:56.885397Z"
    },
    "id": "_L5GWqLMvY4-"
   },
   "outputs": [],
   "source": [
    "import tensorflow as tf\n",
    "from tensorflow import keras\n",
    "from tensorflow.keras import layers"
   ]
  },
  {
   "cell_type": "code",
   "execution_count": 10,
   "metadata": {
    "ExecuteTime": {
     "end_time": "2021-06-22T09:14:14.829979Z",
     "start_time": "2021-06-22T09:14:14.703669Z"
    },
    "colab": {
     "base_uri": "https://localhost:8080/"
    },
    "executionInfo": {
     "elapsed": 1834,
     "status": "ok",
     "timestamp": 1609842517347,
     "user": {
      "displayName": "­김인경[컴퓨터공학과]",
      "photoUrl": "https://lh3.googleusercontent.com/a-/AOh14GjxMrgAQR-dzRS0V-kACuhAc00Q18R0T9aK0VuTtQ=s64",
      "userId": "13760753515928488748"
     },
     "user_tz": -540
    },
    "id": "ofcELq2fxzoN",
    "outputId": "3ab06262-101b-45e2-da5d-219c2bbede8f"
   },
   "outputs": [
    {
     "name": "stdout",
     "output_type": "stream",
     "text": [
      "tf.Tensor(\n",
      "[[ 1.305312    0.79384303 -1.4330676   0.6365972 ]\n",
      " [ 1.305312    0.79384303 -1.4330676   0.6365972 ]\n",
      " [ 1.305312    0.79384303 -1.4330676   0.6365972 ]], shape=(3, 4), dtype=float32)\n"
     ]
    }
   ],
   "source": [
    "# Define Sequential model with 3 layers\n",
    "model = keras.Sequential(\n",
    "    [\n",
    "        layers.Dense(2, activation=\"relu\", name=\"layer1\"),  # Pytorch - nn.Linear \n",
    "        layers.Dense(3, activation=\"relu\", name=\"layer2\"),\n",
    "        layers.Dense(4, name=\"layer3\"),\n",
    "    ]\n",
    ")\n",
    "# Call model on a test input\n",
    "x = tf.ones((3, 3))\n",
    "# [1, 1, 1] --> [o, o] --> [o, o, o] --> [o, o, o, o]\n",
    "y = model(x)\n",
    "print(y)"
   ]
  },
  {
   "cell_type": "code",
   "execution_count": 14,
   "metadata": {
    "ExecuteTime": {
     "end_time": "2021-06-22T09:17:30.020760Z",
     "start_time": "2021-06-22T09:17:29.979766Z"
    },
    "colab": {
     "base_uri": "https://localhost:8080/"
    },
    "executionInfo": {
     "elapsed": 1836,
     "status": "ok",
     "timestamp": 1609842526528,
     "user": {
      "displayName": "­김인경[컴퓨터공학과]",
      "photoUrl": "https://lh3.googleusercontent.com/a-/AOh14GjxMrgAQR-dzRS0V-kACuhAc00Q18R0T9aK0VuTtQ=s64",
      "userId": "13760753515928488748"
     },
     "user_tz": -540
    },
    "id": "A9DoMkc-x3F_",
    "outputId": "2c46815b-bbe4-455a-ec2c-a4b0eabbcd6f"
   },
   "outputs": [
    {
     "ename": "TypeError",
     "evalue": "__init__() missing 1 required positional argument: 'kernel_size'",
     "output_type": "error",
     "traceback": [
      "\u001b[1;31m---------------------------------------------------------------------------\u001b[0m",
      "\u001b[1;31mTypeError\u001b[0m                                 Traceback (most recent call last)",
      "\u001b[1;32m<ipython-input-14-b120ed5fe775>\u001b[0m in \u001b[0;36m<module>\u001b[1;34m\u001b[0m\n\u001b[0;32m      3\u001b[0m \u001b[0mlayer1\u001b[0m \u001b[1;33m=\u001b[0m \u001b[0mlayers\u001b[0m\u001b[1;33m.\u001b[0m\u001b[0mDense\u001b[0m\u001b[1;33m(\u001b[0m\u001b[1;36m2\u001b[0m\u001b[1;33m,\u001b[0m \u001b[0mactivation\u001b[0m\u001b[1;33m=\u001b[0m\u001b[1;34m\"relu\"\u001b[0m\u001b[1;33m,\u001b[0m \u001b[0mname\u001b[0m\u001b[1;33m=\u001b[0m\u001b[1;34m\"layer1\"\u001b[0m\u001b[1;33m)\u001b[0m\u001b[1;33m\u001b[0m\u001b[1;33m\u001b[0m\u001b[0m\n\u001b[0;32m      4\u001b[0m \u001b[0mlayer2\u001b[0m \u001b[1;33m=\u001b[0m \u001b[0mlayers\u001b[0m\u001b[1;33m.\u001b[0m\u001b[0mDense\u001b[0m\u001b[1;33m(\u001b[0m\u001b[1;36m3\u001b[0m\u001b[1;33m,\u001b[0m \u001b[0mactivation\u001b[0m\u001b[1;33m=\u001b[0m\u001b[1;34m\"relu\"\u001b[0m\u001b[1;33m,\u001b[0m \u001b[0mname\u001b[0m\u001b[1;33m=\u001b[0m\u001b[1;34m\"layer2\"\u001b[0m\u001b[1;33m)\u001b[0m\u001b[1;33m\u001b[0m\u001b[1;33m\u001b[0m\u001b[0m\n\u001b[1;32m----> 5\u001b[1;33m \u001b[0mlayer3\u001b[0m \u001b[1;33m=\u001b[0m \u001b[0mlayers\u001b[0m\u001b[1;33m.\u001b[0m\u001b[0mConv2D\u001b[0m\u001b[1;33m(\u001b[0m\u001b[1;36m4\u001b[0m\u001b[1;33m,\u001b[0m \u001b[0mname\u001b[0m\u001b[1;33m=\u001b[0m\u001b[1;34m\"layer3\"\u001b[0m\u001b[1;33m)\u001b[0m\u001b[1;33m\u001b[0m\u001b[1;33m\u001b[0m\u001b[0m\n\u001b[0m\u001b[0;32m      6\u001b[0m \u001b[1;33m\u001b[0m\u001b[0m\n\u001b[0;32m      7\u001b[0m \u001b[1;31m# Call layers on a test input\u001b[0m\u001b[1;33m\u001b[0m\u001b[1;33m\u001b[0m\u001b[1;33m\u001b[0m\u001b[0m\n",
      "\u001b[1;31mTypeError\u001b[0m: __init__() missing 1 required positional argument: 'kernel_size'"
     ]
    }
   ],
   "source": [
    "# Create 3 layers\n",
    "# 위의 함수와 동일\n",
    "layer1 = layers.Dense(2, activation=\"relu\", name=\"layer1\")\n",
    "layer2 = layers.Dense(3, activation=\"relu\", name=\"layer2\")\n",
    "layer3 = layers.Conv2D(4, name=\"layer3\")\n",
    "\n",
    "# Call layers on a test input\n",
    "x = tf.ones((3, 3))\n",
    "y = layer3(layer2(layer1(x)))\n",
    "print(y) # y = w * x"
   ]
  },
  {
   "cell_type": "code",
   "execution_count": null,
   "metadata": {
    "colab": {
     "base_uri": "https://localhost:8080/"
    },
    "executionInfo": {
     "elapsed": 1067,
     "status": "ok",
     "timestamp": 1609602570552,
     "user": {
      "displayName": "­김인경[컴퓨터공학과]",
      "photoUrl": "https://lh3.googleusercontent.com/a-/AOh14GjxMrgAQR-dzRS0V-kACuhAc00Q18R0T9aK0VuTtQ=s64",
      "userId": "13760753515928488748"
     },
     "user_tz": -540
    },
    "id": "yYYcAYpZyGLK",
    "outputId": "da0d64ce-8f67-4656-da90-b0ee64d3de0a"
   },
   "outputs": [
    {
     "data": {
      "text/plain": [
       "[<tensorflow.python.keras.layers.core.Dense at 0x7f9a34337128>,\n",
       " <tensorflow.python.keras.layers.core.Dense at 0x7f9a1fe03160>,\n",
       " <tensorflow.python.keras.layers.core.Dense at 0x7f9a60bc25c0>]"
      ]
     },
     "execution_count": 19,
     "metadata": {
      "tags": []
     },
     "output_type": "execute_result"
    }
   ],
   "source": [
    "# layers 속성을 사용해서 레이어에 대해 접근할 수 있음\n",
    "model.layers"
   ]
  },
  {
   "cell_type": "code",
   "execution_count": null,
   "metadata": {
    "id": "pJjTB2OjyhTc"
   },
   "outputs": [],
   "source": [
    "# add() 메서드를 통해서 Sequential 모델을 점진적으로 작성할 수도 있음\n",
    "model = keras.Sequential()\n",
    "model.add(layers.Dense(2, activation=\"relu\"))\n",
    "model.add(layers.Dense(3, activation=\"relu\"))\n",
    "model.add(layers.Dense(4))"
   ]
  },
  {
   "cell_type": "code",
   "execution_count": null,
   "metadata": {
    "colab": {
     "base_uri": "https://localhost:8080/"
    },
    "executionInfo": {
     "elapsed": 793,
     "status": "ok",
     "timestamp": 1609602619379,
     "user": {
      "displayName": "­김인경[컴퓨터공학과]",
      "photoUrl": "https://lh3.googleusercontent.com/a-/AOh14GjxMrgAQR-dzRS0V-kACuhAc00Q18R0T9aK0VuTtQ=s64",
      "userId": "13760753515928488748"
     },
     "user_tz": -540
    },
    "id": "wxCk1_LRyqMc",
    "outputId": "ec26c587-7dcb-4bd4-af58-2ad872964a57"
   },
   "outputs": [
    {
     "data": {
      "text/plain": [
       "[<tensorflow.python.keras.layers.core.Dense at 0x7f9a1fe03a20>,\n",
       " <tensorflow.python.keras.layers.core.Dense at 0x7f9a24af4278>,\n",
       " <tensorflow.python.keras.layers.core.Dense at 0x7f9a1fe0c898>]"
      ]
     },
     "execution_count": 22,
     "metadata": {
      "tags": []
     },
     "output_type": "execute_result"
    }
   ],
   "source": [
    "model.layers"
   ]
  },
  {
   "cell_type": "code",
   "execution_count": null,
   "metadata": {
    "colab": {
     "base_uri": "https://localhost:8080/"
    },
    "executionInfo": {
     "elapsed": 942,
     "status": "ok",
     "timestamp": 1609602641418,
     "user": {
      "displayName": "­김인경[컴퓨터공학과]",
      "photoUrl": "https://lh3.googleusercontent.com/a-/AOh14GjxMrgAQR-dzRS0V-kACuhAc00Q18R0T9aK0VuTtQ=s64",
      "userId": "13760753515928488748"
     },
     "user_tz": -540
    },
    "id": "corJsLe5yrkS",
    "outputId": "46ce6e5e-f65a-48d5-c727-576026ff03ff"
   },
   "outputs": [
    {
     "name": "stdout",
     "output_type": "stream",
     "text": [
      "2\n"
     ]
    }
   ],
   "source": [
    "# pop() 메서드를 사용하면 레이어를 제거할 수 있음\n",
    "model.pop()\n",
    "print(len(model.layers))  # 2"
   ]
  },
  {
   "cell_type": "markdown",
   "metadata": {
    "id": "GYlifQrhz8iT"
   },
   "source": [
    "## 패션 MNIST를 사용한 분류 문제\n",
    "- 패션 MNIST 데이터에는 10개의 카테고리와 70,000개의 흑백이미지가 포함\n",
    "- 이미지의 해상도는 28*28\n",
    "- 네트워크 훈련에 60,000개의 이미지를 사용하고, 평가를 위해 10,000개를 사용"
   ]
  },
  {
   "cell_type": "code",
   "execution_count": 15,
   "metadata": {
    "ExecuteTime": {
     "end_time": "2021-06-22T09:18:11.203925Z",
     "start_time": "2021-06-22T09:18:10.756988Z"
    },
    "colab": {
     "base_uri": "https://localhost:8080/"
    },
    "executionInfo": {
     "elapsed": 888,
     "status": "ok",
     "timestamp": 1609843017738,
     "user": {
      "displayName": "­김인경[컴퓨터공학과]",
      "photoUrl": "https://lh3.googleusercontent.com/a-/AOh14GjxMrgAQR-dzRS0V-kACuhAc00Q18R0T9aK0VuTtQ=s64",
      "userId": "13760753515928488748"
     },
     "user_tz": -540
    },
    "id": "yZ7vv-TOyyo5",
    "outputId": "928411ae-b66d-4ced-e881-f3906284b398"
   },
   "outputs": [
    {
     "name": "stdout",
     "output_type": "stream",
     "text": [
      "2.3.0\n"
     ]
    }
   ],
   "source": [
    "# tensorflow와 tf.keras를 임포트합니다\n",
    "import tensorflow as tf\n",
    "from tensorflow import keras\n",
    "\n",
    "# 헬퍼(helper) 라이브러리를 임포트합니다\n",
    "import numpy as np\n",
    "import matplotlib.pyplot as plt\n",
    "\n",
    "print(tf.__version__)"
   ]
  },
  {
   "cell_type": "code",
   "execution_count": 16,
   "metadata": {
    "ExecuteTime": {
     "end_time": "2021-06-22T09:18:17.154275Z",
     "start_time": "2021-06-22T09:18:11.768704Z"
    },
    "colab": {
     "base_uri": "https://localhost:8080/"
    },
    "executionInfo": {
     "elapsed": 1663,
     "status": "ok",
     "timestamp": 1609843020004,
     "user": {
      "displayName": "­김인경[컴퓨터공학과]",
      "photoUrl": "https://lh3.googleusercontent.com/a-/AOh14GjxMrgAQR-dzRS0V-kACuhAc00Q18R0T9aK0VuTtQ=s64",
      "userId": "13760753515928488748"
     },
     "user_tz": -540
    },
    "id": "fpYPzZjwzRBt",
    "outputId": "299f2729-ec91-4aad-ccfb-17e04f1690a8"
   },
   "outputs": [
    {
     "name": "stdout",
     "output_type": "stream",
     "text": [
      "Downloading data from https://storage.googleapis.com/tensorflow/tf-keras-datasets/train-labels-idx1-ubyte.gz\n",
      "32768/29515 [=================================] - 0s 2us/step\n",
      "Downloading data from https://storage.googleapis.com/tensorflow/tf-keras-datasets/train-images-idx3-ubyte.gz\n",
      "26427392/26421880 [==============================] - 2s 0us/step\n",
      "Downloading data from https://storage.googleapis.com/tensorflow/tf-keras-datasets/t10k-labels-idx1-ubyte.gz\n",
      "8192/5148 [===============================================] - 0s 0s/step\n",
      "Downloading data from https://storage.googleapis.com/tensorflow/tf-keras-datasets/t10k-images-idx3-ubyte.gz\n",
      "4423680/4422102 [==============================] - 1s 0us/step\n"
     ]
    }
   ],
   "source": [
    "fashion_mnist = keras.datasets.fashion_mnist\n",
    "\n",
    "(train_images, train_labels), (test_images, test_labels) = fashion_mnist.load_data()"
   ]
  },
  {
   "cell_type": "code",
   "execution_count": 17,
   "metadata": {
    "ExecuteTime": {
     "end_time": "2021-06-22T09:18:18.316765Z",
     "start_time": "2021-06-22T09:18:18.306770Z"
    },
    "id": "owM7oQc40_AH"
   },
   "outputs": [],
   "source": [
    "class_names = ['T-shirt/top', 'Trouser', 'Pullover', 'Dress', 'Coat',\n",
    "               'Sandal', 'Shirt', 'Sneaker', 'Bag', 'Ankle boot']"
   ]
  },
  {
   "cell_type": "code",
   "execution_count": 18,
   "metadata": {
    "ExecuteTime": {
     "end_time": "2021-06-22T09:18:18.740987Z",
     "start_time": "2021-06-22T09:18:18.720999Z"
    },
    "colab": {
     "base_uri": "https://localhost:8080/"
    },
    "executionInfo": {
     "elapsed": 1294,
     "status": "ok",
     "timestamp": 1609843022379,
     "user": {
      "displayName": "­김인경[컴퓨터공학과]",
      "photoUrl": "https://lh3.googleusercontent.com/a-/AOh14GjxMrgAQR-dzRS0V-kACuhAc00Q18R0T9aK0VuTtQ=s64",
      "userId": "13760753515928488748"
     },
     "user_tz": -540
    },
    "id": "SVGC60Wv0eiB",
    "outputId": "d17cfecd-ed7a-4cfb-a2f2-1268852ffc2c"
   },
   "outputs": [
    {
     "data": {
      "text/plain": [
       "(60000, 28, 28)"
      ]
     },
     "execution_count": 18,
     "metadata": {},
     "output_type": "execute_result"
    }
   ],
   "source": [
    "train_images.shape"
   ]
  },
  {
   "cell_type": "code",
   "execution_count": 19,
   "metadata": {
    "ExecuteTime": {
     "end_time": "2021-06-22T09:18:19.199734Z",
     "start_time": "2021-06-22T09:18:19.185743Z"
    },
    "colab": {
     "base_uri": "https://localhost:8080/"
    },
    "executionInfo": {
     "elapsed": 957,
     "status": "ok",
     "timestamp": 1609843022808,
     "user": {
      "displayName": "­김인경[컴퓨터공학과]",
      "photoUrl": "https://lh3.googleusercontent.com/a-/AOh14GjxMrgAQR-dzRS0V-kACuhAc00Q18R0T9aK0VuTtQ=s64",
      "userId": "13760753515928488748"
     },
     "user_tz": -540
    },
    "id": "-a_z_L_M0g9b",
    "outputId": "a8b6afe1-ee21-4779-8797-53110b884571"
   },
   "outputs": [
    {
     "data": {
      "text/plain": [
       "60000"
      ]
     },
     "execution_count": 19,
     "metadata": {},
     "output_type": "execute_result"
    }
   ],
   "source": [
    "len(train_labels)"
   ]
  },
  {
   "cell_type": "code",
   "execution_count": 20,
   "metadata": {
    "ExecuteTime": {
     "end_time": "2021-06-22T09:18:20.646984Z",
     "start_time": "2021-06-22T09:18:20.635993Z"
    },
    "colab": {
     "base_uri": "https://localhost:8080/"
    },
    "executionInfo": {
     "elapsed": 900,
     "status": "ok",
     "timestamp": 1609843023638,
     "user": {
      "displayName": "­김인경[컴퓨터공학과]",
      "photoUrl": "https://lh3.googleusercontent.com/a-/AOh14GjxMrgAQR-dzRS0V-kACuhAc00Q18R0T9aK0VuTtQ=s64",
      "userId": "13760753515928488748"
     },
     "user_tz": -540
    },
    "id": "ksNGEaU10ivY",
    "outputId": "7ff40b4c-8493-44f0-946f-4e995714c7cd"
   },
   "outputs": [
    {
     "data": {
      "text/plain": [
       "array([9, 0, 0, ..., 3, 0, 5], dtype=uint8)"
      ]
     },
     "execution_count": 20,
     "metadata": {},
     "output_type": "execute_result"
    }
   ],
   "source": [
    "# 각 라벨은 0~9 사이의 정수\n",
    "train_labels"
   ]
  },
  {
   "cell_type": "markdown",
   "metadata": {
    "id": "1pCQUgev0o9k"
   },
   "source": [
    "### 데이터 전처리"
   ]
  },
  {
   "cell_type": "code",
   "execution_count": 21,
   "metadata": {
    "ExecuteTime": {
     "end_time": "2021-06-22T09:18:21.823306Z",
     "start_time": "2021-06-22T09:18:21.520294Z"
    },
    "colab": {
     "base_uri": "https://localhost:8080/",
     "height": 265
    },
    "executionInfo": {
     "elapsed": 1082,
     "status": "ok",
     "timestamp": 1609843027236,
     "user": {
      "displayName": "­김인경[컴퓨터공학과]",
      "photoUrl": "https://lh3.googleusercontent.com/a-/AOh14GjxMrgAQR-dzRS0V-kACuhAc00Q18R0T9aK0VuTtQ=s64",
      "userId": "13760753515928488748"
     },
     "user_tz": -540
    },
    "id": "yBs7PVaT0nDB",
    "outputId": "09b64a1c-e665-4d25-faee-47aec5a25d53"
   },
   "outputs": [
    {
     "data": {
      "image/png": "[encoded data removed]",
      "text/plain": [
       "<Figure size 432x288 with 2 Axes>"
      ]
     },
     "metadata": {
      "needs_background": "light"
     },
     "output_type": "display_data"
    }
   ],
   "source": [
    "# 훈련 데이터의 첫번째 이미지\n",
    "plt.figure()\n",
    "plt.imshow(train_images[0])\n",
    "plt.colorbar()\n",
    "plt.grid(False)\n",
    "plt.show()"
   ]
  },
  {
   "cell_type": "code",
   "execution_count": 22,
   "metadata": {
    "ExecuteTime": {
     "end_time": "2021-06-22T09:18:24.503563Z",
     "start_time": "2021-06-22T09:18:24.239865Z"
    },
    "id": "a-ZP1qqq0u3W"
   },
   "outputs": [],
   "source": [
    "# 신경망 모델에 주입하기 전에 값의 범위를 0~1로 조정\n",
    "train_images = train_images / 255.0\n",
    "\n",
    "test_images = test_images / 255.0"
   ]
  },
  {
   "cell_type": "code",
   "execution_count": 23,
   "metadata": {
    "ExecuteTime": {
     "end_time": "2021-06-22T09:18:31.998603Z",
     "start_time": "2021-06-22T09:18:31.006368Z"
    },
    "colab": {
     "base_uri": "https://localhost:8080/",
     "height": 589
    },
    "executionInfo": {
     "elapsed": 2191,
     "status": "ok",
     "timestamp": 1609843030322,
     "user": {
      "displayName": "­김인경[컴퓨터공학과]",
      "photoUrl": "https://lh3.googleusercontent.com/a-/AOh14GjxMrgAQR-dzRS0V-kACuhAc00Q18R0T9aK0VuTtQ=s64",
      "userId": "13760753515928488748"
     },
     "user_tz": -540
    },
    "id": "-CgkXtG-05jh",
    "outputId": "fbe24666-1e61-4d81-b521-4a43c0ed7ba6"
   },
   "outputs": [
    {
     "data": {
      "image/png": "[encoded data removed]",
      "text/plain": [
       "<Figure size 720x720 with 25 Axes>"
      ]
     },
     "metadata": {},
     "output_type": "display_data"
    }
   ],
   "source": [
    "plt.figure(figsize=(10,10))\n",
    "for i in range(25):\n",
    "    plt.subplot(5,5,i+1)\n",
    "    plt.xticks([])\n",
    "    plt.yticks([])\n",
    "    plt.grid(False)\n",
    "    plt.imshow(train_images[i], cmap=plt.cm.binary)\n",
    "    plt.xlabel(class_names[train_labels[i]])\n",
    "plt.show()"
   ]
  },
  {
   "cell_type": "markdown",
   "metadata": {
    "id": "BG-OyUAk1HG-"
   },
   "source": [
    "### 모델 구성"
   ]
  },
  {
   "cell_type": "code",
   "execution_count": 24,
   "metadata": {
    "ExecuteTime": {
     "end_time": "2021-06-22T09:19:09.579517Z",
     "start_time": "2021-06-22T09:19:09.529548Z"
    },
    "id": "Q5xR8Toi07RY"
   },
   "outputs": [],
   "source": [
    "model = keras.Sequential([\n",
    "    keras.layers.Flatten(input_shape=(28, 28)),\n",
    "    keras.layers.Dense(128, activation='relu'),\n",
    "    keras.layers.Dense(10, activation='softmax')\n",
    "])"
   ]
  },
  {
   "cell_type": "code",
   "execution_count": 25,
   "metadata": {
    "ExecuteTime": {
     "end_time": "2021-06-22T09:19:18.155520Z",
     "start_time": "2021-06-22T09:19:18.141546Z"
    },
    "colab": {
     "base_uri": "https://localhost:8080/"
    },
    "executionInfo": {
     "elapsed": 1145,
     "status": "ok",
     "timestamp": 1609843042531,
     "user": {
      "displayName": "­김인경[컴퓨터공학과]",
      "photoUrl": "https://lh3.googleusercontent.com/a-/AOh14GjxMrgAQR-dzRS0V-kACuhAc00Q18R0T9aK0VuTtQ=s64",
      "userId": "13760753515928488748"
     },
     "user_tz": -540
    },
    "id": "tIAhpCK3H0-c",
    "outputId": "9ece3f7b-8066-41f6-944f-c912b2759e0c"
   },
   "outputs": [
    {
     "name": "stdout",
     "output_type": "stream",
     "text": [
      "Model: \"sequential_1\"\n",
      "_________________________________________________________________\n",
      "Layer (type)                 Output Shape              Param #   \n",
      "=================================================================\n",
      "flatten (Flatten)            (None, 784)               0         \n",
      "_________________________________________________________________\n",
      "dense (Dense)                (None, 128)               100480    \n",
      "_________________________________________________________________\n",
      "dense_1 (Dense)              (None, 10)                1290      \n",
      "=================================================================\n",
      "Total params: 101,770\n",
      "Trainable params: 101,770\n",
      "Non-trainable params: 0\n",
      "_________________________________________________________________\n"
     ]
    }
   ],
   "source": [
    "model.summary()"
   ]
  },
  {
   "cell_type": "code",
   "execution_count": 27,
   "metadata": {
    "ExecuteTime": {
     "end_time": "2021-06-22T09:19:57.419378Z",
     "start_time": "2021-06-22T09:19:53.092341Z"
    }
   },
   "outputs": [
    {
     "name": "stdout",
     "output_type": "stream",
     "text": [
      "Collecting pydot\n",
      "  Downloading pydot-1.4.2-py2.py3-none-any.whl (21 kB)\n",
      "Requirement already satisfied: pyparsing>=2.1.4 in c:\\users\\sosim\\anaconda3\\lib\\site-packages (from pydot) (2.4.7)\n",
      "Installing collected packages: pydot\n",
      "Successfully installed pydot-1.4.2\n"
     ]
    }
   ],
   "source": [
    "!pip install pydot"
   ]
  },
  {
   "cell_type": "code",
   "execution_count": 28,
   "metadata": {
    "ExecuteTime": {
     "end_time": "2021-06-22T09:19:59.367011Z",
     "start_time": "2021-06-22T09:19:59.362016Z"
    },
    "colab": {
     "base_uri": "https://localhost:8080/",
     "height": 422
    },
    "executionInfo": {
     "elapsed": 1381,
     "status": "ok",
     "timestamp": 1609843076231,
     "user": {
      "displayName": "­김인경[컴퓨터공학과]",
      "photoUrl": "https://lh3.googleusercontent.com/a-/AOh14GjxMrgAQR-dzRS0V-kACuhAc00Q18R0T9aK0VuTtQ=s64",
      "userId": "13760753515928488748"
     },
     "user_tz": -540
    },
    "id": "Mgs3MBr8H32s",
    "outputId": "7b80bb0c-264e-4baf-bb39-07e95a5c8b22"
   },
   "outputs": [
    {
     "name": "stdout",
     "output_type": "stream",
     "text": [
      "('Failed to import pydot. You must `pip install pydot` and install graphviz (https://graphviz.gitlab.io/download/), ', 'for `pydotprint` to work.')\n"
     ]
    }
   ],
   "source": [
    "keras.utils.plot_model(model, show_shapes=True)"
   ]
  },
  {
   "cell_type": "code",
   "execution_count": 29,
   "metadata": {
    "ExecuteTime": {
     "end_time": "2021-06-22T09:20:40.952879Z",
     "start_time": "2021-06-22T09:20:40.931908Z"
    },
    "id": "qcBPnGRS1RK9"
   },
   "outputs": [],
   "source": [
    "model.compile(optimizer='adam', # SGD, SGD + momentum\n",
    "              loss='sparse_categorical_crossentropy',\n",
    "              metrics=['accuracy'])"
   ]
  },
  {
   "cell_type": "code",
   "execution_count": 30,
   "metadata": {
    "ExecuteTime": {
     "end_time": "2021-06-22T09:20:57.211612Z",
     "start_time": "2021-06-22T09:20:42.371053Z"
    },
    "colab": {
     "base_uri": "https://localhost:8080/"
    },
    "executionInfo": {
     "elapsed": 23086,
     "status": "ok",
     "timestamp": 1609843143916,
     "user": {
      "displayName": "­김인경[컴퓨터공학과]",
      "photoUrl": "https://lh3.googleusercontent.com/a-/AOh14GjxMrgAQR-dzRS0V-kACuhAc00Q18R0T9aK0VuTtQ=s64",
      "userId": "13760753515928488748"
     },
     "user_tz": -540
    },
    "id": "kfCBBkIV1SXF",
    "outputId": "c1d2575a-eea3-421e-ce6f-6824eb9783c9"
   },
   "outputs": [
    {
     "name": "stdout",
     "output_type": "stream",
     "text": [
      "Epoch 1/5\n",
      "1875/1875 [==============================] - 3s 1ms/step - loss: 0.5019 - accuracy: 0.8243\n",
      "Epoch 2/5\n",
      "1875/1875 [==============================] - 3s 1ms/step - loss: 0.3787 - accuracy: 0.8635\n",
      "Epoch 3/5\n",
      "1875/1875 [==============================] - 3s 2ms/step - loss: 0.3388 - accuracy: 0.8755\n",
      "Epoch 4/5\n",
      "1875/1875 [==============================] - 3s 1ms/step - loss: 0.3132 - accuracy: 0.8851\n",
      "Epoch 5/5\n",
      "1875/1875 [==============================] - 3s 2ms/step - loss: 0.2952 - accuracy: 0.8914\n"
     ]
    },
    {
     "data": {
      "text/plain": [
       "<tensorflow.python.keras.callbacks.History at 0x1b210f376d0>"
      ]
     },
     "execution_count": 30,
     "metadata": {},
     "output_type": "execute_result"
    }
   ],
   "source": [
    "model.fit(train_images, train_labels, epochs=5)"
   ]
  },
  {
   "cell_type": "code",
   "execution_count": 31,
   "metadata": {
    "ExecuteTime": {
     "end_time": "2021-06-22T09:20:59.784826Z",
     "start_time": "2021-06-22T09:20:59.295096Z"
    },
    "colab": {
     "base_uri": "https://localhost:8080/"
    },
    "executionInfo": {
     "elapsed": 1219,
     "status": "ok",
     "timestamp": 1609843162031,
     "user": {
      "displayName": "­김인경[컴퓨터공학과]",
      "photoUrl": "https://lh3.googleusercontent.com/a-/AOh14GjxMrgAQR-dzRS0V-kACuhAc00Q18R0T9aK0VuTtQ=s64",
      "userId": "13760753515928488748"
     },
     "user_tz": -540
    },
    "id": "wTJtxziy1T23",
    "outputId": "4e63fc80-1034-4b84-dec8-9bcba6c014f1"
   },
   "outputs": [
    {
     "name": "stdout",
     "output_type": "stream",
     "text": [
      "313/313 - 0s - loss: 0.3550 - accuracy: 0.8720\n",
      "Test loss: 0.3550403118133545\n",
      "Test accuracy: 0.871999979019165\n"
     ]
    }
   ],
   "source": [
    "test_loss, test_acc = model.evaluate(test_images,  test_labels, verbose=2)\n",
    "\n",
    "print(\"Test loss:\", test_loss)\n",
    "print(\"Test accuracy:\", test_acc)"
   ]
  },
  {
   "cell_type": "code",
   "execution_count": 32,
   "metadata": {
    "ExecuteTime": {
     "end_time": "2021-06-22T09:21:14.966051Z",
     "start_time": "2021-06-22T09:21:14.630328Z"
    },
    "id": "I-B6BV0Y1W0Z"
   },
   "outputs": [],
   "source": [
    "# 훈련된 모델을 사용하여 이미지에 대한 예측 만들기\n",
    "predictions = model.predict(test_images)"
   ]
  },
  {
   "cell_type": "code",
   "execution_count": 33,
   "metadata": {
    "ExecuteTime": {
     "end_time": "2021-06-22T09:21:59.522861Z",
     "start_time": "2021-06-22T09:21:59.516881Z"
    },
    "colab": {
     "base_uri": "https://localhost:8080/"
    },
    "executionInfo": {
     "elapsed": 1016,
     "status": "ok",
     "timestamp": 1609843348194,
     "user": {
      "displayName": "­김인경[컴퓨터공학과]",
      "photoUrl": "https://lh3.googleusercontent.com/a-/AOh14GjxMrgAQR-dzRS0V-kACuhAc00Q18R0T9aK0VuTtQ=s64",
      "userId": "13760753515928488748"
     },
     "user_tz": -540
    },
    "id": "Vvx1MVr8I6Do",
    "outputId": "98e9ccd3-98e5-41a0-f107-27bf7d51fa73"
   },
   "outputs": [
    {
     "data": {
      "text/plain": [
       "array([1.2374248e-06, 4.6834170e-10, 4.6385978e-08, 6.7965189e-11,\n",
       "       2.4324132e-07, 2.0382057e-03, 1.3708956e-07, 9.3237981e-03,\n",
       "       1.9428514e-06, 9.8863435e-01], dtype=float32)"
      ]
     },
     "execution_count": 33,
     "metadata": {},
     "output_type": "execute_result"
    }
   ],
   "source": [
    "# 테스트 세트에 있는 각 이미지에 대한 예측을 진행한 후, 첫번째 예측 값\n",
    "# 10개의 옷 품목에 상응하는 모델의 신뢰도(confidence)를 나타냄\n",
    "predictions[0]"
   ]
  },
  {
   "cell_type": "code",
   "execution_count": 34,
   "metadata": {
    "ExecuteTime": {
     "end_time": "2021-06-22T09:22:00.102615Z",
     "start_time": "2021-06-22T09:22:00.090622Z"
    },
    "colab": {
     "base_uri": "https://localhost:8080/"
    },
    "executionInfo": {
     "elapsed": 1001,
     "status": "ok",
     "timestamp": 1609843384046,
     "user": {
      "displayName": "­김인경[컴퓨터공학과]",
      "photoUrl": "https://lh3.googleusercontent.com/a-/AOh14GjxMrgAQR-dzRS0V-kACuhAc00Q18R0T9aK0VuTtQ=s64",
      "userId": "13760753515928488748"
     },
     "user_tz": -540
    },
    "id": "OgNjVT751X3r",
    "outputId": "0680d78c-ca46-4891-9ebb-e0ec2b0ff8b1"
   },
   "outputs": [
    {
     "data": {
      "text/plain": [
       "9"
      ]
     },
     "execution_count": 34,
     "metadata": {},
     "output_type": "execute_result"
    }
   ],
   "source": [
    "# 가장 높은 신뢰도를 가진 레이블 출력\n",
    "np.argmax(predictions[0])"
   ]
  },
  {
   "cell_type": "code",
   "execution_count": 35,
   "metadata": {
    "ExecuteTime": {
     "end_time": "2021-06-22T09:22:01.820181Z",
     "start_time": "2021-06-22T09:22:01.804557Z"
    },
    "colab": {
     "base_uri": "https://localhost:8080/"
    },
    "executionInfo": {
     "elapsed": 1047,
     "status": "ok",
     "timestamp": 1609843402582,
     "user": {
      "displayName": "­김인경[컴퓨터공학과]",
      "photoUrl": "https://lh3.googleusercontent.com/a-/AOh14GjxMrgAQR-dzRS0V-kACuhAc00Q18R0T9aK0VuTtQ=s64",
      "userId": "13760753515928488748"
     },
     "user_tz": -540
    },
    "id": "yQ9To3gg1ZF8",
    "outputId": "0b614bb3-0f7c-4c17-f5dd-8172fc98c5b6"
   },
   "outputs": [
    {
     "data": {
      "text/plain": [
       "9"
      ]
     },
     "execution_count": 35,
     "metadata": {},
     "output_type": "execute_result"
    }
   ],
   "source": [
    "# 실제 테스트 데이터의 0번째 값\n",
    "test_labels[0]"
   ]
  },
  {
   "cell_type": "code",
   "execution_count": 36,
   "metadata": {
    "ExecuteTime": {
     "end_time": "2021-06-22T09:22:19.782417Z",
     "start_time": "2021-06-22T09:22:19.772425Z"
    },
    "id": "E-wKwnYU1dSG"
   },
   "outputs": [],
   "source": [
    "# 10개의 클래스에 대한 예측을 모두 그래프로 표현\n",
    "# 올바르게 예측된 레이블은 파란색으로, 잘못 예측된 레이블은 빨강색으로 표현\n",
    "# 숫자는 예측 레이블의 신뢰도 퍼센트\n",
    "def plot_image(i, predictions_array, true_label, img):\n",
    "  predictions_array, true_label, img = predictions_array[i], true_label[i], img[i]\n",
    "  plt.grid(False)\n",
    "  plt.xticks([])\n",
    "  plt.yticks([])\n",
    "\n",
    "  plt.imshow(img, cmap=plt.cm.binary)\n",
    "\n",
    "  predicted_label = np.argmax(predictions_array)\n",
    "  if predicted_label == true_label:\n",
    "    color = 'blue'\n",
    "  else:\n",
    "    color = 'red'\n",
    "\n",
    "  plt.xlabel(\"{} {:2.0f}% ({})\".format(class_names[predicted_label],\n",
    "                                100*np.max(predictions_array),\n",
    "                                class_names[true_label]),\n",
    "                                color=color)\n",
    "\n",
    "def plot_value_array(i, predictions_array, true_label):\n",
    "  predictions_array, true_label = predictions_array[i], true_label[i]\n",
    "  plt.grid(False)\n",
    "  plt.xticks([])\n",
    "  plt.yticks([])\n",
    "  thisplot = plt.bar(range(10), predictions_array, color=\"#777777\")\n",
    "  plt.ylim([0, 1])\n",
    "  predicted_label = np.argmax(predictions_array)\n",
    "\n",
    "  thisplot[predicted_label].set_color('red')\n",
    "  thisplot[true_label].set_color('blue')"
   ]
  },
  {
   "cell_type": "code",
   "execution_count": 37,
   "metadata": {
    "ExecuteTime": {
     "end_time": "2021-06-22T09:22:34.474800Z",
     "start_time": "2021-06-22T09:22:34.325001Z"
    },
    "colab": {
     "base_uri": "https://localhost:8080/",
     "height": 203
    },
    "executionInfo": {
     "elapsed": 1138,
     "status": "ok",
     "timestamp": 1609843445694,
     "user": {
      "displayName": "­김인경[컴퓨터공학과]",
      "photoUrl": "https://lh3.googleusercontent.com/a-/AOh14GjxMrgAQR-dzRS0V-kACuhAc00Q18R0T9aK0VuTtQ=s64",
      "userId": "13760753515928488748"
     },
     "user_tz": -540
    },
    "id": "C_OO5EGS1gDO",
    "outputId": "ed2333be-01c1-4069-e819-ac0112dee99c"
   },
   "outputs": [
    {
     "data": {
      "image/png": "[encoded data removed]",
      "text/plain": [
       "<Figure size 432x216 with 2 Axes>"
      ]
     },
     "metadata": {},
     "output_type": "display_data"
    }
   ],
   "source": [
    "# 0번째 원소의 이미지, 예측, 신뢰도 점수 배열\n",
    "i = 0\n",
    "plt.figure(figsize=(6,3))\n",
    "plt.subplot(1,2,1)\n",
    "plot_image(i, predictions, test_labels, test_images)\n",
    "plt.subplot(1,2,2)\n",
    "plot_value_array(i, predictions,  test_labels)\n",
    "plt.show()"
   ]
  },
  {
   "cell_type": "code",
   "execution_count": 38,
   "metadata": {
    "ExecuteTime": {
     "end_time": "2021-06-22T09:22:36.530362Z",
     "start_time": "2021-06-22T09:22:36.374118Z"
    },
    "colab": {
     "base_uri": "https://localhost:8080/",
     "height": 203
    },
    "executionInfo": {
     "elapsed": 887,
     "status": "ok",
     "timestamp": 1609843457812,
     "user": {
      "displayName": "­김인경[컴퓨터공학과]",
      "photoUrl": "https://lh3.googleusercontent.com/a-/AOh14GjxMrgAQR-dzRS0V-kACuhAc00Q18R0T9aK0VuTtQ=s64",
      "userId": "13760753515928488748"
     },
     "user_tz": -540
    },
    "id": "uMxpOPMx1hyf",
    "outputId": "5376c3b0-f343-41dc-a4bd-bd9b5c6f9088"
   },
   "outputs": [
    {
     "data": {
      "image/png": "[encoded data removed]",
      "text/plain": [
       "<Figure size 432x216 with 2 Axes>"
      ]
     },
     "metadata": {},
     "output_type": "display_data"
    }
   ],
   "source": [
    "i = 12\n",
    "plt.figure(figsize=(6,3))\n",
    "plt.subplot(1,2,1)\n",
    "plot_image(i, predictions, test_labels, test_images)\n",
    "plt.subplot(1,2,2)\n",
    "plot_value_array(i, predictions,  test_labels)\n",
    "plt.show()"
   ]
  },
  {
   "cell_type": "code",
   "execution_count": 39,
   "metadata": {
    "ExecuteTime": {
     "end_time": "2021-06-22T09:22:56.079695Z",
     "start_time": "2021-06-22T09:22:54.515905Z"
    },
    "colab": {
     "base_uri": "https://localhost:8080/",
     "height": 589
    },
    "executionInfo": {
     "elapsed": 2660,
     "status": "ok",
     "timestamp": 1609843510356,
     "user": {
      "displayName": "­김인경[컴퓨터공학과]",
      "photoUrl": "https://lh3.googleusercontent.com/a-/AOh14GjxMrgAQR-dzRS0V-kACuhAc00Q18R0T9aK0VuTtQ=s64",
      "userId": "13760753515928488748"
     },
     "user_tz": -540
    },
    "id": "byk_Fd1s1jO2",
    "outputId": "c54e0c7f-fc45-4533-eb1a-5a6d04355866"
   },
   "outputs": [
    {
     "data": {
      "image/png": "[encoded data removed]",
      "text/plain": [
       "<Figure size 864x720 with 30 Axes>"
      ]
     },
     "metadata": {},
     "output_type": "display_data"
    }
   ],
   "source": [
    "# 처음 X 개의 테스트 이미지와 예측 레이블, 진짜 레이블을 출력합니다\n",
    "num_rows = 5\n",
    "num_cols = 3\n",
    "num_images = num_rows*num_cols\n",
    "plt.figure(figsize=(2*2*num_cols, 2*num_rows))\n",
    "for i in range(num_images):\n",
    "  plt.subplot(num_rows, 2*num_cols, 2*i+1)\n",
    "  plot_image(i, predictions, test_labels, test_images)\n",
    "  plt.subplot(num_rows, 2*num_cols, 2*i+2)\n",
    "  plot_value_array(i, predictions, test_labels)\n",
    "plt.show()"
   ]
  },
  {
   "cell_type": "code",
   "execution_count": null,
   "metadata": {
    "id": "pk4l9s4qAMKQ"
   },
   "outputs": [],
   "source": []
  }
 ],
 "metadata": {
  "colab": {
   "authorship_tag": "ABX9TyPhar+0Qc19Iaq674LadV3W",
   "collapsed_sections": [],
   "name": "Tensorflow Tutorial(GradientTape, MLP).ipynb",
   "provenance": []
  },
  "kernelspec": {
   "display_name": "Python 3",
   "language": "python",
   "name": "python3"
  },
  "language_info": {
   "codemirror_mode": {
    "name": "ipython",
    "version": 3
   },
   "file_extension": ".py",
   "mimetype": "text/x-python",
   "name": "python",
   "nbconvert_exporter": "python",
   "pygments_lexer": "ipython3",
   "version": "3.8.10"
  },
  "toc": {
   "base_numbering": 1,
   "nav_menu": {},
   "number_sections": true,
   "sideBar": true,
   "skip_h1_title": false,
   "title_cell": "Table of Contents",
   "title_sidebar": "Contents",
   "toc_cell": false,
   "toc_position": {},
   "toc_section_display": true,
   "toc_window_display": false
  }
 },
 "nbformat": 4,
 "nbformat_minor": 1
}
