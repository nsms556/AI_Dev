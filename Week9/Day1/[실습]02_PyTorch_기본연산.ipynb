{
 "cells": [
  {
   "cell_type": "code",
   "execution_count": 1,
   "metadata": {
    "ExecuteTime": {
     "end_time": "2021-06-21T08:37:27.025665Z",
     "start_time": "2021-06-21T08:37:26.169742Z"
    },
    "executionInfo": {
     "elapsed": 585,
     "status": "ok",
     "timestamp": 1610698814597,
     "user": {
      "displayName": "­김대희[컴퓨터공학과]",
      "photoUrl": "",
      "userId": "16036391449035610585"
     },
     "user_tz": -540
    },
    "id": "82i4sHjFsnbS"
   },
   "outputs": [],
   "source": [
    "%matplotlib inline"
   ]
  },
  {
   "cell_type": "markdown",
   "metadata": {
    "id": "uCg5X3BvsnbW"
   },
   "source": [
    "\n",
    "What is PyTorch?\n",
    "================\n",
    "\n",
    "Python 기반의 과학 연산 패키지로 다음과 같은 두 집단을 대상으로 합니다:\n",
    "\n",
    "-  NumPy를 대체하면서 GPU를 이용한 연산이 필요한 경우\n",
    "-  최대한의 유연성과 속도를 제공하는 딥러닝 연구 플랫폼이 필요한 경우\n",
    "\n",
    "Getting Started\n",
    "---------------\n",
    "\n",
    "Tensor는 NumPy의 ndarray와 유사하며, 추가로 GPU를 사용한 연산 가속도 가능합니다.\n",
    "\n"
   ]
  },
  {
   "cell_type": "code",
   "execution_count": 2,
   "metadata": {
    "ExecuteTime": {
     "end_time": "2021-06-21T08:37:29.114711Z",
     "start_time": "2021-06-21T08:37:27.642741Z"
    },
    "colab": {
     "base_uri": "https://localhost:8080/",
     "height": 35
    },
    "executionInfo": {
     "elapsed": 4082,
     "status": "ok",
     "timestamp": 1610698874235,
     "user": {
      "displayName": "­김대희[컴퓨터공학과]",
      "photoUrl": "",
      "userId": "16036391449035610585"
     },
     "user_tz": -540
    },
    "id": "ZZoDnlxosnbX",
    "outputId": "9f98a2a4-2171-4a09-bfb6-5215b7da4262"
   },
   "outputs": [
    {
     "data": {
      "text/plain": [
       "'1.9.0'"
      ]
     },
     "execution_count": 2,
     "metadata": {},
     "output_type": "execute_result"
    }
   ],
   "source": [
    "from __future__ import print_function\n",
    "import torch\n",
    "\n",
    "torch.__version__"
   ]
  },
  {
   "cell_type": "markdown",
   "metadata": {
    "id": "emUXTaC5snba"
   },
   "source": [
    "초기화되지 않은 5x3 행렬을 생성합니다:\n",
    "\n"
   ]
  },
  {
   "cell_type": "code",
   "execution_count": 3,
   "metadata": {
    "ExecuteTime": {
     "end_time": "2021-06-21T08:37:31.435784Z",
     "start_time": "2021-06-21T08:37:31.342505Z"
    },
    "colab": {
     "base_uri": "https://localhost:8080/"
    },
    "executionInfo": {
     "elapsed": 571,
     "status": "ok",
     "timestamp": 1610698914708,
     "user": {
      "displayName": "­김대희[컴퓨터공학과]",
      "photoUrl": "",
      "userId": "16036391449035610585"
     },
     "user_tz": -540
    },
    "id": "LsX9dpsnsnba",
    "outputId": "c0a52af1-79d5-4ea6-9fdf-5cca2dc52a7d"
   },
   "outputs": [
    {
     "name": "stdout",
     "output_type": "stream",
     "text": [
      "tensor([[9.1837e-39, 4.6837e-39, 9.9184e-39],\n",
      "        [9.0000e-39, 1.0561e-38, 1.0653e-38],\n",
      "        [4.1327e-39, 8.9082e-39, 9.8265e-39],\n",
      "        [9.4592e-39, 1.0561e-38, 1.0653e-38],\n",
      "        [1.0469e-38, 9.5510e-39, 1.0745e-38]])\n"
     ]
    }
   ],
   "source": [
    "x = torch.empty(5, 3)\n",
    "print(x)"
   ]
  },
  {
   "cell_type": "markdown",
   "metadata": {
    "id": "DuS8_CjRsnbe"
   },
   "source": [
    "무작위로 초기화된 행렬을 생성합니다:\n",
    "\n"
   ]
  },
  {
   "cell_type": "code",
   "execution_count": 5,
   "metadata": {
    "ExecuteTime": {
     "end_time": "2021-06-21T08:38:29.345914Z",
     "start_time": "2021-06-21T08:38:29.332927Z"
    },
    "colab": {
     "base_uri": "https://localhost:8080/"
    },
    "executionInfo": {
     "elapsed": 618,
     "status": "ok",
     "timestamp": 1610698958209,
     "user": {
      "displayName": "­김대희[컴퓨터공학과]",
      "photoUrl": "",
      "userId": "16036391449035610585"
     },
     "user_tz": -540
    },
    "id": "-gDc29L4snbf",
    "outputId": "6049ef99-b145-4d6f-b0fe-f1ba2cc899a3"
   },
   "outputs": [
    {
     "name": "stdout",
     "output_type": "stream",
     "text": [
      "tensor([[-0.9269, -0.1611,  1.3244],\n",
      "        [-0.8558, -1.1958,  0.7805],\n",
      "        [-0.2680, -0.8735, -0.2883],\n",
      "        [-0.7274, -0.7406,  0.5552],\n",
      "        [ 0.7556,  1.6970, -0.8218]])\n",
      "tensor([[0.9414, 0.8470, 0.0647],\n",
      "        [0.2688, 0.3427, 0.5918],\n",
      "        [0.9950, 0.4475, 0.1020],\n",
      "        [0.9988, 0.4139, 0.8519],\n",
      "        [0.6713, 0.9859, 0.2296]])\n"
     ]
    }
   ],
   "source": [
    "x = torch.randn(5, 3)\n",
    "print(x)\n",
    "x = torch.rand(5, 3)\n",
    "print(x)"
   ]
  },
  {
   "cell_type": "markdown",
   "metadata": {
    "id": "EnDW3xa2snbh"
   },
   "source": [
    "dtype이 long이고 0으로 채워진 행렬을 생성합니다:\n",
    "\n"
   ]
  },
  {
   "cell_type": "code",
   "execution_count": 6,
   "metadata": {
    "ExecuteTime": {
     "end_time": "2021-06-21T08:38:59.611464Z",
     "start_time": "2021-06-21T08:38:59.586459Z"
    },
    "colab": {
     "base_uri": "https://localhost:8080/"
    },
    "executionInfo": {
     "elapsed": 653,
     "status": "ok",
     "timestamp": 1610699022440,
     "user": {
      "displayName": "­김대희[컴퓨터공학과]",
      "photoUrl": "",
      "userId": "16036391449035610585"
     },
     "user_tz": -540
    },
    "id": "ooNlMfAIsnbi",
    "outputId": "4e931175-99aa-447f-d03f-f82a76166986"
   },
   "outputs": [
    {
     "name": "stdout",
     "output_type": "stream",
     "text": [
      "tensor([[0, 0, 0],\n",
      "        [0, 0, 0],\n",
      "        [0, 0, 0],\n",
      "        [0, 0, 0],\n",
      "        [0, 0, 0]])\n"
     ]
    }
   ],
   "source": [
    "x = torch.zeros(5, 3, dtype=torch.long)\n",
    "print(x)"
   ]
  },
  {
   "cell_type": "code",
   "execution_count": 7,
   "metadata": {
    "ExecuteTime": {
     "end_time": "2021-06-21T08:40:10.762827Z",
     "start_time": "2021-06-21T08:40:10.749835Z"
    },
    "colab": {
     "base_uri": "https://localhost:8080/"
    },
    "executionInfo": {
     "elapsed": 545,
     "status": "ok",
     "timestamp": 1610699038228,
     "user": {
      "displayName": "­김대희[컴퓨터공학과]",
      "photoUrl": "",
      "userId": "16036391449035610585"
     },
     "user_tz": -540
    },
    "id": "AkcOHXD9KCyq",
    "outputId": "376b61f4-2b31-4083-f17d-a99c68cb229b"
   },
   "outputs": [
    {
     "name": "stdout",
     "output_type": "stream",
     "text": [
      "tensor([[1, 1, 1],\n",
      "        [1, 1, 1],\n",
      "        [1, 1, 1],\n",
      "        [1, 1, 1],\n",
      "        [1, 1, 1]])\n"
     ]
    }
   ],
   "source": [
    "x = torch.ones(5, 3, dtype=torch.long)\n",
    "print(x)"
   ]
  },
  {
   "cell_type": "markdown",
   "metadata": {
    "id": "yrjRCiCZsnbk"
   },
   "source": [
    "데이터로부터 tensor를 직접 생성합니다:\n",
    "\n"
   ]
  },
  {
   "cell_type": "code",
   "execution_count": 8,
   "metadata": {
    "ExecuteTime": {
     "end_time": "2021-06-21T08:40:12.065941Z",
     "start_time": "2021-06-21T08:40:12.042940Z"
    },
    "colab": {
     "base_uri": "https://localhost:8080/"
    },
    "executionInfo": {
     "elapsed": 750,
     "status": "ok",
     "timestamp": 1610699060863,
     "user": {
      "displayName": "­김대희[컴퓨터공학과]",
      "photoUrl": "",
      "userId": "16036391449035610585"
     },
     "user_tz": -540
    },
    "id": "nc0Xx93Nsnbk",
    "outputId": "97c4e58c-eb8f-49d9-e291-90072f151d4b"
   },
   "outputs": [
    {
     "name": "stdout",
     "output_type": "stream",
     "text": [
      "tensor([5.5000, 3.0000])\n"
     ]
    }
   ],
   "source": [
    "x = torch.tensor([5.5, 3])\n",
    "print(x)"
   ]
  },
  {
   "cell_type": "markdown",
   "metadata": {
    "id": "dXeA4TPFsnbn"
   },
   "source": [
    "또는 존재하는 tensor를 바탕으로 tensor를 만듭니다. \n",
    "이 메소드(method)들은 사용자로부터 제공된 새로운 값이 없는 한, 입력 tensor의 속성들(예. dtype)을 재사용합니다.\n"
   ]
  },
  {
   "cell_type": "code",
   "execution_count": 10,
   "metadata": {
    "ExecuteTime": {
     "end_time": "2021-06-21T08:41:02.295590Z",
     "start_time": "2021-06-21T08:41:02.268587Z"
    },
    "colab": {
     "base_uri": "https://localhost:8080/"
    },
    "executionInfo": {
     "elapsed": 532,
     "status": "ok",
     "timestamp": 1610699074015,
     "user": {
      "displayName": "­김대희[컴퓨터공학과]",
      "photoUrl": "",
      "userId": "16036391449035610585"
     },
     "user_tz": -540
    },
    "id": "BpiM1li7snbn",
    "outputId": "4ee8224b-0c85-4dbd-af97-9ce91cef13b2"
   },
   "outputs": [
    {
     "name": "stdout",
     "output_type": "stream",
     "text": [
      "tensor([[1., 1., 1.],\n",
      "        [1., 1., 1.],\n",
      "        [1., 1., 1.],\n",
      "        [1., 1., 1.],\n",
      "        [1., 1., 1.]], dtype=torch.float64)\n",
      "tensor([[ 0.8247,  1.4181,  0.7263],\n",
      "        [-0.3876, -1.2666, -0.3987],\n",
      "        [-1.0244, -1.3771,  1.4353],\n",
      "        [-0.3911, -0.1165,  0.0386],\n",
      "        [ 1.0255, -0.4024,  0.0377]])\n"
     ]
    }
   ],
   "source": [
    "x = x.new_ones(5, 3, dtype=torch.double)      # new_* methods take in sizes\n",
    "print(x)\n",
    "\n",
    "x = torch.randn_like(x, dtype=torch.float)    # override dtype!\n",
    "print(x)                                      # result has the same size"
   ]
  },
  {
   "cell_type": "markdown",
   "metadata": {
    "id": "F6kOn4Oosnbq"
   },
   "source": [
    "행렬의 크기를 구합니다:\n",
    "\n"
   ]
  },
  {
   "cell_type": "code",
   "execution_count": 11,
   "metadata": {
    "ExecuteTime": {
     "end_time": "2021-06-21T08:42:15.503140Z",
     "start_time": "2021-06-21T08:42:15.489151Z"
    },
    "colab": {
     "base_uri": "https://localhost:8080/"
    },
    "executionInfo": {
     "elapsed": 585,
     "status": "ok",
     "timestamp": 1610699177732,
     "user": {
      "displayName": "­김대희[컴퓨터공학과]",
      "photoUrl": "",
      "userId": "16036391449035610585"
     },
     "user_tz": -540
    },
    "id": "1bXCTCXpsnbq",
    "outputId": "0f16d6f3-a388-4aa9-d8f5-1de817ed7659"
   },
   "outputs": [
    {
     "name": "stdout",
     "output_type": "stream",
     "text": [
      "torch.Size([5, 3])\n",
      "torch.Size([5, 3])\n"
     ]
    }
   ],
   "source": [
    "print(x.size())\n",
    "print(x.shape)"
   ]
  },
  {
   "cell_type": "markdown",
   "metadata": {
    "id": "Jq9jZCRKsnbu"
   },
   "source": [
    "\n",
    "덧셈: 문법1"
   ]
  },
  {
   "cell_type": "code",
   "execution_count": 12,
   "metadata": {
    "ExecuteTime": {
     "end_time": "2021-06-21T08:42:17.205985Z",
     "start_time": "2021-06-21T08:42:17.178995Z"
    },
    "colab": {
     "base_uri": "https://localhost:8080/"
    },
    "executionInfo": {
     "elapsed": 576,
     "status": "ok",
     "timestamp": 1610699203752,
     "user": {
      "displayName": "­김대희[컴퓨터공학과]",
      "photoUrl": "",
      "userId": "16036391449035610585"
     },
     "user_tz": -540
    },
    "id": "uCWXyD2Hsnbu",
    "outputId": "c8314f0a-3907-45c7-e434-b78b1be5dafd"
   },
   "outputs": [
    {
     "name": "stdout",
     "output_type": "stream",
     "text": [
      "tensor([[ 0.8247,  1.4181,  0.7263],\n",
      "        [-0.3876, -1.2666, -0.3987],\n",
      "        [-1.0244, -1.3771,  1.4353],\n",
      "        [-0.3911, -0.1165,  0.0386],\n",
      "        [ 1.0255, -0.4024,  0.0377]])\n",
      "tensor([[0.8876, 0.9805, 0.8041],\n",
      "        [0.3443, 0.8596, 0.3013],\n",
      "        [0.1146, 0.7188, 0.9739],\n",
      "        [0.8891, 0.3346, 0.1639],\n",
      "        [0.7310, 0.1610, 0.4929]])\n",
      "tensor([[ 1.7122,  2.3986,  1.5304],\n",
      "        [-0.0433, -0.4070, -0.0974],\n",
      "        [-0.9099, -0.6583,  2.4092],\n",
      "        [ 0.4980,  0.2181,  0.2024],\n",
      "        [ 1.7565, -0.2414,  0.5306]])\n"
     ]
    }
   ],
   "source": [
    "y = torch.rand(5, 3)\n",
    "print(x)\n",
    "print(y)\n",
    "print(x + y)"
   ]
  },
  {
   "cell_type": "markdown",
   "metadata": {
    "id": "DFu4Lo3csnbx"
   },
   "source": [
    "덧셈: 문법2\n",
    "\n"
   ]
  },
  {
   "cell_type": "code",
   "execution_count": 13,
   "metadata": {
    "ExecuteTime": {
     "end_time": "2021-06-21T08:45:02.314085Z",
     "start_time": "2021-06-21T08:45:02.291099Z"
    },
    "colab": {
     "base_uri": "https://localhost:8080/"
    },
    "executionInfo": {
     "elapsed": 606,
     "status": "ok",
     "timestamp": 1610699233765,
     "user": {
      "displayName": "­김대희[컴퓨터공학과]",
      "photoUrl": "",
      "userId": "16036391449035610585"
     },
     "user_tz": -540
    },
    "id": "DzKHzVOBsnbx",
    "outputId": "8ed4fcea-9884-4b83-cfb9-b8bccd6f3062"
   },
   "outputs": [
    {
     "name": "stdout",
     "output_type": "stream",
     "text": [
      "tensor([[ 1.7122,  2.3986,  1.5304],\n",
      "        [-0.0433, -0.4070, -0.0974],\n",
      "        [-0.9099, -0.6583,  2.4092],\n",
      "        [ 0.4980,  0.2181,  0.2024],\n",
      "        [ 1.7565, -0.2414,  0.5306]])\n"
     ]
    }
   ],
   "source": [
    "print(torch.add(x, y))"
   ]
  },
  {
   "cell_type": "markdown",
   "metadata": {
    "id": "Ovk3r-8Psnbz"
   },
   "source": [
    "덧셈: 결과 tensor를 인자로 제공\n"
   ]
  },
  {
   "cell_type": "code",
   "execution_count": 14,
   "metadata": {
    "ExecuteTime": {
     "end_time": "2021-06-21T08:45:03.327781Z",
     "start_time": "2021-06-21T08:45:03.302796Z"
    },
    "colab": {
     "base_uri": "https://localhost:8080/"
    },
    "executionInfo": {
     "elapsed": 541,
     "status": "ok",
     "timestamp": 1610699251245,
     "user": {
      "displayName": "­김대희[컴퓨터공학과]",
      "photoUrl": "",
      "userId": "16036391449035610585"
     },
     "user_tz": -540
    },
    "id": "ZOB9erkpsnbz",
    "outputId": "be0a32e5-b004-4b6c-fc1a-3d0a9433ae2b"
   },
   "outputs": [
    {
     "name": "stdout",
     "output_type": "stream",
     "text": [
      "tensor([[ 1.7122,  2.3986,  1.5304],\n",
      "        [-0.0433, -0.4070, -0.0974],\n",
      "        [-0.9099, -0.6583,  2.4092],\n",
      "        [ 0.4980,  0.2181,  0.2024],\n",
      "        [ 1.7565, -0.2414,  0.5306]])\n",
      "tensor([[ 1.7122,  2.3986,  1.5304],\n",
      "        [-0.0433, -0.4070, -0.0974],\n",
      "        [-0.9099, -0.6583,  2.4092],\n",
      "        [ 0.4980,  0.2181,  0.2024],\n",
      "        [ 1.7565, -0.2414,  0.5306]])\n"
     ]
    }
   ],
   "source": [
    "result = torch.empty(5, 3)\n",
    "print(result)\n",
    "\n",
    "torch.add(x, y, out=result)\n",
    "print(result)"
   ]
  },
  {
   "cell_type": "markdown",
   "metadata": {
    "id": "HN2T-jLrsnb1"
   },
   "source": [
    "덧셈: 바꿔치기(In-place) 방식\n"
   ]
  },
  {
   "cell_type": "code",
   "execution_count": 16,
   "metadata": {
    "ExecuteTime": {
     "end_time": "2021-06-21T08:46:50.152771Z",
     "start_time": "2021-06-21T08:46:50.135780Z"
    },
    "colab": {
     "base_uri": "https://localhost:8080/"
    },
    "executionInfo": {
     "elapsed": 643,
     "status": "ok",
     "timestamp": 1610699339141,
     "user": {
      "displayName": "­김대희[컴퓨터공학과]",
      "photoUrl": "",
      "userId": "16036391449035610585"
     },
     "user_tz": -540
    },
    "id": "Lf3t8CEHsnb2",
    "outputId": "80c757a6-efa0-4d47-c7a3-ede6e0368e27"
   },
   "outputs": [
    {
     "name": "stdout",
     "output_type": "stream",
     "text": [
      "tensor([[ 1.7122,  2.3986,  1.5304],\n",
      "        [-0.0433, -0.4070, -0.0974],\n",
      "        [-0.9099, -0.6583,  2.4092],\n",
      "        [ 0.4980,  0.2181,  0.2024],\n",
      "        [ 1.7565, -0.2414,  0.5306]])\n",
      "\n",
      "use add()\n",
      "tensor([[ 1.7122,  2.3986,  1.5304],\n",
      "        [-0.0433, -0.4070, -0.0974],\n",
      "        [-0.9099, -0.6583,  2.4092],\n",
      "        [ 0.4980,  0.2181,  0.2024],\n",
      "        [ 1.7565, -0.2414,  0.5306]])\n",
      "\n",
      "use add_()\n",
      "tensor([[ 2.5369,  3.8167,  2.2566],\n",
      "        [-0.4309, -1.6736, -0.4961],\n",
      "        [-1.9343, -2.0354,  3.8444],\n",
      "        [ 0.1069,  0.1016,  0.2410],\n",
      "        [ 2.7820, -0.6438,  0.5682]])\n"
     ]
    }
   ],
   "source": [
    "# adds x to y\n",
    "print(y)\n",
    "print()\n",
    "y.add(x)\n",
    "print('use add()')\n",
    "print(y)\n",
    "print()\n",
    "y.add_(x)\n",
    "print('use add_()')\n",
    "print(y)"
   ]
  },
  {
   "cell_type": "markdown",
   "metadata": {
    "id": "Otzt2-mMsnb4"
   },
   "source": [
    "<div class=\"alert alert-info\"><h4>Note</h4><p>바꿔치기(In-place) 방식으로 tensor의 값을 변경하는 연산은 _ 를 접미사로 갖습니다.<p>\n",
    "예: x.copy_(y), x.t_() 는 x 를 변경합니다.\n",
    "\n",
    "<p>\n",
    "NumPy스러운 인덱싱 표기 방법을 사용할 수도 있습니다!\n"
   ]
  },
  {
   "cell_type": "code",
   "execution_count": 17,
   "metadata": {
    "ExecuteTime": {
     "end_time": "2021-06-21T08:47:04.040269Z",
     "start_time": "2021-06-21T08:47:04.024280Z"
    },
    "colab": {
     "base_uri": "https://localhost:8080/"
    },
    "executionInfo": {
     "elapsed": 575,
     "status": "ok",
     "timestamp": 1610699389627,
     "user": {
      "displayName": "­김대희[컴퓨터공학과]",
      "photoUrl": "",
      "userId": "16036391449035610585"
     },
     "user_tz": -540
    },
    "id": "kKg180otsnb4",
    "outputId": "6599278b-b6a8-4126-a400-ef4b2b255bc8"
   },
   "outputs": [
    {
     "name": "stdout",
     "output_type": "stream",
     "text": [
      "tensor([[ 0.8247,  1.4181,  0.7263],\n",
      "        [-0.3876, -1.2666, -0.3987],\n",
      "        [-1.0244, -1.3771,  1.4353],\n",
      "        [-0.3911, -0.1165,  0.0386],\n",
      "        [ 1.0255, -0.4024,  0.0377]])\n",
      "tensor([ 1.4181, -1.2666, -1.3771, -0.1165, -0.4024])\n"
     ]
    }
   ],
   "source": [
    "print(x)\n",
    "print(x[:, 1])"
   ]
  },
  {
   "cell_type": "markdown",
   "metadata": {
    "id": "FDLx9bI3snb7"
   },
   "source": [
    "크기 변경: tensor의 크기(size)나 모양(shape)을 변경하고 싶다면 torch.view 를 사용합니다:\n"
   ]
  },
  {
   "cell_type": "code",
   "execution_count": 18,
   "metadata": {
    "ExecuteTime": {
     "end_time": "2021-06-21T08:47:07.663170Z",
     "start_time": "2021-06-21T08:47:07.631191Z"
    },
    "colab": {
     "base_uri": "https://localhost:8080/"
    },
    "executionInfo": {
     "elapsed": 613,
     "status": "ok",
     "timestamp": 1610699438649,
     "user": {
      "displayName": "­김대희[컴퓨터공학과]",
      "photoUrl": "",
      "userId": "16036391449035610585"
     },
     "user_tz": -540
    },
    "id": "DBjVLCv5snb7",
    "outputId": "778a703d-413c-47af-9d54-f0f5e88dad8d"
   },
   "outputs": [
    {
     "name": "stdout",
     "output_type": "stream",
     "text": [
      "tensor([[ 0.0928,  0.9503, -0.8155, -1.0648],\n",
      "        [-1.0021,  1.0810, -0.3547,  1.3357],\n",
      "        [-1.6322, -0.6710, -0.7433, -0.3438],\n",
      "        [ 0.2899,  0.1822, -0.2444, -0.8420]])\n",
      "tensor([ 0.0928,  0.9503, -0.8155, -1.0648, -1.0021,  1.0810, -0.3547,  1.3357,\n",
      "        -1.6322, -0.6710, -0.7433, -0.3438,  0.2899,  0.1822, -0.2444, -0.8420])\n",
      "tensor([[ 0.0928,  0.9503],\n",
      "        [-0.8155, -1.0648],\n",
      "        [-1.0021,  1.0810],\n",
      "        [-0.3547,  1.3357],\n",
      "        [-1.6322, -0.6710],\n",
      "        [-0.7433, -0.3438],\n",
      "        [ 0.2899,  0.1822],\n",
      "        [-0.2444, -0.8420]])\n",
      "torch.Size([16]) torch.Size([8, 2])\n"
     ]
    }
   ],
   "source": [
    "x = torch.randn(4, 4)\n",
    "print(x)\n",
    "\n",
    "y = x.view(16)\n",
    "z = y.view(-1, 2)  # the size -1 is inferred from other dimensions\n",
    "print(y)\n",
    "print(z)\n",
    "print(y.size(), z.size())"
   ]
  },
  {
   "cell_type": "markdown",
   "metadata": {
    "id": "dDDWiXtXsnb9"
   },
   "source": [
    "만약 tensor에 하나의 값만 존재한다면, .item() 을 사용하면 숫자 값을 얻을 수 있습니다.\n",
    "\n"
   ]
  },
  {
   "cell_type": "code",
   "execution_count": 19,
   "metadata": {
    "ExecuteTime": {
     "end_time": "2021-06-21T08:50:11.593679Z",
     "start_time": "2021-06-21T08:50:11.575709Z"
    },
    "colab": {
     "base_uri": "https://localhost:8080/"
    },
    "executionInfo": {
     "elapsed": 561,
     "status": "ok",
     "timestamp": 1610699552960,
     "user": {
      "displayName": "­김대희[컴퓨터공학과]",
      "photoUrl": "",
      "userId": "16036391449035610585"
     },
     "user_tz": -540
    },
    "id": "WIhw3GDfsnb-",
    "outputId": "cd34eb28-d349-4b2c-8b14-d9d78e05267a"
   },
   "outputs": [
    {
     "name": "stdout",
     "output_type": "stream",
     "text": [
      "tensor([-0.4287])\n",
      "<class 'torch.Tensor'> <class 'float'>\n",
      "-0.4287288784980774\n"
     ]
    }
   ],
   "source": [
    "x = torch.randn(1)\n",
    "print(x)\n",
    "print(type(x), type(x.item()))\n",
    "print(x.item())\n"
   ]
  },
  {
   "cell_type": "markdown",
   "metadata": {
    "id": "_qy7VEshsncB"
   },
   "source": [
    "**읽을 거리:**\n",
    "\n",
    "\n",
    "  전치(transposing), 인덱싱(indexing), 슬라이싱(slicing), 수학 계산, 선형 대수, 난수(random number) 등과 같은 100가지 이상의 Tensor 연산은\n",
    "  `여기 <http://pytorch.org/docs/torch>` 에 설명되어 있습니다.\n",
    "\n",
    "NumPy 변환(Bridge)\n",
    "------------\n",
    "\n",
    "Torch Tensor를 NumPy 배열(array)로 변환하거나, 그 반대로 하는 것은 매우 쉽습니다.\n",
    "\n",
    "(CPU 상의) Torch Tensor와 NumPy 배열은 저장 공간을 공유하기 때문에, 하나를 변경하면 다른 하나도 변경됩니다.\n",
    "\n",
    "- Torch Tensor를 NumPy 배열로 변환하기\n",
    "\n"
   ]
  },
  {
   "cell_type": "code",
   "execution_count": 20,
   "metadata": {
    "ExecuteTime": {
     "end_time": "2021-06-21T08:50:13.849547Z",
     "start_time": "2021-06-21T08:50:13.830540Z"
    },
    "colab": {
     "base_uri": "https://localhost:8080/"
    },
    "executionInfo": {
     "elapsed": 614,
     "status": "ok",
     "timestamp": 1610699630525,
     "user": {
      "displayName": "­김대희[컴퓨터공학과]",
      "photoUrl": "",
      "userId": "16036391449035610585"
     },
     "user_tz": -540
    },
    "id": "rPKFva3ssncB",
    "outputId": "2ccaf4c4-3176-4a8f-ec67-bae3e9f3c465"
   },
   "outputs": [
    {
     "name": "stdout",
     "output_type": "stream",
     "text": [
      "tensor([1., 1., 1., 1., 1.])\n"
     ]
    }
   ],
   "source": [
    "a = torch.ones(5)\n",
    "print(a)"
   ]
  },
  {
   "cell_type": "code",
   "execution_count": 21,
   "metadata": {
    "ExecuteTime": {
     "end_time": "2021-06-21T08:50:14.764848Z",
     "start_time": "2021-06-21T08:50:14.742844Z"
    },
    "colab": {
     "base_uri": "https://localhost:8080/"
    },
    "executionInfo": {
     "elapsed": 548,
     "status": "ok",
     "timestamp": 1610699636242,
     "user": {
      "displayName": "­김대희[컴퓨터공학과]",
      "photoUrl": "",
      "userId": "16036391449035610585"
     },
     "user_tz": -540
    },
    "id": "ZCPCzALIsncD",
    "outputId": "56768a40-5d7a-49e4-ea84-1b6edfcf2c65"
   },
   "outputs": [
    {
     "name": "stdout",
     "output_type": "stream",
     "text": [
      "[1. 1. 1. 1. 1.]\n"
     ]
    }
   ],
   "source": [
    "b = a.numpy()\n",
    "print(b)"
   ]
  },
  {
   "cell_type": "markdown",
   "metadata": {
    "id": "j-8hzE25sncF"
   },
   "source": [
    "NumPy 배열의 값이 어떻게 변하는지 확인해보세요.\n",
    "\n"
   ]
  },
  {
   "cell_type": "code",
   "execution_count": 22,
   "metadata": {
    "ExecuteTime": {
     "end_time": "2021-06-21T08:50:19.779403Z",
     "start_time": "2021-06-21T08:50:19.755433Z"
    },
    "colab": {
     "base_uri": "https://localhost:8080/"
    },
    "executionInfo": {
     "elapsed": 588,
     "status": "ok",
     "timestamp": 1610699645359,
     "user": {
      "displayName": "­김대희[컴퓨터공학과]",
      "photoUrl": "",
      "userId": "16036391449035610585"
     },
     "user_tz": -540
    },
    "id": "Wsznw1eqsncF",
    "outputId": "6846221d-9fc6-48e0-8272-6d42c20c094b"
   },
   "outputs": [
    {
     "name": "stdout",
     "output_type": "stream",
     "text": [
      "tensor([2., 2., 2., 2., 2.])\n",
      "[2. 2. 2. 2. 2.]\n"
     ]
    }
   ],
   "source": [
    "a.add_(1)\n",
    "print(a)\n",
    "print(b)"
   ]
  },
  {
   "cell_type": "code",
   "execution_count": 23,
   "metadata": {
    "ExecuteTime": {
     "end_time": "2021-06-21T08:50:38.999100Z",
     "start_time": "2021-06-21T08:50:38.967995Z"
    },
    "colab": {
     "base_uri": "https://localhost:8080/"
    },
    "executionInfo": {
     "elapsed": 532,
     "status": "ok",
     "timestamp": 1610699663580,
     "user": {
      "displayName": "­김대희[컴퓨터공학과]",
      "photoUrl": "",
      "userId": "16036391449035610585"
     },
     "user_tz": -540
    },
    "id": "BBFrx-f0QQil",
    "outputId": "b43b3fbc-033d-4a89-c233-0fb54f0cb131"
   },
   "outputs": [
    {
     "name": "stdout",
     "output_type": "stream",
     "text": [
      "tensor([3., 3., 3., 3., 3.])\n",
      "[2. 2. 2. 2. 2.]\n"
     ]
    }
   ],
   "source": [
    "temp = a.clone()\n",
    "temp_numpy = temp.numpy()\n",
    "\n",
    "a.add_(1)\n",
    "print(a)\n",
    "print(temp_numpy)"
   ]
  },
  {
   "cell_type": "markdown",
   "metadata": {
    "id": "pe446bKMsncH"
   },
   "source": [
    " - NumPy 배열을 Torch Tensor로 변환하기  \n",
    " \n",
    "NumPy(np) 배열을 변경하면 Torch Tensor의 값도 자동 변경되는 것을 확인해보세요.\n",
    "\n"
   ]
  },
  {
   "cell_type": "code",
   "execution_count": 24,
   "metadata": {
    "ExecuteTime": {
     "end_time": "2021-06-21T08:51:03.751030Z",
     "start_time": "2021-06-21T08:51:03.727063Z"
    },
    "colab": {
     "base_uri": "https://localhost:8080/"
    },
    "executionInfo": {
     "elapsed": 558,
     "status": "ok",
     "timestamp": 1610699690633,
     "user": {
      "displayName": "­김대희[컴퓨터공학과]",
      "photoUrl": "",
      "userId": "16036391449035610585"
     },
     "user_tz": -540
    },
    "id": "1T3FiWWusncI",
    "outputId": "202ac692-7f24-47d6-f234-8e47bd071acd"
   },
   "outputs": [
    {
     "name": "stdout",
     "output_type": "stream",
     "text": [
      "[1. 1. 1. 1. 1.]\n",
      "[2. 2. 2. 2. 2.]\n",
      "tensor([2., 2., 2., 2., 2.], dtype=torch.float64)\n"
     ]
    }
   ],
   "source": [
    "import numpy as np\n",
    "a = np.ones(5)\n",
    "print(a)\n",
    "b = torch.from_numpy(a)\n",
    "np.add(a, 1, out=a)\n",
    "print(a)\n",
    "print(b)\n"
   ]
  },
  {
   "cell_type": "markdown",
   "metadata": {
    "id": "dc7afeqWsncJ"
   },
   "source": [
    "CharTensor를 제외한 CPU 상의 모든 Tensor는 NumPy로의 변환을 지원하며, (NumPy에서 Tensor로의) 반대 변환도 지원합니다.\n",
    "\n",
    "CUDA Tensors\n",
    "------------\n",
    "\n",
    ".to 메소드를 사용하여 Tensor를 어떠한 장치로도 옮길 수 있습니다.\n",
    "\n"
   ]
  },
  {
   "cell_type": "code",
   "execution_count": 22,
   "metadata": {
    "colab": {
     "base_uri": "https://localhost:8080/"
    },
    "executionInfo": {
     "elapsed": 10773,
     "status": "ok",
     "timestamp": 1610699799364,
     "user": {
      "displayName": "­김대희[컴퓨터공학과]",
      "photoUrl": "",
      "userId": "16036391449035610585"
     },
     "user_tz": -540
    },
    "id": "9CcL3nDUsncK",
    "outputId": "7d2dcf61-a012-4ace-f17a-96ee771d89fc"
   },
   "outputs": [
    {
     "name": "stdout",
     "output_type": "stream",
     "text": [
      "tensor([[1., 1., 1., 1.],\n",
      "        [1., 1., 1., 1.],\n",
      "        [1., 1., 1., 1.],\n",
      "        [1., 1., 1., 1.]], device='cuda:0')\n",
      "tensor([[1.4512, 1.0800, 1.8194, 1.3981],\n",
      "        [1.3423, 1.5176, 1.6927, 1.8044],\n",
      "        [1.6748, 1.4634, 1.7604, 1.0744],\n",
      "        [1.3394, 1.9641, 1.3050, 1.7403]], device='cuda:0')\n",
      "tensor([[1.4512, 1.0800, 1.8194, 1.3981],\n",
      "        [1.3423, 1.5176, 1.6927, 1.8044],\n",
      "        [1.6748, 1.4634, 1.7604, 1.0744],\n",
      "        [1.3394, 1.9641, 1.3050, 1.7403]], dtype=torch.float64)\n"
     ]
    }
   ],
   "source": [
    "import torch\n",
    "\n",
    "# 이 코드는 CUDA가 사용 가능한 환경에서만 실행합니다.\n",
    "# ``torch.device`` 를 사용하여 tensor를 GPU 안팎으로 이동해보겠습니다.\n",
    "\n",
    "x = torch.rand(4,4)\n",
    "if torch.cuda.is_available():\n",
    "    device = \"cuda:0\" # torch.device(\"cuda:0\")          # CUDA 장치 객체(device object)로\n",
    "    y = torch.ones_like(x, device=device)  # GPU 상에 직접적으로 tensor를 생성하거나\n",
    "    print(y)\n",
    "\n",
    "\n",
    "    x = x.to(device)                       # ``.to(\"cuda\")`` 를 사용하면 됩니다.\n",
    "    z = x + y\n",
    "    print(z)\n",
    "    print(z.to(\"cpu\", torch.double))       # ``.to`` 는 dtype도 함께 변경합니다!"
   ]
  },
  {
   "cell_type": "code",
   "execution_count": 23,
   "metadata": {
    "executionInfo": {
     "elapsed": 555,
     "status": "ok",
     "timestamp": 1610699863961,
     "user": {
      "displayName": "­김대희[컴퓨터공학과]",
      "photoUrl": "",
      "userId": "16036391449035610585"
     },
     "user_tz": -540
    },
    "id": "eRUcwWN4yHzu"
   },
   "outputs": [],
   "source": [
    "x = x.cuda()"
   ]
  },
  {
   "cell_type": "code",
   "execution_count": null,
   "metadata": {
    "id": "egPzONQ7MXUR"
   },
   "outputs": [],
   "source": []
  }
 ],
 "metadata": {
  "accelerator": "GPU",
  "colab": {
   "collapsed_sections": [],
   "name": "Pytorch 실습(1) tensor_tutorial.ipynb",
   "provenance": [
    {
     "file_id": "https://github.com/pytorch/tutorials/blob/gh-pages/_downloads/tensor_tutorial.ipynb",
     "timestamp": 1589251101092
    }
   ],
   "toc_visible": true
  },
  "kernelspec": {
   "display_name": "Python 3",
   "language": "python",
   "name": "python3"
  },
  "language_info": {
   "codemirror_mode": {
    "name": "ipython",
    "version": 3
   },
   "file_extension": ".py",
   "mimetype": "text/x-python",
   "name": "python",
   "nbconvert_exporter": "python",
   "pygments_lexer": "ipython3",
   "version": "3.8.10"
  },
  "toc": {
   "base_numbering": 1,
   "nav_menu": {},
   "number_sections": true,
   "sideBar": true,
   "skip_h1_title": false,
   "title_cell": "Table of Contents",
   "title_sidebar": "Contents",
   "toc_cell": false,
   "toc_position": {},
   "toc_section_display": true,
   "toc_window_display": false
  }
 },
 "nbformat": 4,
 "nbformat_minor": 1
}
