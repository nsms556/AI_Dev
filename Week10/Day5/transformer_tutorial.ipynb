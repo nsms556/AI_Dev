{
  "cells": [
    {
      "cell_type": "code",
      "execution_count": null,
      "metadata": {
        "collapsed": false
      },
      "outputs": [],
      "source": [
        "%matplotlib inline"
      ]
    },
    {
      "cell_type": "markdown",
      "metadata": {},
      "source": [
        "\nnn.Transformer \uc640 TorchText \ub85c \uc2dc\ud000\uc2a4-\ud22c-\uc2dc\ud000\uc2a4(Sequence-to-Sequence) \ubaa8\ub378\ub9c1\ud558\uae30\n=================================================================================\n\n\uc774 \ud29c\ud1a0\ub9ac\uc5bc\uc5d0\uc11c\ub294\n`nn.Transformer <https://pytorch.org/docs/stable/generated/torch.nn.Transformer.html>`__ \ubaa8\ub4c8\uc744\n\uc774\uc6a9\ud558\ub294 \uc2dc\ud000\uc2a4-\ud22c-\uc2dc\ud000\uc2a4(Sequence-to-Sequence) \ubaa8\ub378\uc744 \ud559\uc2b5\ud558\ub294 \ubc29\ubc95\uc744 \ubc30\uc6cc\ubcf4\uaca0\uc2b5\ub2c8\ub2e4.\n\nPyTorch 1.2 \ubc84\uc83c\uc5d0\ub294\n`Attention is All You Need <https://arxiv.org/pdf/1706.03762.pdf>`__ \ub17c\ubb38\uc5d0\n\uae30\ubc18\ud55c \ud45c\uc900 \ud2b8\ub79c\uc2a4\ud3ec\uba38(transformer) \ubaa8\ub4c8\uc744 \ud3ec\ud568\ud558\uace0 \uc788\uc2b5\ub2c8\ub2e4.\n\ud2b8\ub79c\uc2a4\ud3ec\uba38 \ubaa8\ub378\uc740 \ub354 \ub192\uc740 \uc218\uc900\uc758 \ubcd1\ub82c\ud654(parallelization)\uac00 \uac00\ub2a5\ud558\uba74\uc11c\ub3c4\n\ub9ce\uc740 \uc2dc\ud000\uc2a4-\ud22c-\uc2dc\ud000\uc2a4 \ubb38\uc81c\ub4e4\uc5d0\uc11c \ud488\uc9c8\uc774 \uc6b0\uc218\ud568\uc774 \uc785\uc99d\ub418\uc5c8\uc2b5\ub2c8\ub2e4.\n``nn.Transformer`` \ubaa8\ub4c8\uc740 \uc785\ub825(input) \uacfc \ucd9c\ub825(output) \uc0ac\uc774\uc758 \uc804\uc5ed\uc801\uc778 \uc758\uc874\uc131(global dependencies)\n\uc744 \ub098\ud0c0\ub0b4\uae30 \uc704\ud558\uc5ec \uc804\uc801\uc73c\ub85c \uc5b4\ud150\uc158(attention) \uba54\ucee4\ub2c8\uc998\uc5d0 \uc758\uc874\ud569\ub2c8\ub2e4.\n(\ucd5c\uadfc\uc5d0 \ub610 \ub2e4\ub978 \ubaa8\ub4c8\uc774 `nn.MultiheadAttention <https://pytorch.org/docs/stable/generated/torch.nn.MultiheadAttention.html>`__ \uc73c\ub85c \uad6c\ud604\ub418\uc5c8\uc2b5\ub2c8\ub2e4.)\n``nn.Transformer`` \ubaa8\ub4c8\uc740 \ud604\uc7ac \ubaa8\ub4c8\ud654\uac00 \ub9e4\uc6b0 \uc798 \ub418\uc5b4 \uc788\uc5b4,\n\ub2e4\uc74c\uacfc \uac19\uc740 \ub2e8\uc77c \ucef4\ud3ec\ub10c\ud2b8 (\uc774 \ud29c\ud1a0\ub9ac\uc5bc\uc758 `nn.TransformerEncoder <https://pytorch.org/docs/stable/generated/torch.nn.TransformerEncoder.html>`__ \uc640 \uac19\uc740)\n\ub294 \uc27d\uac8c \uc801\uc6a9 \ubc0f \uad6c\uc131\ub420 \uc218 \uc788\uc2b5\ub2c8\ub2e4.\n\n![](../_static/img/transformer_architecture.jpg)\n\n"
      ]
    },
    {
      "cell_type": "markdown",
      "metadata": {},
      "source": [
        "\ubaa8\ub378 \uc815\uc758\ud558\uae30\n----------------\n\n\n"
      ]
    },
    {
      "cell_type": "markdown",
      "metadata": {},
      "source": [
        "\uc774 \ud29c\ud1a0\ub9ac\uc5bc\uc5d0\uc11c, \uc6b0\ub9ac\ub294 ``nn.TransformerEncoder`` \ubaa8\ub378\uc744 \uc5b8\uc5b4 \ubaa8\ub378\ub9c1(language modeling) \uacfc\uc81c\uc5d0 \ub300\ud574\uc11c \ud559\uc2b5\uc2dc\ud0ac \uac83\uc785\ub2c8\ub2e4.\n\uc5b8\uc5b4 \ubaa8\ub378\ub9c1 \uacfc\uc81c\ub294 \uc8fc\uc5b4\uc9c4 \ub2e8\uc5b4 (\ub610\ub294 \ub2e8\uc5b4\uc758 \uc2dc\ud000\uc2a4) \uac00 \ub2e4\uc74c\uc5d0 \uc774\uc5b4\uc9c0\ub294 \ub2e8\uc5b4 \uc2dc\ud000\uc2a4\ub97c \ub530\ub97c \uac00\ub2a5\uc131(likelihood)\uc5d0 \ub300\ud55c \ud655\ub960\uc744 \ud560\ub2f9\ud558\ub294 \uac83\uc785\ub2c8\ub2e4.\n\uba3c\uc800, \ud1a0\ud070(token) \ub4e4\uc758 \uc2dc\ud000\uc2a4\uac00 \uc784\ubca0\ub529(embedding) \ub808\uc774\uc5b4\ub85c \uc804\ub2ec\ub418\uba70, \uc774\uc5b4\uc11c \ud3ec\uc9c0\uc154\ub110 \uc778\ucf54\ub529(positional encoding) \ub808\uc774\uc5b4\uac00 \uac01 \ub2e8\uc5b4\uc758 \uc21c\uc11c\ub97c \uc124\uba85\ud569\ub2c8\ub2e4.\n(\ub354 \uc790\uc138\ud55c \uc124\uba85\uc740 \ub2e4\uc74c \ub2e8\ub77d\uc744 \ucc38\uace0\ud574\uc8fc\uc138\uc694.)\n``nn.TransformerEncoder`` \ub294 \uc5ec\ub7ec \uac1c\uc758\n`nn.TransformerEncoderLayer <https://pytorch.org/docs/stable/generated/torch.nn.TransformerEncoderLayer.html>`__\n\ub808\uc774\uc5b4\ub85c \uad6c\uc131\ub418\uc5b4 \uc788\uc2b5\ub2c8\ub2e4.\n``nn.TransformerEncoder`` \ub0b4\ubd80\uc758 \uc140\ud504-\uc5b4\ud150\uc158(self-attention) \ub808\uc774\uc5b4\ub4e4\uc740 \uc2dc\ud000\uc2a4 \uc548\uc5d0\uc11c\uc758 \uc774\uc804 \ud3ec\uc9c0\uc158\uc5d0\ub9cc \uc9d1\uc911\ud558\ub3c4\ub85d \ud5c8\uc6a9\ub418\uae30 \ub54c\ubb38\uc5d0,\n\uc785\ub825(input) \uc21c\uc11c\uc640 \ud568\uaed8, \uc815\uc0ac\uac01 \ud615\ud0dc\uc758 \uc5b4\ud150\uc158 \ub9c8\uc2a4\ud06c(attention mask) \uac00 \ud544\uc694\ud569\ub2c8\ub2e4.\n\uc5b8\uc5b4 \ubaa8\ub378\ub9c1 \uacfc\uc81c\ub97c \uc704\ud574\uc11c, \ubbf8\ub798\uc758 \ud3ec\uc9c0\uc158\uc5d0 \uc788\ub294 \ubaa8\ub4e0 \ud1a0\ud070\ub4e4\uc740 \ub9c8\uc2a4\ud0b9 \ub418\uc5b4\uc57c(\uac00\ub824\uc838\uc57c) \ud569\ub2c8\ub2e4.\n\uc2e4\uc81c \ub2e8\uc5b4\ub97c \uc5bb\uae30 \uc704\ud574\uc11c, ``nn.TransformerEncoder`` \uc758 \ucd9c\ub825\uc740 \ub85c\uadf8-\uc18c\ud504\ud2b8\ub9e5\uc2a4(log-Softmax) \ub85c \uc774\uc5b4\uc9c0\ub294 \ucd5c\uc885 \uc120\ud615(Linear) \ub808\uc774\uc5b4\ub85c \uc804\ub2ec \ub429\ub2c8\ub2e4.\n\n\n"
      ]
    },
    {
      "cell_type": "code",
      "execution_count": null,
      "metadata": {
        "collapsed": false
      },
      "outputs": [],
      "source": [
        "import math\n\nimport torch\nimport torch.nn as nn\nimport torch.nn.functional as F\nfrom torch.nn import TransformerEncoder, TransformerEncoderLayer\n\nclass TransformerModel(nn.Module):\n\n    def __init__(self, ntoken, ninp, nhead, nhid, nlayers, dropout=0.5):\n        super(TransformerModel, self).__init__()\n        self.model_type = 'Transformer'\n        self.pos_encoder = PositionalEncoding(ninp, dropout)\n        encoder_layers = TransformerEncoderLayer(ninp, nhead, nhid, dropout)\n        self.transformer_encoder = TransformerEncoder(encoder_layers, nlayers)\n        self.encoder = nn.Embedding(ntoken, ninp)\n        self.ninp = ninp\n        self.decoder = nn.Linear(ninp, ntoken)\n\n        self.init_weights()\n\n    def generate_square_subsequent_mask(self, sz):\n        mask = (torch.triu(torch.ones(sz, sz)) == 1).transpose(0, 1)\n        mask = mask.float().masked_fill(mask == 0, float('-inf')).masked_fill(mask == 1, float(0.0))\n        return mask\n\n    def init_weights(self):\n        initrange = 0.1\n        self.encoder.weight.data.uniform_(-initrange, initrange)\n        self.decoder.bias.data.zero_()\n        self.decoder.weight.data.uniform_(-initrange, initrange)\n\n    def forward(self, src, src_mask):\n        src = self.encoder(src) * math.sqrt(self.ninp)\n        src = self.pos_encoder(src)\n        output = self.transformer_encoder(src, src_mask)\n        output = self.decoder(output)\n        return output"
      ]
    },
    {
      "cell_type": "markdown",
      "metadata": {},
      "source": [
        "``PositionalEncoding`` \ubaa8\ub4c8\uc740 \uc2dc\ud000\uc2a4 \uc548\uc5d0\uc11c \ud1a0\ud070\uc758 \uc0c1\ub300\uc801\uc778 \ub610\ub294 \uc808\ub300\uc801\uc778 \ud3ec\uc9c0\uc158\uc5d0 \ub300\ud55c \uc5b4\ub5a4 \uc815\ubcf4\ub97c \uc8fc\uc785\ud569\ub2c8\ub2e4.\n\ud3ec\uc9c0\uc154\ub110 \uc778\ucf54\ub529\uc740 \uc784\ubca0\ub529\uacfc \ud569\uce60 \uc218 \uc788\ub3c4\ub85d \ub611\uac19\uc740 \ucc28\uc6d0\uc744 \uac00\uc9d1\ub2c8\ub2e4.\n\uc5ec\uae30\uc5d0\uc11c, \uc6b0\ub9ac\ub294 \ub2e4\ub978 \uc8fc\ud30c\uc218(frequency) \uc758 ``sine`` \uacfc ``cosine`` \ud568\uc218\ub97c \uc0ac\uc6a9\ud569\ub2c8\ub2e4.\n\n\n"
      ]
    },
    {
      "cell_type": "code",
      "execution_count": null,
      "metadata": {
        "collapsed": false
      },
      "outputs": [],
      "source": [
        "class PositionalEncoding(nn.Module):\n\n    def __init__(self, d_model, dropout=0.1, max_len=5000):\n        super(PositionalEncoding, self).__init__()\n        self.dropout = nn.Dropout(p=dropout)\n\n        pe = torch.zeros(max_len, d_model)\n        position = torch.arange(0, max_len, dtype=torch.float).unsqueeze(1)\n        div_term = torch.exp(torch.arange(0, d_model, 2).float() * (-math.log(10000.0) / d_model))\n        pe[:, 0::2] = torch.sin(position * div_term)\n        pe[:, 1::2] = torch.cos(position * div_term)\n        pe = pe.unsqueeze(0).transpose(0, 1)\n        self.register_buffer('pe', pe)\n\n    def forward(self, x):\n        x = x + self.pe[:x.size(0), :]\n        return self.dropout(x)"
      ]
    },
    {
      "cell_type": "markdown",
      "metadata": {},
      "source": [
        "\ub370\uc774\ud130 \ub85c\ub4dc\ud558\uace0 \ubc30\uce58 \ub9cc\ub4e4\uae30\n-----------------------------\n\n\n"
      ]
    },
    {
      "cell_type": "markdown",
      "metadata": {},
      "source": [
        "\uc774 \ud29c\ud1a0\ub9ac\uc5bc\uc5d0\uc11c\ub294 ``torchtext`` \ub97c \uc0ac\uc6a9\ud558\uc5ec Wikitext-2 \ub370\uc774\ud130\uc14b\uc744 \uc0dd\uc131\ud569\ub2c8\ub2e4.\n\ub2e8\uc5b4 \uc624\ube0c\uc81d\ud2b8\ub294 \ud6c8\ub828 \ub370\uc774\ud130\uc14b(train dataset) \uc5d0 \uc758\ud558\uc5ec \ub9cc\ub4e4\uc5b4\uc9c0\uace0, \ud1a0\ud070\uc744 \ud150\uc11c(tensor)\ub85c \uc218\uce58\ud654\ud558\ub294\ub370 \uc0ac\uc6a9\ub429\ub2c8\ub2e4.\n\uc2dc\ud000\uc2a4 \ub370\uc774\ud130\ub85c\ubd80\ud130 \uc2dc\uc791\ud558\uc5ec, ``batchify()`` \ud568\uc218\ub294 \ub370\uc774\ud130\uc14b\uc744 \uceec\ub7fc\ub4e4\ub85c \ubc30\uc5f4\ud558\uace0, ``batch_size`` \uc0ac\uc774\uc988\uc758 \ubc30\uce58\ub4e4\ub85c \ub098\ub208 \ud6c4\uc5d0 \ub0a8\uc740 \ubaa8\ub4e0 \ud1a0\ud070\uc744 \ubc84\ub9bd\ub2c8\ub2e4.\n\uc608\ub97c \ub4e4\uc5b4, \uc54c\ud30c\ubcb3\uc744 \uc2dc\ud000\uc2a4(\ucd1d \uae38\uc774 26) \ub85c \uc0dd\uac01\ud558\uace0 \ubc30\uce58 \uc0ac\uc774\uc988\ub97c 4\ub77c\uace0 \ud55c\ub2e4\uba74, \uc6b0\ub9ac\ub294 \uc54c\ud30c\ubcb3\uc744 \uae38\uc774\uac00 6\uc778 4\uac1c\uc758 \uc2dc\ud000\uc2a4\ub85c \ub098\ub20c \uc218 \uc788\uc2b5\ub2c8\ub2e4.\n\n\\begin{align}\\begin{bmatrix}\n  \\text{A} & \\text{B} & \\text{C} & \\ldots & \\text{X} & \\text{Y} & \\text{Z}\n  \\end{bmatrix}\n  \\Rightarrow\n  \\begin{bmatrix}\n  \\begin{bmatrix}\\text{A} \\\\ \\text{B} \\\\ \\text{C} \\\\ \\text{D} \\\\ \\text{E} \\\\ \\text{F}\\end{bmatrix} &\n  \\begin{bmatrix}\\text{G} \\\\ \\text{H} \\\\ \\text{I} \\\\ \\text{J} \\\\ \\text{K} \\\\ \\text{L}\\end{bmatrix} &\n  \\begin{bmatrix}\\text{M} \\\\ \\text{N} \\\\ \\text{O} \\\\ \\text{P} \\\\ \\text{Q} \\\\ \\text{R}\\end{bmatrix} &\n  \\begin{bmatrix}\\text{S} \\\\ \\text{T} \\\\ \\text{U} \\\\ \\text{V} \\\\ \\text{W} \\\\ \\text{X}\\end{bmatrix}\n  \\end{bmatrix}\\end{align}\n\n\uc774 \uceec\ub7fc\ub4e4\uc740 \ubaa8\ub378\uc5d0 \uc758\ud574\uc11c \ub3c5\ub9bd\uc801\uc73c\ub85c \ucde8\uae09\ub418\uba70, \uc774\uac83\uc740 \ub354 \ud6a8\uc728\uc801\uc778 \ubc30\uce58 \ud504\ub85c\uc138\uc2f1(batch processing) \uc774 \uac00\ub2a5\ud558\uc9c0\ub9cc, ``G`` \uc640 ``F`` \uc758 \uc758\uc874\uc131\uc774 \ud559\uc2b5\ub420 \uc218 \uc5c6\ub2e4\ub294 \uac83\uc744 \uc758\ubbf8\ud569\ub2c8\ub2e4.\n\n\n"
      ]
    },
    {
      "cell_type": "code",
      "execution_count": null,
      "metadata": {
        "collapsed": false
      },
      "outputs": [],
      "source": [
        "import torch\nfrom torchtext.datasets import WikiText2\nfrom torchtext.data.utils import get_tokenizer\nfrom torchtext.vocab import build_vocab_from_iterator\n\ntrain_iter = WikiText2(split='train')\ntokenizer = get_tokenizer('basic_english')\nvocab = build_vocab_from_iterator(map(tokenizer, train_iter), specials=[\"<unk>\"])\nvocab.set_default_index(vocab[\"<unk>\"])\n\ndef data_process(raw_text_iter):\n  data = [torch.tensor(vocab(tokenizer(item)), dtype=torch.long) for item in raw_text_iter]\n  return torch.cat(tuple(filter(lambda t: t.numel() > 0, data)))\n\ntrain_iter, val_iter, test_iter = WikiText2()\ntrain_data = data_process(train_iter)\nval_data = data_process(val_iter)\ntest_data = data_process(test_iter)\n\ndevice = torch.device(\"cuda\" if torch.cuda.is_available() else \"cpu\")\n\ndef batchify(data, bsz):\n    # \ub370\uc774\ud130\uc14b\uc744 bsz \ud30c\ud2b8\ub4e4\ub85c \ub098\ub215\ub2c8\ub2e4.\n    nbatch = data.size(0) // bsz\n    # \uae54\ub054\ud558\uac8c \ub098\ub204\uc5b4 \ub5a8\uc5b4\uc9c0\uc9c0 \uc54a\ub294 \ucd94\uac00\uc801\uc778 \ubd80\ubd84(\ub098\uba38\uc9c0\ub4e4) \uc740 \uc798\ub77c\ub0c5\ub2c8\ub2e4.\n    data = data.narrow(0, 0, nbatch * bsz)\n    # \ub370\uc774\ud130\uc5d0 \ub300\ud558\uc5ec bsz \ubc30\uce58\ub4e4\ub85c \ub3d9\ub4f1\ud558\uac8c \ub098\ub215\ub2c8\ub2e4.\n    data = data.view(bsz, -1).t().contiguous()\n    return data.to(device)\n\nbatch_size = 20\neval_batch_size = 10\ntrain_data = batchify(train_data, batch_size)\nval_data = batchify(val_data, eval_batch_size)\ntest_data = batchify(test_data, eval_batch_size)"
      ]
    },
    {
      "cell_type": "markdown",
      "metadata": {},
      "source": [
        "\uc785\ub825(input) \uacfc \ud0c0\uac9f(target) \uc2dc\ud000\uc2a4\ub97c \uc0dd\uc131\ud558\uae30 \uc704\ud55c \ud568\uc218\ub4e4\n~~~~~~~~~~~~~~~~~~~~~~~~~~~~~~~~~~~~~~~~~~~~~~~~~~~~~~~~~~~\n\n\n"
      ]
    },
    {
      "cell_type": "markdown",
      "metadata": {},
      "source": [
        "``get_batch()`` \ud568\uc218\ub294 \ud2b8\ub79c\uc2a4\ud3ec\uba38 \ubaa8\ub378\uc744 \uc704\ud55c \uc785\ub825\uacfc \ud0c0\uac9f \uc2dc\ud000\uc2a4\ub97c \uc0dd\uc131\ud569\ub2c8\ub2e4.\n\uc774 \ud568\uc218\ub294 \uc18c\uc2a4 \ub370\uc774\ud130\ub97c ``bptt`` \uae38\uc774\ub97c \uac00\uc9c4 \ub369\uc5b4\ub9ac\ub85c \uc138\ubd84\ud654 \ud569\ub2c8\ub2e4.\n\uc5b8\uc5b4 \ubaa8\ub378\ub9c1 \uacfc\uc81c\ub97c \uc704\ud574\uc11c, \ubaa8\ub378\uc740 \ub2e4\uc74c \ub2e8\uc5b4\uc778 ``Target`` \uc774 \ud544\uc694 \ud569\ub2c8\ub2e4.\n\uc608\ub97c \ub4e4\uc5b4, ``bptt`` \uc758 \uac12\uc774 2 \ub77c\uba74, \uc6b0\ub9ac\ub294 ``i`` = 0 \uc77c \ub54c \ub2e4\uc74c\uc758 2 \uac1c\uc758 \ubcc0\uc218(Variable) \ub97c \uc5bb\uc744 \uc218 \uc788\uc2b5\ub2c8\ub2e4:\n\n![](../_static/img/transformer_input_target.png)\n\n\n\ubcc0\uc218 \ub369\uc5b4\ub9ac\ub294 \ud2b8\ub79c\uc2a4\ud3ec\uba38 \ubaa8\ub378\uc758 ``S`` \ucc28\uc6d0\uacfc \uc77c\uce58\ud558\ub294 0 \ucc28\uc6d0\uc5d0 \ud574\ub2f9\ud569\ub2c8\ub2e4.\n\ubc30\uce58 \ucc28\uc6d0 ``N`` \uc740 1 \ucc28\uc6d0\uc5d0 \ud574\ub2f9\ud569\ub2c8\ub2e4.\n\n\n"
      ]
    },
    {
      "cell_type": "code",
      "execution_count": null,
      "metadata": {
        "collapsed": false
      },
      "outputs": [],
      "source": [
        "bptt = 35\ndef get_batch(source, i):\n    seq_len = min(bptt, len(source) - 1 - i)\n    data = source[i:i+seq_len]\n    target = source[i+1:i+1+seq_len].reshape(-1)\n    return data, target"
      ]
    },
    {
      "cell_type": "markdown",
      "metadata": {},
      "source": [
        "\uc778\uc2a4\ud134\uc2a4(instance) \ucd08\uae30\ud654\ud558\uae30\n--------------------------------\n\n\n"
      ]
    },
    {
      "cell_type": "markdown",
      "metadata": {},
      "source": [
        "\ubaa8\ub378\uc740 \uc544\ub798\uc640 \uac19\uc740 \ud558\uc774\ud37c\ud30c\ub77c\ubbf8\ud130(hyperparameter) \ub85c \uc138\ud305 \ub429\ub2c8\ub2e4.\n\ub2e8\uc5b4 \uc0ac\uc774\uc988\ub294 \ub2e8\uc5b4 \uc624\ube0c\uc81d\ud2b8\uc758 \uae38\uc774\uc640 \uc77c\uce58 \ud569\ub2c8\ub2e4.\n\n\n"
      ]
    },
    {
      "cell_type": "code",
      "execution_count": null,
      "metadata": {
        "collapsed": false
      },
      "outputs": [],
      "source": [
        "ntokens = len(vocab) # \ub2e8\uc5b4 \uc0ac\uc804(\uc5b4\ud718\uc9d1)\uc758 \ud06c\uae30\nemsize = 200 # \uc784\ubca0\ub529 \ucc28\uc6d0\nnhid = 200 # nn.TransformerEncoder \uc5d0\uc11c \ud53c\ub4dc\ud3ec\uc6cc\ub4dc \ub124\ud2b8\uc6cc\ud06c(feedforward network) \ubaa8\ub378\uc758 \ucc28\uc6d0\nnlayers = 2 # nn.TransformerEncoder \ub0b4\ubd80\uc758 nn.TransformerEncoderLayer \uac1c\uc218\nnhead = 2 # \uba40\ud2f0\ud5e4\ub4dc \uc5b4\ud150\uc158(multi-head attention) \ubaa8\ub378\uc758 \ud5e4\ub4dc \uac1c\uc218\ndropout = 0.2 # \ub4dc\ub78d\uc544\uc6c3(dropout) \uac12\nmodel = TransformerModel(ntokens, emsize, nhead, nhid, nlayers, dropout).to(device)"
      ]
    },
    {
      "cell_type": "markdown",
      "metadata": {},
      "source": [
        "\ubaa8\ub378 \uc2e4\ud589\ud558\uae30\n-------------\n\n\n"
      ]
    },
    {
      "cell_type": "markdown",
      "metadata": {},
      "source": [
        "\uc190\uc2e4(loss) \uc744 \ucd94\uc801\ud558\ub294 \ub370\uc5d0\ub294\n`CrossEntropyLoss <https://pytorch.org/docs/master/nn.html?highlight=crossentropyloss#torch.nn.CrossEntropyLoss>`__\n\uac00 \uc801\uc6a9\ub418\uba70, \uc635\ud2f0\ub9c8\uc774\uc800(optimizer) \ub85c\uc11c\n`SGD <https://pytorch.org/docs/master/optim.html?highlight=sgd#torch.optim.SGD>`__\n\ub294 \ud655\ub960\uc801 \uacbd\uc0ac \ud558\uac15\ubc95(stochastic gradient descent method) \uc744 \uad6c\ud604\ud569\ub2c8\ub2e4.\n\ucd08\uae30 \ud559\uc2b5\ub960(learning rate) \uc740 5.0 \uc73c\ub85c \uc124\uc815\ub429\ub2c8\ub2e4.\n`StepLR <https://pytorch.org/docs/master/optim.html?highlight=steplr#torch.optim.lr_scheduler.StepLR>`__\n\uc740 \uc5d0\ud3ec\ud06c(epoch) \uc5d0 \ub530\ub77c\uc11c \ud559\uc2b5\ub960\uc744 \uc870\uc808\ud558\ub294\ub370 \uc0ac\uc6a9\ub429\ub2c8\ub2e4.\n\ud559\uc2b5\ud558\ub294 \ub3d9\uc548\uc5d0, \uc6b0\ub9ac\ub294 \uae30\uc6b8\uae30 \ud3ed\ubc1c(gradient exploding) \uc744 \ubc29\uc9c0\ud558\uae30 \uc704\ud558\uc5ec \ubaa8\ub4e0 \uae30\uc6b8\uae30\ub97c \ud568\uaed8 \uc2a4\ucf00\uc77c(scale) \ud558\ub294 \ud568\uc218\uc778\n`nn.utils.clip_grad_norm\\_ <https://pytorch.org/docs/master/nn.html?highlight=nn%20utils%20clip_grad_norm#torch.nn.utils.clip_grad_norm_>`__\n\uc744 \uc774\uc6a9\ud569\ub2c8\ub2e4.\n\n\n"
      ]
    },
    {
      "cell_type": "code",
      "execution_count": null,
      "metadata": {
        "collapsed": false
      },
      "outputs": [],
      "source": [
        "import time\n\ncriterion = nn.CrossEntropyLoss()\nlr = 5.0 # \ud559\uc2b5\ub960\noptimizer = torch.optim.SGD(model.parameters(), lr=lr)\nscheduler = torch.optim.lr_scheduler.StepLR(optimizer, 1.0, gamma=0.95)\n\ndef train():\n    model.train() # \ud559\uc2b5 \ubaa8\ub4dc\ub97c \uc2dc\uc791\ud569\ub2c8\ub2e4.\n    total_loss = 0.\n    start_time = time.time()\n    src_mask = model.generate_square_subsequent_mask(bptt).to(device)\n    for batch, i in enumerate(range(0, train_data.size(0) - 1, bptt)):\n        data, targets = get_batch(train_data, i)\n        optimizer.zero_grad()\n        if data.size(0) != bptt:\n            src_mask = model.generate_square_subsequent_mask(data.size(0)).to(device)\n        output = model(data, src_mask)\n        loss = criterion(output.view(-1, ntokens), targets)\n        loss.backward()\n        torch.nn.utils.clip_grad_norm_(model.parameters(), 0.5)\n        optimizer.step()\n\n        total_loss += loss.item()\n        log_interval = 200\n        if batch % log_interval == 0 and batch > 0:\n            cur_loss = total_loss / log_interval\n            elapsed = time.time() - start_time\n            print('| epoch {:3d} | {:5d}/{:5d} batches | '\n                  'lr {:02.2f} | ms/batch {:5.2f} | '\n                  'loss {:5.2f} | ppl {:8.2f}'.format(\n                    epoch, batch, len(train_data) // bptt, scheduler.get_last_lr()[0],\n                    elapsed * 1000 / log_interval,\n                    cur_loss, math.exp(cur_loss)))\n            total_loss = 0\n            start_time = time.time()\n\ndef evaluate(eval_model, data_source):\n    eval_model.eval() # \ud3c9\uac00 \ubaa8\ub4dc\ub97c \uc2dc\uc791\ud569\ub2c8\ub2e4.\n    total_loss = 0.\n    src_mask = model.generate_square_subsequent_mask(bptt).to(device)\n    with torch.no_grad():\n        for i in range(0, data_source.size(0) - 1, bptt):\n            data, targets = get_batch(data_source, i)\n            if data.size(0) != bptt:\n                src_mask = model.generate_square_subsequent_mask(data.size(0)).to(device)\n            output = eval_model(data, src_mask)\n            output_flat = output.view(-1, ntokens)\n            total_loss += len(data) * criterion(output_flat, targets).item()\n    return total_loss / (len(data_source) - 1)"
      ]
    },
    {
      "cell_type": "markdown",
      "metadata": {},
      "source": [
        "\uc5d0\ud3ec\ud06c \ub0b4\uc5d0\uc11c \ubc18\ubcf5\ub429\ub2c8\ub2e4. \ub9cc\uc57d \uac80\uc99d \uc624\ucc28(validation loss) \uac00 \uc6b0\ub9ac\uac00 \uc9c0\uae08\uae4c\uc9c0 \uad00\ucc30\ud55c \uac83 \uc911 \ucd5c\uc801\uc774\ub77c\uba74 \ubaa8\ub378\uc744 \uc800\uc7a5\ud569\ub2c8\ub2e4.\n\ub9e4 \uc5d0\ud3ec\ud06c \uc774\ud6c4\uc5d0 \ud559\uc2b5\ub960\uc744 \uc870\uc808\ud569\ub2c8\ub2e4.\n\n"
      ]
    },
    {
      "cell_type": "code",
      "execution_count": null,
      "metadata": {
        "collapsed": false
      },
      "outputs": [],
      "source": [
        "best_val_loss = float(\"inf\")\nepochs = 3 # \uc5d0\ud3ec\ud06c \uc218\nbest_model = None\n\nfor epoch in range(1, epochs + 1):\n    epoch_start_time = time.time()\n    train()\n    val_loss = evaluate(model, val_data)\n    print('-' * 89)\n    print('| end of epoch {:3d} | time: {:5.2f}s | valid loss {:5.2f} | '\n          'valid ppl {:8.2f}'.format(epoch, (time.time() - epoch_start_time),\n                                     val_loss, math.exp(val_loss)))\n    print('-' * 89)\n\n    if val_loss < best_val_loss:\n        best_val_loss = val_loss\n        best_model = model\n\n    scheduler.step()"
      ]
    },
    {
      "cell_type": "markdown",
      "metadata": {},
      "source": [
        "\ud3c9\uac00 \ub370\uc774\ud130\uc14b(test dataset)\uc73c\ub85c \ubaa8\ub378\uc744 \ud3c9\uac00\ud558\uae30\n-------------------------------------------------\n\n\ud3c9\uac00 \ub370\uc774\ud130\uc14b\uc5d0 \ub300\ud55c \uacb0\uacfc\ub97c \ud655\uc778\ud558\uae30 \uc704\ud574\uc11c \ucd5c\uace0\uc758 \ubaa8\ub378\uc744 \uc801\uc6a9\ud569\ub2c8\ub2e4.\n\n"
      ]
    },
    {
      "cell_type": "code",
      "execution_count": null,
      "metadata": {
        "collapsed": false
      },
      "outputs": [],
      "source": [
        "test_loss = evaluate(best_model, test_data)\nprint('=' * 89)\nprint('| End of training | test loss {:5.2f} | test ppl {:8.2f}'.format(\n    test_loss, math.exp(test_loss)))\nprint('=' * 89)"
      ]
    }
  ],
  "metadata": {
    "kernelspec": {
      "display_name": "Python 3",
      "language": "python",
      "name": "python3"
    },
    "language_info": {
      "codemirror_mode": {
        "name": "ipython",
        "version": 3
      },
      "file_extension": ".py",
      "mimetype": "text/x-python",
      "name": "python",
      "nbconvert_exporter": "python",
      "pygments_lexer": "ipython3",
      "version": "3.8.8"
    }
  },
  "nbformat": 4,
  "nbformat_minor": 0
}