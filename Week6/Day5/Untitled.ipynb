{
 "cells": [
  {
   "cell_type": "markdown",
   "id": "increasing-tribe",
   "metadata": {},
   "source": [
    "# ML 기초 실습 과제"
   ]
  },
  {
   "cell_type": "markdown",
   "id": "czech-liver",
   "metadata": {},
   "source": [
    "## 문제설명\n",
    "  - 이번 과제를 통해 여러분은 음식배달 서비스(배민, 쿠팡이츠 등)를 위한 예측모델을 만들게 될 것입니다!\n",
    "  - 이 모델이 예측하는 값은 “음식배달에 걸리는 시간\"입니다. 배달시간을 정확하게 예측하는 것은 사용자의 경험에 많은 영향을 미치게 됩니다.\n",
    "  - 예측된 배달시간보다 실제 배달시간이 더 걸린 경우(under-prediction)가 반대의 경우(over-prediction)보다 두 배로 사용자의 경험에 안 좋은 영향을 준다고 알려져 있습니다.\n",
    "  - 가능한 실제 배달시간과 가까운 값을 예측하되 동시에 under-prediction을 최소화하는 것이 좋은 예측모델입니다."
   ]
  },
  {
   "cell_type": "markdown",
   "id": "charged-backup",
   "metadata": {},
   "source": [
    "### 학습/테스트 데이터\n",
    "  - 파일 “predict_delivery_time.txt”는 다음과 같은 속성들을 가지고 있습니다.\n",
    "  - Restaurant, Location, Cuisines, AverageCost, MinimumOrder, Rating, Votes, Reviews 속성들을 모델의 입력속성으로 사용하세요.\n",
    "  - 모델의 학습목표는 DeliveryTime입니다.\n",
    "  - 이 데이터에서 랜덤하게 20%를 추출해서 테스트 데이터로 사용하고 나머지는 학습데이터로 사용하세요."
   ]
  },
  {
   "cell_type": "markdown",
   "id": "focal-village",
   "metadata": {},
   "source": [
    "![image.png](image/1.png)"
   ]
  },
  {
   "cell_type": "markdown",
   "id": "aging-philip",
   "metadata": {},
   "source": [
    "### 제출할 결과물\n",
    "  - 간단한 요약문\n",
    "  - 데이터 전처리와 속성 생성에 대한 간단한 설명\n",
    "  - 학습을 위해서 어떤 모델을 사용했는지 그리고 어떠한 손실함수를 사용했는지를 간단히 설명\n",
    "  - 테스트 데이터에 대한 평가지표들 (아래 두가지를 반드시 포함할 것)\n",
    "  - Mean Absolute Error (MAE)\n",
    "  - Under-prediction의 비율 (under-prediction 개수 / 테스트 데이터의 샘플수)\n",
    "  - 모델 학습에 사용한 Jupyter notebook 파일"
   ]
  },
  {
   "cell_type": "markdown",
   "id": "scenic-virtue",
   "metadata": {},
   "source": [
    "# 실습"
   ]
  },
  {
   "cell_type": "markdown",
   "id": "genetic-blond",
   "metadata": {},
   "source": [
    "## 데이터 준비 "
   ]
  },
  {
   "cell_type": "code",
   "execution_count": 1,
   "id": "basic-internet",
   "metadata": {
    "ExecuteTime": {
     "end_time": "2021-06-06T06:25:57.357144Z",
     "start_time": "2021-06-06T06:25:50.477111Z"
    }
   },
   "outputs": [],
   "source": [
    "import numpy as np\n",
    "import pandas as pd\n",
    "import matplotlib.pyplot as plt\n",
    "import seaborn as sns\n",
    "\n",
    "%matplotlib inline"
   ]
  },
  {
   "cell_type": "code",
   "execution_count": 2,
   "id": "impressed-leisure",
   "metadata": {
    "ExecuteTime": {
     "end_time": "2021-06-06T06:25:57.469134Z",
     "start_time": "2021-06-06T06:25:57.357144Z"
    }
   },
   "outputs": [
    {
     "data": {
      "text/html": [
       "<div>\n",
       "<style scoped>\n",
       "    .dataframe tbody tr th:only-of-type {\n",
       "        vertical-align: middle;\n",
       "    }\n",
       "\n",
       "    .dataframe tbody tr th {\n",
       "        vertical-align: top;\n",
       "    }\n",
       "\n",
       "    .dataframe thead th {\n",
       "        text-align: right;\n",
       "    }\n",
       "</style>\n",
       "<table border=\"1\" class=\"dataframe\">\n",
       "  <thead>\n",
       "    <tr style=\"text-align: right;\">\n",
       "      <th></th>\n",
       "      <th>Restaurant</th>\n",
       "      <th>Location</th>\n",
       "      <th>Cuisines</th>\n",
       "      <th>AverageCost</th>\n",
       "      <th>MinimumOrder</th>\n",
       "      <th>Rating</th>\n",
       "      <th>Votes</th>\n",
       "      <th>Reviews</th>\n",
       "      <th>DeliveryTime</th>\n",
       "    </tr>\n",
       "  </thead>\n",
       "  <tbody>\n",
       "    <tr>\n",
       "      <th>0</th>\n",
       "      <td>ID6321</td>\n",
       "      <td>FTI College, Law College Road, Pune</td>\n",
       "      <td>Fast Food, Rolls, Burger, Salad, Wraps</td>\n",
       "      <td>200</td>\n",
       "      <td>50</td>\n",
       "      <td>3.5</td>\n",
       "      <td>12.0</td>\n",
       "      <td>4.0</td>\n",
       "      <td>30</td>\n",
       "    </tr>\n",
       "    <tr>\n",
       "      <th>1</th>\n",
       "      <td>ID2882</td>\n",
       "      <td>Sector 3, Marathalli</td>\n",
       "      <td>Ice Cream, Desserts</td>\n",
       "      <td>100</td>\n",
       "      <td>50</td>\n",
       "      <td>3.5</td>\n",
       "      <td>11.0</td>\n",
       "      <td>4.0</td>\n",
       "      <td>30</td>\n",
       "    </tr>\n",
       "    <tr>\n",
       "      <th>2</th>\n",
       "      <td>ID1595</td>\n",
       "      <td>Mumbai Central</td>\n",
       "      <td>Italian, Street Food, Fast Food</td>\n",
       "      <td>150</td>\n",
       "      <td>50</td>\n",
       "      <td>3.6</td>\n",
       "      <td>99.0</td>\n",
       "      <td>30.0</td>\n",
       "      <td>65</td>\n",
       "    </tr>\n",
       "    <tr>\n",
       "      <th>3</th>\n",
       "      <td>ID5929</td>\n",
       "      <td>Sector 1, Noida</td>\n",
       "      <td>Mughlai, North Indian, Chinese</td>\n",
       "      <td>250</td>\n",
       "      <td>99</td>\n",
       "      <td>3.7</td>\n",
       "      <td>176.0</td>\n",
       "      <td>95.0</td>\n",
       "      <td>30</td>\n",
       "    </tr>\n",
       "    <tr>\n",
       "      <th>4</th>\n",
       "      <td>ID6123</td>\n",
       "      <td>Rmz Centennial, I Gate, Whitefield</td>\n",
       "      <td>Cafe, Beverages</td>\n",
       "      <td>200</td>\n",
       "      <td>99</td>\n",
       "      <td>3.2</td>\n",
       "      <td>521.0</td>\n",
       "      <td>235.0</td>\n",
       "      <td>65</td>\n",
       "    </tr>\n",
       "    <tr>\n",
       "      <th>...</th>\n",
       "      <td>...</td>\n",
       "      <td>...</td>\n",
       "      <td>...</td>\n",
       "      <td>...</td>\n",
       "      <td>...</td>\n",
       "      <td>...</td>\n",
       "      <td>...</td>\n",
       "      <td>...</td>\n",
       "      <td>...</td>\n",
       "    </tr>\n",
       "    <tr>\n",
       "      <th>11089</th>\n",
       "      <td>ID8067</td>\n",
       "      <td>BTM Layout 1, Electronic City</td>\n",
       "      <td>Tibetan, Chinese, Continental, Momos</td>\n",
       "      <td>250</td>\n",
       "      <td>50</td>\n",
       "      <td>4.2</td>\n",
       "      <td>326.0</td>\n",
       "      <td>189.0</td>\n",
       "      <td>30</td>\n",
       "    </tr>\n",
       "    <tr>\n",
       "      <th>11090</th>\n",
       "      <td>ID4620</td>\n",
       "      <td>Sector 14, Noida</td>\n",
       "      <td>Fast Food</td>\n",
       "      <td>100</td>\n",
       "      <td>50</td>\n",
       "      <td>3.6</td>\n",
       "      <td>36.0</td>\n",
       "      <td>16.0</td>\n",
       "      <td>30</td>\n",
       "    </tr>\n",
       "    <tr>\n",
       "      <th>11091</th>\n",
       "      <td>ID3392</td>\n",
       "      <td>Majestic</td>\n",
       "      <td>South Indian, Chinese, North Indian</td>\n",
       "      <td>100</td>\n",
       "      <td>50</td>\n",
       "      <td>3.5</td>\n",
       "      <td>45.0</td>\n",
       "      <td>18.0</td>\n",
       "      <td>30</td>\n",
       "    </tr>\n",
       "    <tr>\n",
       "      <th>11092</th>\n",
       "      <td>ID4115</td>\n",
       "      <td>Sector 3, Marathalli</td>\n",
       "      <td>North Indian</td>\n",
       "      <td>100</td>\n",
       "      <td>50</td>\n",
       "      <td>3.1</td>\n",
       "      <td>24.0</td>\n",
       "      <td>9.0</td>\n",
       "      <td>30</td>\n",
       "    </tr>\n",
       "    <tr>\n",
       "      <th>11093</th>\n",
       "      <td>ID4417</td>\n",
       "      <td>Sector 63A,Gurgaon</td>\n",
       "      <td>North Indian</td>\n",
       "      <td>100</td>\n",
       "      <td>50</td>\n",
       "      <td>NEW</td>\n",
       "      <td>NaN</td>\n",
       "      <td>NaN</td>\n",
       "      <td>30</td>\n",
       "    </tr>\n",
       "  </tbody>\n",
       "</table>\n",
       "<p>11094 rows × 9 columns</p>\n",
       "</div>"
      ],
      "text/plain": [
       "      Restaurant                             Location  \\\n",
       "0         ID6321  FTI College, Law College Road, Pune   \n",
       "1         ID2882                 Sector 3, Marathalli   \n",
       "2         ID1595                       Mumbai Central   \n",
       "3         ID5929                      Sector 1, Noida   \n",
       "4         ID6123   Rmz Centennial, I Gate, Whitefield   \n",
       "...          ...                                  ...   \n",
       "11089     ID8067        BTM Layout 1, Electronic City   \n",
       "11090     ID4620                     Sector 14, Noida   \n",
       "11091     ID3392                             Majestic   \n",
       "11092     ID4115                 Sector 3, Marathalli   \n",
       "11093     ID4417                   Sector 63A,Gurgaon   \n",
       "\n",
       "                                     Cuisines AverageCost  MinimumOrder  \\\n",
       "0      Fast Food, Rolls, Burger, Salad, Wraps         200            50   \n",
       "1                         Ice Cream, Desserts         100            50   \n",
       "2             Italian, Street Food, Fast Food         150            50   \n",
       "3              Mughlai, North Indian, Chinese         250            99   \n",
       "4                             Cafe, Beverages         200            99   \n",
       "...                                       ...         ...           ...   \n",
       "11089    Tibetan, Chinese, Continental, Momos         250            50   \n",
       "11090                               Fast Food         100            50   \n",
       "11091     South Indian, Chinese, North Indian         100            50   \n",
       "11092                            North Indian         100            50   \n",
       "11093                            North Indian         100            50   \n",
       "\n",
       "      Rating  Votes  Reviews  DeliveryTime  \n",
       "0        3.5   12.0      4.0            30  \n",
       "1        3.5   11.0      4.0            30  \n",
       "2        3.6   99.0     30.0            65  \n",
       "3        3.7  176.0     95.0            30  \n",
       "4        3.2  521.0    235.0            65  \n",
       "...      ...    ...      ...           ...  \n",
       "11089    4.2  326.0    189.0            30  \n",
       "11090    3.6   36.0     16.0            30  \n",
       "11091    3.5   45.0     18.0            30  \n",
       "11092    3.1   24.0      9.0            30  \n",
       "11093    NEW    NaN      NaN            30  \n",
       "\n",
       "[11094 rows x 9 columns]"
      ]
     },
     "execution_count": 2,
     "metadata": {},
     "output_type": "execute_result"
    }
   ],
   "source": [
    "base_df = pd.read_csv('predict_delivery_time.csv')\n",
    "base_df"
   ]
  },
  {
   "cell_type": "markdown",
   "id": "modern-purse",
   "metadata": {},
   "source": [
    "### 테스트 데이터셋 분리하기"
   ]
  },
  {
   "cell_type": "code",
   "execution_count": 3,
   "id": "swedish-trigger",
   "metadata": {
    "ExecuteTime": {
     "end_time": "2021-06-06T06:25:57.493134Z",
     "start_time": "2021-06-06T06:25:57.469134Z"
    }
   },
   "outputs": [],
   "source": [
    "np.random.seed(32)"
   ]
  },
  {
   "cell_type": "code",
   "execution_count": 4,
   "id": "available-kuwait",
   "metadata": {
    "ExecuteTime": {
     "end_time": "2021-06-06T06:25:59.124985Z",
     "start_time": "2021-06-06T06:25:57.493134Z"
    }
   },
   "outputs": [],
   "source": [
    "from sklearn.model_selection import train_test_split\n",
    "\n",
    "train_df, test_df = train_test_split(base_df, test_size=0.2, random_state=32)"
   ]
  },
  {
   "cell_type": "code",
   "execution_count": 5,
   "id": "infinite-syndicate",
   "metadata": {
    "ExecuteTime": {
     "end_time": "2021-06-06T06:25:59.140980Z",
     "start_time": "2021-06-06T06:25:59.124985Z"
    }
   },
   "outputs": [],
   "source": [
    "train_copy = train_df.copy()"
   ]
  },
  {
   "cell_type": "code",
   "execution_count": 52,
   "id": "private-railway",
   "metadata": {
    "ExecuteTime": {
     "end_time": "2021-06-06T08:10:06.285854Z",
     "start_time": "2021-06-06T08:10:06.253872Z"
    }
   },
   "outputs": [
    {
     "data": {
      "text/html": [
       "<div>\n",
       "<style scoped>\n",
       "    .dataframe tbody tr th:only-of-type {\n",
       "        vertical-align: middle;\n",
       "    }\n",
       "\n",
       "    .dataframe tbody tr th {\n",
       "        vertical-align: top;\n",
       "    }\n",
       "\n",
       "    .dataframe thead th {\n",
       "        text-align: right;\n",
       "    }\n",
       "</style>\n",
       "<table border=\"1\" class=\"dataframe\">\n",
       "  <thead>\n",
       "    <tr style=\"text-align: right;\">\n",
       "      <th></th>\n",
       "      <th>Restaurant</th>\n",
       "      <th>Location</th>\n",
       "      <th>Cuisines</th>\n",
       "      <th>AverageCost</th>\n",
       "      <th>MinimumOrder</th>\n",
       "      <th>Rating</th>\n",
       "      <th>Votes</th>\n",
       "      <th>Reviews</th>\n",
       "      <th>DeliveryTime</th>\n",
       "    </tr>\n",
       "  </thead>\n",
       "  <tbody>\n",
       "    <tr>\n",
       "      <th>8879</th>\n",
       "      <td>ID5484</td>\n",
       "      <td>Yerawada, Pune, Maharashtra</td>\n",
       "      <td>Chinese</td>\n",
       "      <td>150</td>\n",
       "      <td>50</td>\n",
       "      <td>3.5</td>\n",
       "      <td>34.0</td>\n",
       "      <td>3.0</td>\n",
       "      <td>30</td>\n",
       "    </tr>\n",
       "    <tr>\n",
       "      <th>10025</th>\n",
       "      <td>ID5454</td>\n",
       "      <td>Mico Layout, Stage 2, BTM Layout,Bangalore</td>\n",
       "      <td>North Indian</td>\n",
       "      <td>150</td>\n",
       "      <td>50</td>\n",
       "      <td>3.8</td>\n",
       "      <td>19.0</td>\n",
       "      <td>11.0</td>\n",
       "      <td>30</td>\n",
       "    </tr>\n",
       "    <tr>\n",
       "      <th>2370</th>\n",
       "      <td>ID1140</td>\n",
       "      <td>Mumbai Central</td>\n",
       "      <td>Burger, Fast Food, Beverages</td>\n",
       "      <td>200</td>\n",
       "      <td>99</td>\n",
       "      <td>3.7</td>\n",
       "      <td>1268.0</td>\n",
       "      <td>647.0</td>\n",
       "      <td>45</td>\n",
       "    </tr>\n",
       "    <tr>\n",
       "      <th>4673</th>\n",
       "      <td>ID889</td>\n",
       "      <td>DBlock, Sector 63, Noida</td>\n",
       "      <td>Biryani, Mughlai, Hyderabadi, Desserts</td>\n",
       "      <td>300</td>\n",
       "      <td>99</td>\n",
       "      <td>3.9</td>\n",
       "      <td>516.0</td>\n",
       "      <td>201.0</td>\n",
       "      <td>120</td>\n",
       "    </tr>\n",
       "    <tr>\n",
       "      <th>6185</th>\n",
       "      <td>ID2286</td>\n",
       "      <td>Delhi UniversityGTB Nagar</td>\n",
       "      <td>North Indian, Chinese</td>\n",
       "      <td>200</td>\n",
       "      <td>50</td>\n",
       "      <td>4.3</td>\n",
       "      <td>250.0</td>\n",
       "      <td>121.0</td>\n",
       "      <td>30</td>\n",
       "    </tr>\n",
       "    <tr>\n",
       "      <th>...</th>\n",
       "      <td>...</td>\n",
       "      <td>...</td>\n",
       "      <td>...</td>\n",
       "      <td>...</td>\n",
       "      <td>...</td>\n",
       "      <td>...</td>\n",
       "      <td>...</td>\n",
       "      <td>...</td>\n",
       "      <td>...</td>\n",
       "    </tr>\n",
       "    <tr>\n",
       "      <th>10328</th>\n",
       "      <td>ID4580</td>\n",
       "      <td>Yerawada, Pune, Maharashtra</td>\n",
       "      <td>Chinese, North Indian</td>\n",
       "      <td>150</td>\n",
       "      <td>50</td>\n",
       "      <td>2.9</td>\n",
       "      <td>15.0</td>\n",
       "      <td>3.0</td>\n",
       "      <td>45</td>\n",
       "    </tr>\n",
       "    <tr>\n",
       "      <th>4030</th>\n",
       "      <td>ID7615</td>\n",
       "      <td>Rmz Centennial, I Gate, Whitefield</td>\n",
       "      <td>Bakery, Desserts</td>\n",
       "      <td>200</td>\n",
       "      <td>50</td>\n",
       "      <td>NaN</td>\n",
       "      <td>NaN</td>\n",
       "      <td>NaN</td>\n",
       "      <td>30</td>\n",
       "    </tr>\n",
       "    <tr>\n",
       "      <th>9526</th>\n",
       "      <td>ID8497</td>\n",
       "      <td>Nathan Road, Mangaldas Road, Pune</td>\n",
       "      <td>Ice Cream, Desserts, Bakery, Tea</td>\n",
       "      <td>200</td>\n",
       "      <td>50</td>\n",
       "      <td>4.0</td>\n",
       "      <td>36.0</td>\n",
       "      <td>22.0</td>\n",
       "      <td>30</td>\n",
       "    </tr>\n",
       "    <tr>\n",
       "      <th>9771</th>\n",
       "      <td>ID3215</td>\n",
       "      <td>FTI College, Law College Road, Pune</td>\n",
       "      <td>Healthy Food</td>\n",
       "      <td>200</td>\n",
       "      <td>50</td>\n",
       "      <td>3.8</td>\n",
       "      <td>53.0</td>\n",
       "      <td>21.0</td>\n",
       "      <td>30</td>\n",
       "    </tr>\n",
       "    <tr>\n",
       "      <th>10967</th>\n",
       "      <td>ID1218</td>\n",
       "      <td>Pune University</td>\n",
       "      <td>Cafe, Fast Food</td>\n",
       "      <td>100</td>\n",
       "      <td>99</td>\n",
       "      <td>NaN</td>\n",
       "      <td>NaN</td>\n",
       "      <td>NaN</td>\n",
       "      <td>45</td>\n",
       "    </tr>\n",
       "  </tbody>\n",
       "</table>\n",
       "<p>8875 rows × 9 columns</p>\n",
       "</div>"
      ],
      "text/plain": [
       "      Restaurant                                    Location  \\\n",
       "8879      ID5484                 Yerawada, Pune, Maharashtra   \n",
       "10025     ID5454  Mico Layout, Stage 2, BTM Layout,Bangalore   \n",
       "2370      ID1140                              Mumbai Central   \n",
       "4673       ID889                    DBlock, Sector 63, Noida   \n",
       "6185      ID2286                   Delhi UniversityGTB Nagar   \n",
       "...          ...                                         ...   \n",
       "10328     ID4580                 Yerawada, Pune, Maharashtra   \n",
       "4030      ID7615          Rmz Centennial, I Gate, Whitefield   \n",
       "9526      ID8497           Nathan Road, Mangaldas Road, Pune   \n",
       "9771      ID3215         FTI College, Law College Road, Pune   \n",
       "10967     ID1218                             Pune University   \n",
       "\n",
       "                                     Cuisines AverageCost  MinimumOrder  \\\n",
       "8879                                  Chinese         150            50   \n",
       "10025                            North Indian         150            50   \n",
       "2370             Burger, Fast Food, Beverages         200            99   \n",
       "4673   Biryani, Mughlai, Hyderabadi, Desserts         300            99   \n",
       "6185                    North Indian, Chinese         200            50   \n",
       "...                                       ...         ...           ...   \n",
       "10328                   Chinese, North Indian         150            50   \n",
       "4030                         Bakery, Desserts         200            50   \n",
       "9526         Ice Cream, Desserts, Bakery, Tea         200            50   \n",
       "9771                             Healthy Food         200            50   \n",
       "10967                         Cafe, Fast Food         100            99   \n",
       "\n",
       "      Rating   Votes  Reviews  DeliveryTime  \n",
       "8879     3.5    34.0      3.0            30  \n",
       "10025    3.8    19.0     11.0            30  \n",
       "2370     3.7  1268.0    647.0            45  \n",
       "4673     3.9   516.0    201.0           120  \n",
       "6185     4.3   250.0    121.0            30  \n",
       "...      ...     ...      ...           ...  \n",
       "10328    2.9    15.0      3.0            45  \n",
       "4030     NaN     NaN      NaN            30  \n",
       "9526     4.0    36.0     22.0            30  \n",
       "9771     3.8    53.0     21.0            30  \n",
       "10967    NaN     NaN      NaN            45  \n",
       "\n",
       "[8875 rows x 9 columns]"
      ]
     },
     "execution_count": 52,
     "metadata": {},
     "output_type": "execute_result"
    }
   ],
   "source": [
    "train_df"
   ]
  },
  {
   "cell_type": "code",
   "execution_count": 6,
   "id": "peaceful-painting",
   "metadata": {
    "ExecuteTime": {
     "end_time": "2021-06-06T06:25:59.212974Z",
     "start_time": "2021-06-06T06:25:59.140980Z"
    }
   },
   "outputs": [
    {
     "data": {
      "text/html": [
       "<div>\n",
       "<style scoped>\n",
       "    .dataframe tbody tr th:only-of-type {\n",
       "        vertical-align: middle;\n",
       "    }\n",
       "\n",
       "    .dataframe tbody tr th {\n",
       "        vertical-align: top;\n",
       "    }\n",
       "\n",
       "    .dataframe thead th {\n",
       "        text-align: right;\n",
       "    }\n",
       "</style>\n",
       "<table border=\"1\" class=\"dataframe\">\n",
       "  <thead>\n",
       "    <tr style=\"text-align: right;\">\n",
       "      <th></th>\n",
       "      <th>Restaurant</th>\n",
       "      <th>Location</th>\n",
       "      <th>Cuisines</th>\n",
       "      <th>AverageCost</th>\n",
       "      <th>MinimumOrder</th>\n",
       "      <th>Rating</th>\n",
       "      <th>Votes</th>\n",
       "      <th>Reviews</th>\n",
       "      <th>DeliveryTime</th>\n",
       "    </tr>\n",
       "  </thead>\n",
       "  <tbody>\n",
       "    <tr>\n",
       "      <th>1624</th>\n",
       "      <td>ID4449</td>\n",
       "      <td>Delhi High Court, India Gate</td>\n",
       "      <td>North Indian, Chinese, Fast Food</td>\n",
       "      <td>150</td>\n",
       "      <td>50</td>\n",
       "      <td>2.9</td>\n",
       "      <td>83.0</td>\n",
       "      <td>35.0</td>\n",
       "      <td>45</td>\n",
       "    </tr>\n",
       "    <tr>\n",
       "      <th>1135</th>\n",
       "      <td>ID712</td>\n",
       "      <td>Sandhurst Road, Mumbai CST Area</td>\n",
       "      <td>Fast Food, Lebanese, Beverages</td>\n",
       "      <td>100</td>\n",
       "      <td>50</td>\n",
       "      <td>NEW</td>\n",
       "      <td>NaN</td>\n",
       "      <td>NaN</td>\n",
       "      <td>30</td>\n",
       "    </tr>\n",
       "    <tr>\n",
       "      <th>8778</th>\n",
       "      <td>ID522</td>\n",
       "      <td>FTI College, Law College Road, Pune</td>\n",
       "      <td>North Indian, Maharashtrian</td>\n",
       "      <td>100</td>\n",
       "      <td>50</td>\n",
       "      <td>3.5</td>\n",
       "      <td>27.0</td>\n",
       "      <td>7.0</td>\n",
       "      <td>30</td>\n",
       "    </tr>\n",
       "    <tr>\n",
       "      <th>8621</th>\n",
       "      <td>ID1071</td>\n",
       "      <td>Delhi UniversityGTB Nagar</td>\n",
       "      <td>South Indian, North Indian, Continental, Chinese</td>\n",
       "      <td>200</td>\n",
       "      <td>50</td>\n",
       "      <td>3.5</td>\n",
       "      <td>551.0</td>\n",
       "      <td>75.0</td>\n",
       "      <td>45</td>\n",
       "    </tr>\n",
       "    <tr>\n",
       "      <th>10651</th>\n",
       "      <td>ID1251</td>\n",
       "      <td>Sector 1, Noida</td>\n",
       "      <td>Fast Food</td>\n",
       "      <td>200</td>\n",
       "      <td>50</td>\n",
       "      <td>NaN</td>\n",
       "      <td>NaN</td>\n",
       "      <td>NaN</td>\n",
       "      <td>30</td>\n",
       "    </tr>\n",
       "    <tr>\n",
       "      <th>...</th>\n",
       "      <td>...</td>\n",
       "      <td>...</td>\n",
       "      <td>...</td>\n",
       "      <td>...</td>\n",
       "      <td>...</td>\n",
       "      <td>...</td>\n",
       "      <td>...</td>\n",
       "      <td>...</td>\n",
       "      <td>...</td>\n",
       "    </tr>\n",
       "    <tr>\n",
       "      <th>5378</th>\n",
       "      <td>ID7654</td>\n",
       "      <td>Moulali, Kolkata</td>\n",
       "      <td>Cafe, Beverages</td>\n",
       "      <td>250</td>\n",
       "      <td>50</td>\n",
       "      <td>4.0</td>\n",
       "      <td>589.0</td>\n",
       "      <td>346.0</td>\n",
       "      <td>45</td>\n",
       "    </tr>\n",
       "    <tr>\n",
       "      <th>735</th>\n",
       "      <td>ID6444</td>\n",
       "      <td>Rmz Centennial, I Gate, Whitefield</td>\n",
       "      <td>Street Food, Fast Food</td>\n",
       "      <td>100</td>\n",
       "      <td>50</td>\n",
       "      <td>3.8</td>\n",
       "      <td>280.0</td>\n",
       "      <td>76.0</td>\n",
       "      <td>45</td>\n",
       "    </tr>\n",
       "    <tr>\n",
       "      <th>5248</th>\n",
       "      <td>ID54</td>\n",
       "      <td>Sandhurst Road, Mumbai CST Area</td>\n",
       "      <td>Ice Cream, Beverages</td>\n",
       "      <td>150</td>\n",
       "      <td>50</td>\n",
       "      <td>3.6</td>\n",
       "      <td>60.0</td>\n",
       "      <td>34.0</td>\n",
       "      <td>45</td>\n",
       "    </tr>\n",
       "    <tr>\n",
       "      <th>9447</th>\n",
       "      <td>ID4372</td>\n",
       "      <td>Dockyard Road, Mumbai CST Area</td>\n",
       "      <td>Desserts, Beverages</td>\n",
       "      <td>100</td>\n",
       "      <td>50</td>\n",
       "      <td>3.2</td>\n",
       "      <td>4.0</td>\n",
       "      <td>2.0</td>\n",
       "      <td>30</td>\n",
       "    </tr>\n",
       "    <tr>\n",
       "      <th>9072</th>\n",
       "      <td>ID374</td>\n",
       "      <td>Pune University</td>\n",
       "      <td>Maharashtrian</td>\n",
       "      <td>100</td>\n",
       "      <td>50</td>\n",
       "      <td>NaN</td>\n",
       "      <td>NaN</td>\n",
       "      <td>NaN</td>\n",
       "      <td>30</td>\n",
       "    </tr>\n",
       "  </tbody>\n",
       "</table>\n",
       "<p>2219 rows × 9 columns</p>\n",
       "</div>"
      ],
      "text/plain": [
       "      Restaurant                             Location  \\\n",
       "1624      ID4449         Delhi High Court, India Gate   \n",
       "1135       ID712      Sandhurst Road, Mumbai CST Area   \n",
       "8778       ID522  FTI College, Law College Road, Pune   \n",
       "8621      ID1071            Delhi UniversityGTB Nagar   \n",
       "10651     ID1251                      Sector 1, Noida   \n",
       "...          ...                                  ...   \n",
       "5378      ID7654                     Moulali, Kolkata   \n",
       "735       ID6444   Rmz Centennial, I Gate, Whitefield   \n",
       "5248        ID54      Sandhurst Road, Mumbai CST Area   \n",
       "9447      ID4372       Dockyard Road, Mumbai CST Area   \n",
       "9072       ID374                      Pune University   \n",
       "\n",
       "                                               Cuisines AverageCost  \\\n",
       "1624                   North Indian, Chinese, Fast Food         150   \n",
       "1135                     Fast Food, Lebanese, Beverages         100   \n",
       "8778                        North Indian, Maharashtrian         100   \n",
       "8621   South Indian, North Indian, Continental, Chinese         200   \n",
       "10651                                         Fast Food         200   \n",
       "...                                                 ...         ...   \n",
       "5378                                    Cafe, Beverages         250   \n",
       "735                              Street Food, Fast Food         100   \n",
       "5248                               Ice Cream, Beverages         150   \n",
       "9447                                Desserts, Beverages         100   \n",
       "9072                                      Maharashtrian         100   \n",
       "\n",
       "       MinimumOrder Rating  Votes  Reviews  DeliveryTime  \n",
       "1624             50    2.9   83.0     35.0            45  \n",
       "1135             50    NEW    NaN      NaN            30  \n",
       "8778             50    3.5   27.0      7.0            30  \n",
       "8621             50    3.5  551.0     75.0            45  \n",
       "10651            50    NaN    NaN      NaN            30  \n",
       "...             ...    ...    ...      ...           ...  \n",
       "5378             50    4.0  589.0    346.0            45  \n",
       "735              50    3.8  280.0     76.0            45  \n",
       "5248             50    3.6   60.0     34.0            45  \n",
       "9447             50    3.2    4.0      2.0            30  \n",
       "9072             50    NaN    NaN      NaN            30  \n",
       "\n",
       "[2219 rows x 9 columns]"
      ]
     },
     "execution_count": 6,
     "metadata": {},
     "output_type": "execute_result"
    }
   ],
   "source": [
    "test_df"
   ]
  },
  {
   "cell_type": "markdown",
   "id": "right-steal",
   "metadata": {},
   "source": [
    "## 데이터 훑어보기 "
   ]
  },
  {
   "cell_type": "code",
   "execution_count": 7,
   "id": "damaged-lucas",
   "metadata": {
    "ExecuteTime": {
     "end_time": "2021-06-06T06:25:59.276971Z",
     "start_time": "2021-06-06T06:25:59.220973Z"
    }
   },
   "outputs": [
    {
     "name": "stdout",
     "output_type": "stream",
     "text": [
      "<class 'pandas.core.frame.DataFrame'>\n",
      "Int64Index: 8875 entries, 8879 to 10967\n",
      "Data columns (total 9 columns):\n",
      " #   Column        Non-Null Count  Dtype  \n",
      "---  ------        --------------  -----  \n",
      " 0   Restaurant    8875 non-null   object \n",
      " 1   Location      8875 non-null   object \n",
      " 2   Cuisines      8875 non-null   object \n",
      " 3   AverageCost   8875 non-null   object \n",
      " 4   MinimumOrder  8875 non-null   int64  \n",
      " 5   Rating        7908 non-null   object \n",
      " 6   Votes         7209 non-null   float64\n",
      " 7   Reviews       7022 non-null   float64\n",
      " 8   DeliveryTime  8875 non-null   int64  \n",
      "dtypes: float64(2), int64(2), object(5)\n",
      "memory usage: 693.4+ KB\n"
     ]
    }
   ],
   "source": [
    "train_df.info()"
   ]
  },
  {
   "cell_type": "markdown",
   "id": "delayed-phase",
   "metadata": {
    "heading_collapsed": true
   },
   "source": [
    "#### AverageCost Column 확인\n",
    "  - 'for' 값 NaN으로 처리하기\n",
    "  - 숫자형 자료로 변환하기"
   ]
  },
  {
   "cell_type": "code",
   "execution_count": 8,
   "id": "white-timer",
   "metadata": {
    "ExecuteTime": {
     "end_time": "2021-06-06T06:25:59.316967Z",
     "start_time": "2021-06-06T06:25:59.284967Z"
    },
    "hidden": true
   },
   "outputs": [
    {
     "data": {
      "text/plain": [
       "200      2599\n",
       "100      2035\n",
       "150      1968\n",
       "250       695\n",
       "300       433\n",
       "400       236\n",
       "350       222\n",
       "50        209\n",
       "600       124\n",
       "500        79\n",
       "450        52\n",
       "550        52\n",
       "650        38\n",
       "800        38\n",
       "750        33\n",
       "700        13\n",
       "900        12\n",
       "850        11\n",
       "1,000      11\n",
       "1,200       6\n",
       "950         4\n",
       "1,100       1\n",
       "1,400       1\n",
       "2,050       1\n",
       "1,150       1\n",
       "for         1\n",
       "Name: AverageCost, dtype: int64"
      ]
     },
     "execution_count": 8,
     "metadata": {},
     "output_type": "execute_result"
    }
   ],
   "source": [
    "train_df['AverageCost'].value_counts()"
   ]
  },
  {
   "cell_type": "markdown",
   "id": "sharp-cargo",
   "metadata": {
    "heading_collapsed": true
   },
   "source": [
    "#### Rating Column 확인\n",
    "  - NEW : 새로생긴 가게여서 아직 레이팅이 매겨지지 않은 상태\n",
    "  - Opening Soon : 아직 개업하지 않은 상태\n",
    "  - Temporarily Closed : 임시휴업 상태\n",
    "  - 3 항목을 NaN으로 처리하기\n",
    "  - 숫자형 자료로 변환하기"
   ]
  },
  {
   "cell_type": "code",
   "execution_count": 9,
   "id": "vital-policy",
   "metadata": {
    "ExecuteTime": {
     "end_time": "2021-06-06T06:25:59.340964Z",
     "start_time": "2021-06-06T06:25:59.316967Z"
    },
    "hidden": true
   },
   "outputs": [
    {
     "data": {
      "text/plain": [
       "3.7                   696\n",
       "3.6                   671\n",
       "3.5                   641\n",
       "3.8                   626\n",
       "NEW                   602\n",
       "3.9                   591\n",
       "3.4                   578\n",
       "3.3                   531\n",
       "4.0                   490\n",
       "3.2                   425\n",
       "4.1                   379\n",
       "3.1                   326\n",
       "3.0                   249\n",
       "4.2                   216\n",
       "4.3                   202\n",
       "2.9                   163\n",
       "2.8                   126\n",
       "4.4                   113\n",
       "2.7                    62\n",
       "4.5                    59\n",
       "2.6                    33\n",
       "4.6                    33\n",
       "4.7                    31\n",
       "2.5                    22\n",
       "2.4                    10\n",
       "Opening Soon            9\n",
       "4.8                     8\n",
       "4.9                     7\n",
       "2.3                     6\n",
       "Temporarily Closed      1\n",
       "2.1                     1\n",
       "2.2                     1\n",
       "Name: Rating, dtype: int64"
      ]
     },
     "execution_count": 9,
     "metadata": {},
     "output_type": "execute_result"
    }
   ],
   "source": [
    "train_df['Rating'].value_counts()"
   ]
  },
  {
   "cell_type": "markdown",
   "id": "necessary-soccer",
   "metadata": {},
   "source": [
    "### 숫자형 정보 요약"
   ]
  },
  {
   "cell_type": "markdown",
   "id": "oriented-wichita",
   "metadata": {},
   "source": [
    "#### Describe"
   ]
  },
  {
   "cell_type": "code",
   "execution_count": 10,
   "id": "mexican-antenna",
   "metadata": {
    "ExecuteTime": {
     "end_time": "2021-06-06T06:25:59.388962Z",
     "start_time": "2021-06-06T06:25:59.340964Z"
    }
   },
   "outputs": [
    {
     "data": {
      "text/html": [
       "<div>\n",
       "<style scoped>\n",
       "    .dataframe tbody tr th:only-of-type {\n",
       "        vertical-align: middle;\n",
       "    }\n",
       "\n",
       "    .dataframe tbody tr th {\n",
       "        vertical-align: top;\n",
       "    }\n",
       "\n",
       "    .dataframe thead th {\n",
       "        text-align: right;\n",
       "    }\n",
       "</style>\n",
       "<table border=\"1\" class=\"dataframe\">\n",
       "  <thead>\n",
       "    <tr style=\"text-align: right;\">\n",
       "      <th></th>\n",
       "      <th>MinimumOrder</th>\n",
       "      <th>Votes</th>\n",
       "      <th>Reviews</th>\n",
       "      <th>DeliveryTime</th>\n",
       "    </tr>\n",
       "  </thead>\n",
       "  <tbody>\n",
       "    <tr>\n",
       "      <th>count</th>\n",
       "      <td>8875.000000</td>\n",
       "      <td>7209.000000</td>\n",
       "      <td>7022.000000</td>\n",
       "      <td>8875.000000</td>\n",
       "    </tr>\n",
       "    <tr>\n",
       "      <th>mean</th>\n",
       "      <td>53.434817</td>\n",
       "      <td>244.562907</td>\n",
       "      <td>124.258901</td>\n",
       "      <td>37.063099</td>\n",
       "    </tr>\n",
       "    <tr>\n",
       "      <th>std</th>\n",
       "      <td>19.078793</td>\n",
       "      <td>562.290962</td>\n",
       "      <td>327.547527</td>\n",
       "      <td>12.458969</td>\n",
       "    </tr>\n",
       "    <tr>\n",
       "      <th>min</th>\n",
       "      <td>0.000000</td>\n",
       "      <td>3.000000</td>\n",
       "      <td>1.000000</td>\n",
       "      <td>10.000000</td>\n",
       "    </tr>\n",
       "    <tr>\n",
       "      <th>25%</th>\n",
       "      <td>50.000000</td>\n",
       "      <td>19.000000</td>\n",
       "      <td>7.000000</td>\n",
       "      <td>30.000000</td>\n",
       "    </tr>\n",
       "    <tr>\n",
       "      <th>50%</th>\n",
       "      <td>50.000000</td>\n",
       "      <td>62.000000</td>\n",
       "      <td>26.000000</td>\n",
       "      <td>30.000000</td>\n",
       "    </tr>\n",
       "    <tr>\n",
       "      <th>75%</th>\n",
       "      <td>50.000000</td>\n",
       "      <td>211.000000</td>\n",
       "      <td>90.000000</td>\n",
       "      <td>45.000000</td>\n",
       "    </tr>\n",
       "    <tr>\n",
       "      <th>max</th>\n",
       "      <td>500.000000</td>\n",
       "      <td>9054.000000</td>\n",
       "      <td>6504.000000</td>\n",
       "      <td>120.000000</td>\n",
       "    </tr>\n",
       "  </tbody>\n",
       "</table>\n",
       "</div>"
      ],
      "text/plain": [
       "       MinimumOrder        Votes      Reviews  DeliveryTime\n",
       "count   8875.000000  7209.000000  7022.000000   8875.000000\n",
       "mean      53.434817   244.562907   124.258901     37.063099\n",
       "std       19.078793   562.290962   327.547527     12.458969\n",
       "min        0.000000     3.000000     1.000000     10.000000\n",
       "25%       50.000000    19.000000     7.000000     30.000000\n",
       "50%       50.000000    62.000000    26.000000     30.000000\n",
       "75%       50.000000   211.000000    90.000000     45.000000\n",
       "max      500.000000  9054.000000  6504.000000    120.000000"
      ]
     },
     "execution_count": 10,
     "metadata": {},
     "output_type": "execute_result"
    }
   ],
   "source": [
    "train_df.describe()"
   ]
  },
  {
   "cell_type": "markdown",
   "id": "tamil-nudist",
   "metadata": {},
   "source": [
    "#### 히스토그램 "
   ]
  },
  {
   "cell_type": "code",
   "execution_count": 11,
   "id": "tutorial-status",
   "metadata": {
    "ExecuteTime": {
     "end_time": "2021-06-06T06:26:00.649378Z",
     "start_time": "2021-06-06T06:25:59.388962Z"
    }
   },
   "outputs": [
    {
     "data": {
      "image/png": "[encoded data removed]",
      "text/plain": [
       "<Figure size 1440x1080 with 4 Axes>"
      ]
     },
     "metadata": {
      "needs_background": "light"
     },
     "output_type": "display_data"
    }
   ],
   "source": [
    "train_df.hist(bins=50, figsize=(20,15))\n",
    "\n",
    "plt.show()"
   ]
  },
  {
   "cell_type": "markdown",
   "id": "educational-tracker",
   "metadata": {},
   "source": [
    "#### 상관계수 확인 "
   ]
  },
  {
   "cell_type": "code",
   "execution_count": 12,
   "id": "worldwide-challenge",
   "metadata": {
    "ExecuteTime": {
     "end_time": "2021-06-06T06:26:00.673374Z",
     "start_time": "2021-06-06T06:26:00.649378Z"
    }
   },
   "outputs": [
    {
     "data": {
      "text/html": [
       "<div>\n",
       "<style scoped>\n",
       "    .dataframe tbody tr th:only-of-type {\n",
       "        vertical-align: middle;\n",
       "    }\n",
       "\n",
       "    .dataframe tbody tr th {\n",
       "        vertical-align: top;\n",
       "    }\n",
       "\n",
       "    .dataframe thead th {\n",
       "        text-align: right;\n",
       "    }\n",
       "</style>\n",
       "<table border=\"1\" class=\"dataframe\">\n",
       "  <thead>\n",
       "    <tr style=\"text-align: right;\">\n",
       "      <th></th>\n",
       "      <th>MinimumOrder</th>\n",
       "      <th>Votes</th>\n",
       "      <th>Reviews</th>\n",
       "      <th>DeliveryTime</th>\n",
       "    </tr>\n",
       "  </thead>\n",
       "  <tbody>\n",
       "    <tr>\n",
       "      <th>MinimumOrder</th>\n",
       "      <td>1.000000</td>\n",
       "      <td>0.126582</td>\n",
       "      <td>0.125373</td>\n",
       "      <td>0.258347</td>\n",
       "    </tr>\n",
       "    <tr>\n",
       "      <th>Votes</th>\n",
       "      <td>0.126582</td>\n",
       "      <td>1.000000</td>\n",
       "      <td>0.965128</td>\n",
       "      <td>0.201321</td>\n",
       "    </tr>\n",
       "    <tr>\n",
       "      <th>Reviews</th>\n",
       "      <td>0.125373</td>\n",
       "      <td>0.965128</td>\n",
       "      <td>1.000000</td>\n",
       "      <td>0.173577</td>\n",
       "    </tr>\n",
       "    <tr>\n",
       "      <th>DeliveryTime</th>\n",
       "      <td>0.258347</td>\n",
       "      <td>0.201321</td>\n",
       "      <td>0.173577</td>\n",
       "      <td>1.000000</td>\n",
       "    </tr>\n",
       "  </tbody>\n",
       "</table>\n",
       "</div>"
      ],
      "text/plain": [
       "              MinimumOrder     Votes   Reviews  DeliveryTime\n",
       "MinimumOrder      1.000000  0.126582  0.125373      0.258347\n",
       "Votes             0.126582  1.000000  0.965128      0.201321\n",
       "Reviews           0.125373  0.965128  1.000000      0.173577\n",
       "DeliveryTime      0.258347  0.201321  0.173577      1.000000"
      ]
     },
     "execution_count": 12,
     "metadata": {},
     "output_type": "execute_result"
    }
   ],
   "source": [
    "train_df.corr()"
   ]
  },
  {
   "cell_type": "markdown",
   "id": "overhead-haven",
   "metadata": {},
   "source": [
    "### 나머지 데이터 살펴보기"
   ]
  },
  {
   "cell_type": "markdown",
   "id": "imported-release",
   "metadata": {},
   "source": [
    "#### Cuisines "
   ]
  },
  {
   "cell_type": "code",
   "execution_count": 13,
   "id": "moved-solid",
   "metadata": {
    "ExecuteTime": {
     "end_time": "2021-06-06T06:26:00.721370Z",
     "start_time": "2021-06-06T06:26:00.681377Z"
    }
   },
   "outputs": [
    {
     "name": "stdout",
     "output_type": "stream",
     "text": [
      "{'Hot dogs', 'Afghan', 'Belgian', 'Arabian', 'African', 'Vietnamese', 'Tamil', 'Mangalorean', 'South Indian', 'French', 'Tibetan', 'Cantonese', 'Odia', 'Chettinad', 'Kerala', 'Iranian', 'Japanese', 'Raw Meats', 'Biryani', 'Burmese', 'Assamese', 'Brazilian', 'Pizza', 'PokŽ', 'Ice Cream', 'Steak', 'Seafood', 'Italian', 'Spanish', 'BBQ', 'European', 'Gujarati', 'Korean', 'Awadhi', 'Desserts', 'Konkan', 'Naga', 'Mexican', 'Paan', 'Continental', 'Bangladeshi', 'Malwani', 'Street Food', 'Lucknowi', 'Goan', 'Sushi', 'Mediterranean', 'Chinese', 'North Indian', 'Mithai', 'TexMex', 'Tea', 'Thai', 'Kebab', 'Bubble Tea', 'Kashmiri', 'Parsi', 'Modern Indian', 'Coffee', 'Bohri', 'Bar Food', 'Bihari', 'Cafe', 'Sri Lankan', 'Middle Eastern', 'German', 'Maharashtrian', 'American', 'Fast Food', 'Lebanese', 'Bakery', 'Finger Food', 'Healthy Food', 'Hyderabadi', 'Rajasthani', 'Asian', 'Andhra', 'Turkish', 'Juices', 'Salad', 'Sandwich', 'Mishti', 'Indonesian', 'Nepalese', 'Israeli', 'North Eastern', 'Portuguese', 'Beverages', 'Indian', 'Malaysian', 'Burger', 'Momos', 'Frozen Yogurt', 'Charcoal Chicken', 'Mughlai', 'Bengali', 'Roast Chicken', 'South American', 'Wraps', 'Rolls'}\n",
      "100\n"
     ]
    }
   ],
   "source": [
    "foods = []\n",
    "for i in train_df['Cuisines'].unique() :\n",
    "    foods.extend(i.split(', '))\n",
    "    \n",
    "print(set(foods))\n",
    "print(len(set(foods)))"
   ]
  },
  {
   "cell_type": "markdown",
   "id": "dynamic-thesis",
   "metadata": {},
   "source": [
    "#### Restaurant "
   ]
  },
  {
   "cell_type": "code",
   "execution_count": 14,
   "id": "naval-circular",
   "metadata": {
    "ExecuteTime": {
     "end_time": "2021-06-06T06:26:00.745367Z",
     "start_time": "2021-06-06T06:26:00.721370Z"
    }
   },
   "outputs": [
    {
     "data": {
      "text/plain": [
       "ID4625    19\n",
       "ID7184    18\n",
       "ID7295    17\n",
       "ID7544    14\n",
       "ID5321    14\n",
       "          ..\n",
       "ID6271     1\n",
       "ID3593     1\n",
       "ID7670     1\n",
       "ID4276     1\n",
       "ID2090     1\n",
       "Name: Restaurant, Length: 6390, dtype: int64"
      ]
     },
     "execution_count": 14,
     "metadata": {},
     "output_type": "execute_result"
    }
   ],
   "source": [
    "train_df['Restaurant'].value_counts()"
   ]
  },
  {
   "cell_type": "markdown",
   "id": "consecutive-combat",
   "metadata": {},
   "source": [
    "#### Location\n",
    "  - Encoder를 통해 자료형 변환하기"
   ]
  },
  {
   "cell_type": "code",
   "execution_count": 15,
   "id": "abstract-quality",
   "metadata": {
    "ExecuteTime": {
     "end_time": "2021-06-06T06:26:00.761365Z",
     "start_time": "2021-06-06T06:26:00.745367Z"
    }
   },
   "outputs": [
    {
     "data": {
      "text/plain": [
       "Mico Layout, Stage 2, BTM Layout,Bangalore          766\n",
       "DBlock, Sector 63, Noida                            663\n",
       "Sector 1, Noida                                     653\n",
       "FTI College, Law College Road, Pune                 459\n",
       "Delhi UniversityGTB Nagar                           436\n",
       "Sector 14, Noida                                    395\n",
       "Rmz Centennial, I Gate, Whitefield                  388\n",
       "Laxman Vihar Industrial Area, Sector 3A, Gurgoan    383\n",
       "Mumbai Central                                      375\n",
       "Delhi Administration Flats, Timarpur                370\n",
       "Delhi High Court, India Gate                        326\n",
       "MG Road, Pune                                       322\n",
       "Sector 3, Marathalli                                293\n",
       "Sandhurst Road, Mumbai CST Area                     287\n",
       "Nathan Road, Mangaldas Road, Pune                   287\n",
       "Majestic                                            265\n",
       "Yerawada, Pune, Maharashtra                         251\n",
       "Delhi Cantt.                                        247\n",
       "Pune University                                     236\n",
       "Dockyard Road, Mumbai CST Area                      232\n",
       "Babarpur, New Delhi, Delhi                          222\n",
       "Sector 63A,Gurgaon                                  192\n",
       "Moulali, Kolkata                                    109\n",
       "Chandni Chowk, Kolkata                              103\n",
       "Raja Bazar, Kolkata                                  89\n",
       "Tejas Nagar Colony, Wadala West, Mumbai              85\n",
       "Tiretti, Kolkata                                     75\n",
       "Hyderabad Public School, Begumpet                    65\n",
       "Gora Bazar, Rajbari, North Dumdum, Kolkata           65\n",
       "Noorkhan Bazaar, Malakpet, Hyderabad                 49\n",
       "Chatta Bazaar, Malakpet, Hyderabad                   45\n",
       "Panjetan Colony, Malakpet, Hyderabad                 45\n",
       "Musi Nagar, Malakpet, Hyderabad                      44\n",
       "Jaya Nagar, Saidabad, Hyderabad                      35\n",
       "BTM Layout 1, Electronic City                        18\n",
       "Name: Location, dtype: int64"
      ]
     },
     "execution_count": 15,
     "metadata": {},
     "output_type": "execute_result"
    }
   ],
   "source": [
    "train_df['Location'].value_counts()"
   ]
  },
  {
   "cell_type": "markdown",
   "id": "clear-criticism",
   "metadata": {},
   "source": [
    "## Data Cleaning"
   ]
  },
  {
   "cell_type": "markdown",
   "id": "drawn-excess",
   "metadata": {
    "heading_collapsed": true
   },
   "source": [
    "#### Import Package"
   ]
  },
  {
   "cell_type": "code",
   "execution_count": 16,
   "id": "wanted-junction",
   "metadata": {
    "ExecuteTime": {
     "end_time": "2021-06-06T06:26:00.921354Z",
     "start_time": "2021-06-06T06:26:00.761365Z"
    },
    "hidden": true
   },
   "outputs": [],
   "source": [
    "from sklearn.feature_extraction.text import CountVectorizer"
   ]
  },
  {
   "cell_type": "markdown",
   "id": "induced-dance",
   "metadata": {},
   "source": [
    "### AverageCost\n",
    "  - `DataFrame.interpolate()` 적용"
   ]
  },
  {
   "cell_type": "code",
   "execution_count": 17,
   "id": "personal-developer",
   "metadata": {
    "ExecuteTime": {
     "end_time": "2021-06-06T06:26:00.937351Z",
     "start_time": "2021-06-06T06:26:00.921354Z"
    }
   },
   "outputs": [],
   "source": [
    "def averageCost_clean(X) :\n",
    "    X['AverageCost'] = X['AverageCost'].str.replace(',', '')\n",
    "    X['AverageCost'] = X['AverageCost'].apply(lambda x : x if x.isnumeric() else np.NaN)\n",
    "    X['AverageCost'] = X['AverageCost'].astype(np.float64)\n",
    "    X['AverageCost'] = X['AverageCost'].interpolate('pad')"
   ]
  },
  {
   "cell_type": "markdown",
   "id": "subject-force",
   "metadata": {},
   "source": [
    "### Rating\n",
    "  - `DataFrame.interpolate()` 적용"
   ]
  },
  {
   "cell_type": "code",
   "execution_count": 18,
   "id": "cloudy-wilson",
   "metadata": {
    "ExecuteTime": {
     "end_time": "2021-06-06T06:26:00.969346Z",
     "start_time": "2021-06-06T06:26:00.937351Z"
    }
   },
   "outputs": [],
   "source": [
    "def rating_clean(X) :\n",
    "    X['Rating'] = X['Rating'].replace('NEW', np.NaN).replace('Opening Soon', np.NaN).replace('Temporarily Closed', np.NaN)\n",
    "    X['Rating'] = X['Rating'].astype(np.float64)\n",
    "    X['Rating'] = X['Rating'].interpolate('pad')"
   ]
  },
  {
   "cell_type": "markdown",
   "id": "secondary-resort",
   "metadata": {},
   "source": [
    "### Location\n",
    "  - 비슷한 지명간에 비슷한 값을 갖도록 조정\n",
    "  - ','가 포함된 지명의 순서를 뒤집어서 정렬\n",
    "  - 딕셔너리와 map을 통한 데이터 변환\n",
    "  "
   ]
  },
  {
   "cell_type": "markdown",
   "id": "composite-superintendent",
   "metadata": {},
   "source": [
    "#### Location 별 DeliveryTime 요약"
   ]
  },
  {
   "cell_type": "code",
   "execution_count": 19,
   "id": "operating-integration",
   "metadata": {
    "ExecuteTime": {
     "end_time": "2021-06-06T06:26:01.161330Z",
     "start_time": "2021-06-06T06:26:00.969346Z"
    },
    "scrolled": true
   },
   "outputs": [
    {
     "data": {
      "text/html": [
       "<div>\n",
       "<style scoped>\n",
       "    .dataframe tbody tr th:only-of-type {\n",
       "        vertical-align: middle;\n",
       "    }\n",
       "\n",
       "    .dataframe tbody tr th {\n",
       "        vertical-align: top;\n",
       "    }\n",
       "\n",
       "    .dataframe thead th {\n",
       "        text-align: right;\n",
       "    }\n",
       "</style>\n",
       "<table border=\"1\" class=\"dataframe\">\n",
       "  <thead>\n",
       "    <tr style=\"text-align: right;\">\n",
       "      <th></th>\n",
       "      <th>count</th>\n",
       "      <th>mean</th>\n",
       "      <th>std</th>\n",
       "      <th>min</th>\n",
       "      <th>25%</th>\n",
       "      <th>50%</th>\n",
       "      <th>75%</th>\n",
       "      <th>max</th>\n",
       "    </tr>\n",
       "    <tr>\n",
       "      <th>Location</th>\n",
       "      <th></th>\n",
       "      <th></th>\n",
       "      <th></th>\n",
       "      <th></th>\n",
       "      <th></th>\n",
       "      <th></th>\n",
       "      <th></th>\n",
       "      <th></th>\n",
       "    </tr>\n",
       "  </thead>\n",
       "  <tbody>\n",
       "    <tr>\n",
       "      <th>Babarpur, New Delhi, Delhi</th>\n",
       "      <td>222.0</td>\n",
       "      <td>31.914414</td>\n",
       "      <td>6.150957</td>\n",
       "      <td>30.0</td>\n",
       "      <td>30.0</td>\n",
       "      <td>30.0</td>\n",
       "      <td>30.0</td>\n",
       "      <td>65.0</td>\n",
       "    </tr>\n",
       "    <tr>\n",
       "      <th>Panjetan Colony, Malakpet, Hyderabad</th>\n",
       "      <td>45.0</td>\n",
       "      <td>33.000000</td>\n",
       "      <td>6.067799</td>\n",
       "      <td>30.0</td>\n",
       "      <td>30.0</td>\n",
       "      <td>30.0</td>\n",
       "      <td>30.0</td>\n",
       "      <td>45.0</td>\n",
       "    </tr>\n",
       "    <tr>\n",
       "      <th>Tejas Nagar Colony, Wadala West, Mumbai</th>\n",
       "      <td>85.0</td>\n",
       "      <td>33.058824</td>\n",
       "      <td>6.730090</td>\n",
       "      <td>30.0</td>\n",
       "      <td>30.0</td>\n",
       "      <td>30.0</td>\n",
       "      <td>30.0</td>\n",
       "      <td>65.0</td>\n",
       "    </tr>\n",
       "    <tr>\n",
       "      <th>Jaya Nagar, Saidabad, Hyderabad</th>\n",
       "      <td>35.0</td>\n",
       "      <td>33.714286</td>\n",
       "      <td>9.183013</td>\n",
       "      <td>30.0</td>\n",
       "      <td>30.0</td>\n",
       "      <td>30.0</td>\n",
       "      <td>30.0</td>\n",
       "      <td>65.0</td>\n",
       "    </tr>\n",
       "    <tr>\n",
       "      <th>FTI College, Law College Road, Pune</th>\n",
       "      <td>459.0</td>\n",
       "      <td>34.041394</td>\n",
       "      <td>9.100148</td>\n",
       "      <td>30.0</td>\n",
       "      <td>30.0</td>\n",
       "      <td>30.0</td>\n",
       "      <td>30.0</td>\n",
       "      <td>120.0</td>\n",
       "    </tr>\n",
       "    <tr>\n",
       "      <th>Noorkhan Bazaar, Malakpet, Hyderabad</th>\n",
       "      <td>49.0</td>\n",
       "      <td>34.081633</td>\n",
       "      <td>7.750905</td>\n",
       "      <td>30.0</td>\n",
       "      <td>30.0</td>\n",
       "      <td>30.0</td>\n",
       "      <td>30.0</td>\n",
       "      <td>65.0</td>\n",
       "    </tr>\n",
       "    <tr>\n",
       "      <th>Chatta Bazaar, Malakpet, Hyderabad</th>\n",
       "      <td>45.0</td>\n",
       "      <td>34.111111</td>\n",
       "      <td>7.854420</td>\n",
       "      <td>30.0</td>\n",
       "      <td>30.0</td>\n",
       "      <td>30.0</td>\n",
       "      <td>30.0</td>\n",
       "      <td>65.0</td>\n",
       "    </tr>\n",
       "    <tr>\n",
       "      <th>Musi Nagar, Malakpet, Hyderabad</th>\n",
       "      <td>44.0</td>\n",
       "      <td>34.318182</td>\n",
       "      <td>8.930670</td>\n",
       "      <td>30.0</td>\n",
       "      <td>30.0</td>\n",
       "      <td>30.0</td>\n",
       "      <td>30.0</td>\n",
       "      <td>65.0</td>\n",
       "    </tr>\n",
       "    <tr>\n",
       "      <th>MG Road, Pune</th>\n",
       "      <td>322.0</td>\n",
       "      <td>35.062112</td>\n",
       "      <td>9.356018</td>\n",
       "      <td>30.0</td>\n",
       "      <td>30.0</td>\n",
       "      <td>30.0</td>\n",
       "      <td>45.0</td>\n",
       "      <td>65.0</td>\n",
       "    </tr>\n",
       "    <tr>\n",
       "      <th>Majestic</th>\n",
       "      <td>265.0</td>\n",
       "      <td>35.735849</td>\n",
       "      <td>10.239834</td>\n",
       "      <td>20.0</td>\n",
       "      <td>30.0</td>\n",
       "      <td>30.0</td>\n",
       "      <td>45.0</td>\n",
       "      <td>65.0</td>\n",
       "    </tr>\n",
       "    <tr>\n",
       "      <th>Delhi Administration Flats, Timarpur</th>\n",
       "      <td>370.0</td>\n",
       "      <td>35.905405</td>\n",
       "      <td>11.021252</td>\n",
       "      <td>30.0</td>\n",
       "      <td>30.0</td>\n",
       "      <td>30.0</td>\n",
       "      <td>45.0</td>\n",
       "      <td>120.0</td>\n",
       "    </tr>\n",
       "    <tr>\n",
       "      <th>Hyderabad Public School, Begumpet</th>\n",
       "      <td>65.0</td>\n",
       "      <td>35.923077</td>\n",
       "      <td>8.745191</td>\n",
       "      <td>30.0</td>\n",
       "      <td>30.0</td>\n",
       "      <td>30.0</td>\n",
       "      <td>45.0</td>\n",
       "      <td>65.0</td>\n",
       "    </tr>\n",
       "    <tr>\n",
       "      <th>Mico Layout, Stage 2, BTM Layout,Bangalore</th>\n",
       "      <td>766.0</td>\n",
       "      <td>36.357702</td>\n",
       "      <td>10.854835</td>\n",
       "      <td>20.0</td>\n",
       "      <td>30.0</td>\n",
       "      <td>30.0</td>\n",
       "      <td>45.0</td>\n",
       "      <td>120.0</td>\n",
       "    </tr>\n",
       "    <tr>\n",
       "      <th>Delhi UniversityGTB Nagar</th>\n",
       "      <td>436.0</td>\n",
       "      <td>36.444954</td>\n",
       "      <td>11.990387</td>\n",
       "      <td>20.0</td>\n",
       "      <td>30.0</td>\n",
       "      <td>30.0</td>\n",
       "      <td>45.0</td>\n",
       "      <td>120.0</td>\n",
       "    </tr>\n",
       "    <tr>\n",
       "      <th>Sandhurst Road, Mumbai CST Area</th>\n",
       "      <td>287.0</td>\n",
       "      <td>36.864111</td>\n",
       "      <td>11.231465</td>\n",
       "      <td>30.0</td>\n",
       "      <td>30.0</td>\n",
       "      <td>30.0</td>\n",
       "      <td>45.0</td>\n",
       "      <td>120.0</td>\n",
       "    </tr>\n",
       "    <tr>\n",
       "      <th>Sector 3, Marathalli</th>\n",
       "      <td>293.0</td>\n",
       "      <td>36.928328</td>\n",
       "      <td>12.617325</td>\n",
       "      <td>20.0</td>\n",
       "      <td>30.0</td>\n",
       "      <td>30.0</td>\n",
       "      <td>45.0</td>\n",
       "      <td>120.0</td>\n",
       "    </tr>\n",
       "    <tr>\n",
       "      <th>Rmz Centennial, I Gate, Whitefield</th>\n",
       "      <td>388.0</td>\n",
       "      <td>36.997423</td>\n",
       "      <td>12.339617</td>\n",
       "      <td>20.0</td>\n",
       "      <td>30.0</td>\n",
       "      <td>30.0</td>\n",
       "      <td>45.0</td>\n",
       "      <td>120.0</td>\n",
       "    </tr>\n",
       "    <tr>\n",
       "      <th>Nathan Road, Mangaldas Road, Pune</th>\n",
       "      <td>287.0</td>\n",
       "      <td>37.055749</td>\n",
       "      <td>11.295012</td>\n",
       "      <td>30.0</td>\n",
       "      <td>30.0</td>\n",
       "      <td>30.0</td>\n",
       "      <td>45.0</td>\n",
       "      <td>120.0</td>\n",
       "    </tr>\n",
       "    <tr>\n",
       "      <th>Dockyard Road, Mumbai CST Area</th>\n",
       "      <td>232.0</td>\n",
       "      <td>37.176724</td>\n",
       "      <td>11.248041</td>\n",
       "      <td>30.0</td>\n",
       "      <td>30.0</td>\n",
       "      <td>30.0</td>\n",
       "      <td>45.0</td>\n",
       "      <td>120.0</td>\n",
       "    </tr>\n",
       "    <tr>\n",
       "      <th>Laxman Vihar Industrial Area, Sector 3A, Gurgoan</th>\n",
       "      <td>383.0</td>\n",
       "      <td>37.193211</td>\n",
       "      <td>14.022019</td>\n",
       "      <td>30.0</td>\n",
       "      <td>30.0</td>\n",
       "      <td>30.0</td>\n",
       "      <td>45.0</td>\n",
       "      <td>120.0</td>\n",
       "    </tr>\n",
       "    <tr>\n",
       "      <th>DBlock, Sector 63, Noida</th>\n",
       "      <td>663.0</td>\n",
       "      <td>37.383107</td>\n",
       "      <td>12.830801</td>\n",
       "      <td>10.0</td>\n",
       "      <td>30.0</td>\n",
       "      <td>30.0</td>\n",
       "      <td>45.0</td>\n",
       "      <td>120.0</td>\n",
       "    </tr>\n",
       "    <tr>\n",
       "      <th>Delhi Cantt.</th>\n",
       "      <td>247.0</td>\n",
       "      <td>37.388664</td>\n",
       "      <td>11.789255</td>\n",
       "      <td>30.0</td>\n",
       "      <td>30.0</td>\n",
       "      <td>30.0</td>\n",
       "      <td>45.0</td>\n",
       "      <td>65.0</td>\n",
       "    </tr>\n",
       "    <tr>\n",
       "      <th>Pune University</th>\n",
       "      <td>236.0</td>\n",
       "      <td>37.394068</td>\n",
       "      <td>11.331063</td>\n",
       "      <td>30.0</td>\n",
       "      <td>30.0</td>\n",
       "      <td>30.0</td>\n",
       "      <td>45.0</td>\n",
       "      <td>120.0</td>\n",
       "    </tr>\n",
       "    <tr>\n",
       "      <th>Yerawada, Pune, Maharashtra</th>\n",
       "      <td>251.0</td>\n",
       "      <td>37.689243</td>\n",
       "      <td>11.984951</td>\n",
       "      <td>30.0</td>\n",
       "      <td>30.0</td>\n",
       "      <td>30.0</td>\n",
       "      <td>45.0</td>\n",
       "      <td>120.0</td>\n",
       "    </tr>\n",
       "    <tr>\n",
       "      <th>Gora Bazar, Rajbari, North Dumdum, Kolkata</th>\n",
       "      <td>65.0</td>\n",
       "      <td>37.692308</td>\n",
       "      <td>18.563172</td>\n",
       "      <td>30.0</td>\n",
       "      <td>30.0</td>\n",
       "      <td>30.0</td>\n",
       "      <td>30.0</td>\n",
       "      <td>120.0</td>\n",
       "    </tr>\n",
       "    <tr>\n",
       "      <th>Tiretti, Kolkata</th>\n",
       "      <td>75.0</td>\n",
       "      <td>38.000000</td>\n",
       "      <td>11.911838</td>\n",
       "      <td>30.0</td>\n",
       "      <td>30.0</td>\n",
       "      <td>30.0</td>\n",
       "      <td>45.0</td>\n",
       "      <td>65.0</td>\n",
       "    </tr>\n",
       "    <tr>\n",
       "      <th>Raja Bazar, Kolkata</th>\n",
       "      <td>89.0</td>\n",
       "      <td>38.314607</td>\n",
       "      <td>12.634365</td>\n",
       "      <td>30.0</td>\n",
       "      <td>30.0</td>\n",
       "      <td>30.0</td>\n",
       "      <td>45.0</td>\n",
       "      <td>65.0</td>\n",
       "    </tr>\n",
       "    <tr>\n",
       "      <th>Moulali, Kolkata</th>\n",
       "      <td>109.0</td>\n",
       "      <td>38.394495</td>\n",
       "      <td>11.564648</td>\n",
       "      <td>30.0</td>\n",
       "      <td>30.0</td>\n",
       "      <td>30.0</td>\n",
       "      <td>45.0</td>\n",
       "      <td>65.0</td>\n",
       "    </tr>\n",
       "    <tr>\n",
       "      <th>Mumbai Central</th>\n",
       "      <td>375.0</td>\n",
       "      <td>38.520000</td>\n",
       "      <td>12.215052</td>\n",
       "      <td>30.0</td>\n",
       "      <td>30.0</td>\n",
       "      <td>30.0</td>\n",
       "      <td>45.0</td>\n",
       "      <td>120.0</td>\n",
       "    </tr>\n",
       "    <tr>\n",
       "      <th>Sector 1, Noida</th>\n",
       "      <td>653.0</td>\n",
       "      <td>38.751914</td>\n",
       "      <td>15.768057</td>\n",
       "      <td>10.0</td>\n",
       "      <td>30.0</td>\n",
       "      <td>30.0</td>\n",
       "      <td>45.0</td>\n",
       "      <td>120.0</td>\n",
       "    </tr>\n",
       "    <tr>\n",
       "      <th>Sector 14, Noida</th>\n",
       "      <td>395.0</td>\n",
       "      <td>39.215190</td>\n",
       "      <td>15.425991</td>\n",
       "      <td>10.0</td>\n",
       "      <td>30.0</td>\n",
       "      <td>30.0</td>\n",
       "      <td>45.0</td>\n",
       "      <td>120.0</td>\n",
       "    </tr>\n",
       "    <tr>\n",
       "      <th>Chandni Chowk, Kolkata</th>\n",
       "      <td>103.0</td>\n",
       "      <td>39.902913</td>\n",
       "      <td>14.835381</td>\n",
       "      <td>30.0</td>\n",
       "      <td>30.0</td>\n",
       "      <td>30.0</td>\n",
       "      <td>45.0</td>\n",
       "      <td>120.0</td>\n",
       "    </tr>\n",
       "    <tr>\n",
       "      <th>BTM Layout 1, Electronic City</th>\n",
       "      <td>18.0</td>\n",
       "      <td>40.833333</td>\n",
       "      <td>13.089061</td>\n",
       "      <td>30.0</td>\n",
       "      <td>30.0</td>\n",
       "      <td>37.5</td>\n",
       "      <td>45.0</td>\n",
       "      <td>65.0</td>\n",
       "    </tr>\n",
       "    <tr>\n",
       "      <th>Delhi High Court, India Gate</th>\n",
       "      <td>326.0</td>\n",
       "      <td>41.150307</td>\n",
       "      <td>14.649089</td>\n",
       "      <td>20.0</td>\n",
       "      <td>30.0</td>\n",
       "      <td>30.0</td>\n",
       "      <td>45.0</td>\n",
       "      <td>120.0</td>\n",
       "    </tr>\n",
       "    <tr>\n",
       "      <th>Sector 63A,Gurgaon</th>\n",
       "      <td>192.0</td>\n",
       "      <td>41.432292</td>\n",
       "      <td>18.352442</td>\n",
       "      <td>30.0</td>\n",
       "      <td>30.0</td>\n",
       "      <td>30.0</td>\n",
       "      <td>45.0</td>\n",
       "      <td>120.0</td>\n",
       "    </tr>\n",
       "  </tbody>\n",
       "</table>\n",
       "</div>"
      ],
      "text/plain": [
       "                                                  count       mean        std  \\\n",
       "Location                                                                        \n",
       "Babarpur, New Delhi, Delhi                        222.0  31.914414   6.150957   \n",
       "Panjetan Colony, Malakpet, Hyderabad               45.0  33.000000   6.067799   \n",
       "Tejas Nagar Colony, Wadala West, Mumbai            85.0  33.058824   6.730090   \n",
       "Jaya Nagar, Saidabad, Hyderabad                    35.0  33.714286   9.183013   \n",
       "FTI College, Law College Road, Pune               459.0  34.041394   9.100148   \n",
       "Noorkhan Bazaar, Malakpet, Hyderabad               49.0  34.081633   7.750905   \n",
       "Chatta Bazaar, Malakpet, Hyderabad                 45.0  34.111111   7.854420   \n",
       "Musi Nagar, Malakpet, Hyderabad                    44.0  34.318182   8.930670   \n",
       "MG Road, Pune                                     322.0  35.062112   9.356018   \n",
       "Majestic                                          265.0  35.735849  10.239834   \n",
       "Delhi Administration Flats, Timarpur              370.0  35.905405  11.021252   \n",
       "Hyderabad Public School, Begumpet                  65.0  35.923077   8.745191   \n",
       "Mico Layout, Stage 2, BTM Layout,Bangalore        766.0  36.357702  10.854835   \n",
       "Delhi UniversityGTB Nagar                         436.0  36.444954  11.990387   \n",
       "Sandhurst Road, Mumbai CST Area                   287.0  36.864111  11.231465   \n",
       "Sector 3, Marathalli                              293.0  36.928328  12.617325   \n",
       "Rmz Centennial, I Gate, Whitefield                388.0  36.997423  12.339617   \n",
       "Nathan Road, Mangaldas Road, Pune                 287.0  37.055749  11.295012   \n",
       "Dockyard Road, Mumbai CST Area                    232.0  37.176724  11.248041   \n",
       "Laxman Vihar Industrial Area, Sector 3A, Gurgoan  383.0  37.193211  14.022019   \n",
       "DBlock, Sector 63, Noida                          663.0  37.383107  12.830801   \n",
       "Delhi Cantt.                                      247.0  37.388664  11.789255   \n",
       "Pune University                                   236.0  37.394068  11.331063   \n",
       "Yerawada, Pune, Maharashtra                       251.0  37.689243  11.984951   \n",
       "Gora Bazar, Rajbari, North Dumdum, Kolkata         65.0  37.692308  18.563172   \n",
       "Tiretti, Kolkata                                   75.0  38.000000  11.911838   \n",
       "Raja Bazar, Kolkata                                89.0  38.314607  12.634365   \n",
       "Moulali, Kolkata                                  109.0  38.394495  11.564648   \n",
       "Mumbai Central                                    375.0  38.520000  12.215052   \n",
       "Sector 1, Noida                                   653.0  38.751914  15.768057   \n",
       "Sector 14, Noida                                  395.0  39.215190  15.425991   \n",
       "Chandni Chowk, Kolkata                            103.0  39.902913  14.835381   \n",
       "BTM Layout 1, Electronic City                      18.0  40.833333  13.089061   \n",
       "Delhi High Court, India Gate                      326.0  41.150307  14.649089   \n",
       "Sector 63A,Gurgaon                                192.0  41.432292  18.352442   \n",
       "\n",
       "                                                   min   25%   50%   75%  \\\n",
       "Location                                                                   \n",
       "Babarpur, New Delhi, Delhi                        30.0  30.0  30.0  30.0   \n",
       "Panjetan Colony, Malakpet, Hyderabad              30.0  30.0  30.0  30.0   \n",
       "Tejas Nagar Colony, Wadala West, Mumbai           30.0  30.0  30.0  30.0   \n",
       "Jaya Nagar, Saidabad, Hyderabad                   30.0  30.0  30.0  30.0   \n",
       "FTI College, Law College Road, Pune               30.0  30.0  30.0  30.0   \n",
       "Noorkhan Bazaar, Malakpet, Hyderabad              30.0  30.0  30.0  30.0   \n",
       "Chatta Bazaar, Malakpet, Hyderabad                30.0  30.0  30.0  30.0   \n",
       "Musi Nagar, Malakpet, Hyderabad                   30.0  30.0  30.0  30.0   \n",
       "MG Road, Pune                                     30.0  30.0  30.0  45.0   \n",
       "Majestic                                          20.0  30.0  30.0  45.0   \n",
       "Delhi Administration Flats, Timarpur              30.0  30.0  30.0  45.0   \n",
       "Hyderabad Public School, Begumpet                 30.0  30.0  30.0  45.0   \n",
       "Mico Layout, Stage 2, BTM Layout,Bangalore        20.0  30.0  30.0  45.0   \n",
       "Delhi UniversityGTB Nagar                         20.0  30.0  30.0  45.0   \n",
       "Sandhurst Road, Mumbai CST Area                   30.0  30.0  30.0  45.0   \n",
       "Sector 3, Marathalli                              20.0  30.0  30.0  45.0   \n",
       "Rmz Centennial, I Gate, Whitefield                20.0  30.0  30.0  45.0   \n",
       "Nathan Road, Mangaldas Road, Pune                 30.0  30.0  30.0  45.0   \n",
       "Dockyard Road, Mumbai CST Area                    30.0  30.0  30.0  45.0   \n",
       "Laxman Vihar Industrial Area, Sector 3A, Gurgoan  30.0  30.0  30.0  45.0   \n",
       "DBlock, Sector 63, Noida                          10.0  30.0  30.0  45.0   \n",
       "Delhi Cantt.                                      30.0  30.0  30.0  45.0   \n",
       "Pune University                                   30.0  30.0  30.0  45.0   \n",
       "Yerawada, Pune, Maharashtra                       30.0  30.0  30.0  45.0   \n",
       "Gora Bazar, Rajbari, North Dumdum, Kolkata        30.0  30.0  30.0  30.0   \n",
       "Tiretti, Kolkata                                  30.0  30.0  30.0  45.0   \n",
       "Raja Bazar, Kolkata                               30.0  30.0  30.0  45.0   \n",
       "Moulali, Kolkata                                  30.0  30.0  30.0  45.0   \n",
       "Mumbai Central                                    30.0  30.0  30.0  45.0   \n",
       "Sector 1, Noida                                   10.0  30.0  30.0  45.0   \n",
       "Sector 14, Noida                                  10.0  30.0  30.0  45.0   \n",
       "Chandni Chowk, Kolkata                            30.0  30.0  30.0  45.0   \n",
       "BTM Layout 1, Electronic City                     30.0  30.0  37.5  45.0   \n",
       "Delhi High Court, India Gate                      20.0  30.0  30.0  45.0   \n",
       "Sector 63A,Gurgaon                                30.0  30.0  30.0  45.0   \n",
       "\n",
       "                                                    max  \n",
       "Location                                                 \n",
       "Babarpur, New Delhi, Delhi                         65.0  \n",
       "Panjetan Colony, Malakpet, Hyderabad               45.0  \n",
       "Tejas Nagar Colony, Wadala West, Mumbai            65.0  \n",
       "Jaya Nagar, Saidabad, Hyderabad                    65.0  \n",
       "FTI College, Law College Road, Pune               120.0  \n",
       "Noorkhan Bazaar, Malakpet, Hyderabad               65.0  \n",
       "Chatta Bazaar, Malakpet, Hyderabad                 65.0  \n",
       "Musi Nagar, Malakpet, Hyderabad                    65.0  \n",
       "MG Road, Pune                                      65.0  \n",
       "Majestic                                           65.0  \n",
       "Delhi Administration Flats, Timarpur              120.0  \n",
       "Hyderabad Public School, Begumpet                  65.0  \n",
       "Mico Layout, Stage 2, BTM Layout,Bangalore        120.0  \n",
       "Delhi UniversityGTB Nagar                         120.0  \n",
       "Sandhurst Road, Mumbai CST Area                   120.0  \n",
       "Sector 3, Marathalli                              120.0  \n",
       "Rmz Centennial, I Gate, Whitefield                120.0  \n",
       "Nathan Road, Mangaldas Road, Pune                 120.0  \n",
       "Dockyard Road, Mumbai CST Area                    120.0  \n",
       "Laxman Vihar Industrial Area, Sector 3A, Gurgoan  120.0  \n",
       "DBlock, Sector 63, Noida                          120.0  \n",
       "Delhi Cantt.                                       65.0  \n",
       "Pune University                                   120.0  \n",
       "Yerawada, Pune, Maharashtra                       120.0  \n",
       "Gora Bazar, Rajbari, North Dumdum, Kolkata        120.0  \n",
       "Tiretti, Kolkata                                   65.0  \n",
       "Raja Bazar, Kolkata                                65.0  \n",
       "Moulali, Kolkata                                   65.0  \n",
       "Mumbai Central                                    120.0  \n",
       "Sector 1, Noida                                   120.0  \n",
       "Sector 14, Noida                                  120.0  \n",
       "Chandni Chowk, Kolkata                            120.0  \n",
       "BTM Layout 1, Electronic City                      65.0  \n",
       "Delhi High Court, India Gate                      120.0  \n",
       "Sector 63A,Gurgaon                                120.0  "
      ]
     },
     "execution_count": 19,
     "metadata": {},
     "output_type": "execute_result"
    }
   ],
   "source": [
    "train_df.groupby('Location')['DeliveryTime'].describe().sort_values('mean')"
   ]
  },
  {
   "cell_type": "markdown",
   "id": "centered-buffalo",
   "metadata": {},
   "source": [
    "#### 변환"
   ]
  },
  {
   "cell_type": "code",
   "execution_count": 20,
   "id": "patient-kingston",
   "metadata": {
    "ExecuteTime": {
     "end_time": "2021-06-06T06:26:01.177329Z",
     "start_time": "2021-06-06T06:26:01.161330Z"
    }
   },
   "outputs": [],
   "source": [
    "def location_clean(X) :\n",
    "    locations = X['Location'].values\n",
    "    new_locations = []\n",
    "\n",
    "    for l in locations :\n",
    "        new_locations.append(', '.join(l.split(', ')[::-1]))\n",
    "    \n",
    "    X['Location'] = np.array(new_locations)\n",
    "    locs = np.array(X.groupby('Location')['DeliveryTime'].describe().sort_values('mean').index)\n",
    "\n",
    "    loc_dict = {}\n",
    "\n",
    "    for i in range(len(locs)) :\n",
    "        loc_dict[locs[i]] = i\n",
    "        \n",
    "    X['Location'] = X['Location'].map(loc_dict)"
   ]
  },
  {
   "cell_type": "markdown",
   "id": "interstate-rough",
   "metadata": {},
   "source": [
    "### Cuisines\n",
    "  - `sklearn.feature_extraction.text.CountVectorizer` 사용"
   ]
  },
  {
   "cell_type": "code",
   "execution_count": 21,
   "id": "fantastic-china",
   "metadata": {
    "ExecuteTime": {
     "end_time": "2021-06-06T06:26:01.209324Z",
     "start_time": "2021-06-06T06:26:01.177329Z"
    }
   },
   "outputs": [],
   "source": [
    "def cuisines_transform(X) :\n",
    "    all_foods = base_df['Cuisines'].copy()\n",
    "    all_foods = all_foods.str.replace(' ', '').str.split(',')\n",
    "    all_foods_ = np.array([' '.join(x) for x in all_foods])\n",
    "    \n",
    "    foods = base_df['Cuisines'].copy()\n",
    "    foods = foods.str.replace(' ', '').str.split(',')\n",
    "    foods_ = np.array([' '.join(x) for x in foods])\n",
    "    \n",
    "    cu_enc = CountVectorizer()\n",
    "    cu_enc.fit(all_foods_)\n",
    "    cuisines_encoded = cu_enc.transform(foods_).toarray()\n",
    "    \n",
    "    cuisines_cv_df = pd.DataFrame(cuisines_encoded, columns=sorted(cu_enc.vocabulary_) ,index=foods.index)\n",
    "    X = pd.concat([X, cuisines_cv_df], axis=1)\n",
    "    X = X.dropna(axis=0)\n",
    "    return X"
   ]
  },
  {
   "cell_type": "markdown",
   "id": "controlled-norwegian",
   "metadata": {},
   "source": [
    "### Votes, Reviews\n",
    "  - 데이터셋을 Rating 기준으로 정렬\n",
    "  - `DataFrame.interpolate()`를 적용"
   ]
  },
  {
   "cell_type": "code",
   "execution_count": 22,
   "id": "acknowledged-engineering",
   "metadata": {
    "ExecuteTime": {
     "end_time": "2021-06-06T06:26:01.225323Z",
     "start_time": "2021-06-06T06:26:01.209324Z"
    }
   },
   "outputs": [],
   "source": [
    "def votes_reviews_clean(X) :\n",
    "    X[['Votes', 'Reviews']] = X.sort_values('Rating')[['Votes', 'Reviews']].interpolate('pad')"
   ]
  },
  {
   "cell_type": "markdown",
   "id": "compliant-applicant",
   "metadata": {},
   "source": [
    "## 학습셋을 입력에 맞게 변환"
   ]
  },
  {
   "cell_type": "markdown",
   "id": "distributed-anatomy",
   "metadata": {},
   "source": [
    "### 데이터셋을 모델 입력 데이터셋 형태로 변환"
   ]
  },
  {
   "cell_type": "code",
   "execution_count": 23,
   "id": "corporate-lucas",
   "metadata": {
    "ExecuteTime": {
     "end_time": "2021-06-06T06:26:01.241322Z",
     "start_time": "2021-06-06T06:26:01.225323Z"
    }
   },
   "outputs": [],
   "source": [
    "def dataset_transform(X) :\n",
    "    Xcopy = X.copy()\n",
    "    averageCost_clean(Xcopy)\n",
    "    rating_clean(Xcopy)\n",
    "    votes_reviews_clean(Xcopy)\n",
    "    location_clean(Xcopy)\n",
    "    Xcopy = cuisines_transform(Xcopy)\n",
    "    \n",
    "    Xcopy = Xcopy.dropna(axis=0)\n",
    "    y = Xcopy['DeliveryTime'].copy()\n",
    "    Xcopy = Xcopy.drop(['Restaurant', 'Cuisines', 'DeliveryTime'], axis=1)\n",
    "    \n",
    "    return Xcopy, y"
   ]
  },
  {
   "cell_type": "markdown",
   "id": "hearing-platinum",
   "metadata": {},
   "source": [
    "### 학습셋에서 목표 데이터 분리"
   ]
  },
  {
   "cell_type": "code",
   "execution_count": 24,
   "id": "representative-action",
   "metadata": {
    "ExecuteTime": {
     "end_time": "2021-06-06T06:26:01.745275Z",
     "start_time": "2021-06-06T06:26:01.241322Z"
    },
    "scrolled": true
   },
   "outputs": [],
   "source": [
    "train_prepared, Y = dataset_transform(train_df)"
   ]
  },
  {
   "cell_type": "code",
   "execution_count": 25,
   "id": "satellite-bargain",
   "metadata": {
    "ExecuteTime": {
     "end_time": "2021-06-06T06:26:01.769279Z",
     "start_time": "2021-06-06T06:26:01.745275Z"
    }
   },
   "outputs": [
    {
     "data": {
      "text/plain": [
       "((8875, 107), (8875,))"
      ]
     },
     "execution_count": 25,
     "metadata": {},
     "output_type": "execute_result"
    }
   ],
   "source": [
    "train_prepared.shape, Y.shape"
   ]
  },
  {
   "cell_type": "code",
   "execution_count": 26,
   "id": "romantic-telephone",
   "metadata": {
    "ExecuteTime": {
     "end_time": "2021-06-06T06:26:01.833271Z",
     "start_time": "2021-06-06T06:26:01.769279Z"
    },
    "scrolled": true
   },
   "outputs": [
    {
     "data": {
      "text/html": [
       "<div>\n",
       "<style scoped>\n",
       "    .dataframe tbody tr th:only-of-type {\n",
       "        vertical-align: middle;\n",
       "    }\n",
       "\n",
       "    .dataframe tbody tr th {\n",
       "        vertical-align: top;\n",
       "    }\n",
       "\n",
       "    .dataframe thead th {\n",
       "        text-align: right;\n",
       "    }\n",
       "</style>\n",
       "<table border=\"1\" class=\"dataframe\">\n",
       "  <thead>\n",
       "    <tr style=\"text-align: right;\">\n",
       "      <th></th>\n",
       "      <th>Location</th>\n",
       "      <th>AverageCost</th>\n",
       "      <th>MinimumOrder</th>\n",
       "      <th>Rating</th>\n",
       "      <th>Votes</th>\n",
       "      <th>Reviews</th>\n",
       "      <th>afghan</th>\n",
       "      <th>african</th>\n",
       "      <th>american</th>\n",
       "      <th>andhra</th>\n",
       "      <th>...</th>\n",
       "      <th>streetfood</th>\n",
       "      <th>sushi</th>\n",
       "      <th>tamil</th>\n",
       "      <th>tea</th>\n",
       "      <th>texmex</th>\n",
       "      <th>thai</th>\n",
       "      <th>tibetan</th>\n",
       "      <th>turkish</th>\n",
       "      <th>vietnamese</th>\n",
       "      <th>wraps</th>\n",
       "    </tr>\n",
       "  </thead>\n",
       "  <tbody>\n",
       "    <tr>\n",
       "      <th>0</th>\n",
       "      <td>4.0</td>\n",
       "      <td>200.0</td>\n",
       "      <td>50.0</td>\n",
       "      <td>3.5</td>\n",
       "      <td>12.0</td>\n",
       "      <td>4.0</td>\n",
       "      <td>0</td>\n",
       "      <td>0</td>\n",
       "      <td>0</td>\n",
       "      <td>0</td>\n",
       "      <td>...</td>\n",
       "      <td>0</td>\n",
       "      <td>0</td>\n",
       "      <td>0</td>\n",
       "      <td>0</td>\n",
       "      <td>0</td>\n",
       "      <td>0</td>\n",
       "      <td>0</td>\n",
       "      <td>0</td>\n",
       "      <td>0</td>\n",
       "      <td>1</td>\n",
       "    </tr>\n",
       "    <tr>\n",
       "      <th>1</th>\n",
       "      <td>15.0</td>\n",
       "      <td>100.0</td>\n",
       "      <td>50.0</td>\n",
       "      <td>3.5</td>\n",
       "      <td>11.0</td>\n",
       "      <td>4.0</td>\n",
       "      <td>0</td>\n",
       "      <td>0</td>\n",
       "      <td>0</td>\n",
       "      <td>0</td>\n",
       "      <td>...</td>\n",
       "      <td>0</td>\n",
       "      <td>0</td>\n",
       "      <td>0</td>\n",
       "      <td>0</td>\n",
       "      <td>0</td>\n",
       "      <td>0</td>\n",
       "      <td>0</td>\n",
       "      <td>0</td>\n",
       "      <td>0</td>\n",
       "      <td>0</td>\n",
       "    </tr>\n",
       "    <tr>\n",
       "      <th>2</th>\n",
       "      <td>28.0</td>\n",
       "      <td>150.0</td>\n",
       "      <td>50.0</td>\n",
       "      <td>3.6</td>\n",
       "      <td>99.0</td>\n",
       "      <td>30.0</td>\n",
       "      <td>0</td>\n",
       "      <td>0</td>\n",
       "      <td>0</td>\n",
       "      <td>0</td>\n",
       "      <td>...</td>\n",
       "      <td>1</td>\n",
       "      <td>0</td>\n",
       "      <td>0</td>\n",
       "      <td>0</td>\n",
       "      <td>0</td>\n",
       "      <td>0</td>\n",
       "      <td>0</td>\n",
       "      <td>0</td>\n",
       "      <td>0</td>\n",
       "      <td>0</td>\n",
       "    </tr>\n",
       "    <tr>\n",
       "      <th>3</th>\n",
       "      <td>29.0</td>\n",
       "      <td>250.0</td>\n",
       "      <td>99.0</td>\n",
       "      <td>3.7</td>\n",
       "      <td>176.0</td>\n",
       "      <td>95.0</td>\n",
       "      <td>0</td>\n",
       "      <td>0</td>\n",
       "      <td>0</td>\n",
       "      <td>0</td>\n",
       "      <td>...</td>\n",
       "      <td>0</td>\n",
       "      <td>0</td>\n",
       "      <td>0</td>\n",
       "      <td>0</td>\n",
       "      <td>0</td>\n",
       "      <td>0</td>\n",
       "      <td>0</td>\n",
       "      <td>0</td>\n",
       "      <td>0</td>\n",
       "      <td>0</td>\n",
       "    </tr>\n",
       "    <tr>\n",
       "      <th>4</th>\n",
       "      <td>16.0</td>\n",
       "      <td>200.0</td>\n",
       "      <td>99.0</td>\n",
       "      <td>3.2</td>\n",
       "      <td>521.0</td>\n",
       "      <td>235.0</td>\n",
       "      <td>0</td>\n",
       "      <td>0</td>\n",
       "      <td>0</td>\n",
       "      <td>0</td>\n",
       "      <td>...</td>\n",
       "      <td>0</td>\n",
       "      <td>0</td>\n",
       "      <td>0</td>\n",
       "      <td>0</td>\n",
       "      <td>0</td>\n",
       "      <td>0</td>\n",
       "      <td>0</td>\n",
       "      <td>0</td>\n",
       "      <td>0</td>\n",
       "      <td>0</td>\n",
       "    </tr>\n",
       "    <tr>\n",
       "      <th>...</th>\n",
       "      <td>...</td>\n",
       "      <td>...</td>\n",
       "      <td>...</td>\n",
       "      <td>...</td>\n",
       "      <td>...</td>\n",
       "      <td>...</td>\n",
       "      <td>...</td>\n",
       "      <td>...</td>\n",
       "      <td>...</td>\n",
       "      <td>...</td>\n",
       "      <td>...</td>\n",
       "      <td>...</td>\n",
       "      <td>...</td>\n",
       "      <td>...</td>\n",
       "      <td>...</td>\n",
       "      <td>...</td>\n",
       "      <td>...</td>\n",
       "      <td>...</td>\n",
       "      <td>...</td>\n",
       "      <td>...</td>\n",
       "      <td>...</td>\n",
       "    </tr>\n",
       "    <tr>\n",
       "      <th>11088</th>\n",
       "      <td>16.0</td>\n",
       "      <td>150.0</td>\n",
       "      <td>50.0</td>\n",
       "      <td>3.6</td>\n",
       "      <td>56.0</td>\n",
       "      <td>18.0</td>\n",
       "      <td>0</td>\n",
       "      <td>0</td>\n",
       "      <td>0</td>\n",
       "      <td>0</td>\n",
       "      <td>...</td>\n",
       "      <td>0</td>\n",
       "      <td>0</td>\n",
       "      <td>0</td>\n",
       "      <td>0</td>\n",
       "      <td>0</td>\n",
       "      <td>0</td>\n",
       "      <td>0</td>\n",
       "      <td>0</td>\n",
       "      <td>0</td>\n",
       "      <td>0</td>\n",
       "    </tr>\n",
       "    <tr>\n",
       "      <th>11089</th>\n",
       "      <td>32.0</td>\n",
       "      <td>250.0</td>\n",
       "      <td>50.0</td>\n",
       "      <td>4.2</td>\n",
       "      <td>326.0</td>\n",
       "      <td>189.0</td>\n",
       "      <td>0</td>\n",
       "      <td>0</td>\n",
       "      <td>0</td>\n",
       "      <td>0</td>\n",
       "      <td>...</td>\n",
       "      <td>0</td>\n",
       "      <td>0</td>\n",
       "      <td>0</td>\n",
       "      <td>0</td>\n",
       "      <td>0</td>\n",
       "      <td>0</td>\n",
       "      <td>1</td>\n",
       "      <td>0</td>\n",
       "      <td>0</td>\n",
       "      <td>0</td>\n",
       "    </tr>\n",
       "    <tr>\n",
       "      <th>11090</th>\n",
       "      <td>30.0</td>\n",
       "      <td>100.0</td>\n",
       "      <td>50.0</td>\n",
       "      <td>3.6</td>\n",
       "      <td>36.0</td>\n",
       "      <td>16.0</td>\n",
       "      <td>0</td>\n",
       "      <td>0</td>\n",
       "      <td>0</td>\n",
       "      <td>0</td>\n",
       "      <td>...</td>\n",
       "      <td>0</td>\n",
       "      <td>0</td>\n",
       "      <td>0</td>\n",
       "      <td>0</td>\n",
       "      <td>0</td>\n",
       "      <td>0</td>\n",
       "      <td>0</td>\n",
       "      <td>0</td>\n",
       "      <td>0</td>\n",
       "      <td>0</td>\n",
       "    </tr>\n",
       "    <tr>\n",
       "      <th>11092</th>\n",
       "      <td>15.0</td>\n",
       "      <td>100.0</td>\n",
       "      <td>50.0</td>\n",
       "      <td>3.1</td>\n",
       "      <td>24.0</td>\n",
       "      <td>9.0</td>\n",
       "      <td>0</td>\n",
       "      <td>0</td>\n",
       "      <td>0</td>\n",
       "      <td>0</td>\n",
       "      <td>...</td>\n",
       "      <td>0</td>\n",
       "      <td>0</td>\n",
       "      <td>0</td>\n",
       "      <td>0</td>\n",
       "      <td>0</td>\n",
       "      <td>0</td>\n",
       "      <td>0</td>\n",
       "      <td>0</td>\n",
       "      <td>0</td>\n",
       "      <td>0</td>\n",
       "    </tr>\n",
       "    <tr>\n",
       "      <th>11093</th>\n",
       "      <td>34.0</td>\n",
       "      <td>100.0</td>\n",
       "      <td>50.0</td>\n",
       "      <td>3.4</td>\n",
       "      <td>17.0</td>\n",
       "      <td>8.0</td>\n",
       "      <td>0</td>\n",
       "      <td>0</td>\n",
       "      <td>0</td>\n",
       "      <td>0</td>\n",
       "      <td>...</td>\n",
       "      <td>0</td>\n",
       "      <td>0</td>\n",
       "      <td>0</td>\n",
       "      <td>0</td>\n",
       "      <td>0</td>\n",
       "      <td>0</td>\n",
       "      <td>0</td>\n",
       "      <td>0</td>\n",
       "      <td>0</td>\n",
       "      <td>0</td>\n",
       "    </tr>\n",
       "  </tbody>\n",
       "</table>\n",
       "<p>8875 rows × 107 columns</p>\n",
       "</div>"
      ],
      "text/plain": [
       "       Location  AverageCost  MinimumOrder  Rating  Votes  Reviews  afghan  \\\n",
       "0           4.0        200.0          50.0     3.5   12.0      4.0       0   \n",
       "1          15.0        100.0          50.0     3.5   11.0      4.0       0   \n",
       "2          28.0        150.0          50.0     3.6   99.0     30.0       0   \n",
       "3          29.0        250.0          99.0     3.7  176.0     95.0       0   \n",
       "4          16.0        200.0          99.0     3.2  521.0    235.0       0   \n",
       "...         ...          ...           ...     ...    ...      ...     ...   \n",
       "11088      16.0        150.0          50.0     3.6   56.0     18.0       0   \n",
       "11089      32.0        250.0          50.0     4.2  326.0    189.0       0   \n",
       "11090      30.0        100.0          50.0     3.6   36.0     16.0       0   \n",
       "11092      15.0        100.0          50.0     3.1   24.0      9.0       0   \n",
       "11093      34.0        100.0          50.0     3.4   17.0      8.0       0   \n",
       "\n",
       "       african  american  andhra  ...  streetfood  sushi  tamil  tea  texmex  \\\n",
       "0            0         0       0  ...           0      0      0    0       0   \n",
       "1            0         0       0  ...           0      0      0    0       0   \n",
       "2            0         0       0  ...           1      0      0    0       0   \n",
       "3            0         0       0  ...           0      0      0    0       0   \n",
       "4            0         0       0  ...           0      0      0    0       0   \n",
       "...        ...       ...     ...  ...         ...    ...    ...  ...     ...   \n",
       "11088        0         0       0  ...           0      0      0    0       0   \n",
       "11089        0         0       0  ...           0      0      0    0       0   \n",
       "11090        0         0       0  ...           0      0      0    0       0   \n",
       "11092        0         0       0  ...           0      0      0    0       0   \n",
       "11093        0         0       0  ...           0      0      0    0       0   \n",
       "\n",
       "       thai  tibetan  turkish  vietnamese  wraps  \n",
       "0         0        0        0           0      1  \n",
       "1         0        0        0           0      0  \n",
       "2         0        0        0           0      0  \n",
       "3         0        0        0           0      0  \n",
       "4         0        0        0           0      0  \n",
       "...     ...      ...      ...         ...    ...  \n",
       "11088     0        0        0           0      0  \n",
       "11089     0        1        0           0      0  \n",
       "11090     0        0        0           0      0  \n",
       "11092     0        0        0           0      0  \n",
       "11093     0        0        0           0      0  \n",
       "\n",
       "[8875 rows x 107 columns]"
      ]
     },
     "execution_count": 26,
     "metadata": {},
     "output_type": "execute_result"
    }
   ],
   "source": [
    "train_prepared"
   ]
  },
  {
   "cell_type": "code",
   "execution_count": 27,
   "id": "sufficient-theory",
   "metadata": {
    "ExecuteTime": {
     "end_time": "2021-06-06T06:26:01.865280Z",
     "start_time": "2021-06-06T06:26:01.833271Z"
    }
   },
   "outputs": [
    {
     "name": "stdout",
     "output_type": "stream",
     "text": [
      "<class 'pandas.core.frame.DataFrame'>\n",
      "Int64Index: 8875 entries, 0 to 11093\n",
      "Columns: 107 entries, Location to wraps\n",
      "dtypes: float64(6), int64(101)\n",
      "memory usage: 7.3 MB\n"
     ]
    }
   ],
   "source": [
    "train_prepared.info()"
   ]
  },
  {
   "cell_type": "code",
   "execution_count": 28,
   "id": "fitting-gardening",
   "metadata": {
    "ExecuteTime": {
     "end_time": "2021-06-06T06:26:01.881262Z",
     "start_time": "2021-06-06T06:26:01.865280Z"
    },
    "scrolled": true
   },
   "outputs": [
    {
     "data": {
      "text/plain": [
       "0        30.0\n",
       "1        30.0\n",
       "2        65.0\n",
       "3        30.0\n",
       "4        65.0\n",
       "         ... \n",
       "11088    30.0\n",
       "11089    30.0\n",
       "11090    30.0\n",
       "11092    30.0\n",
       "11093    30.0\n",
       "Name: DeliveryTime, Length: 8875, dtype: float64"
      ]
     },
     "execution_count": 28,
     "metadata": {},
     "output_type": "execute_result"
    }
   ],
   "source": [
    "Y"
   ]
  },
  {
   "cell_type": "markdown",
   "id": "committed-rabbit",
   "metadata": {},
   "source": [
    "## 모델 학습\n",
    "  - 선형회귀 모델\n",
    "  - 랜덤 포레스트 모델"
   ]
  },
  {
   "cell_type": "markdown",
   "id": "higher-vegetation",
   "metadata": {},
   "source": [
    "#### Import Package"
   ]
  },
  {
   "cell_type": "code",
   "execution_count": 29,
   "id": "varied-guinea",
   "metadata": {
    "ExecuteTime": {
     "end_time": "2021-06-06T06:26:02.681233Z",
     "start_time": "2021-06-06T06:26:01.881262Z"
    }
   },
   "outputs": [],
   "source": [
    "from sklearn.linear_model import LinearRegression\n",
    "from sklearn.ensemble import RandomForestClassifier"
   ]
  },
  {
   "cell_type": "markdown",
   "id": "fifty-frederick",
   "metadata": {},
   "source": [
    "### Linear Regression"
   ]
  },
  {
   "cell_type": "code",
   "execution_count": 30,
   "id": "political-laundry",
   "metadata": {
    "ExecuteTime": {
     "end_time": "2021-06-06T06:26:02.825179Z",
     "start_time": "2021-06-06T06:26:02.681233Z"
    }
   },
   "outputs": [
    {
     "data": {
      "text/plain": [
       "LinearRegression()"
      ]
     },
     "execution_count": 30,
     "metadata": {},
     "output_type": "execute_result"
    }
   ],
   "source": [
    "lin_reg = LinearRegression()\n",
    "lin_reg.fit(train_prepared, Y)"
   ]
  },
  {
   "cell_type": "markdown",
   "id": "accredited-turtle",
   "metadata": {},
   "source": [
    "### Random Forest"
   ]
  },
  {
   "cell_type": "code",
   "execution_count": 31,
   "id": "bacterial-rendering",
   "metadata": {
    "ExecuteTime": {
     "end_time": "2021-06-06T06:26:03.585249Z",
     "start_time": "2021-06-06T06:26:02.825179Z"
    }
   },
   "outputs": [
    {
     "data": {
      "text/plain": [
       "RandomForestClassifier(criterion='entropy', n_estimators=30, random_state=32)"
      ]
     },
     "execution_count": 31,
     "metadata": {},
     "output_type": "execute_result"
    }
   ],
   "source": [
    "forest = RandomForestClassifier(n_estimators=30, random_state=32, criterion='entropy')\n",
    "forest.fit(train_prepared, Y)"
   ]
  },
  {
   "cell_type": "markdown",
   "id": "spanish-strap",
   "metadata": {},
   "source": [
    "### Test"
   ]
  },
  {
   "cell_type": "code",
   "execution_count": 32,
   "id": "lesbian-project",
   "metadata": {
    "ExecuteTime": {
     "end_time": "2021-06-06T06:26:03.873247Z",
     "start_time": "2021-06-06T06:26:03.585249Z"
    }
   },
   "outputs": [
    {
     "data": {
      "text/plain": [
       "(5, 107)"
      ]
     },
     "execution_count": 32,
     "metadata": {},
     "output_type": "execute_result"
    }
   ],
   "source": [
    "sample_data = train_df.iloc[:5]\n",
    "sample_prepared, sample_goal = dataset_transform(sample_data)\n",
    "sample_prepared.shape"
   ]
  },
  {
   "cell_type": "code",
   "execution_count": 33,
   "id": "republican-passage",
   "metadata": {
    "ExecuteTime": {
     "end_time": "2021-06-06T06:26:03.905203Z",
     "start_time": "2021-06-06T06:26:03.873247Z"
    }
   },
   "outputs": [
    {
     "name": "stdout",
     "output_type": "stream",
     "text": [
      "Goal Pred : 2370      45.0\n",
      "4673     120.0\n",
      "6185      30.0\n",
      "8879      30.0\n",
      "10025     30.0\n",
      "Name: DeliveryTime, dtype: float64\n",
      "\n",
      "LinearRegression() Pred\n",
      "[43. 48. 33. 32. 32.]\n",
      "\n",
      "RandomForestClassifier(criterion='entropy', n_estimators=30, random_state=32) Pred\n",
      "[ 45. 120.  30.  30.  30.]\n",
      "\n"
     ]
    }
   ],
   "source": [
    "models = [lin_reg, forest]\n",
    "\n",
    "print('Goal Pred :', sample_goal)\n",
    "print()\n",
    "\n",
    "for model in models :\n",
    "    print('{} Pred\\n{}'.format(model, model.predict(sample_prepared).round(decimals=0)))\n",
    "    print()"
   ]
  },
  {
   "cell_type": "markdown",
   "id": "asian-synthetic",
   "metadata": {},
   "source": [
    "## 모델 검증\n",
    "  - `sklearn.model_selection.cross_val_score()` 을 통한 교차 검증"
   ]
  },
  {
   "cell_type": "markdown",
   "id": "latin-accent",
   "metadata": {},
   "source": [
    "### Import Package"
   ]
  },
  {
   "cell_type": "code",
   "execution_count": 34,
   "id": "quiet-arabic",
   "metadata": {
    "ExecuteTime": {
     "end_time": "2021-06-06T06:26:03.921199Z",
     "start_time": "2021-06-06T06:26:03.905203Z"
    }
   },
   "outputs": [],
   "source": [
    "from sklearn.model_selection import cross_val_score"
   ]
  },
  {
   "cell_type": "code",
   "execution_count": 35,
   "id": "hungarian-ambassador",
   "metadata": {
    "ExecuteTime": {
     "end_time": "2021-06-06T06:26:03.937199Z",
     "start_time": "2021-06-06T06:26:03.921199Z"
    }
   },
   "outputs": [],
   "source": [
    "def display_scores(scores):\n",
    "    print(\"Scores:\", scores)\n",
    "    print(\"Mean:\", scores.mean())\n",
    "    print(\"Standard deviation:\", scores.std())"
   ]
  },
  {
   "cell_type": "markdown",
   "id": "laughing-expense",
   "metadata": {},
   "source": [
    "### Cross-Validation (교차 검증)"
   ]
  },
  {
   "cell_type": "markdown",
   "id": "accessory-revelation",
   "metadata": {},
   "source": [
    "#### Linear Regression"
   ]
  },
  {
   "cell_type": "code",
   "execution_count": 36,
   "id": "structural-treat",
   "metadata": {
    "ExecuteTime": {
     "end_time": "2021-06-06T06:26:04.521145Z",
     "start_time": "2021-06-06T06:26:03.937199Z"
    }
   },
   "outputs": [
    {
     "name": "stdout",
     "output_type": "stream",
     "text": [
      "Scores: [11.4878355  10.37769492 10.91353984 11.81660232 10.98560712 11.1935818\n",
      " 11.68686357 12.72200682 12.67238164 12.00606435]\n",
      "Mean: 11.586217787815928\n",
      "Standard deviation: 0.7174151359822029\n"
     ]
    }
   ],
   "source": [
    "lin_score = cross_val_score(lin_reg, train_prepared, Y, \n",
    "                            scoring='neg_mean_squared_error', cv=10)\n",
    "lin_rmse_scores = np.sqrt(-lin_score)\n",
    "display_scores(lin_rmse_scores)"
   ]
  },
  {
   "cell_type": "markdown",
   "id": "outside-virgin",
   "metadata": {},
   "source": [
    "#### Random Forest"
   ]
  },
  {
   "cell_type": "code",
   "execution_count": 37,
   "id": "tested-blast",
   "metadata": {
    "ExecuteTime": {
     "end_time": "2021-06-06T06:26:10.805371Z",
     "start_time": "2021-06-06T06:26:04.521145Z"
    }
   },
   "outputs": [
    {
     "name": "stderr",
     "output_type": "stream",
     "text": [
      "C:\\Anaconda3\\lib\\site-packages\\sklearn\\model_selection\\_split.py:670: UserWarning: The least populated class in y has only 4 members, which is less than n_splits=10.\n",
      "  warnings.warn((\"The least populated class in y has only %d\"\n"
     ]
    },
    {
     "name": "stdout",
     "output_type": "stream",
     "text": [
      "Scores: [11.87870378  9.99014154 10.90370422 11.47117421 10.37310712 10.95882424\n",
      " 10.92920748 12.18978078 10.69986145 11.34550157]\n",
      "Mean: 11.074000638314562\n",
      "Standard deviation: 0.6319166095688389\n"
     ]
    }
   ],
   "source": [
    "forest_score = cross_val_score(forest, train_prepared, Y, \n",
    "                            scoring='neg_mean_squared_error', cv=10)\n",
    "forest_rmse_scores = np.sqrt(-forest_score)\n",
    "display_scores(forest_rmse_scores)"
   ]
  },
  {
   "cell_type": "markdown",
   "id": "creative-hierarchy",
   "metadata": {},
   "source": [
    "## 모델 세부 조정\n",
    "  - `sklearn.model_selection.RandomizedSearchCV()` 적용\n",
    "  "
   ]
  },
  {
   "cell_type": "code",
   "execution_count": 38,
   "id": "israeli-liverpool",
   "metadata": {
    "ExecuteTime": {
     "end_time": "2021-06-06T06:29:49.914897Z",
     "start_time": "2021-06-06T06:26:10.805371Z"
    }
   },
   "outputs": [
    {
     "name": "stderr",
     "output_type": "stream",
     "text": [
      "C:\\Anaconda3\\lib\\site-packages\\sklearn\\model_selection\\_split.py:670: UserWarning: The least populated class in y has only 4 members, which is less than n_splits=5.\n",
      "  warnings.warn((\"The least populated class in y has only %d\"\n"
     ]
    },
    {
     "data": {
      "text/plain": [
       "RandomizedSearchCV(cv=5,\n",
       "                   estimator=RandomForestClassifier(criterion='entropy',\n",
       "                                                    random_state=32),\n",
       "                   n_iter=50,\n",
       "                   param_distributions={'max_features': <scipy.stats._distn_infrastructure.rv_frozen object at 0x000001F7808DD4F0>,\n",
       "                                        'n_estimators': <scipy.stats._distn_infrastructure.rv_frozen object at 0x000001F7808DDAF0>},\n",
       "                   random_state=32, scoring='neg_mean_squared_error')"
      ]
     },
     "execution_count": 38,
     "metadata": {},
     "output_type": "execute_result"
    }
   ],
   "source": [
    "from sklearn.model_selection import RandomizedSearchCV\n",
    "from scipy.stats import randint\n",
    "\n",
    "param_distribs = {\n",
    "        'n_estimators': randint(low=1, high=100),\n",
    "        'max_features' : randint(low=1, high=8)\n",
    "    }\n",
    "\n",
    "forest = RandomForestClassifier(random_state=32, criterion='entropy')\n",
    "rnd_search = RandomizedSearchCV(forest, param_distributions=param_distribs,\n",
    "                               n_iter=50, cv=5, scoring='neg_mean_squared_error', random_state=32)\n",
    "rnd_search.fit(train_prepared, Y)"
   ]
  },
  {
   "cell_type": "code",
   "execution_count": 39,
   "id": "laughing-relative",
   "metadata": {
    "ExecuteTime": {
     "end_time": "2021-06-06T06:29:49.930893Z",
     "start_time": "2021-06-06T06:29:49.914897Z"
    }
   },
   "outputs": [
    {
     "data": {
      "text/plain": [
       "RandomForestClassifier(criterion='entropy', max_features=6, n_estimators=91,\n",
       "                       random_state=32)"
      ]
     },
     "execution_count": 39,
     "metadata": {},
     "output_type": "execute_result"
    }
   ],
   "source": [
    "rnd_search.best_estimator_"
   ]
  },
  {
   "cell_type": "code",
   "execution_count": 40,
   "id": "unknown-crazy",
   "metadata": {
    "ExecuteTime": {
     "end_time": "2021-06-06T06:29:49.994887Z",
     "start_time": "2021-06-06T06:29:49.930893Z"
    },
    "scrolled": true
   },
   "outputs": [
    {
     "data": {
      "text/html": [
       "<div>\n",
       "<style scoped>\n",
       "    .dataframe tbody tr th:only-of-type {\n",
       "        vertical-align: middle;\n",
       "    }\n",
       "\n",
       "    .dataframe tbody tr th {\n",
       "        vertical-align: top;\n",
       "    }\n",
       "\n",
       "    .dataframe thead th {\n",
       "        text-align: right;\n",
       "    }\n",
       "</style>\n",
       "<table border=\"1\" class=\"dataframe\">\n",
       "  <thead>\n",
       "    <tr style=\"text-align: right;\">\n",
       "      <th></th>\n",
       "      <th>Mean Score</th>\n",
       "      <th>N-Estimators</th>\n",
       "      <th>Max Features</th>\n",
       "    </tr>\n",
       "  </thead>\n",
       "  <tbody>\n",
       "    <tr>\n",
       "      <th>18</th>\n",
       "      <td>11.175174</td>\n",
       "      <td>91.0</td>\n",
       "      <td>6.0</td>\n",
       "    </tr>\n",
       "    <tr>\n",
       "      <th>48</th>\n",
       "      <td>11.185630</td>\n",
       "      <td>71.0</td>\n",
       "      <td>7.0</td>\n",
       "    </tr>\n",
       "    <tr>\n",
       "      <th>4</th>\n",
       "      <td>11.186637</td>\n",
       "      <td>90.0</td>\n",
       "      <td>7.0</td>\n",
       "    </tr>\n",
       "    <tr>\n",
       "      <th>43</th>\n",
       "      <td>11.187392</td>\n",
       "      <td>80.0</td>\n",
       "      <td>6.0</td>\n",
       "    </tr>\n",
       "    <tr>\n",
       "      <th>20</th>\n",
       "      <td>11.199346</td>\n",
       "      <td>95.0</td>\n",
       "      <td>7.0</td>\n",
       "    </tr>\n",
       "    <tr>\n",
       "      <th>1</th>\n",
       "      <td>11.215683</td>\n",
       "      <td>63.0</td>\n",
       "      <td>7.0</td>\n",
       "    </tr>\n",
       "    <tr>\n",
       "      <th>45</th>\n",
       "      <td>11.244028</td>\n",
       "      <td>98.0</td>\n",
       "      <td>4.0</td>\n",
       "    </tr>\n",
       "    <tr>\n",
       "      <th>24</th>\n",
       "      <td>11.247284</td>\n",
       "      <td>75.0</td>\n",
       "      <td>3.0</td>\n",
       "    </tr>\n",
       "    <tr>\n",
       "      <th>10</th>\n",
       "      <td>11.257173</td>\n",
       "      <td>83.0</td>\n",
       "      <td>3.0</td>\n",
       "    </tr>\n",
       "    <tr>\n",
       "      <th>28</th>\n",
       "      <td>11.267178</td>\n",
       "      <td>94.0</td>\n",
       "      <td>4.0</td>\n",
       "    </tr>\n",
       "    <tr>\n",
       "      <th>29</th>\n",
       "      <td>11.278048</td>\n",
       "      <td>76.0</td>\n",
       "      <td>4.0</td>\n",
       "    </tr>\n",
       "    <tr>\n",
       "      <th>25</th>\n",
       "      <td>11.284415</td>\n",
       "      <td>62.0</td>\n",
       "      <td>4.0</td>\n",
       "    </tr>\n",
       "    <tr>\n",
       "      <th>11</th>\n",
       "      <td>11.289656</td>\n",
       "      <td>85.0</td>\n",
       "      <td>3.0</td>\n",
       "    </tr>\n",
       "    <tr>\n",
       "      <th>35</th>\n",
       "      <td>11.300879</td>\n",
       "      <td>99.0</td>\n",
       "      <td>3.0</td>\n",
       "    </tr>\n",
       "    <tr>\n",
       "      <th>30</th>\n",
       "      <td>11.300879</td>\n",
       "      <td>99.0</td>\n",
       "      <td>3.0</td>\n",
       "    </tr>\n",
       "    <tr>\n",
       "      <th>49</th>\n",
       "      <td>11.300879</td>\n",
       "      <td>99.0</td>\n",
       "      <td>3.0</td>\n",
       "    </tr>\n",
       "    <tr>\n",
       "      <th>3</th>\n",
       "      <td>11.305863</td>\n",
       "      <td>72.0</td>\n",
       "      <td>5.0</td>\n",
       "    </tr>\n",
       "    <tr>\n",
       "      <th>40</th>\n",
       "      <td>11.310098</td>\n",
       "      <td>52.0</td>\n",
       "      <td>3.0</td>\n",
       "    </tr>\n",
       "    <tr>\n",
       "      <th>37</th>\n",
       "      <td>11.323041</td>\n",
       "      <td>26.0</td>\n",
       "      <td>7.0</td>\n",
       "    </tr>\n",
       "    <tr>\n",
       "      <th>13</th>\n",
       "      <td>11.336467</td>\n",
       "      <td>39.0</td>\n",
       "      <td>6.0</td>\n",
       "    </tr>\n",
       "    <tr>\n",
       "      <th>39</th>\n",
       "      <td>11.339449</td>\n",
       "      <td>62.0</td>\n",
       "      <td>6.0</td>\n",
       "    </tr>\n",
       "    <tr>\n",
       "      <th>17</th>\n",
       "      <td>11.354220</td>\n",
       "      <td>53.0</td>\n",
       "      <td>6.0</td>\n",
       "    </tr>\n",
       "    <tr>\n",
       "      <th>42</th>\n",
       "      <td>11.356949</td>\n",
       "      <td>79.0</td>\n",
       "      <td>5.0</td>\n",
       "    </tr>\n",
       "    <tr>\n",
       "      <th>12</th>\n",
       "      <td>11.358561</td>\n",
       "      <td>58.0</td>\n",
       "      <td>3.0</td>\n",
       "    </tr>\n",
       "    <tr>\n",
       "      <th>31</th>\n",
       "      <td>11.359925</td>\n",
       "      <td>69.0</td>\n",
       "      <td>2.0</td>\n",
       "    </tr>\n",
       "    <tr>\n",
       "      <th>23</th>\n",
       "      <td>11.371945</td>\n",
       "      <td>84.0</td>\n",
       "      <td>1.0</td>\n",
       "    </tr>\n",
       "    <tr>\n",
       "      <th>46</th>\n",
       "      <td>11.374422</td>\n",
       "      <td>60.0</td>\n",
       "      <td>5.0</td>\n",
       "    </tr>\n",
       "    <tr>\n",
       "      <th>16</th>\n",
       "      <td>11.374917</td>\n",
       "      <td>91.0</td>\n",
       "      <td>1.0</td>\n",
       "    </tr>\n",
       "    <tr>\n",
       "      <th>34</th>\n",
       "      <td>11.381725</td>\n",
       "      <td>60.0</td>\n",
       "      <td>2.0</td>\n",
       "    </tr>\n",
       "    <tr>\n",
       "      <th>32</th>\n",
       "      <td>11.382467</td>\n",
       "      <td>49.0</td>\n",
       "      <td>5.0</td>\n",
       "    </tr>\n",
       "    <tr>\n",
       "      <th>33</th>\n",
       "      <td>11.384571</td>\n",
       "      <td>83.0</td>\n",
       "      <td>5.0</td>\n",
       "    </tr>\n",
       "    <tr>\n",
       "      <th>26</th>\n",
       "      <td>11.385560</td>\n",
       "      <td>46.0</td>\n",
       "      <td>3.0</td>\n",
       "    </tr>\n",
       "    <tr>\n",
       "      <th>21</th>\n",
       "      <td>11.386797</td>\n",
       "      <td>63.0</td>\n",
       "      <td>5.0</td>\n",
       "    </tr>\n",
       "    <tr>\n",
       "      <th>47</th>\n",
       "      <td>11.394093</td>\n",
       "      <td>79.0</td>\n",
       "      <td>1.0</td>\n",
       "    </tr>\n",
       "    <tr>\n",
       "      <th>8</th>\n",
       "      <td>11.420145</td>\n",
       "      <td>35.0</td>\n",
       "      <td>2.0</td>\n",
       "    </tr>\n",
       "    <tr>\n",
       "      <th>22</th>\n",
       "      <td>11.433950</td>\n",
       "      <td>31.0</td>\n",
       "      <td>2.0</td>\n",
       "    </tr>\n",
       "    <tr>\n",
       "      <th>9</th>\n",
       "      <td>11.487654</td>\n",
       "      <td>25.0</td>\n",
       "      <td>4.0</td>\n",
       "    </tr>\n",
       "    <tr>\n",
       "      <th>38</th>\n",
       "      <td>11.572916</td>\n",
       "      <td>15.0</td>\n",
       "      <td>7.0</td>\n",
       "    </tr>\n",
       "    <tr>\n",
       "      <th>15</th>\n",
       "      <td>11.602817</td>\n",
       "      <td>12.0</td>\n",
       "      <td>7.0</td>\n",
       "    </tr>\n",
       "    <tr>\n",
       "      <th>44</th>\n",
       "      <td>11.644862</td>\n",
       "      <td>15.0</td>\n",
       "      <td>2.0</td>\n",
       "    </tr>\n",
       "    <tr>\n",
       "      <th>6</th>\n",
       "      <td>11.680006</td>\n",
       "      <td>12.0</td>\n",
       "      <td>5.0</td>\n",
       "    </tr>\n",
       "    <tr>\n",
       "      <th>14</th>\n",
       "      <td>11.685431</td>\n",
       "      <td>12.0</td>\n",
       "      <td>6.0</td>\n",
       "    </tr>\n",
       "    <tr>\n",
       "      <th>2</th>\n",
       "      <td>11.702534</td>\n",
       "      <td>20.0</td>\n",
       "      <td>1.0</td>\n",
       "    </tr>\n",
       "    <tr>\n",
       "      <th>36</th>\n",
       "      <td>11.712038</td>\n",
       "      <td>19.0</td>\n",
       "      <td>1.0</td>\n",
       "    </tr>\n",
       "    <tr>\n",
       "      <th>19</th>\n",
       "      <td>11.735464</td>\n",
       "      <td>12.0</td>\n",
       "      <td>1.0</td>\n",
       "    </tr>\n",
       "    <tr>\n",
       "      <th>27</th>\n",
       "      <td>11.735464</td>\n",
       "      <td>12.0</td>\n",
       "      <td>1.0</td>\n",
       "    </tr>\n",
       "    <tr>\n",
       "      <th>5</th>\n",
       "      <td>11.862237</td>\n",
       "      <td>10.0</td>\n",
       "      <td>4.0</td>\n",
       "    </tr>\n",
       "    <tr>\n",
       "      <th>0</th>\n",
       "      <td>12.256645</td>\n",
       "      <td>6.0</td>\n",
       "      <td>4.0</td>\n",
       "    </tr>\n",
       "    <tr>\n",
       "      <th>7</th>\n",
       "      <td>12.419544</td>\n",
       "      <td>4.0</td>\n",
       "      <td>2.0</td>\n",
       "    </tr>\n",
       "    <tr>\n",
       "      <th>41</th>\n",
       "      <td>14.574722</td>\n",
       "      <td>1.0</td>\n",
       "      <td>7.0</td>\n",
       "    </tr>\n",
       "  </tbody>\n",
       "</table>\n",
       "</div>"
      ],
      "text/plain": [
       "    Mean Score  N-Estimators  Max Features\n",
       "18   11.175174          91.0           6.0\n",
       "48   11.185630          71.0           7.0\n",
       "4    11.186637          90.0           7.0\n",
       "43   11.187392          80.0           6.0\n",
       "20   11.199346          95.0           7.0\n",
       "1    11.215683          63.0           7.0\n",
       "45   11.244028          98.0           4.0\n",
       "24   11.247284          75.0           3.0\n",
       "10   11.257173          83.0           3.0\n",
       "28   11.267178          94.0           4.0\n",
       "29   11.278048          76.0           4.0\n",
       "25   11.284415          62.0           4.0\n",
       "11   11.289656          85.0           3.0\n",
       "35   11.300879          99.0           3.0\n",
       "30   11.300879          99.0           3.0\n",
       "49   11.300879          99.0           3.0\n",
       "3    11.305863          72.0           5.0\n",
       "40   11.310098          52.0           3.0\n",
       "37   11.323041          26.0           7.0\n",
       "13   11.336467          39.0           6.0\n",
       "39   11.339449          62.0           6.0\n",
       "17   11.354220          53.0           6.0\n",
       "42   11.356949          79.0           5.0\n",
       "12   11.358561          58.0           3.0\n",
       "31   11.359925          69.0           2.0\n",
       "23   11.371945          84.0           1.0\n",
       "46   11.374422          60.0           5.0\n",
       "16   11.374917          91.0           1.0\n",
       "34   11.381725          60.0           2.0\n",
       "32   11.382467          49.0           5.0\n",
       "33   11.384571          83.0           5.0\n",
       "26   11.385560          46.0           3.0\n",
       "21   11.386797          63.0           5.0\n",
       "47   11.394093          79.0           1.0\n",
       "8    11.420145          35.0           2.0\n",
       "22   11.433950          31.0           2.0\n",
       "9    11.487654          25.0           4.0\n",
       "38   11.572916          15.0           7.0\n",
       "15   11.602817          12.0           7.0\n",
       "44   11.644862          15.0           2.0\n",
       "6    11.680006          12.0           5.0\n",
       "14   11.685431          12.0           6.0\n",
       "2    11.702534          20.0           1.0\n",
       "36   11.712038          19.0           1.0\n",
       "19   11.735464          12.0           1.0\n",
       "27   11.735464          12.0           1.0\n",
       "5    11.862237          10.0           4.0\n",
       "0    12.256645           6.0           4.0\n",
       "7    12.419544           4.0           2.0\n",
       "41   14.574722           1.0           7.0"
      ]
     },
     "execution_count": 40,
     "metadata": {},
     "output_type": "execute_result"
    }
   ],
   "source": [
    "cv_result = rnd_search.cv_results_\n",
    "cv_result = pd.DataFrame([np.sqrt(-cv_result[\"mean_test_score\"]), cv_result[\"param_n_estimators\"], cv_result['param_max_features']]).T\n",
    "cv_result.columns=['Mean Score', 'N-Estimators', 'Max Features']\n",
    "cv_result.sort_values('Mean Score')"
   ]
  },
  {
   "cell_type": "markdown",
   "id": "connected-norwegian",
   "metadata": {},
   "source": [
    "### 특성 중요도"
   ]
  },
  {
   "cell_type": "code",
   "execution_count": 41,
   "id": "colored-auction",
   "metadata": {
    "ExecuteTime": {
     "end_time": "2021-06-06T06:29:50.042883Z",
     "start_time": "2021-06-06T06:29:49.994887Z"
    },
    "scrolled": false
   },
   "outputs": [
    {
     "data": {
      "text/html": [
       "<div>\n",
       "<style scoped>\n",
       "    .dataframe tbody tr th:only-of-type {\n",
       "        vertical-align: middle;\n",
       "    }\n",
       "\n",
       "    .dataframe tbody tr th {\n",
       "        vertical-align: top;\n",
       "    }\n",
       "\n",
       "    .dataframe thead th {\n",
       "        text-align: right;\n",
       "    }\n",
       "</style>\n",
       "<table border=\"1\" class=\"dataframe\">\n",
       "  <thead>\n",
       "    <tr style=\"text-align: right;\">\n",
       "      <th></th>\n",
       "      <th>Feature Name</th>\n",
       "      <th>Importance</th>\n",
       "    </tr>\n",
       "  </thead>\n",
       "  <tbody>\n",
       "    <tr>\n",
       "      <th>4</th>\n",
       "      <td>Votes</td>\n",
       "      <td>0.183310</td>\n",
       "    </tr>\n",
       "    <tr>\n",
       "      <th>5</th>\n",
       "      <td>Reviews</td>\n",
       "      <td>0.162750</td>\n",
       "    </tr>\n",
       "    <tr>\n",
       "      <th>0</th>\n",
       "      <td>Location</td>\n",
       "      <td>0.121441</td>\n",
       "    </tr>\n",
       "    <tr>\n",
       "      <th>3</th>\n",
       "      <td>Rating</td>\n",
       "      <td>0.118006</td>\n",
       "    </tr>\n",
       "    <tr>\n",
       "      <th>1</th>\n",
       "      <td>AverageCost</td>\n",
       "      <td>0.082246</td>\n",
       "    </tr>\n",
       "    <tr>\n",
       "      <th>2</th>\n",
       "      <td>MinimumOrder</td>\n",
       "      <td>0.043209</td>\n",
       "    </tr>\n",
       "    <tr>\n",
       "      <th>37</th>\n",
       "      <td>fastfood</td>\n",
       "      <td>0.022270</td>\n",
       "    </tr>\n",
       "    <tr>\n",
       "      <th>32</th>\n",
       "      <td>chinese</td>\n",
       "      <td>0.017068</td>\n",
       "    </tr>\n",
       "    <tr>\n",
       "      <th>78</th>\n",
       "      <td>northindian</td>\n",
       "      <td>0.016316</td>\n",
       "    </tr>\n",
       "    <tr>\n",
       "      <th>14</th>\n",
       "      <td>bakery</td>\n",
       "      <td>0.014642</td>\n",
       "    </tr>\n",
       "  </tbody>\n",
       "</table>\n",
       "</div>"
      ],
      "text/plain": [
       "    Feature Name  Importance\n",
       "4          Votes    0.183310\n",
       "5        Reviews    0.162750\n",
       "0       Location    0.121441\n",
       "3         Rating    0.118006\n",
       "1    AverageCost    0.082246\n",
       "2   MinimumOrder    0.043209\n",
       "37      fastfood    0.022270\n",
       "32       chinese    0.017068\n",
       "78   northindian    0.016316\n",
       "14        bakery    0.014642"
      ]
     },
     "execution_count": 41,
     "metadata": {},
     "output_type": "execute_result"
    }
   ],
   "source": [
    "feature_importances = pd.concat([pd.Series(train_prepared.columns), pd.Series(rnd_search.best_estimator_.feature_importances_)], axis=1, )\n",
    "feature_importances.columns=['Feature Name', 'Importance']\n",
    "feature_importances.sort_values('Importance', ascending=False)[:10]"
   ]
  },
  {
   "cell_type": "markdown",
   "id": "naked-entertainment",
   "metadata": {},
   "source": [
    "## 최종 평가"
   ]
  },
  {
   "cell_type": "code",
   "execution_count": 49,
   "id": "falling-thanks",
   "metadata": {
    "ExecuteTime": {
     "end_time": "2021-06-06T07:34:11.614480Z",
     "start_time": "2021-06-06T07:34:11.102488Z"
    }
   },
   "outputs": [],
   "source": [
    "from sklearn.metrics import mean_squared_error, mean_absolute_error\n",
    "\n",
    "final_model = rnd_search.best_estimator_\n",
    "\n",
    "x_test, y_test = dataset_transform(test_df)\n",
    "\n",
    "y_pred = final_model.predict(x_test)\n",
    "\n",
    "final_mse = mean_squared_error(y_test, y_pred)\n",
    "final_rmse = np.sqrt(final_mse)\n",
    "\n",
    "final_mae = mean_absolute_error(y_test, y_pred)"
   ]
  },
  {
   "cell_type": "code",
   "execution_count": 50,
   "id": "tracked-trail",
   "metadata": {
    "ExecuteTime": {
     "end_time": "2021-06-06T07:34:16.008994Z",
     "start_time": "2021-06-06T07:34:15.992994Z"
    }
   },
   "outputs": [
    {
     "data": {
      "text/plain": [
       "(10.77286076523536, 4.342045966651645)"
      ]
     },
     "execution_count": 50,
     "metadata": {},
     "output_type": "execute_result"
    }
   ],
   "source": [
    "final_rmse, final_mae"
   ]
  },
  {
   "cell_type": "code",
   "execution_count": 44,
   "id": "encouraging-parade",
   "metadata": {
    "ExecuteTime": {
     "end_time": "2021-06-06T06:29:50.634830Z",
     "start_time": "2021-06-06T06:29:50.602831Z"
    }
   },
   "outputs": [
    {
     "data": {
      "text/html": [
       "<div>\n",
       "<style scoped>\n",
       "    .dataframe tbody tr th:only-of-type {\n",
       "        vertical-align: middle;\n",
       "    }\n",
       "\n",
       "    .dataframe tbody tr th {\n",
       "        vertical-align: top;\n",
       "    }\n",
       "\n",
       "    .dataframe thead th {\n",
       "        text-align: right;\n",
       "    }\n",
       "</style>\n",
       "<table border=\"1\" class=\"dataframe\">\n",
       "  <thead>\n",
       "    <tr style=\"text-align: right;\">\n",
       "      <th></th>\n",
       "      <th>Y_Test</th>\n",
       "      <th>Y_Pred</th>\n",
       "    </tr>\n",
       "  </thead>\n",
       "  <tbody>\n",
       "    <tr>\n",
       "      <th>0</th>\n",
       "      <td>30.0</td>\n",
       "      <td>30.0</td>\n",
       "    </tr>\n",
       "    <tr>\n",
       "      <th>1</th>\n",
       "      <td>30.0</td>\n",
       "      <td>30.0</td>\n",
       "    </tr>\n",
       "    <tr>\n",
       "      <th>2</th>\n",
       "      <td>30.0</td>\n",
       "      <td>30.0</td>\n",
       "    </tr>\n",
       "    <tr>\n",
       "      <th>3</th>\n",
       "      <td>45.0</td>\n",
       "      <td>65.0</td>\n",
       "    </tr>\n",
       "    <tr>\n",
       "      <th>4</th>\n",
       "      <td>30.0</td>\n",
       "      <td>30.0</td>\n",
       "    </tr>\n",
       "    <tr>\n",
       "      <th>...</th>\n",
       "      <td>...</td>\n",
       "      <td>...</td>\n",
       "    </tr>\n",
       "    <tr>\n",
       "      <th>2214</th>\n",
       "      <td>45.0</td>\n",
       "      <td>30.0</td>\n",
       "    </tr>\n",
       "    <tr>\n",
       "      <th>2215</th>\n",
       "      <td>30.0</td>\n",
       "      <td>30.0</td>\n",
       "    </tr>\n",
       "    <tr>\n",
       "      <th>2216</th>\n",
       "      <td>30.0</td>\n",
       "      <td>30.0</td>\n",
       "    </tr>\n",
       "    <tr>\n",
       "      <th>2217</th>\n",
       "      <td>30.0</td>\n",
       "      <td>30.0</td>\n",
       "    </tr>\n",
       "    <tr>\n",
       "      <th>2218</th>\n",
       "      <td>30.0</td>\n",
       "      <td>30.0</td>\n",
       "    </tr>\n",
       "  </tbody>\n",
       "</table>\n",
       "<p>2219 rows × 2 columns</p>\n",
       "</div>"
      ],
      "text/plain": [
       "      Y_Test  Y_Pred\n",
       "0       30.0    30.0\n",
       "1       30.0    30.0\n",
       "2       30.0    30.0\n",
       "3       45.0    65.0\n",
       "4       30.0    30.0\n",
       "...      ...     ...\n",
       "2214    45.0    30.0\n",
       "2215    30.0    30.0\n",
       "2216    30.0    30.0\n",
       "2217    30.0    30.0\n",
       "2218    30.0    30.0\n",
       "\n",
       "[2219 rows x 2 columns]"
      ]
     },
     "execution_count": 44,
     "metadata": {},
     "output_type": "execute_result"
    }
   ],
   "source": [
    "f_result = pd.concat([pd.Series(y_test.values), pd.Series(y_pred)], axis=1)\n",
    "f_result.columns=['Y_Test', 'Y_Pred']\n",
    "f_result"
   ]
  },
  {
   "cell_type": "code",
   "execution_count": 45,
   "id": "opponent-bandwidth",
   "metadata": {
    "ExecuteTime": {
     "end_time": "2021-06-06T06:29:50.682826Z",
     "start_time": "2021-06-06T06:29:50.634830Z"
    }
   },
   "outputs": [
    {
     "data": {
      "text/html": [
       "<div>\n",
       "<style scoped>\n",
       "    .dataframe tbody tr th:only-of-type {\n",
       "        vertical-align: middle;\n",
       "    }\n",
       "\n",
       "    .dataframe tbody tr th {\n",
       "        vertical-align: top;\n",
       "    }\n",
       "\n",
       "    .dataframe thead th {\n",
       "        text-align: right;\n",
       "    }\n",
       "</style>\n",
       "<table border=\"1\" class=\"dataframe\">\n",
       "  <thead>\n",
       "    <tr style=\"text-align: right;\">\n",
       "      <th></th>\n",
       "      <th>Y_Test</th>\n",
       "      <th>Y_Pred</th>\n",
       "      <th>Correct</th>\n",
       "      <th>Error</th>\n",
       "      <th>Under Pred</th>\n",
       "    </tr>\n",
       "  </thead>\n",
       "  <tbody>\n",
       "    <tr>\n",
       "      <th>0</th>\n",
       "      <td>30.0</td>\n",
       "      <td>30.0</td>\n",
       "      <td>True</td>\n",
       "      <td>0.0</td>\n",
       "      <td>False</td>\n",
       "    </tr>\n",
       "    <tr>\n",
       "      <th>1</th>\n",
       "      <td>30.0</td>\n",
       "      <td>30.0</td>\n",
       "      <td>True</td>\n",
       "      <td>0.0</td>\n",
       "      <td>False</td>\n",
       "    </tr>\n",
       "    <tr>\n",
       "      <th>2</th>\n",
       "      <td>30.0</td>\n",
       "      <td>30.0</td>\n",
       "      <td>True</td>\n",
       "      <td>0.0</td>\n",
       "      <td>False</td>\n",
       "    </tr>\n",
       "    <tr>\n",
       "      <th>3</th>\n",
       "      <td>45.0</td>\n",
       "      <td>65.0</td>\n",
       "      <td>False</td>\n",
       "      <td>-20.0</td>\n",
       "      <td>False</td>\n",
       "    </tr>\n",
       "    <tr>\n",
       "      <th>4</th>\n",
       "      <td>30.0</td>\n",
       "      <td>30.0</td>\n",
       "      <td>True</td>\n",
       "      <td>0.0</td>\n",
       "      <td>False</td>\n",
       "    </tr>\n",
       "    <tr>\n",
       "      <th>...</th>\n",
       "      <td>...</td>\n",
       "      <td>...</td>\n",
       "      <td>...</td>\n",
       "      <td>...</td>\n",
       "      <td>...</td>\n",
       "    </tr>\n",
       "    <tr>\n",
       "      <th>2214</th>\n",
       "      <td>45.0</td>\n",
       "      <td>30.0</td>\n",
       "      <td>False</td>\n",
       "      <td>15.0</td>\n",
       "      <td>True</td>\n",
       "    </tr>\n",
       "    <tr>\n",
       "      <th>2215</th>\n",
       "      <td>30.0</td>\n",
       "      <td>30.0</td>\n",
       "      <td>True</td>\n",
       "      <td>0.0</td>\n",
       "      <td>False</td>\n",
       "    </tr>\n",
       "    <tr>\n",
       "      <th>2216</th>\n",
       "      <td>30.0</td>\n",
       "      <td>30.0</td>\n",
       "      <td>True</td>\n",
       "      <td>0.0</td>\n",
       "      <td>False</td>\n",
       "    </tr>\n",
       "    <tr>\n",
       "      <th>2217</th>\n",
       "      <td>30.0</td>\n",
       "      <td>30.0</td>\n",
       "      <td>True</td>\n",
       "      <td>0.0</td>\n",
       "      <td>False</td>\n",
       "    </tr>\n",
       "    <tr>\n",
       "      <th>2218</th>\n",
       "      <td>30.0</td>\n",
       "      <td>30.0</td>\n",
       "      <td>True</td>\n",
       "      <td>0.0</td>\n",
       "      <td>False</td>\n",
       "    </tr>\n",
       "  </tbody>\n",
       "</table>\n",
       "<p>2219 rows × 5 columns</p>\n",
       "</div>"
      ],
      "text/plain": [
       "      Y_Test  Y_Pred  Correct  Error  Under Pred\n",
       "0       30.0    30.0     True    0.0       False\n",
       "1       30.0    30.0     True    0.0       False\n",
       "2       30.0    30.0     True    0.0       False\n",
       "3       45.0    65.0    False  -20.0       False\n",
       "4       30.0    30.0     True    0.0       False\n",
       "...      ...     ...      ...    ...         ...\n",
       "2214    45.0    30.0    False   15.0        True\n",
       "2215    30.0    30.0     True    0.0       False\n",
       "2216    30.0    30.0     True    0.0       False\n",
       "2217    30.0    30.0     True    0.0       False\n",
       "2218    30.0    30.0     True    0.0       False\n",
       "\n",
       "[2219 rows x 5 columns]"
      ]
     },
     "execution_count": 45,
     "metadata": {},
     "output_type": "execute_result"
    }
   ],
   "source": [
    "f_result['Correct'] = f_result['Y_Test'] == f_result['Y_Pred']\n",
    "f_result['Error'] = f_result['Y_Test'] - f_result['Y_Pred']\n",
    "f_result['Under Pred'] = f_result['Y_Test'] > f_result['Y_Pred']\n",
    "f_result"
   ]
  },
  {
   "cell_type": "code",
   "execution_count": 46,
   "id": "sacred-glory",
   "metadata": {
    "ExecuteTime": {
     "end_time": "2021-06-06T06:29:50.698837Z",
     "start_time": "2021-06-06T06:29:50.682826Z"
    },
    "scrolled": true
   },
   "outputs": [],
   "source": [
    "df_size = len(f_result)\n",
    "result_success = f_result.groupby('Correct')['Error'].count().values[1]\n",
    "result_fail = len(f_result) - result_success\n",
    "result_ratio = result_success / df_size"
   ]
  },
  {
   "cell_type": "code",
   "execution_count": 47,
   "id": "educated-federation",
   "metadata": {
    "ExecuteTime": {
     "end_time": "2021-06-06T06:29:50.714835Z",
     "start_time": "2021-06-06T06:29:50.698837Z"
    }
   },
   "outputs": [],
   "source": [
    "under_count = f_result['Under Pred'].value_counts()[1]\n",
    "under_ratio = under_count / df_size"
   ]
  },
  {
   "cell_type": "code",
   "execution_count": 48,
   "id": "recent-stamp",
   "metadata": {
    "ExecuteTime": {
     "end_time": "2021-06-06T06:29:50.730834Z",
     "start_time": "2021-06-06T06:29:50.714835Z"
    }
   },
   "outputs": [
    {
     "name": "stdout",
     "output_type": "stream",
     "text": [
      "Under-Prediction Ratio : 18.03 %\n"
     ]
    }
   ],
   "source": [
    "print('Under-Prediction Ratio : {} %'.format((under_ratio * 100).round(2)))"
   ]
  }
 ],
 "metadata": {
  "kernelspec": {
   "display_name": "Python 3",
   "language": "python",
   "name": "python3"
  },
  "language_info": {
   "codemirror_mode": {
    "name": "ipython",
    "version": 3
   },
   "file_extension": ".py",
   "mimetype": "text/x-python",
   "name": "python",
   "nbconvert_exporter": "python",
   "pygments_lexer": "ipython3",
   "version": "3.8.5"
  },
  "toc": {
   "base_numbering": 1,
   "nav_menu": {},
   "number_sections": true,
   "sideBar": true,
   "skip_h1_title": false,
   "title_cell": "Table of Contents",
   "title_sidebar": "Contents",
   "toc_cell": false,
   "toc_position": {},
   "toc_section_display": true,
   "toc_window_display": false
  }
 },
 "nbformat": 4,
 "nbformat_minor": 5
}
