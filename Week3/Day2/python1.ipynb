{
 "cells": [
  {
   "cell_type": "code",
   "execution_count": 4,
   "id": "distinguished-championship",
   "metadata": {
    "ExecuteTime": {
     "end_time": "2021-05-04T07:38:37.602854Z",
     "start_time": "2021-05-04T07:38:36.821681Z"
    }
   },
   "outputs": [],
   "source": [
    "import numpy as np"
   ]
  },
  {
   "cell_type": "markdown",
   "id": "transparent-peter",
   "metadata": {},
   "source": [
    "## 벡터와 스칼라 연산"
   ]
  },
  {
   "cell_type": "markdown",
   "id": "apart-compilation",
   "metadata": {},
   "source": [
    "$$ x = \\left( \\begin{matrix} 1 \\\\ 2 \\\\ 3 \\end{matrix} \\right) \\quad c = 5 $$"
   ]
  },
  {
   "cell_type": "code",
   "execution_count": 12,
   "id": "civic-anniversary",
   "metadata": {
    "ExecuteTime": {
     "end_time": "2021-05-04T07:40:40.613507Z",
     "start_time": "2021-05-04T07:40:40.597925Z"
    }
   },
   "outputs": [],
   "source": [
    "x = np.array([1, 2, 3])\n",
    "c = 5"
   ]
  },
  {
   "cell_type": "code",
   "execution_count": 14,
   "id": "applied-value",
   "metadata": {
    "ExecuteTime": {
     "end_time": "2021-05-04T07:41:49.983366Z",
     "start_time": "2021-05-04T07:41:49.967741Z"
    }
   },
   "outputs": [
    {
     "name": "stdout",
     "output_type": "stream",
     "text": [
      " + : [6 7 8]\n",
      " - : [-4 -3 -2]\n",
      " * : [ 5 10 15]\n",
      " / : [0.2 0.4 0.6]\n",
      " % : [1 2 3]\n"
     ]
    }
   ],
   "source": [
    "print(' + : {}'.format(x + c))\n",
    "print(' - : {}'.format(x - c))\n",
    "print(' * : {}'.format(x * c))\n",
    "print(' / : {}'.format(x / c))\n",
    "print(' % : {}'.format(x % c))"
   ]
  },
  {
   "cell_type": "markdown",
   "id": "sitting-sculpture",
   "metadata": {},
   "source": [
    "## 벡터와 벡터 연산"
   ]
  },
  {
   "cell_type": "markdown",
   "id": "entertaining-buffer",
   "metadata": {},
   "source": [
    "$$ x = \\left( \\begin{matrix} 1 \\\\ 2 \\\\ 3 \\end{matrix} \\right) \\quad z = \\left( \\begin{matrix} 3 \\\\ 20 \\\\ 7 \\end{matrix} \\right) $$"
   ]
  },
  {
   "cell_type": "code",
   "execution_count": 15,
   "id": "skilled-victim",
   "metadata": {
    "ExecuteTime": {
     "end_time": "2021-05-04T07:43:49.311683Z",
     "start_time": "2021-05-04T07:43:49.296060Z"
    }
   },
   "outputs": [],
   "source": [
    "x = np.array([1, 2, 3])\n",
    "z = np.array([3, 20, 7])"
   ]
  },
  {
   "cell_type": "code",
   "execution_count": 16,
   "id": "secret-payday",
   "metadata": {
    "ExecuteTime": {
     "end_time": "2021-05-04T07:43:57.451708Z",
     "start_time": "2021-05-04T07:43:57.420479Z"
    }
   },
   "outputs": [
    {
     "name": "stdout",
     "output_type": "stream",
     "text": [
      " + : [ 4 22 10]\n",
      " - : [ -2 -18  -4]\n",
      " * : [ 3 40 21]\n",
      " / : [0.33333333 0.1        0.42857143]\n",
      " % : [1 2 3]\n"
     ]
    }
   ],
   "source": [
    "print(' + : {}'.format(x + z))\n",
    "print(' - : {}'.format(x - z))\n",
    "print(' * : {}'.format(x * z))\n",
    "print(' / : {}'.format(x / z))\n",
    "print(' % : {}'.format(x % z))"
   ]
  },
  {
   "cell_type": "markdown",
   "id": "artistic-movement",
   "metadata": {},
   "source": [
    "## 인덱싱, 슬라이싱"
   ]
  },
  {
   "cell_type": "markdown",
   "id": "aggressive-contents",
   "metadata": {},
   "source": [
    "$$ x = \\left( \\begin{matrix} 1 & 2 & 3 & 4 \\\\ 5 & 6 & 7 & 8 \\\\ 9 & 10 & 11 & 12 \\end{matrix} \\right) $$"
   ]
  },
  {
   "cell_type": "code",
   "execution_count": 63,
   "id": "specified-welcome",
   "metadata": {
    "ExecuteTime": {
     "end_time": "2021-05-04T08:13:17.376333Z",
     "start_time": "2021-05-04T08:13:17.360708Z"
    }
   },
   "outputs": [],
   "source": [
    "x = np.array([[1,2,3,4], [5,6,7,8],[9,10,11,12]])"
   ]
  },
  {
   "cell_type": "code",
   "execution_count": 29,
   "id": "fundamental-incidence",
   "metadata": {
    "ExecuteTime": {
     "end_time": "2021-05-04T07:53:55.358218Z",
     "start_time": "2021-05-04T07:53:55.342591Z"
    }
   },
   "outputs": [
    {
     "name": "stdout",
     "output_type": "stream",
     "text": [
      "(2,3) : 12\n",
      "(0,2) : 3\n"
     ]
    }
   ],
   "source": [
    "print('(2,3) : {}'.format(x[2,3]))\n",
    "print('(0,2) : {}'.format(x[0,2]))"
   ]
  },
  {
   "cell_type": "code",
   "execution_count": 31,
   "id": "brazilian-catering",
   "metadata": {
    "ExecuteTime": {
     "end_time": "2021-05-04T07:54:11.450776Z",
     "start_time": "2021-05-04T07:54:11.419570Z"
    }
   },
   "outputs": [
    {
     "name": "stdout",
     "output_type": "stream",
     "text": [
      "[1:] : [[ 5  6  7  8]\n",
      " [ 9 10 11 12]]\n",
      "[:1] : [[1 2 3 4]]\n",
      "[:] : [[ 1  2  3  4]\n",
      " [ 5  6  7  8]\n",
      " [ 9 10 11 12]]\n",
      "[1:2] : [[5 6 7 8]]\n",
      "[:, 2] : [ 3  7 11]\n",
      "[:, 2:] : [[ 3  4]\n",
      " [ 7  8]\n",
      " [11 12]]\n",
      "[:, :] : [[ 1  2  3  4]\n",
      " [ 5  6  7  8]\n",
      " [ 9 10 11 12]]\n",
      "[0:2, 1:3] : [[2 3]\n",
      " [6 7]]\n"
     ]
    }
   ],
   "source": [
    "print('[1:] : {}'.format(x[1:]))\n",
    "print('[:1] : {}'.format(x[:1]))\n",
    "print('[:] : {}'.format(x[:]))\n",
    "print('[1:2] : {}'.format(x[1:2]))\n",
    "print('[:, 2] : {}'.format(x[: ,2]))\n",
    "print('[:, 2:] : {}'.format(x[: ,2:]))\n",
    "print('[:, :] : {}'.format(x[: ,:]))\n",
    "print('[0:2, 1:3] : {}'.format(x[0:2 ,1:3]))"
   ]
  },
  {
   "cell_type": "code",
   "execution_count": 33,
   "id": "compact-sacramento",
   "metadata": {
    "ExecuteTime": {
     "end_time": "2021-05-04T07:55:16.149117Z",
     "start_time": "2021-05-04T07:55:16.117903Z"
    },
    "scrolled": true
   },
   "outputs": [
    {
     "name": "stdout",
     "output_type": "stream",
     "text": [
      "[-1] : [ 9 10 11 12]\n",
      "[::-1] : [[ 9 10 11 12]\n",
      " [ 5  6  7  8]\n",
      " [ 1  2  3  4]]\n",
      "[::-1, ::-1] : [[12 11 10  9]\n",
      " [ 8  7  6  5]\n",
      " [ 4  3  2  1]]\n"
     ]
    }
   ],
   "source": [
    "print('[-1] : {}'.format(x[-1]))\n",
    "print('[::-1] : {}'.format(x[::-1]))\n",
    "print('[::-1, ::-1] : {}'.format(x[::-1, ::-1]))"
   ]
  },
  {
   "cell_type": "code",
   "execution_count": 65,
   "id": "thorough-valentine",
   "metadata": {
    "ExecuteTime": {
     "end_time": "2021-05-04T08:13:31.125351Z",
     "start_time": "2021-05-04T08:13:31.094111Z"
    }
   },
   "outputs": [
    {
     "name": "stdout",
     "output_type": "stream",
     "text": [
      "[[ 1  5  9]\n",
      " [ 2  6 10]\n",
      " [ 3  7 11]\n",
      " [ 4  8 12]]\n",
      "[[[ 1  2  3  4]]\n",
      "\n",
      " [[ 5  6  7  8]]\n",
      "\n",
      " [[ 9 10 11 12]]]\n"
     ]
    }
   ],
   "source": [
    "print(x.T)\n",
    "print(x[:, None])"
   ]
  },
  {
   "cell_type": "markdown",
   "id": "compliant-memphis",
   "metadata": {},
   "source": [
    "## Broadcasting\n",
    "  - 기본적으로 같은 타입의 데이터에 대해서만 연산 가능\n",
    "  - 피연산자가 연산 가능하도록 변환이 가능한 경우 연산 가능"
   ]
  },
  {
   "cell_type": "markdown",
   "id": "applicable-dating",
   "metadata": {},
   "source": [
    "### *M* x *N*, *M* x 1\n",
    "$$ x = \\left( \\begin{matrix} 1 & 2 & 3 \\\\ 4 & 5 & 6 \\\\ 7 & 8 & 9 \\end{matrix} \\right) \\quad y = \\left( \\begin{matrix} 2 \\\\ 4  \\\\ 8 \\end{matrix} \\right) $$"
   ]
  },
  {
   "cell_type": "code",
   "execution_count": 40,
   "id": "impaired-wallace",
   "metadata": {
    "ExecuteTime": {
     "end_time": "2021-05-04T08:05:06.241069Z",
     "start_time": "2021-05-04T08:05:06.209793Z"
    }
   },
   "outputs": [
    {
     "data": {
      "text/plain": [
       "array([[ 3,  4,  5],\n",
       "       [ 8,  9, 10],\n",
       "       [15, 16, 17]])"
      ]
     },
     "execution_count": 40,
     "metadata": {},
     "output_type": "execute_result"
    }
   ],
   "source": [
    "x = np.array([[1,2,3], [4,5,6], [7,8,9]])\n",
    "y = np.array([[2], [4], [8]])\n",
    "\n",
    "x + y"
   ]
  },
  {
   "cell_type": "markdown",
   "id": "exterior-timber",
   "metadata": {},
   "source": [
    "### *M* x *N*, 1 x *N*\n",
    "$$ x = \\left( \\begin{matrix} 1 & 2 & 3 \\\\ 4 & 5 & 6 \\\\ 7 & 8 & 9 \\end{matrix} \\right) \\quad y = \\left( \\begin{matrix} 2 & 4 & 8 \\end{matrix} \\right) $$"
   ]
  },
  {
   "cell_type": "code",
   "execution_count": 66,
   "id": "aging-boards",
   "metadata": {
    "ExecuteTime": {
     "end_time": "2021-05-04T09:18:52.185700Z",
     "start_time": "2021-05-04T09:18:52.154416Z"
    }
   },
   "outputs": [
    {
     "name": "stdout",
     "output_type": "stream",
     "text": [
      "[[ 3  6 11]\n",
      " [ 6  9 14]\n",
      " [ 9 12 17]]\n",
      "[[ 2  8 24]\n",
      " [ 8 20 48]\n",
      " [14 32 72]]\n"
     ]
    }
   ],
   "source": [
    "x = np.array([[1,2,3], [4,5,6], [7,8,9]])\n",
    "y = np.array([2, 4, 8])\n",
    "\n",
    "\n",
    "print(x + y)\n",
    "print(x * y)"
   ]
  },
  {
   "cell_type": "markdown",
   "id": "upset-visitor",
   "metadata": {},
   "source": [
    "### *M* x 1 , 1 x *N*\n",
    "$$ x = \\left( \\begin{matrix} 1 \\\\ 4 \\\\ 7 \\end{matrix} \\right) \\quad y = \\left( \\begin{matrix} 2 & 4 & 8 \\end{matrix} \\right) $$"
   ]
  },
  {
   "cell_type": "code",
   "execution_count": 43,
   "id": "ideal-weather",
   "metadata": {
    "ExecuteTime": {
     "end_time": "2021-05-04T08:05:36.910640Z",
     "start_time": "2021-05-04T08:05:36.895017Z"
    }
   },
   "outputs": [
    {
     "data": {
      "text/plain": [
       "array([[ 3,  5,  9],\n",
       "       [ 6,  8, 12],\n",
       "       [ 9, 11, 15]])"
      ]
     },
     "execution_count": 43,
     "metadata": {},
     "output_type": "execute_result"
    }
   ],
   "source": [
    "x = np.array([[1], [4], [7]])\n",
    "y = np.array([2, 4, 8])\n",
    "\n",
    "x + y"
   ]
  }
 ],
 "metadata": {
  "kernelspec": {
   "display_name": "Python 3",
   "language": "python",
   "name": "python3"
  },
  "language_info": {
   "codemirror_mode": {
    "name": "ipython",
    "version": 3
   },
   "file_extension": ".py",
   "mimetype": "text/x-python",
   "name": "python",
   "nbconvert_exporter": "python",
   "pygments_lexer": "ipython3",
   "version": "3.8.5"
  },
  "toc": {
   "base_numbering": 1,
   "nav_menu": {},
   "number_sections": true,
   "sideBar": true,
   "skip_h1_title": false,
   "title_cell": "Table of Contents",
   "title_sidebar": "Contents",
   "toc_cell": false,
   "toc_position": {},
   "toc_section_display": true,
   "toc_window_display": false
  }
 },
 "nbformat": 4,
 "nbformat_minor": 5
}
