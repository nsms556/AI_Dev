{
 "cells": [
  {
   "cell_type": "code",
   "execution_count": 1,
   "id": "organizational-trick",
   "metadata": {
    "ExecuteTime": {
     "end_time": "2021-05-04T08:33:16.115906Z",
     "start_time": "2021-05-04T08:33:15.897196Z"
    }
   },
   "outputs": [],
   "source": [
    "import numpy as np"
   ]
  },
  {
   "cell_type": "markdown",
   "id": "owned-heater",
   "metadata": {},
   "source": [
    "# 선형대수"
   ]
  },
  {
   "cell_type": "markdown",
   "id": "historical-bumper",
   "metadata": {},
   "source": [
    "## 기초"
   ]
  },
  {
   "cell_type": "markdown",
   "id": "based-burning",
   "metadata": {},
   "source": [
    "### 영벡터\n",
    "  - 원소가 모두 0인 벡터\n",
    "  - `np.zeros(dim)`"
   ]
  },
  {
   "cell_type": "code",
   "execution_count": 6,
   "id": "changing-crossing",
   "metadata": {
    "ExecuteTime": {
     "end_time": "2021-05-04T08:36:46.530322Z",
     "start_time": "2021-05-04T08:36:46.514696Z"
    }
   },
   "outputs": [
    {
     "name": "stdout",
     "output_type": "stream",
     "text": [
      "[0. 0. 0.]\n",
      "\n",
      "[[0. 0.]\n",
      " [0. 0.]\n",
      " [0. 0.]]\n",
      "\n",
      "[[[0. 0. 0.]\n",
      "  [0. 0. 0.]\n",
      "  [0. 0. 0.]]\n",
      "\n",
      " [[0. 0. 0.]\n",
      "  [0. 0. 0.]\n",
      "  [0. 0. 0.]]\n",
      "\n",
      " [[0. 0. 0.]\n",
      "  [0. 0. 0.]\n",
      "  [0. 0. 0.]]]\n"
     ]
    }
   ],
   "source": [
    "print(np.zeros(3))\n",
    "print()\n",
    "print(np.zeros((3,2)))\n",
    "print()\n",
    "print(np.zeros((3,3,3)))"
   ]
  },
  {
   "cell_type": "markdown",
   "id": "cognitive-plaintiff",
   "metadata": {},
   "source": [
    "### 일벡터\n",
    "  - 원소가 모두 1인 벡터\n",
    "  - `np.ones(dim)`"
   ]
  },
  {
   "cell_type": "code",
   "execution_count": 7,
   "id": "secure-temperature",
   "metadata": {
    "ExecuteTime": {
     "end_time": "2021-05-04T08:36:54.170380Z",
     "start_time": "2021-05-04T08:36:54.154758Z"
    }
   },
   "outputs": [
    {
     "name": "stdout",
     "output_type": "stream",
     "text": [
      "[[1. 1.]\n",
      " [1. 1.]]\n"
     ]
    }
   ],
   "source": [
    "print(np.ones((2,2)))"
   ]
  },
  {
   "cell_type": "markdown",
   "id": "southern-greek",
   "metadata": {},
   "source": [
    "### 대각행렬(diagonal matrix)\n",
    "  - Main diagonal을 제외한 나머지가 0인 행렬\n",
    "  - `np.diag((main_diag))`"
   ]
  },
  {
   "cell_type": "code",
   "execution_count": 9,
   "id": "naval-experience",
   "metadata": {
    "ExecuteTime": {
     "end_time": "2021-05-04T08:39:56.914985Z",
     "start_time": "2021-05-04T08:39:56.883770Z"
    }
   },
   "outputs": [
    {
     "name": "stdout",
     "output_type": "stream",
     "text": [
      "[[2 0]\n",
      " [0 4]]\n",
      "\n",
      "[[1 0 0]\n",
      " [0 3 0]\n",
      " [0 0 4]]\n"
     ]
    }
   ],
   "source": [
    "print(np.diag([2,4]))\n",
    "print()\n",
    "print(np.diag([1,3,4]))"
   ]
  },
  {
   "cell_type": "markdown",
   "id": "civilian-jacksonville",
   "metadata": {},
   "source": [
    "### 항등행렬(identity matrix)\n",
    "  - main diagonal이 1인 행렬\n",
    "  - `np.eye(size, (dtype=int, uint, float, complex, ...))`"
   ]
  },
  {
   "cell_type": "code",
   "execution_count": 11,
   "id": "combined-perspective",
   "metadata": {
    "ExecuteTime": {
     "end_time": "2021-05-04T08:43:32.893841Z",
     "start_time": "2021-05-04T08:43:32.878251Z"
    }
   },
   "outputs": [
    {
     "name": "stdout",
     "output_type": "stream",
     "text": [
      "[[1 0]\n",
      " [0 1]]\n"
     ]
    }
   ],
   "source": [
    "print(np.eye(2, dtype=int))"
   ]
  },
  {
   "cell_type": "code",
   "execution_count": 13,
   "id": "handmade-venezuela",
   "metadata": {
    "ExecuteTime": {
     "end_time": "2021-05-04T08:43:40.408912Z",
     "start_time": "2021-05-04T08:43:40.377703Z"
    }
   },
   "outputs": [
    {
     "name": "stdout",
     "output_type": "stream",
     "text": [
      "[[1. 0. 0. 0.]\n",
      " [0. 1. 0. 0.]\n",
      " [0. 0. 1. 0.]\n",
      " [0. 0. 0. 1.]]\n"
     ]
    }
   ],
   "source": [
    "print(np.eye(4, dtype=float))"
   ]
  },
  {
   "cell_type": "markdown",
   "id": "atomic-beach",
   "metadata": {},
   "source": [
    "### 행렬 곱(dot product)\n",
    "  - 행렬간의 곱 연산\n",
    "  - `np.dot()` or `@`\n",
    "    - `m1.dot(m2)` = `m1 @ m2`"
   ]
  },
  {
   "cell_type": "code",
   "execution_count": 17,
   "id": "prerequisite-gilbert",
   "metadata": {
    "ExecuteTime": {
     "end_time": "2021-05-04T08:47:48.205182Z",
     "start_time": "2021-05-04T08:47:48.189591Z"
    }
   },
   "outputs": [],
   "source": [
    "'''\n",
    "m1 = 1 4\n",
    "     2 3\n",
    "     \n",
    "m2 = 7 9\n",
    "     0 6\n",
    "'''\n",
    "\n",
    "m1 = np.array([[1,4], [2,3]])\n",
    "m2 = np.array([[7,9], [0,6]])"
   ]
  },
  {
   "cell_type": "code",
   "execution_count": 15,
   "id": "electric-ukraine",
   "metadata": {
    "ExecuteTime": {
     "end_time": "2021-05-04T08:46:38.685597Z",
     "start_time": "2021-05-04T08:46:38.654384Z"
    }
   },
   "outputs": [
    {
     "data": {
      "text/plain": [
       "array([[ 7, 33],\n",
       "       [14, 36]])"
      ]
     },
     "execution_count": 15,
     "metadata": {},
     "output_type": "execute_result"
    }
   ],
   "source": [
    "m1.dot(m2)"
   ]
  },
  {
   "cell_type": "code",
   "execution_count": 16,
   "id": "offensive-hierarchy",
   "metadata": {
    "ExecuteTime": {
     "end_time": "2021-05-04T08:46:42.294700Z",
     "start_time": "2021-05-04T08:46:42.263492Z"
    }
   },
   "outputs": [
    {
     "data": {
      "text/plain": [
       "array([[ 7, 33],\n",
       "       [14, 36]])"
      ]
     },
     "execution_count": 16,
     "metadata": {},
     "output_type": "execute_result"
    }
   ],
   "source": [
    "m1 @ m2"
   ]
  },
  {
   "cell_type": "markdown",
   "id": "artificial-extra",
   "metadata": {},
   "source": [
    "## 심화"
   ]
  },
  {
   "cell_type": "markdown",
   "id": "returning-gates",
   "metadata": {},
   "source": [
    "### 트레이스(trace)\n",
    "  - Main diagonal의 합\n",
    "  - `np.trace()`"
   ]
  },
  {
   "cell_type": "code",
   "execution_count": 24,
   "id": "composite-exhibit",
   "metadata": {
    "ExecuteTime": {
     "end_time": "2021-05-04T08:52:36.363164Z",
     "start_time": "2021-05-04T08:52:36.347584Z"
    }
   },
   "outputs": [],
   "source": [
    "A = np.array([[1,2,3], [4,5,6], [7,8,9]])\n",
    "B = np.eye(3, dtype=int)"
   ]
  },
  {
   "cell_type": "code",
   "execution_count": 25,
   "id": "uniform-hardware",
   "metadata": {
    "ExecuteTime": {
     "end_time": "2021-05-04T08:52:37.472461Z",
     "start_time": "2021-05-04T08:52:37.456836Z"
    }
   },
   "outputs": [
    {
     "name": "stdout",
     "output_type": "stream",
     "text": [
      "15\n",
      "15\n",
      "3\n"
     ]
    }
   ],
   "source": [
    "print(np.trace(A))\n",
    "print(A.trace())\n",
    "print(B.trace())"
   ]
  },
  {
   "cell_type": "markdown",
   "id": "designed-testimony",
   "metadata": {},
   "source": [
    "### 행렬식(determinant)\n",
    "  - 행렬의 대표값 중 하나\n",
    "  - 선형변환 과정에서 벡터의 스케일링 척도\n",
    "  - ![image](image/1.png)\n",
    "  - `np.linalg.det()`"
   ]
  },
  {
   "cell_type": "code",
   "execution_count": 26,
   "id": "ethical-anger",
   "metadata": {
    "ExecuteTime": {
     "end_time": "2021-05-04T08:55:04.157327Z",
     "start_time": "2021-05-04T08:55:04.126120Z"
    }
   },
   "outputs": [],
   "source": [
    "arr2 = np.array([[1,3], \n",
    "                 [2,6]])\n",
    "arr3 = np.array([[1,4,7], \n",
    "                 [2,5,8], \n",
    "                 [3,6,9]])"
   ]
  },
  {
   "cell_type": "code",
   "execution_count": 27,
   "id": "reduced-guess",
   "metadata": {
    "ExecuteTime": {
     "end_time": "2021-05-04T08:55:23.640268Z",
     "start_time": "2021-05-04T08:55:23.593432Z"
    }
   },
   "outputs": [
    {
     "name": "stdout",
     "output_type": "stream",
     "text": [
      "0.0\n",
      "0.0\n"
     ]
    }
   ],
   "source": [
    "print(np.linalg.det(arr2))\n",
    "print(np.linalg.det(arr3))"
   ]
  },
  {
   "cell_type": "markdown",
   "id": "fallen-promotion",
   "metadata": {},
   "source": [
    "### 역행렬\n",
    "  - 행렬 A에 대해 AB = BA = I를 만족하는 행렬 B = A<sup>-1</sup>\n",
    "  - `np.linalg.inv()`"
   ]
  },
  {
   "cell_type": "code",
   "execution_count": 28,
   "id": "entitled-friendship",
   "metadata": {
    "ExecuteTime": {
     "end_time": "2021-05-04T09:02:55.569545Z",
     "start_time": "2021-05-04T09:02:55.553946Z"
    }
   },
   "outputs": [],
   "source": [
    "A = np.array([[2,1], \n",
    "              [4,3]])"
   ]
  },
  {
   "cell_type": "code",
   "execution_count": 31,
   "id": "helpful-layout",
   "metadata": {
    "ExecuteTime": {
     "end_time": "2021-05-04T09:05:53.847210Z",
     "start_time": "2021-05-04T09:05:53.816006Z"
    }
   },
   "outputs": [
    {
     "name": "stdout",
     "output_type": "stream",
     "text": [
      "[[ 1.5 -0.5]\n",
      " [-2.   1. ]]\n",
      "[[1. 0.]\n",
      " [0. 1.]]\n"
     ]
    }
   ],
   "source": [
    "A_inv = np.linalg.inv(A)\n",
    "\n",
    "print(A_inv)\n",
    "print(A @ A_inv)"
   ]
  },
  {
   "cell_type": "markdown",
   "id": "loved-alabama",
   "metadata": {},
   "source": [
    "### 고유값, 고유벡터(eigenvalue, eigenvector)\n",
    "  - 정방행렬 A에 대해 $ Ax = \\lambda x $를 만족하는 $ \\lambda $와 x\n",
    "    - 선형변환 A에 의한 변환 결과가 자기 자신의 상수배가 되는 0이 아닌 벡터\n",
    "    - $ (A - \\lambda I)x = 0 $ → $ \\ \\textit{det}(A - \\lambda I) = 0 $\n",
    "  - 고유값 : $ \\lambda $, 고유벡터 : x\n",
    "  - `np.linalg.eig()`\n",
    "    - `return eigvalue, eigvector`"
   ]
  },
  {
   "cell_type": "code",
   "execution_count": 32,
   "id": "civilian-mainstream",
   "metadata": {
    "ExecuteTime": {
     "end_time": "2021-05-04T09:10:29.601684Z",
     "start_time": "2021-05-04T09:10:29.570443Z"
    }
   },
   "outputs": [],
   "source": [
    "A = np.array([[2, 0, -2], \n",
    "              [1, 1, -2], \n",
    "              [0, 0,  1]])"
   ]
  },
  {
   "cell_type": "code",
   "execution_count": 42,
   "id": "union-lottery",
   "metadata": {
    "ExecuteTime": {
     "end_time": "2021-05-04T09:17:25.979806Z",
     "start_time": "2021-05-04T09:17:25.948604Z"
    }
   },
   "outputs": [
    {
     "data": {
      "text/plain": [
       "(array([1., 2., 1.]),\n",
       " array([[0.        , 0.70710678, 0.89442719],\n",
       "        [1.        , 0.70710678, 0.        ],\n",
       "        [0.        , 0.        , 0.4472136 ]]))"
      ]
     },
     "execution_count": 42,
     "metadata": {},
     "output_type": "execute_result"
    }
   ],
   "source": [
    "_lambda, x = np.linalg.eig(A)\n",
    "_lambda, x"
   ]
  },
  {
   "cell_type": "code",
   "execution_count": 45,
   "id": "third-fault",
   "metadata": {
    "ExecuteTime": {
     "end_time": "2021-05-04T09:19:37.744805Z",
     "start_time": "2021-05-04T09:19:37.713592Z"
    }
   },
   "outputs": [
    {
     "data": {
      "text/plain": [
       "array([0., 1., 0.])"
      ]
     },
     "execution_count": 45,
     "metadata": {},
     "output_type": "execute_result"
    }
   ],
   "source": [
    "A @ x[:, 0]        # Ax"
   ]
  },
  {
   "cell_type": "code",
   "execution_count": 38,
   "id": "excessive-helping",
   "metadata": {
    "ExecuteTime": {
     "end_time": "2021-05-04T09:13:24.848400Z",
     "start_time": "2021-05-04T09:13:24.817194Z"
    }
   },
   "outputs": [
    {
     "data": {
      "text/plain": [
       "array([0., 1., 0.])"
      ]
     },
     "execution_count": 38,
     "metadata": {},
     "output_type": "execute_result"
    }
   ],
   "source": [
    "_lambda[0] * x[:, 0]    #lambda * x"
   ]
  },
  {
   "cell_type": "code",
   "execution_count": 84,
   "id": "cosmetic-local",
   "metadata": {
    "ExecuteTime": {
     "end_time": "2021-05-04T10:25:11.879029Z",
     "start_time": "2021-05-04T10:25:11.847823Z"
    }
   },
   "outputs": [
    {
     "data": {
      "text/plain": [
       "array([[ 1.,  1.,  0.],\n",
       "       [ 0., -1.,  0.],\n",
       "       [-2., -2.,  0.]])"
      ]
     },
     "execution_count": 84,
     "metadata": {},
     "output_type": "execute_result"
    }
   ],
   "source": [
    "tmp = A - (_lambda * np.eye(3))\n",
    "tmp.T"
   ]
  },
  {
   "cell_type": "code",
   "execution_count": 61,
   "id": "continued-absence",
   "metadata": {
    "ExecuteTime": {
     "end_time": "2021-05-04T09:48:31.951077Z",
     "start_time": "2021-05-04T09:48:31.919862Z"
    }
   },
   "outputs": [
    {
     "data": {
      "text/plain": [
       "0.0"
      ]
     },
     "execution_count": 61,
     "metadata": {},
     "output_type": "execute_result"
    }
   ],
   "source": [
    "np.linalg.det(tmp)"
   ]
  },
  {
   "cell_type": "code",
   "execution_count": 88,
   "id": "cardiovascular-article",
   "metadata": {
    "ExecuteTime": {
     "end_time": "2021-05-04T10:25:54.985216Z",
     "start_time": "2021-05-04T10:25:54.954004Z"
    }
   },
   "outputs": [
    {
     "data": {
      "text/plain": [
       "0.0"
      ]
     },
     "execution_count": 88,
     "metadata": {},
     "output_type": "execute_result"
    }
   ],
   "source": [
    "np.linalg.det(tmp @ x)"
   ]
  }
 ],
 "metadata": {
  "kernelspec": {
   "display_name": "Python 3",
   "language": "python",
   "name": "python3"
  },
  "language_info": {
   "codemirror_mode": {
    "name": "ipython",
    "version": 3
   },
   "file_extension": ".py",
   "mimetype": "text/x-python",
   "name": "python",
   "nbconvert_exporter": "python",
   "pygments_lexer": "ipython3",
   "version": "3.8.5"
  },
  "toc": {
   "base_numbering": 1,
   "nav_menu": {},
   "number_sections": true,
   "sideBar": true,
   "skip_h1_title": false,
   "title_cell": "Table of Contents",
   "title_sidebar": "Contents",
   "toc_cell": false,
   "toc_position": {},
   "toc_section_display": true,
   "toc_window_display": false
  }
 },
 "nbformat": 4,
 "nbformat_minor": 5
}
