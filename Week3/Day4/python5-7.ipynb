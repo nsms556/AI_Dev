{
 "cells": [
  {
   "cell_type": "code",
   "execution_count": 3,
   "metadata": {
    "ExecuteTime": {
     "end_time": "2021-05-07T06:06:45.471737Z",
     "start_time": "2021-05-07T06:06:45.440460Z"
    }
   },
   "outputs": [],
   "source": [
    "import numpy as np\n",
    "import pandas as pd\n",
    "import matplotlib.pyplot as plt\n",
    "\n",
    "%matplotlib inline"
   ]
  },
  {
   "cell_type": "code",
   "execution_count": 5,
   "metadata": {
    "ExecuteTime": {
     "end_time": "2021-05-07T06:07:37.561707Z",
     "start_time": "2021-05-07T06:07:37.530497Z"
    }
   },
   "outputs": [
    {
     "data": {
      "text/plain": [
       "(array([ 0,  1,  2,  3,  4,  5,  6,  7,  8,  9, 10, 11, 12, 13, 14, 15, 16,\n",
       "        17, 18, 19]),\n",
       " array([ 2,  9,  9, 15, 19,  2, 12, 13, 19, 16,  9, 10, 11,  9,  0,  9,  5,\n",
       "        11,  2,  2]))"
      ]
     },
     "execution_count": 5,
     "metadata": {},
     "output_type": "execute_result"
    }
   ],
   "source": [
    "x = np.array([x for x in range(20)])\n",
    "y = np.random.randint(0,20, 20)\n",
    "\n",
    "x, y"
   ]
  },
  {
   "cell_type": "code",
   "execution_count": 30,
   "metadata": {
    "ExecuteTime": {
     "end_time": "2021-05-07T06:24:06.363837Z",
     "start_time": "2021-05-07T06:24:05.832647Z"
    }
   },
   "outputs": [
    {
     "data": {
      "text/html": [
       "<div>\n",
       "<style scoped>\n",
       "    .dataframe tbody tr th:only-of-type {\n",
       "        vertical-align: middle;\n",
       "    }\n",
       "\n",
       "    .dataframe tbody tr th {\n",
       "        vertical-align: top;\n",
       "    }\n",
       "\n",
       "    .dataframe thead th {\n",
       "        text-align: right;\n",
       "    }\n",
       "</style>\n",
       "<table border=\"1\" class=\"dataframe\">\n",
       "  <thead>\n",
       "    <tr style=\"text-align: right;\">\n",
       "      <th></th>\n",
       "      <th>Country/Region</th>\n",
       "      <th>Confirmed</th>\n",
       "      <th>Deaths</th>\n",
       "      <th>Recovered</th>\n",
       "      <th>Active</th>\n",
       "      <th>New cases</th>\n",
       "      <th>New deaths</th>\n",
       "      <th>New recovered</th>\n",
       "      <th>Deaths / 100 Cases</th>\n",
       "      <th>Recovered / 100 Cases</th>\n",
       "      <th>Deaths / 100 Recovered</th>\n",
       "      <th>Confirmed last week</th>\n",
       "      <th>1 week change</th>\n",
       "      <th>1 week % increase</th>\n",
       "      <th>WHO Region</th>\n",
       "    </tr>\n",
       "  </thead>\n",
       "  <tbody>\n",
       "    <tr>\n",
       "      <th>0</th>\n",
       "      <td>Afghanistan</td>\n",
       "      <td>36263</td>\n",
       "      <td>1269</td>\n",
       "      <td>25198</td>\n",
       "      <td>9796</td>\n",
       "      <td>106</td>\n",
       "      <td>10</td>\n",
       "      <td>18</td>\n",
       "      <td>3.50</td>\n",
       "      <td>69.49</td>\n",
       "      <td>5.04</td>\n",
       "      <td>35526</td>\n",
       "      <td>737</td>\n",
       "      <td>2.07</td>\n",
       "      <td>Eastern Mediterranean</td>\n",
       "    </tr>\n",
       "    <tr>\n",
       "      <th>1</th>\n",
       "      <td>Albania</td>\n",
       "      <td>4880</td>\n",
       "      <td>144</td>\n",
       "      <td>2745</td>\n",
       "      <td>1991</td>\n",
       "      <td>117</td>\n",
       "      <td>6</td>\n",
       "      <td>63</td>\n",
       "      <td>2.95</td>\n",
       "      <td>56.25</td>\n",
       "      <td>5.25</td>\n",
       "      <td>4171</td>\n",
       "      <td>709</td>\n",
       "      <td>17.00</td>\n",
       "      <td>Europe</td>\n",
       "    </tr>\n",
       "    <tr>\n",
       "      <th>2</th>\n",
       "      <td>Algeria</td>\n",
       "      <td>27973</td>\n",
       "      <td>1163</td>\n",
       "      <td>18837</td>\n",
       "      <td>7973</td>\n",
       "      <td>616</td>\n",
       "      <td>8</td>\n",
       "      <td>749</td>\n",
       "      <td>4.16</td>\n",
       "      <td>67.34</td>\n",
       "      <td>6.17</td>\n",
       "      <td>23691</td>\n",
       "      <td>4282</td>\n",
       "      <td>18.07</td>\n",
       "      <td>Africa</td>\n",
       "    </tr>\n",
       "    <tr>\n",
       "      <th>3</th>\n",
       "      <td>Andorra</td>\n",
       "      <td>907</td>\n",
       "      <td>52</td>\n",
       "      <td>803</td>\n",
       "      <td>52</td>\n",
       "      <td>10</td>\n",
       "      <td>0</td>\n",
       "      <td>0</td>\n",
       "      <td>5.73</td>\n",
       "      <td>88.53</td>\n",
       "      <td>6.48</td>\n",
       "      <td>884</td>\n",
       "      <td>23</td>\n",
       "      <td>2.60</td>\n",
       "      <td>Europe</td>\n",
       "    </tr>\n",
       "    <tr>\n",
       "      <th>4</th>\n",
       "      <td>Angola</td>\n",
       "      <td>950</td>\n",
       "      <td>41</td>\n",
       "      <td>242</td>\n",
       "      <td>667</td>\n",
       "      <td>18</td>\n",
       "      <td>1</td>\n",
       "      <td>0</td>\n",
       "      <td>4.32</td>\n",
       "      <td>25.47</td>\n",
       "      <td>16.94</td>\n",
       "      <td>749</td>\n",
       "      <td>201</td>\n",
       "      <td>26.84</td>\n",
       "      <td>Africa</td>\n",
       "    </tr>\n",
       "    <tr>\n",
       "      <th>...</th>\n",
       "      <td>...</td>\n",
       "      <td>...</td>\n",
       "      <td>...</td>\n",
       "      <td>...</td>\n",
       "      <td>...</td>\n",
       "      <td>...</td>\n",
       "      <td>...</td>\n",
       "      <td>...</td>\n",
       "      <td>...</td>\n",
       "      <td>...</td>\n",
       "      <td>...</td>\n",
       "      <td>...</td>\n",
       "      <td>...</td>\n",
       "      <td>...</td>\n",
       "      <td>...</td>\n",
       "    </tr>\n",
       "    <tr>\n",
       "      <th>182</th>\n",
       "      <td>West Bank and Gaza</td>\n",
       "      <td>10621</td>\n",
       "      <td>78</td>\n",
       "      <td>3752</td>\n",
       "      <td>6791</td>\n",
       "      <td>152</td>\n",
       "      <td>2</td>\n",
       "      <td>0</td>\n",
       "      <td>0.73</td>\n",
       "      <td>35.33</td>\n",
       "      <td>2.08</td>\n",
       "      <td>8916</td>\n",
       "      <td>1705</td>\n",
       "      <td>19.12</td>\n",
       "      <td>Eastern Mediterranean</td>\n",
       "    </tr>\n",
       "    <tr>\n",
       "      <th>183</th>\n",
       "      <td>Western Sahara</td>\n",
       "      <td>10</td>\n",
       "      <td>1</td>\n",
       "      <td>8</td>\n",
       "      <td>1</td>\n",
       "      <td>0</td>\n",
       "      <td>0</td>\n",
       "      <td>0</td>\n",
       "      <td>10.00</td>\n",
       "      <td>80.00</td>\n",
       "      <td>12.50</td>\n",
       "      <td>10</td>\n",
       "      <td>0</td>\n",
       "      <td>0.00</td>\n",
       "      <td>Africa</td>\n",
       "    </tr>\n",
       "    <tr>\n",
       "      <th>184</th>\n",
       "      <td>Yemen</td>\n",
       "      <td>1691</td>\n",
       "      <td>483</td>\n",
       "      <td>833</td>\n",
       "      <td>375</td>\n",
       "      <td>10</td>\n",
       "      <td>4</td>\n",
       "      <td>36</td>\n",
       "      <td>28.56</td>\n",
       "      <td>49.26</td>\n",
       "      <td>57.98</td>\n",
       "      <td>1619</td>\n",
       "      <td>72</td>\n",
       "      <td>4.45</td>\n",
       "      <td>Eastern Mediterranean</td>\n",
       "    </tr>\n",
       "    <tr>\n",
       "      <th>185</th>\n",
       "      <td>Zambia</td>\n",
       "      <td>4552</td>\n",
       "      <td>140</td>\n",
       "      <td>2815</td>\n",
       "      <td>1597</td>\n",
       "      <td>71</td>\n",
       "      <td>1</td>\n",
       "      <td>465</td>\n",
       "      <td>3.08</td>\n",
       "      <td>61.84</td>\n",
       "      <td>4.97</td>\n",
       "      <td>3326</td>\n",
       "      <td>1226</td>\n",
       "      <td>36.86</td>\n",
       "      <td>Africa</td>\n",
       "    </tr>\n",
       "    <tr>\n",
       "      <th>186</th>\n",
       "      <td>Zimbabwe</td>\n",
       "      <td>2704</td>\n",
       "      <td>36</td>\n",
       "      <td>542</td>\n",
       "      <td>2126</td>\n",
       "      <td>192</td>\n",
       "      <td>2</td>\n",
       "      <td>24</td>\n",
       "      <td>1.33</td>\n",
       "      <td>20.04</td>\n",
       "      <td>6.64</td>\n",
       "      <td>1713</td>\n",
       "      <td>991</td>\n",
       "      <td>57.85</td>\n",
       "      <td>Africa</td>\n",
       "    </tr>\n",
       "  </tbody>\n",
       "</table>\n",
       "<p>187 rows × 15 columns</p>\n",
       "</div>"
      ],
      "text/plain": [
       "         Country/Region  Confirmed  Deaths  Recovered  Active  New cases  \\\n",
       "0           Afghanistan      36263    1269      25198    9796        106   \n",
       "1               Albania       4880     144       2745    1991        117   \n",
       "2               Algeria      27973    1163      18837    7973        616   \n",
       "3               Andorra        907      52        803      52         10   \n",
       "4                Angola        950      41        242     667         18   \n",
       "..                  ...        ...     ...        ...     ...        ...   \n",
       "182  West Bank and Gaza      10621      78       3752    6791        152   \n",
       "183      Western Sahara         10       1          8       1          0   \n",
       "184               Yemen       1691     483        833     375         10   \n",
       "185              Zambia       4552     140       2815    1597         71   \n",
       "186            Zimbabwe       2704      36        542    2126        192   \n",
       "\n",
       "     New deaths  New recovered  Deaths / 100 Cases  Recovered / 100 Cases  \\\n",
       "0            10             18                3.50                  69.49   \n",
       "1             6             63                2.95                  56.25   \n",
       "2             8            749                4.16                  67.34   \n",
       "3             0              0                5.73                  88.53   \n",
       "4             1              0                4.32                  25.47   \n",
       "..          ...            ...                 ...                    ...   \n",
       "182           2              0                0.73                  35.33   \n",
       "183           0              0               10.00                  80.00   \n",
       "184           4             36               28.56                  49.26   \n",
       "185           1            465                3.08                  61.84   \n",
       "186           2             24                1.33                  20.04   \n",
       "\n",
       "     Deaths / 100 Recovered  Confirmed last week  1 week change  \\\n",
       "0                      5.04                35526            737   \n",
       "1                      5.25                 4171            709   \n",
       "2                      6.17                23691           4282   \n",
       "3                      6.48                  884             23   \n",
       "4                     16.94                  749            201   \n",
       "..                      ...                  ...            ...   \n",
       "182                    2.08                 8916           1705   \n",
       "183                   12.50                   10              0   \n",
       "184                   57.98                 1619             72   \n",
       "185                    4.97                 3326           1226   \n",
       "186                    6.64                 1713            991   \n",
       "\n",
       "     1 week % increase             WHO Region  \n",
       "0                 2.07  Eastern Mediterranean  \n",
       "1                17.00                 Europe  \n",
       "2                18.07                 Africa  \n",
       "3                 2.60                 Europe  \n",
       "4                26.84                 Africa  \n",
       "..                 ...                    ...  \n",
       "182              19.12  Eastern Mediterranean  \n",
       "183               0.00                 Africa  \n",
       "184               4.45  Eastern Mediterranean  \n",
       "185              36.86                 Africa  \n",
       "186              57.85                 Africa  \n",
       "\n",
       "[187 rows x 15 columns]"
      ]
     },
     "execution_count": 30,
     "metadata": {},
     "output_type": "execute_result"
    }
   ],
   "source": [
    "covid = pd.read_csv('country_wise_latest.csv')\n",
    "covid"
   ]
  },
  {
   "cell_type": "markdown",
   "metadata": {},
   "source": [
    "# Matlab으로 데이터 시각화하기\n",
    "\n",
    "**데이터를 보기좋게 표현해봅시다.**"
   ]
  },
  {
   "cell_type": "markdown",
   "metadata": {},
   "source": [
    "#### 1. Matplotlib 시작하기\n",
    "   \n",
    "#### 2. 자주 사용되는 Plotting의 Options\n",
    "- 크기 : `figsize`\n",
    "- 제목 : `title`\n",
    "- 라벨 : `_label`\n",
    "- 눈금 : `_tics`\n",
    "- 범례 : `legend`\n",
    "  \n",
    "#### 3. Matplotlib Case Study\n",
    "- 꺾은선 그래프 (Plot)\n",
    "- 산점도 (Scatter Plot)\n",
    "- 박스그림 (Box Plot)\n",
    "- 막대그래프 (Bar Chart)\n",
    "- 원형그래프 (Pie Chart)\n",
    "  \n",
    "#### 4. The 멋진 그래프, seaborn Case Study\n",
    "- 커널밀도그림 (Kernel Density Plot)\n",
    "- 카운트그림 (Count Plot)\n",
    "- 캣그림 (Cat Plot)\n",
    "- 스트립그림 (Strip Plot)\n",
    "- 히트맵 (Heatmap)\n",
    "  "
   ]
  },
  {
   "cell_type": "markdown",
   "metadata": {},
   "source": [
    "## I. Matplotlib 시작하기\n",
    "  - 파이썬 데이터 시각화 라이브러리\n",
    "  - `%matplotlib inline`"
   ]
  },
  {
   "cell_type": "markdown",
   "metadata": {},
   "source": [
    "## II. Matplotlib Case Study"
   ]
  },
  {
   "cell_type": "markdown",
   "metadata": {},
   "source": [
    "### figsize\n",
    "  - 그래프 크기 지정\n",
    "  - `plt.figure(figsize=(w,h))`"
   ]
  },
  {
   "cell_type": "markdown",
   "metadata": {},
   "source": [
    "### title\n",
    "  - 그래프 제목 지정\n",
    "  - `plt.title(string)`"
   ]
  },
  {
   "cell_type": "markdown",
   "metadata": {},
   "source": [
    "### xlabel, ylabel\n",
    "  - 축의 이름 지정\n",
    "  - `plt.xlabel(string)`\n",
    "  - `plt.ylabel(string)`"
   ]
  },
  {
   "cell_type": "markdown",
   "metadata": {},
   "source": [
    "### xticks, yticks\n",
    "  - 축의 눈금 지정\n",
    "  - `plt.xticks(range_list)`\n",
    "  - `plt.yticks(range_list)`"
   ]
  },
  {
   "cell_type": "markdown",
   "metadata": {},
   "source": [
    "### legend\n",
    "  - 그래프의 범례 지정\n",
    "  - `plt.legend()`"
   ]
  },
  {
   "cell_type": "markdown",
   "metadata": {},
   "source": [
    "### axis\n",
    "  - 그래프의 축 범위 지정\n",
    "  - `plt.axis([x_min, x_max, y_min, y_max])`"
   ]
  },
  {
   "cell_type": "markdown",
   "metadata": {
    "heading_collapsed": true
   },
   "source": [
    "## III. Matplotlib Case Study"
   ]
  },
  {
   "cell_type": "markdown",
   "metadata": {
    "hidden": true
   },
   "source": [
    "### 꺾은선 그래프 (Plot)\n",
    "  - `plt.plot()`"
   ]
  },
  {
   "cell_type": "markdown",
   "metadata": {
    "hidden": true
   },
   "source": [
    "### 산점도 (Scatter)\n",
    "  - 좌표상의 점들을 표시함으로써 두 개 변수 간의 관계를 나타내는 그래프\n",
    "  - `plt.scatter()`"
   ]
  },
  {
   "cell_type": "markdown",
   "metadata": {
    "hidden": true
   },
   "source": [
    "### 상자 수염 그림 (Box Plot)\n",
    "  - 수치적 자료를 표현하는 그래프\n",
    "  - 최소값, Q1, Q2, Q3, 최대값 총 5개의 요약 수치 표현\n",
    "  - `plt.boxplot()`"
   ]
  },
  {
   "cell_type": "markdown",
   "metadata": {
    "hidden": true
   },
   "source": [
    "### 막대 그래프 (Bar Plot)\n",
    "  - 범주형 데이터의 값과 그 값의 크기를 막대로 표현한 그래프\n",
    "  - `plt.bar()`"
   ]
  },
  {
   "cell_type": "markdown",
   "metadata": {
    "hidden": true
   },
   "source": [
    "### 참고 : 히스토그램 (Histogram)\n",
    "  - 도수분포를 막대로 표현한 그래프\n",
    "  - '계급'으로 표현 ex) 0,1,2가 아닌 0~2까지의 범주형 데이터로 구성하여 표현\n",
    "  -`plt.hist()`"
   ]
  },
  {
   "cell_type": "markdown",
   "metadata": {
    "hidden": true
   },
   "source": [
    "### 원형 그래프 (Pie Chart)\n",
    "  - 데이터를 전체에 대한 비율로 나타낸 그래프\n",
    "  - 다른 그래프에 비해 **비율** 확인에 용이\n",
    "  - `plt.pie()`"
   ]
  },
  {
   "cell_type": "markdown",
   "metadata": {},
   "source": [
    "# IV. The 멋진 그래프, Seaborn Case Study"
   ]
  },
  {
   "cell_type": "markdown",
   "metadata": {},
   "source": [
    "## Seaborn\n",
    "  - matplotlib을 기반으로 더 다양한 시각화 방법을 제공하는 라이브러리"
   ]
  },
  {
   "cell_type": "code",
   "execution_count": 8,
   "metadata": {
    "ExecuteTime": {
     "end_time": "2021-05-07T06:12:05.190082Z",
     "start_time": "2021-05-07T06:12:02.862162Z"
    }
   },
   "outputs": [],
   "source": [
    "import seaborn as sns"
   ]
  },
  {
   "cell_type": "markdown",
   "metadata": {},
   "source": [
    "### 커널밀도그림 (Kernal Density Plot)\n",
    "  - 히스토그램과 같은 연속적인 분포를 곡선화해서 그린 그림\n",
    "  - `sns.kdeplot()`"
   ]
  },
  {
   "cell_type": "code",
   "execution_count": 7,
   "metadata": {
    "ExecuteTime": {
     "end_time": "2021-05-07T06:11:26.724778Z",
     "start_time": "2021-05-07T06:11:26.490431Z"
    }
   },
   "outputs": [
    {
     "data": {
      "image/png": "[encoded data removed]",
      "text/plain": [
       "<Figure size 432x288 with 1 Axes>"
      ]
     },
     "metadata": {
      "needs_background": "light"
     },
     "output_type": "display_data"
    }
   ],
   "source": [
    "plt.hist(y, bins=x)\n",
    "\n",
    "plt.show()"
   ]
  },
  {
   "cell_type": "code",
   "execution_count": 14,
   "metadata": {
    "ExecuteTime": {
     "end_time": "2021-05-07T06:15:28.379302Z",
     "start_time": "2021-05-07T06:15:28.144946Z"
    }
   },
   "outputs": [
    {
     "data": {
      "image/png": "[encoded data removed]",
      "text/plain": [
       "<Figure size 432x288 with 1 Axes>"
      ]
     },
     "metadata": {
      "needs_background": "light"
     },
     "output_type": "display_data"
    }
   ],
   "source": [
    "sns.kdeplot(y)\n",
    "\n",
    "plt.show()"
   ]
  },
  {
   "cell_type": "markdown",
   "metadata": {},
   "source": [
    "### 카운트 그림 (Count Plot)\n",
    "  - 범주형 column의 빈도수를 시각화 -> Groupby 후의 도수와 동일한 효과\n",
    "  - `sns.countplot()`"
   ]
  },
  {
   "cell_type": "code",
   "execution_count": 26,
   "metadata": {
    "ExecuteTime": {
     "end_time": "2021-05-07T06:21:24.711874Z",
     "start_time": "2021-05-07T06:21:24.665039Z"
    }
   },
   "outputs": [
    {
     "data": {
      "text/html": [
       "<div>\n",
       "<style scoped>\n",
       "    .dataframe tbody tr th:only-of-type {\n",
       "        vertical-align: middle;\n",
       "    }\n",
       "\n",
       "    .dataframe tbody tr th {\n",
       "        vertical-align: top;\n",
       "    }\n",
       "\n",
       "    .dataframe thead th {\n",
       "        text-align: right;\n",
       "    }\n",
       "</style>\n",
       "<table border=\"1\" class=\"dataframe\">\n",
       "  <thead>\n",
       "    <tr style=\"text-align: right;\">\n",
       "      <th></th>\n",
       "      <th>name</th>\n",
       "    </tr>\n",
       "    <tr>\n",
       "      <th>vote</th>\n",
       "      <th></th>\n",
       "    </tr>\n",
       "  </thead>\n",
       "  <tbody>\n",
       "    <tr>\n",
       "      <th>False</th>\n",
       "      <td>1</td>\n",
       "    </tr>\n",
       "    <tr>\n",
       "      <th>True</th>\n",
       "      <td>2</td>\n",
       "    </tr>\n",
       "  </tbody>\n",
       "</table>\n",
       "</div>"
      ],
      "text/plain": [
       "       name\n",
       "vote       \n",
       "False     1\n",
       "True      2"
      ]
     },
     "execution_count": 26,
     "metadata": {},
     "output_type": "execute_result"
    }
   ],
   "source": [
    "vote = pd.DataFrame({'name':['Steve', 'Tony', 'Sam'], 'vote':[True, False, True]})\n",
    "vote_count = vote.groupby('vote').count()\n",
    "\n",
    "vote_count"
   ]
  },
  {
   "cell_type": "code",
   "execution_count": 28,
   "metadata": {
    "ExecuteTime": {
     "end_time": "2021-05-07T06:21:48.146712Z",
     "start_time": "2021-05-07T06:21:47.912377Z"
    }
   },
   "outputs": [
    {
     "data": {
      "image/png": "[encoded data removed]",
      "text/plain": [
       "<Figure size 432x288 with 1 Axes>"
      ]
     },
     "metadata": {
      "needs_background": "light"
     },
     "output_type": "display_data"
    }
   ],
   "source": [
    "plt.bar(x=[False, True], height=vote_count['name'])\n",
    "\n",
    "plt.show()"
   ]
  },
  {
   "cell_type": "code",
   "execution_count": 29,
   "metadata": {
    "ExecuteTime": {
     "end_time": "2021-05-07T06:22:09.926352Z",
     "start_time": "2021-05-07T06:22:09.723269Z"
    }
   },
   "outputs": [
    {
     "data": {
      "image/png": "[encoded data removed]",
      "text/plain": [
       "<Figure size 432x288 with 1 Axes>"
      ]
     },
     "metadata": {
      "needs_background": "light"
     },
     "output_type": "display_data"
    }
   ],
   "source": [
    "sns.countplot(x=vote['vote'])\n",
    "\n",
    "plt.show()"
   ]
  },
  {
   "cell_type": "markdown",
   "metadata": {},
   "source": [
    "### 캣그림 (Cat Plot)\n",
    "  - 숫자형 변수와 하나 이상의 범주형 변수의 관계를 보여주는 그래프\n",
    "  - `sns.catplot()`"
   ]
  },
  {
   "cell_type": "code",
   "execution_count": 37,
   "metadata": {
    "ExecuteTime": {
     "end_time": "2021-05-07T06:28:39.447829Z",
     "start_time": "2021-05-07T06:28:39.041574Z"
    }
   },
   "outputs": [
    {
     "data": {
      "image/png": "[encoded data removed]",
      "text/plain": [
       "<Figure size 720x432 with 1 Axes>"
      ]
     },
     "metadata": {
      "needs_background": "light"
     },
     "output_type": "display_data"
    }
   ],
   "source": [
    "s = sns.catplot(x='WHO Region', y='Confirmed', data=covid, kind='violin')\n",
    "s.fig.set_size_inches(10, 6)\n",
    "\n",
    "plt.show()"
   ]
  },
  {
   "cell_type": "markdown",
   "metadata": {},
   "source": [
    "### 스트립 그림 (Strip Plot)\n",
    "  - 산점도와 유사하게 데이터의 수치를 표현하는 그래프\n",
    "  - `sns.stripplot()`"
   ]
  },
  {
   "cell_type": "code",
   "execution_count": 40,
   "metadata": {
    "ExecuteTime": {
     "end_time": "2021-05-07T06:31:38.695021Z",
     "start_time": "2021-05-07T06:31:38.445042Z"
    }
   },
   "outputs": [
    {
     "data": {
      "image/png": "[encoded data removed]",
      "text/plain": [
       "<Figure size 432x288 with 1 Axes>"
      ]
     },
     "metadata": {
      "needs_background": "light"
     },
     "output_type": "display_data"
    }
   ],
   "source": [
    "s = sns.stripplot(x='WHO Region', y='Recovered', data=covid)\n",
    "\n",
    "plt.show()"
   ]
  },
  {
   "cell_type": "markdown",
   "metadata": {},
   "source": [
    "### 참고 : Swarm Plot"
   ]
  },
  {
   "cell_type": "code",
   "execution_count": 41,
   "metadata": {
    "ExecuteTime": {
     "end_time": "2021-05-07T06:32:39.799838Z",
     "start_time": "2021-05-07T06:32:39.409277Z"
    }
   },
   "outputs": [
    {
     "name": "stderr",
     "output_type": "stream",
     "text": [
      "C:\\Anaconda3\\lib\\site-packages\\seaborn\\categorical.py:1296: UserWarning: 22.7% of the points cannot be placed; you may want to decrease the size of the markers or use stripplot.\n",
      "  warnings.warn(msg, UserWarning)\n",
      "C:\\Anaconda3\\lib\\site-packages\\seaborn\\categorical.py:1296: UserWarning: 69.6% of the points cannot be placed; you may want to decrease the size of the markers or use stripplot.\n",
      "  warnings.warn(msg, UserWarning)\n",
      "C:\\Anaconda3\\lib\\site-packages\\seaborn\\categorical.py:1296: UserWarning: 79.2% of the points cannot be placed; you may want to decrease the size of the markers or use stripplot.\n",
      "  warnings.warn(msg, UserWarning)\n",
      "C:\\Anaconda3\\lib\\site-packages\\seaborn\\categorical.py:1296: UserWarning: 54.3% of the points cannot be placed; you may want to decrease the size of the markers or use stripplot.\n",
      "  warnings.warn(msg, UserWarning)\n",
      "C:\\Anaconda3\\lib\\site-packages\\seaborn\\categorical.py:1296: UserWarning: 31.2% of the points cannot be placed; you may want to decrease the size of the markers or use stripplot.\n",
      "  warnings.warn(msg, UserWarning)\n"
     ]
    },
    {
     "data": {
      "image/png": "[encoded data removed]",
      "text/plain": [
       "<Figure size 432x288 with 1 Axes>"
      ]
     },
     "metadata": {
      "needs_background": "light"
     },
     "output_type": "display_data"
    }
   ],
   "source": [
    "s = sns.swarmplot(x='WHO Region', y='Recovered', data=covid)\n",
    "\n",
    "plt.show()"
   ]
  },
  {
   "cell_type": "markdown",
   "metadata": {},
   "source": [
    "### 히트맵 (Heat Map)\n",
    "  - 데이터의 행렬을 색상으로 표현\n",
    "  - `sns.heatmap()`"
   ]
  },
  {
   "cell_type": "code",
   "execution_count": 42,
   "metadata": {
    "ExecuteTime": {
     "end_time": "2021-05-07T06:33:31.608507Z",
     "start_time": "2021-05-07T06:33:31.546057Z"
    }
   },
   "outputs": [
    {
     "data": {
      "text/html": [
       "<div>\n",
       "<style scoped>\n",
       "    .dataframe tbody tr th:only-of-type {\n",
       "        vertical-align: middle;\n",
       "    }\n",
       "\n",
       "    .dataframe tbody tr th {\n",
       "        vertical-align: top;\n",
       "    }\n",
       "\n",
       "    .dataframe thead th {\n",
       "        text-align: right;\n",
       "    }\n",
       "</style>\n",
       "<table border=\"1\" class=\"dataframe\">\n",
       "  <thead>\n",
       "    <tr style=\"text-align: right;\">\n",
       "      <th></th>\n",
       "      <th>Confirmed</th>\n",
       "      <th>Deaths</th>\n",
       "      <th>Recovered</th>\n",
       "      <th>Active</th>\n",
       "      <th>New cases</th>\n",
       "      <th>New deaths</th>\n",
       "      <th>New recovered</th>\n",
       "      <th>Deaths / 100 Cases</th>\n",
       "      <th>Recovered / 100 Cases</th>\n",
       "      <th>Deaths / 100 Recovered</th>\n",
       "      <th>Confirmed last week</th>\n",
       "      <th>1 week change</th>\n",
       "      <th>1 week % increase</th>\n",
       "    </tr>\n",
       "  </thead>\n",
       "  <tbody>\n",
       "    <tr>\n",
       "      <th>Confirmed</th>\n",
       "      <td>1.000000</td>\n",
       "      <td>0.934698</td>\n",
       "      <td>0.906377</td>\n",
       "      <td>0.927018</td>\n",
       "      <td>0.909720</td>\n",
       "      <td>0.871683</td>\n",
       "      <td>0.859252</td>\n",
       "      <td>0.063550</td>\n",
       "      <td>-0.064815</td>\n",
       "      <td>0.025175</td>\n",
       "      <td>0.999127</td>\n",
       "      <td>0.954710</td>\n",
       "      <td>-0.010161</td>\n",
       "    </tr>\n",
       "    <tr>\n",
       "      <th>Deaths</th>\n",
       "      <td>0.934698</td>\n",
       "      <td>1.000000</td>\n",
       "      <td>0.832098</td>\n",
       "      <td>0.871586</td>\n",
       "      <td>0.806975</td>\n",
       "      <td>0.814161</td>\n",
       "      <td>0.765114</td>\n",
       "      <td>0.251565</td>\n",
       "      <td>-0.114529</td>\n",
       "      <td>0.169006</td>\n",
       "      <td>0.939082</td>\n",
       "      <td>0.855330</td>\n",
       "      <td>-0.034708</td>\n",
       "    </tr>\n",
       "    <tr>\n",
       "      <th>Recovered</th>\n",
       "      <td>0.906377</td>\n",
       "      <td>0.832098</td>\n",
       "      <td>1.000000</td>\n",
       "      <td>0.682103</td>\n",
       "      <td>0.818942</td>\n",
       "      <td>0.820338</td>\n",
       "      <td>0.919203</td>\n",
       "      <td>0.048438</td>\n",
       "      <td>0.026610</td>\n",
       "      <td>-0.027277</td>\n",
       "      <td>0.899312</td>\n",
       "      <td>0.910013</td>\n",
       "      <td>-0.013697</td>\n",
       "    </tr>\n",
       "    <tr>\n",
       "      <th>Active</th>\n",
       "      <td>0.927018</td>\n",
       "      <td>0.871586</td>\n",
       "      <td>0.682103</td>\n",
       "      <td>1.000000</td>\n",
       "      <td>0.851190</td>\n",
       "      <td>0.781123</td>\n",
       "      <td>0.673887</td>\n",
       "      <td>0.054380</td>\n",
       "      <td>-0.132618</td>\n",
       "      <td>0.058386</td>\n",
       "      <td>0.931459</td>\n",
       "      <td>0.847642</td>\n",
       "      <td>-0.003752</td>\n",
       "    </tr>\n",
       "    <tr>\n",
       "      <th>New cases</th>\n",
       "      <td>0.909720</td>\n",
       "      <td>0.806975</td>\n",
       "      <td>0.818942</td>\n",
       "      <td>0.851190</td>\n",
       "      <td>1.000000</td>\n",
       "      <td>0.935947</td>\n",
       "      <td>0.914765</td>\n",
       "      <td>0.020104</td>\n",
       "      <td>-0.078666</td>\n",
       "      <td>-0.011637</td>\n",
       "      <td>0.896084</td>\n",
       "      <td>0.959993</td>\n",
       "      <td>0.030791</td>\n",
       "    </tr>\n",
       "    <tr>\n",
       "      <th>New deaths</th>\n",
       "      <td>0.871683</td>\n",
       "      <td>0.814161</td>\n",
       "      <td>0.820338</td>\n",
       "      <td>0.781123</td>\n",
       "      <td>0.935947</td>\n",
       "      <td>1.000000</td>\n",
       "      <td>0.889234</td>\n",
       "      <td>0.060399</td>\n",
       "      <td>-0.062792</td>\n",
       "      <td>-0.020750</td>\n",
       "      <td>0.862118</td>\n",
       "      <td>0.894915</td>\n",
       "      <td>0.025293</td>\n",
       "    </tr>\n",
       "    <tr>\n",
       "      <th>New recovered</th>\n",
       "      <td>0.859252</td>\n",
       "      <td>0.765114</td>\n",
       "      <td>0.919203</td>\n",
       "      <td>0.673887</td>\n",
       "      <td>0.914765</td>\n",
       "      <td>0.889234</td>\n",
       "      <td>1.000000</td>\n",
       "      <td>0.017090</td>\n",
       "      <td>-0.024293</td>\n",
       "      <td>-0.023340</td>\n",
       "      <td>0.839692</td>\n",
       "      <td>0.954321</td>\n",
       "      <td>0.032662</td>\n",
       "    </tr>\n",
       "    <tr>\n",
       "      <th>Deaths / 100 Cases</th>\n",
       "      <td>0.063550</td>\n",
       "      <td>0.251565</td>\n",
       "      <td>0.048438</td>\n",
       "      <td>0.054380</td>\n",
       "      <td>0.020104</td>\n",
       "      <td>0.060399</td>\n",
       "      <td>0.017090</td>\n",
       "      <td>1.000000</td>\n",
       "      <td>-0.168920</td>\n",
       "      <td>0.334594</td>\n",
       "      <td>0.069894</td>\n",
       "      <td>0.015095</td>\n",
       "      <td>-0.134534</td>\n",
       "    </tr>\n",
       "    <tr>\n",
       "      <th>Recovered / 100 Cases</th>\n",
       "      <td>-0.064815</td>\n",
       "      <td>-0.114529</td>\n",
       "      <td>0.026610</td>\n",
       "      <td>-0.132618</td>\n",
       "      <td>-0.078666</td>\n",
       "      <td>-0.062792</td>\n",
       "      <td>-0.024293</td>\n",
       "      <td>-0.168920</td>\n",
       "      <td>1.000000</td>\n",
       "      <td>-0.295381</td>\n",
       "      <td>-0.064600</td>\n",
       "      <td>-0.063013</td>\n",
       "      <td>-0.394254</td>\n",
       "    </tr>\n",
       "    <tr>\n",
       "      <th>Deaths / 100 Recovered</th>\n",
       "      <td>0.025175</td>\n",
       "      <td>0.169006</td>\n",
       "      <td>-0.027277</td>\n",
       "      <td>0.058386</td>\n",
       "      <td>-0.011637</td>\n",
       "      <td>-0.020750</td>\n",
       "      <td>-0.023340</td>\n",
       "      <td>0.334594</td>\n",
       "      <td>-0.295381</td>\n",
       "      <td>1.000000</td>\n",
       "      <td>0.030460</td>\n",
       "      <td>-0.013763</td>\n",
       "      <td>-0.049083</td>\n",
       "    </tr>\n",
       "    <tr>\n",
       "      <th>Confirmed last week</th>\n",
       "      <td>0.999127</td>\n",
       "      <td>0.939082</td>\n",
       "      <td>0.899312</td>\n",
       "      <td>0.931459</td>\n",
       "      <td>0.896084</td>\n",
       "      <td>0.862118</td>\n",
       "      <td>0.839692</td>\n",
       "      <td>0.069894</td>\n",
       "      <td>-0.064600</td>\n",
       "      <td>0.030460</td>\n",
       "      <td>1.000000</td>\n",
       "      <td>0.941448</td>\n",
       "      <td>-0.015247</td>\n",
       "    </tr>\n",
       "    <tr>\n",
       "      <th>1 week change</th>\n",
       "      <td>0.954710</td>\n",
       "      <td>0.855330</td>\n",
       "      <td>0.910013</td>\n",
       "      <td>0.847642</td>\n",
       "      <td>0.959993</td>\n",
       "      <td>0.894915</td>\n",
       "      <td>0.954321</td>\n",
       "      <td>0.015095</td>\n",
       "      <td>-0.063013</td>\n",
       "      <td>-0.013763</td>\n",
       "      <td>0.941448</td>\n",
       "      <td>1.000000</td>\n",
       "      <td>0.026594</td>\n",
       "    </tr>\n",
       "    <tr>\n",
       "      <th>1 week % increase</th>\n",
       "      <td>-0.010161</td>\n",
       "      <td>-0.034708</td>\n",
       "      <td>-0.013697</td>\n",
       "      <td>-0.003752</td>\n",
       "      <td>0.030791</td>\n",
       "      <td>0.025293</td>\n",
       "      <td>0.032662</td>\n",
       "      <td>-0.134534</td>\n",
       "      <td>-0.394254</td>\n",
       "      <td>-0.049083</td>\n",
       "      <td>-0.015247</td>\n",
       "      <td>0.026594</td>\n",
       "      <td>1.000000</td>\n",
       "    </tr>\n",
       "  </tbody>\n",
       "</table>\n",
       "</div>"
      ],
      "text/plain": [
       "                        Confirmed    Deaths  Recovered    Active  New cases  \\\n",
       "Confirmed                1.000000  0.934698   0.906377  0.927018   0.909720   \n",
       "Deaths                   0.934698  1.000000   0.832098  0.871586   0.806975   \n",
       "Recovered                0.906377  0.832098   1.000000  0.682103   0.818942   \n",
       "Active                   0.927018  0.871586   0.682103  1.000000   0.851190   \n",
       "New cases                0.909720  0.806975   0.818942  0.851190   1.000000   \n",
       "New deaths               0.871683  0.814161   0.820338  0.781123   0.935947   \n",
       "New recovered            0.859252  0.765114   0.919203  0.673887   0.914765   \n",
       "Deaths / 100 Cases       0.063550  0.251565   0.048438  0.054380   0.020104   \n",
       "Recovered / 100 Cases   -0.064815 -0.114529   0.026610 -0.132618  -0.078666   \n",
       "Deaths / 100 Recovered   0.025175  0.169006  -0.027277  0.058386  -0.011637   \n",
       "Confirmed last week      0.999127  0.939082   0.899312  0.931459   0.896084   \n",
       "1 week change            0.954710  0.855330   0.910013  0.847642   0.959993   \n",
       "1 week % increase       -0.010161 -0.034708  -0.013697 -0.003752   0.030791   \n",
       "\n",
       "                        New deaths  New recovered  Deaths / 100 Cases  \\\n",
       "Confirmed                 0.871683       0.859252            0.063550   \n",
       "Deaths                    0.814161       0.765114            0.251565   \n",
       "Recovered                 0.820338       0.919203            0.048438   \n",
       "Active                    0.781123       0.673887            0.054380   \n",
       "New cases                 0.935947       0.914765            0.020104   \n",
       "New deaths                1.000000       0.889234            0.060399   \n",
       "New recovered             0.889234       1.000000            0.017090   \n",
       "Deaths / 100 Cases        0.060399       0.017090            1.000000   \n",
       "Recovered / 100 Cases    -0.062792      -0.024293           -0.168920   \n",
       "Deaths / 100 Recovered   -0.020750      -0.023340            0.334594   \n",
       "Confirmed last week       0.862118       0.839692            0.069894   \n",
       "1 week change             0.894915       0.954321            0.015095   \n",
       "1 week % increase         0.025293       0.032662           -0.134534   \n",
       "\n",
       "                        Recovered / 100 Cases  Deaths / 100 Recovered  \\\n",
       "Confirmed                           -0.064815                0.025175   \n",
       "Deaths                              -0.114529                0.169006   \n",
       "Recovered                            0.026610               -0.027277   \n",
       "Active                              -0.132618                0.058386   \n",
       "New cases                           -0.078666               -0.011637   \n",
       "New deaths                          -0.062792               -0.020750   \n",
       "New recovered                       -0.024293               -0.023340   \n",
       "Deaths / 100 Cases                  -0.168920                0.334594   \n",
       "Recovered / 100 Cases                1.000000               -0.295381   \n",
       "Deaths / 100 Recovered              -0.295381                1.000000   \n",
       "Confirmed last week                 -0.064600                0.030460   \n",
       "1 week change                       -0.063013               -0.013763   \n",
       "1 week % increase                   -0.394254               -0.049083   \n",
       "\n",
       "                        Confirmed last week  1 week change  1 week % increase  \n",
       "Confirmed                          0.999127       0.954710          -0.010161  \n",
       "Deaths                             0.939082       0.855330          -0.034708  \n",
       "Recovered                          0.899312       0.910013          -0.013697  \n",
       "Active                             0.931459       0.847642          -0.003752  \n",
       "New cases                          0.896084       0.959993           0.030791  \n",
       "New deaths                         0.862118       0.894915           0.025293  \n",
       "New recovered                      0.839692       0.954321           0.032662  \n",
       "Deaths / 100 Cases                 0.069894       0.015095          -0.134534  \n",
       "Recovered / 100 Cases             -0.064600      -0.063013          -0.394254  \n",
       "Deaths / 100 Recovered             0.030460      -0.013763          -0.049083  \n",
       "Confirmed last week                1.000000       0.941448          -0.015247  \n",
       "1 week change                      0.941448       1.000000           0.026594  \n",
       "1 week % increase                 -0.015247       0.026594           1.000000  "
      ]
     },
     "execution_count": 42,
     "metadata": {},
     "output_type": "execute_result"
    }
   ],
   "source": [
    "covid.corr()"
   ]
  },
  {
   "cell_type": "code",
   "execution_count": 43,
   "metadata": {
    "ExecuteTime": {
     "end_time": "2021-05-07T06:33:51.888301Z",
     "start_time": "2021-05-07T06:33:51.153973Z"
    }
   },
   "outputs": [
    {
     "data": {
      "image/png": "[encoded data removed]",
      "text/plain": [
       "<Figure size 432x288 with 2 Axes>"
      ]
     },
     "metadata": {
      "needs_background": "light"
     },
     "output_type": "display_data"
    }
   ],
   "source": [
    "sns.heatmap(covid.corr())\n",
    "\n",
    "plt.show()"
   ]
  }
 ],
 "metadata": {
  "kernelspec": {
   "display_name": "Python 3",
   "language": "python",
   "name": "python3"
  },
  "language_info": {
   "codemirror_mode": {
    "name": "ipython",
    "version": 3
   },
   "file_extension": ".py",
   "mimetype": "text/x-python",
   "name": "python",
   "nbconvert_exporter": "python",
   "pygments_lexer": "ipython3",
   "version": "3.8.5"
  },
  "toc": {
   "base_numbering": 1,
   "nav_menu": {},
   "number_sections": true,
   "sideBar": true,
   "skip_h1_title": false,
   "title_cell": "Table of Contents",
   "title_sidebar": "Contents",
   "toc_cell": false,
   "toc_position": {},
   "toc_section_display": true,
   "toc_window_display": false
  }
 },
 "nbformat": 4,
 "nbformat_minor": 4
}
