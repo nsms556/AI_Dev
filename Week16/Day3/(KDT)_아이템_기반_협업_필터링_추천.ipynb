{
  "nbformat": 4,
  "nbformat_minor": 0,
  "metadata": {
    "colab": {
      "name": "(KDT) 아이템 기반 협업 필터링 추천",
      "provenance": []
    },
    "kernelspec": {
      "name": "python3",
      "display_name": "Python 3"
    }
  },
  "cells": [
    {
      "cell_type": "markdown",
      "metadata": {
        "id": "roEuxynyeM0l"
      },
      "source": [
        "surprise 모듈을 설치"
      ]
    },
    {
      "cell_type": "code",
      "metadata": {
        "colab": {
          "base_uri": "https://localhost:8080/"
        },
        "id": "4Ep7L0e2ldgY",
        "outputId": "fb9b67f9-c9c2-423c-ced1-1d3ff08efb07"
      },
      "source": [
        "!pip install surprise"
      ],
      "execution_count": 1,
      "outputs": [
        {
          "output_type": "stream",
          "text": [
            "Collecting surprise\n",
            "  Downloading surprise-0.1-py2.py3-none-any.whl (1.8 kB)\n",
            "Collecting scikit-surprise\n",
            "  Downloading scikit-surprise-1.1.1.tar.gz (11.8 MB)\n",
            "\u001b[K     |████████████████████████████████| 11.8 MB 51 kB/s \n",
            "\u001b[?25hRequirement already satisfied: joblib>=0.11 in /usr/local/lib/python3.7/dist-packages (from scikit-surprise->surprise) (1.0.1)\n",
            "Requirement already satisfied: numpy>=1.11.2 in /usr/local/lib/python3.7/dist-packages (from scikit-surprise->surprise) (1.19.5)\n",
            "Requirement already satisfied: scipy>=1.0.0 in /usr/local/lib/python3.7/dist-packages (from scikit-surprise->surprise) (1.4.1)\n",
            "Requirement already satisfied: six>=1.10.0 in /usr/local/lib/python3.7/dist-packages (from scikit-surprise->surprise) (1.15.0)\n",
            "Building wheels for collected packages: scikit-surprise\n",
            "  Building wheel for scikit-surprise (setup.py) ... \u001b[?25l\u001b[?25hdone\n",
            "  Created wheel for scikit-surprise: filename=scikit_surprise-1.1.1-cp37-cp37m-linux_x86_64.whl size=1619394 sha256=20a45b00250fbd4ef981bbbe77af76b16735efb713b766046250c92e2c536492\n",
            "  Stored in directory: /root/.cache/pip/wheels/76/44/74/b498c42be47b2406bd27994e16c5188e337c657025ab400c1c\n",
            "Successfully built scikit-surprise\n",
            "Installing collected packages: scikit-surprise, surprise\n",
            "Successfully installed scikit-surprise-1.1.1 surprise-0.1\n"
          ],
          "name": "stdout"
        }
      ]
    },
    {
      "cell_type": "code",
      "metadata": {
        "colab": {
          "base_uri": "https://localhost:8080/"
        },
        "id": "AUirw_6Uzb6o",
        "outputId": "7a6099d8-4a8a-4acf-aaac-5fa704a0600d"
      },
      "source": [
        "!wget \"https://grepp-reco-test.s3.ap-northeast-2.amazonaws.com/movielens/movies.csv\"\n",
        "!wget \"https://grepp-reco-test.s3.ap-northeast-2.amazonaws.com/movielens/ratings.csv\""
      ],
      "execution_count": 2,
      "outputs": [
        {
          "output_type": "stream",
          "text": [
            "--2021-08-18 08:47:46--  https://grepp-reco-test.s3.ap-northeast-2.amazonaws.com/movielens/movies.csv\n",
            "Resolving grepp-reco-test.s3.ap-northeast-2.amazonaws.com (grepp-reco-test.s3.ap-northeast-2.amazonaws.com)... 52.219.144.78\n",
            "Connecting to grepp-reco-test.s3.ap-northeast-2.amazonaws.com (grepp-reco-test.s3.ap-northeast-2.amazonaws.com)|52.219.144.78|:443... connected.\n",
            "HTTP request sent, awaiting response... 200 OK\n",
            "Length: 458390 (448K) [text/csv]\n",
            "Saving to: ‘movies.csv’\n",
            "\n",
            "movies.csv          100%[===================>] 447.65K   344KB/s    in 1.3s    \n",
            "\n",
            "2021-08-18 08:47:49 (344 KB/s) - ‘movies.csv’ saved [458390/458390]\n",
            "\n",
            "--2021-08-18 08:47:49--  https://grepp-reco-test.s3.ap-northeast-2.amazonaws.com/movielens/ratings.csv\n",
            "Resolving grepp-reco-test.s3.ap-northeast-2.amazonaws.com (grepp-reco-test.s3.ap-northeast-2.amazonaws.com)... 52.219.144.78\n",
            "Connecting to grepp-reco-test.s3.ap-northeast-2.amazonaws.com (grepp-reco-test.s3.ap-northeast-2.amazonaws.com)|52.219.144.78|:443... connected.\n",
            "HTTP request sent, awaiting response... 200 OK\n",
            "Length: 2438266 (2.3M) [text/csv]\n",
            "Saving to: ‘ratings.csv’\n",
            "\n",
            "ratings.csv         100%[===================>]   2.33M  1.26MB/s    in 1.9s    \n",
            "\n",
            "2021-08-18 08:47:52 (1.26 MB/s) - ‘ratings.csv’ saved [2438266/2438266]\n",
            "\n"
          ],
          "name": "stdout"
        }
      ]
    },
    {
      "cell_type": "code",
      "metadata": {
        "colab": {
          "base_uri": "https://localhost:8080/"
        },
        "id": "oXJRj_2MF4qX",
        "outputId": "6f7fb6d7-79fc-4c64-fb50-582a981da5c5"
      },
      "source": [
        "!ls -tl"
      ],
      "execution_count": 3,
      "outputs": [
        {
          "output_type": "stream",
          "text": [
            "total 2836\n",
            "drwxr-xr-x 1 root root    4096 Aug 13 13:35 sample_data\n",
            "-rw-r--r-- 1 root root  458390 Feb 23 02:04 movies.csv\n",
            "-rw-r--r-- 1 root root 2438266 Feb 23 02:04 ratings.csv\n"
          ],
          "name": "stdout"
        }
      ]
    },
    {
      "cell_type": "markdown",
      "metadata": {
        "id": "9ZQfxxifzG6k"
      },
      "source": [
        "# 데이터 로딩\n"
      ]
    },
    {
      "cell_type": "code",
      "metadata": {
        "id": "e4jdjZN254pO"
      },
      "source": [
        "from surprise import Dataset\n",
        "from surprise import Reader\n",
        "\n",
        "from collections import defaultdict\n",
        "import numpy as np\n",
        "import pandas as pd"
      ],
      "execution_count": 4,
      "outputs": []
    },
    {
      "cell_type": "code",
      "metadata": {
        "id": "X9m_UFiBnx6m"
      },
      "source": [
        "movies = pd.read_csv(\"movies.csv\")\n",
        "ratings = pd.read_csv(\"ratings.csv\")"
      ],
      "execution_count": 5,
      "outputs": []
    },
    {
      "cell_type": "code",
      "metadata": {
        "colab": {
          "base_uri": "https://localhost:8080/",
          "height": 204
        },
        "id": "kym07ydsoou8",
        "outputId": "31ca3150-facf-4e41-b1b1-9a558763a1bb"
      },
      "source": [
        "movies.head()"
      ],
      "execution_count": 6,
      "outputs": [
        {
          "output_type": "execute_result",
          "data": {
            "text/html": [
              "<div>\n",
              "<style scoped>\n",
              "    .dataframe tbody tr th:only-of-type {\n",
              "        vertical-align: middle;\n",
              "    }\n",
              "\n",
              "    .dataframe tbody tr th {\n",
              "        vertical-align: top;\n",
              "    }\n",
              "\n",
              "    .dataframe thead th {\n",
              "        text-align: right;\n",
              "    }\n",
              "</style>\n",
              "<table border=\"1\" class=\"dataframe\">\n",
              "  <thead>\n",
              "    <tr style=\"text-align: right;\">\n",
              "      <th></th>\n",
              "      <th>movieId</th>\n",
              "      <th>title</th>\n",
              "      <th>genres</th>\n",
              "    </tr>\n",
              "  </thead>\n",
              "  <tbody>\n",
              "    <tr>\n",
              "      <th>0</th>\n",
              "      <td>1</td>\n",
              "      <td>Toy Story (1995)</td>\n",
              "      <td>Adventure|Animation|Children|Comedy|Fantasy</td>\n",
              "    </tr>\n",
              "    <tr>\n",
              "      <th>1</th>\n",
              "      <td>2</td>\n",
              "      <td>Jumanji (1995)</td>\n",
              "      <td>Adventure|Children|Fantasy</td>\n",
              "    </tr>\n",
              "    <tr>\n",
              "      <th>2</th>\n",
              "      <td>3</td>\n",
              "      <td>Grumpier Old Men (1995)</td>\n",
              "      <td>Comedy|Romance</td>\n",
              "    </tr>\n",
              "    <tr>\n",
              "      <th>3</th>\n",
              "      <td>4</td>\n",
              "      <td>Waiting to Exhale (1995)</td>\n",
              "      <td>Comedy|Drama|Romance</td>\n",
              "    </tr>\n",
              "    <tr>\n",
              "      <th>4</th>\n",
              "      <td>5</td>\n",
              "      <td>Father of the Bride Part II (1995)</td>\n",
              "      <td>Comedy</td>\n",
              "    </tr>\n",
              "  </tbody>\n",
              "</table>\n",
              "</div>"
            ],
            "text/plain": [
              "   movieId  ...                                       genres\n",
              "0        1  ...  Adventure|Animation|Children|Comedy|Fantasy\n",
              "1        2  ...                   Adventure|Children|Fantasy\n",
              "2        3  ...                               Comedy|Romance\n",
              "3        4  ...                         Comedy|Drama|Romance\n",
              "4        5  ...                                       Comedy\n",
              "\n",
              "[5 rows x 3 columns]"
            ]
          },
          "metadata": {
            "tags": []
          },
          "execution_count": 6
        }
      ]
    },
    {
      "cell_type": "code",
      "metadata": {
        "colab": {
          "base_uri": "https://localhost:8080/",
          "height": 204
        },
        "id": "K82Avgs3pHAe",
        "outputId": "0d636934-e18b-4f3b-fe39-f56056c22894"
      },
      "source": [
        "ratings.head()"
      ],
      "execution_count": 7,
      "outputs": [
        {
          "output_type": "execute_result",
          "data": {
            "text/html": [
              "<div>\n",
              "<style scoped>\n",
              "    .dataframe tbody tr th:only-of-type {\n",
              "        vertical-align: middle;\n",
              "    }\n",
              "\n",
              "    .dataframe tbody tr th {\n",
              "        vertical-align: top;\n",
              "    }\n",
              "\n",
              "    .dataframe thead th {\n",
              "        text-align: right;\n",
              "    }\n",
              "</style>\n",
              "<table border=\"1\" class=\"dataframe\">\n",
              "  <thead>\n",
              "    <tr style=\"text-align: right;\">\n",
              "      <th></th>\n",
              "      <th>userId</th>\n",
              "      <th>movieId</th>\n",
              "      <th>rating</th>\n",
              "      <th>timestamp</th>\n",
              "    </tr>\n",
              "  </thead>\n",
              "  <tbody>\n",
              "    <tr>\n",
              "      <th>0</th>\n",
              "      <td>1</td>\n",
              "      <td>31</td>\n",
              "      <td>2.5</td>\n",
              "      <td>1260759144</td>\n",
              "    </tr>\n",
              "    <tr>\n",
              "      <th>1</th>\n",
              "      <td>1</td>\n",
              "      <td>1029</td>\n",
              "      <td>3.0</td>\n",
              "      <td>1260759179</td>\n",
              "    </tr>\n",
              "    <tr>\n",
              "      <th>2</th>\n",
              "      <td>1</td>\n",
              "      <td>1061</td>\n",
              "      <td>3.0</td>\n",
              "      <td>1260759182</td>\n",
              "    </tr>\n",
              "    <tr>\n",
              "      <th>3</th>\n",
              "      <td>1</td>\n",
              "      <td>1129</td>\n",
              "      <td>2.0</td>\n",
              "      <td>1260759185</td>\n",
              "    </tr>\n",
              "    <tr>\n",
              "      <th>4</th>\n",
              "      <td>1</td>\n",
              "      <td>1172</td>\n",
              "      <td>4.0</td>\n",
              "      <td>1260759205</td>\n",
              "    </tr>\n",
              "  </tbody>\n",
              "</table>\n",
              "</div>"
            ],
            "text/plain": [
              "   userId  movieId  rating   timestamp\n",
              "0       1       31     2.5  1260759144\n",
              "1       1     1029     3.0  1260759179\n",
              "2       1     1061     3.0  1260759182\n",
              "3       1     1129     2.0  1260759185\n",
              "4       1     1172     4.0  1260759205"
            ]
          },
          "metadata": {
            "tags": []
          },
          "execution_count": 7
        }
      ]
    },
    {
      "cell_type": "code",
      "metadata": {
        "id": "ZQqs1GQIpI2y"
      },
      "source": [
        "movie_ratings = pd.merge(movies, ratings, left_on='movieId', right_on='movieId')"
      ],
      "execution_count": 8,
      "outputs": []
    },
    {
      "cell_type": "code",
      "metadata": {
        "colab": {
          "base_uri": "https://localhost:8080/",
          "height": 289
        },
        "id": "iXrDNF1UpWgF",
        "outputId": "7dfb7e92-fea4-4514-8117-f6600f639e84"
      },
      "source": [
        "movie_ratings.head()"
      ],
      "execution_count": 9,
      "outputs": [
        {
          "output_type": "execute_result",
          "data": {
            "text/html": [
              "<div>\n",
              "<style scoped>\n",
              "    .dataframe tbody tr th:only-of-type {\n",
              "        vertical-align: middle;\n",
              "    }\n",
              "\n",
              "    .dataframe tbody tr th {\n",
              "        vertical-align: top;\n",
              "    }\n",
              "\n",
              "    .dataframe thead th {\n",
              "        text-align: right;\n",
              "    }\n",
              "</style>\n",
              "<table border=\"1\" class=\"dataframe\">\n",
              "  <thead>\n",
              "    <tr style=\"text-align: right;\">\n",
              "      <th></th>\n",
              "      <th>movieId</th>\n",
              "      <th>title</th>\n",
              "      <th>genres</th>\n",
              "      <th>userId</th>\n",
              "      <th>rating</th>\n",
              "      <th>timestamp</th>\n",
              "    </tr>\n",
              "  </thead>\n",
              "  <tbody>\n",
              "    <tr>\n",
              "      <th>0</th>\n",
              "      <td>1</td>\n",
              "      <td>Toy Story (1995)</td>\n",
              "      <td>Adventure|Animation|Children|Comedy|Fantasy</td>\n",
              "      <td>7</td>\n",
              "      <td>3.0</td>\n",
              "      <td>851866703</td>\n",
              "    </tr>\n",
              "    <tr>\n",
              "      <th>1</th>\n",
              "      <td>1</td>\n",
              "      <td>Toy Story (1995)</td>\n",
              "      <td>Adventure|Animation|Children|Comedy|Fantasy</td>\n",
              "      <td>9</td>\n",
              "      <td>4.0</td>\n",
              "      <td>938629179</td>\n",
              "    </tr>\n",
              "    <tr>\n",
              "      <th>2</th>\n",
              "      <td>1</td>\n",
              "      <td>Toy Story (1995)</td>\n",
              "      <td>Adventure|Animation|Children|Comedy|Fantasy</td>\n",
              "      <td>13</td>\n",
              "      <td>5.0</td>\n",
              "      <td>1331380058</td>\n",
              "    </tr>\n",
              "    <tr>\n",
              "      <th>3</th>\n",
              "      <td>1</td>\n",
              "      <td>Toy Story (1995)</td>\n",
              "      <td>Adventure|Animation|Children|Comedy|Fantasy</td>\n",
              "      <td>15</td>\n",
              "      <td>2.0</td>\n",
              "      <td>997938310</td>\n",
              "    </tr>\n",
              "    <tr>\n",
              "      <th>4</th>\n",
              "      <td>1</td>\n",
              "      <td>Toy Story (1995)</td>\n",
              "      <td>Adventure|Animation|Children|Comedy|Fantasy</td>\n",
              "      <td>19</td>\n",
              "      <td>3.0</td>\n",
              "      <td>855190091</td>\n",
              "    </tr>\n",
              "  </tbody>\n",
              "</table>\n",
              "</div>"
            ],
            "text/plain": [
              "   movieId             title  ... rating   timestamp\n",
              "0        1  Toy Story (1995)  ...    3.0   851866703\n",
              "1        1  Toy Story (1995)  ...    4.0   938629179\n",
              "2        1  Toy Story (1995)  ...    5.0  1331380058\n",
              "3        1  Toy Story (1995)  ...    2.0   997938310\n",
              "4        1  Toy Story (1995)  ...    3.0   855190091\n",
              "\n",
              "[5 rows x 6 columns]"
            ]
          },
          "metadata": {
            "tags": []
          },
          "execution_count": 9
        }
      ]
    },
    {
      "cell_type": "code",
      "metadata": {
        "colab": {
          "base_uri": "https://localhost:8080/"
        },
        "id": "udf_2XkOpZ2L",
        "outputId": "d40023d3-cc7a-4502-93dc-1ec0c7dbb3cd"
      },
      "source": [
        "movies.shape"
      ],
      "execution_count": 10,
      "outputs": [
        {
          "output_type": "execute_result",
          "data": {
            "text/plain": [
              "(9125, 3)"
            ]
          },
          "metadata": {
            "tags": []
          },
          "execution_count": 10
        }
      ]
    },
    {
      "cell_type": "code",
      "metadata": {
        "colab": {
          "base_uri": "https://localhost:8080/"
        },
        "id": "90izVbp0pcO1",
        "outputId": "238cf042-d688-414e-bda0-cb87c53f6b63"
      },
      "source": [
        "ratings.shape"
      ],
      "execution_count": 11,
      "outputs": [
        {
          "output_type": "execute_result",
          "data": {
            "text/plain": [
              "(100004, 4)"
            ]
          },
          "metadata": {
            "tags": []
          },
          "execution_count": 11
        }
      ]
    },
    {
      "cell_type": "code",
      "metadata": {
        "colab": {
          "base_uri": "https://localhost:8080/"
        },
        "id": "l8j8KQfwpeL4",
        "outputId": "406919bb-e58d-404c-899a-f79fb3f86b46"
      },
      "source": [
        "movie_ratings.shape"
      ],
      "execution_count": 12,
      "outputs": [
        {
          "output_type": "execute_result",
          "data": {
            "text/plain": [
              "(100004, 6)"
            ]
          },
          "metadata": {
            "tags": []
          },
          "execution_count": 12
        }
      ]
    },
    {
      "cell_type": "code",
      "metadata": {
        "id": "ywKCC6ZqXl33"
      },
      "source": [
        "def getMovieName(movie_ratings, movieID):\n",
        "    return movie_ratings[movie_ratings[\"movieId\"] == movieID][[\"title\", \"genres\"]].values[0]\n",
        "\n",
        "def getMovieID(movie_ratings, movieName):\n",
        "    return movie_ratings[movie_ratings[\"title\"] == movieName][[\"movieId\", \"genres\"]].values[0]"
      ],
      "execution_count": 13,
      "outputs": []
    },
    {
      "cell_type": "markdown",
      "metadata": {
        "id": "WHeH7DsyyxCa"
      },
      "source": [
        "## 영화 데이터를 surprise 모듈을 통해 로딩"
      ]
    },
    {
      "cell_type": "code",
      "metadata": {
        "id": "ZgtyCtMaw8Eq"
      },
      "source": [
        "reader = Reader(line_format='user item rating timestamp', sep=',', skip_lines=1)\n",
        "data = Dataset.load_from_file(\"ratings.csv\", reader=reader)"
      ],
      "execution_count": 14,
      "outputs": []
    },
    {
      "cell_type": "code",
      "metadata": {
        "id": "xn5gBOTgzWAR"
      },
      "source": [
        "from surprise import KNNBasic\n",
        "import heapq\n",
        "from collections import defaultdict"
      ],
      "execution_count": 15,
      "outputs": []
    },
    {
      "cell_type": "code",
      "metadata": {
        "id": "RpkLzRulzza3"
      },
      "source": [
        "# 데이터를 훈련용과 테스트용으로 나누지 말고 모두 리턴\n",
        "trainSet = data.build_full_trainset()"
      ],
      "execution_count": 16,
      "outputs": []
    },
    {
      "cell_type": "code",
      "metadata": {
        "colab": {
          "base_uri": "https://localhost:8080/"
        },
        "id": "7SulaH4Qz42-",
        "outputId": "feca632b-d8e5-4dc5-ff47-886a8ccd9de5"
      },
      "source": [
        "sim_options = {\n",
        "    'name': 'cosine',\n",
        "    'user_based': False\n",
        "}\n",
        "\n",
        "# 아이템 기반과 코사인 유사도 기반으로 동작하는 모델 생성\n",
        "model = KNNBasic(sim_options=sim_options)\n",
        "# 데이터로부터 아이템 벡터 생성\n",
        "model.fit(trainSet)\n",
        "# 아이템간의 유사도 행렬 계산\n",
        "simsMatrix = model.compute_similarities()"
      ],
      "execution_count": 17,
      "outputs": [
        {
          "output_type": "stream",
          "text": [
            "Computing the cosine similarity matrix...\n",
            "Done computing similarity matrix.\n",
            "Computing the cosine similarity matrix...\n",
            "Done computing similarity matrix.\n"
          ],
          "name": "stdout"
        }
      ]
    },
    {
      "cell_type": "code",
      "metadata": {
        "id": "dYnKIcfx0BNh"
      },
      "source": [
        "testUserId = '85'\n",
        "k = 10"
      ],
      "execution_count": 18,
      "outputs": []
    },
    {
      "cell_type": "code",
      "metadata": {
        "colab": {
          "base_uri": "https://localhost:8080/",
          "height": 849
        },
        "id": "6ZyzNRA5Yw7o",
        "outputId": "975b0b92-0808-4339-ddb4-4ace58215713"
      },
      "source": [
        "pd.set_option('display.max_colwidth', -1)\n",
        "display(movie_ratings[movie_ratings[\"userId\"] == int(testUserId)].sort_values(\"rating\", ascending=False))"
      ],
      "execution_count": 19,
      "outputs": [
        {
          "output_type": "stream",
          "text": [
            "/usr/local/lib/python3.7/dist-packages/ipykernel_launcher.py:1: FutureWarning: Passing a negative integer is deprecated in version 1.0 and will not be supported in future version. Instead, use None to not limit the column width.\n",
            "  \"\"\"Entry point for launching an IPython kernel.\n"
          ],
          "name": "stderr"
        },
        {
          "output_type": "display_data",
          "data": {
            "text/html": [
              "<div>\n",
              "<style scoped>\n",
              "    .dataframe tbody tr th:only-of-type {\n",
              "        vertical-align: middle;\n",
              "    }\n",
              "\n",
              "    .dataframe tbody tr th {\n",
              "        vertical-align: top;\n",
              "    }\n",
              "\n",
              "    .dataframe thead th {\n",
              "        text-align: right;\n",
              "    }\n",
              "</style>\n",
              "<table border=\"1\" class=\"dataframe\">\n",
              "  <thead>\n",
              "    <tr style=\"text-align: right;\">\n",
              "      <th></th>\n",
              "      <th>movieId</th>\n",
              "      <th>title</th>\n",
              "      <th>genres</th>\n",
              "      <th>userId</th>\n",
              "      <th>rating</th>\n",
              "      <th>timestamp</th>\n",
              "    </tr>\n",
              "  </thead>\n",
              "  <tbody>\n",
              "    <tr>\n",
              "      <th>263</th>\n",
              "      <td>2</td>\n",
              "      <td>Jumanji (1995)</td>\n",
              "      <td>Adventure|Children|Fantasy</td>\n",
              "      <td>85</td>\n",
              "      <td>5.0</td>\n",
              "      <td>837511784</td>\n",
              "    </tr>\n",
              "    <tr>\n",
              "      <th>7443</th>\n",
              "      <td>255</td>\n",
              "      <td>Jerky Boys, The (1995)</td>\n",
              "      <td>Comedy</td>\n",
              "      <td>85</td>\n",
              "      <td>5.0</td>\n",
              "      <td>837512635</td>\n",
              "    </tr>\n",
              "    <tr>\n",
              "      <th>19363</th>\n",
              "      <td>648</td>\n",
              "      <td>Mission: Impossible (1996)</td>\n",
              "      <td>Action|Adventure|Mystery|Thriller</td>\n",
              "      <td>85</td>\n",
              "      <td>5.0</td>\n",
              "      <td>837511448</td>\n",
              "    </tr>\n",
              "    <tr>\n",
              "      <th>17405</th>\n",
              "      <td>589</td>\n",
              "      <td>Terminator 2: Judgment Day (1991)</td>\n",
              "      <td>Action|Sci-Fi</td>\n",
              "      <td>85</td>\n",
              "      <td>5.0</td>\n",
              "      <td>837507044</td>\n",
              "    </tr>\n",
              "    <tr>\n",
              "      <th>14386</th>\n",
              "      <td>480</td>\n",
              "      <td>Jurassic Park (1993)</td>\n",
              "      <td>Action|Adventure|Sci-Fi|Thriller</td>\n",
              "      <td>85</td>\n",
              "      <td>5.0</td>\n",
              "      <td>837511743</td>\n",
              "    </tr>\n",
              "    <tr>\n",
              "      <th>...</th>\n",
              "      <td>...</td>\n",
              "      <td>...</td>\n",
              "      <td>...</td>\n",
              "      <td>...</td>\n",
              "      <td>...</td>\n",
              "      <td>...</td>\n",
              "    </tr>\n",
              "    <tr>\n",
              "      <th>16429</th>\n",
              "      <td>546</td>\n",
              "      <td>Super Mario Bros. (1993)</td>\n",
              "      <td>Action|Adventure|Children|Comedy|Fantasy|Sci-Fi</td>\n",
              "      <td>85</td>\n",
              "      <td>1.0</td>\n",
              "      <td>837512482</td>\n",
              "    </tr>\n",
              "    <tr>\n",
              "      <th>11769</th>\n",
              "      <td>366</td>\n",
              "      <td>Wes Craven's New Nightmare (Nightmare on Elm Street Part 7: Freddy's Finale, A) (1994)</td>\n",
              "      <td>Drama|Horror|Mystery|Thriller</td>\n",
              "      <td>85</td>\n",
              "      <td>1.0</td>\n",
              "      <td>837512580</td>\n",
              "    </tr>\n",
              "    <tr>\n",
              "      <th>12156</th>\n",
              "      <td>374</td>\n",
              "      <td>Richie Rich (1994)</td>\n",
              "      <td>Children|Comedy</td>\n",
              "      <td>85</td>\n",
              "      <td>1.0</td>\n",
              "      <td>837512723</td>\n",
              "    </tr>\n",
              "    <tr>\n",
              "      <th>8420</th>\n",
              "      <td>291</td>\n",
              "      <td>Poison Ivy II (1996)</td>\n",
              "      <td>Drama|Thriller</td>\n",
              "      <td>85</td>\n",
              "      <td>1.0</td>\n",
              "      <td>837512611</td>\n",
              "    </tr>\n",
              "    <tr>\n",
              "      <th>8237</th>\n",
              "      <td>282</td>\n",
              "      <td>Nell (1994)</td>\n",
              "      <td>Drama</td>\n",
              "      <td>85</td>\n",
              "      <td>1.0</td>\n",
              "      <td>837512962</td>\n",
              "    </tr>\n",
              "  </tbody>\n",
              "</table>\n",
              "<p>107 rows × 6 columns</p>\n",
              "</div>"
            ],
            "text/plain": [
              "       movieId  ...  timestamp\n",
              "263    2        ...  837511784\n",
              "7443   255      ...  837512635\n",
              "19363  648      ...  837511448\n",
              "17405  589      ...  837507044\n",
              "14386  480      ...  837511743\n",
              "...    ...      ...        ...\n",
              "16429  546      ...  837512482\n",
              "11769  366      ...  837512580\n",
              "12156  374      ...  837512723\n",
              "8420   291      ...  837512611\n",
              "8237   282      ...  837512962\n",
              "\n",
              "[107 rows x 6 columns]"
            ]
          },
          "metadata": {
            "tags": []
          }
        }
      ]
    },
    {
      "cell_type": "code",
      "metadata": {
        "id": "1Xm-xEjrYujc"
      },
      "source": [
        "testUserInnerID = trainSet.to_inner_uid(testUserId)"
      ],
      "execution_count": 20,
      "outputs": []
    },
    {
      "cell_type": "code",
      "metadata": {
        "id": "ZXT62k1C0MXA"
      },
      "source": [
        "# 이 사용자가 좋아한 영화 k개를 읽어서 kNeighbors에 저장\n",
        "testUserRatings = trainSet.ur[testUserInnerID]\n",
        "kNeighbors = heapq.nlargest(k, testUserRatings, key=lambda t: t[1])"
      ],
      "execution_count": 21,
      "outputs": []
    },
    {
      "cell_type": "code",
      "metadata": {
        "id": "vFfjdVUM0T0p"
      },
      "source": [
        "# 이 사용자 좋아한 영화들과 비슷한 영화를 찾아서 candidates에 유사도 가중치를 곱해서 저장\n",
        "candidates = defaultdict(float)\n",
        "for itemID, rating in kNeighbors:\n",
        "    similarityRow = simsMatrix[itemID]\n",
        "    for innerID, score in enumerate(similarityRow):\n",
        "        candidates[innerID] += score * (rating)        "
      ],
      "execution_count": 22,
      "outputs": []
    },
    {
      "cell_type": "code",
      "metadata": {
        "id": "LB0Z8koI0WWR"
      },
      "source": [
        "# 사용자가 이미 본 아이템들을 기록\n",
        "watched = {}\n",
        "for itemID, rating in trainSet.ur[testUserInnerID]:\n",
        "    watched[itemID] = 1"
      ],
      "execution_count": 23,
      "outputs": []
    },
    {
      "cell_type": "code",
      "metadata": {
        "colab": {
          "base_uri": "https://localhost:8080/"
        },
        "id": "Lj-Tmcat0YlM",
        "outputId": "be73b009-7ea2-4693-ee3f-6c3610f0b01c"
      },
      "source": [
        "pos = 0\n",
        "for itemID, ratingSum in sorted(candidates.items(), key=lambda t: t[1], reverse=True):\n",
        "    if not itemID in watched:\n",
        "        movieID = trainSet.to_raw_iid(itemID)\n",
        "        print(movieID, getMovieName(movie_ratings, int(movieID)), ratingSum)\n",
        "        pos += 1\n",
        "        if (pos > 10):\n",
        "            break"
      ],
      "execution_count": 24,
      "outputs": [
        {
          "output_type": "stream",
          "text": [
            "3136 ['James Dean Story, The (1957)' 'Documentary'] 50.0\n",
            "2607 ['Get Real (1998)' 'Drama|Romance'] 49.93620560356324\n",
            "259 ['Kiss of Death (1995)' 'Crime|Drama|Thriller'] 49.83440938875971\n",
            "998 ['Set It Off (1996)' 'Action|Crime'] 49.818661078285594\n",
            "1935 ['How Green Was My Valley (1941)' 'Drama|Musical|Romance'] 49.71992040532635\n",
            "1440 ['Amos & Andrew (1993)' 'Comedy'] 49.69868472501265\n",
            "269 ['My Crazy Life (Mi vida loca) (1993)' 'Drama'] 49.691452437730206\n",
            "988 ['Grace of My Heart (1996)' 'Comedy|Drama'] 49.631279483226095\n",
            "2068 ['Fanny and Alexander (Fanny och Alexander) (1982)'\n",
            " 'Drama|Fantasy|Mystery'] 49.628498357279526\n",
            "896 ['Wild Reeds (Les roseaux sauvages) (1994)' 'Drama'] 49.58113202209386\n",
            "2626 ['Edge of Seventeen (1998)' 'Comedy|Drama|Romance'] 49.565143823458385\n"
          ],
          "name": "stdout"
        }
      ]
    },
    {
      "cell_type": "code",
      "metadata": {
        "id": "fKAMNwFq8w8t"
      },
      "source": [
        "def recommendForItem(userID):\n",
        "    testUserInnerID = trainSet.to_inner_uid(userID)\n",
        "    testUserRatings = trainSet.ur[testUserInnerID]\n",
        "\n",
        "    kNeighbors = heapq.nlargest(k, testUserRatings, key=lambda t: t[1])\n",
        "\n",
        "    candidates = defaultdict(float)\n",
        "    for itemID, rating in kNeighbors:\n",
        "        similarityRow = simsMatrix[itemID]\n",
        "        for innerID, score in enumerate(similarityRow):\n",
        "            candidates[innerID] += score * (rating) \n",
        " \n",
        "    watched = {}\n",
        "    for itemID, rating in trainSet.ur[testUserInnerID]:\n",
        "        watched[itemID] = 1\n",
        "\n",
        "    pos = 0\n",
        "    for itemID, ratingSum in sorted(candidates.items(), key=itemgetter(1), reverse=True):\n",
        "        if not itemID in watched:\n",
        "            movieID = trainSet.to_raw_iid(itemID)\n",
        "            print(movieID, getMovieName(movie_ratings, int(movieID)), ratingSum)\n",
        "            pos += 1\n",
        "            if (pos > 10):\n",
        "                break      "
      ],
      "execution_count": 25,
      "outputs": []
    },
    {
      "cell_type": "code",
      "metadata": {
        "id": "QyjOALwuYit2",
        "outputId": "ac307caf-89f5-4bca-8aec-4a99e4bc51fe",
        "colab": {
          "base_uri": "https://localhost:8080/",
          "height": 298
        }
      },
      "source": [
        "recommendForItem('85')"
      ],
      "execution_count": 26,
      "outputs": [
        {
          "output_type": "error",
          "ename": "NameError",
          "evalue": "ignored",
          "traceback": [
            "\u001b[0;31m---------------------------------------------------------------------------\u001b[0m",
            "\u001b[0;31mNameError\u001b[0m                                 Traceback (most recent call last)",
            "\u001b[0;32m<ipython-input-26-ed278041cfa2>\u001b[0m in \u001b[0;36m<module>\u001b[0;34m()\u001b[0m\n\u001b[0;32m----> 1\u001b[0;31m \u001b[0mrecommendForItem\u001b[0m\u001b[0;34m(\u001b[0m\u001b[0;34m'85'\u001b[0m\u001b[0;34m)\u001b[0m\u001b[0;34m\u001b[0m\u001b[0;34m\u001b[0m\u001b[0m\n\u001b[0m",
            "\u001b[0;32m<ipython-input-25-b44cf2a2ecde>\u001b[0m in \u001b[0;36mrecommendForItem\u001b[0;34m(userID)\u001b[0m\n\u001b[1;32m     16\u001b[0m \u001b[0;34m\u001b[0m\u001b[0m\n\u001b[1;32m     17\u001b[0m     \u001b[0mpos\u001b[0m \u001b[0;34m=\u001b[0m \u001b[0;36m0\u001b[0m\u001b[0;34m\u001b[0m\u001b[0;34m\u001b[0m\u001b[0m\n\u001b[0;32m---> 18\u001b[0;31m     \u001b[0;32mfor\u001b[0m \u001b[0mitemID\u001b[0m\u001b[0;34m,\u001b[0m \u001b[0mratingSum\u001b[0m \u001b[0;32min\u001b[0m \u001b[0msorted\u001b[0m\u001b[0;34m(\u001b[0m\u001b[0mcandidates\u001b[0m\u001b[0;34m.\u001b[0m\u001b[0mitems\u001b[0m\u001b[0;34m(\u001b[0m\u001b[0;34m)\u001b[0m\u001b[0;34m,\u001b[0m \u001b[0mkey\u001b[0m\u001b[0;34m=\u001b[0m\u001b[0mitemgetter\u001b[0m\u001b[0;34m(\u001b[0m\u001b[0;36m1\u001b[0m\u001b[0;34m)\u001b[0m\u001b[0;34m,\u001b[0m \u001b[0mreverse\u001b[0m\u001b[0;34m=\u001b[0m\u001b[0;32mTrue\u001b[0m\u001b[0;34m)\u001b[0m\u001b[0;34m:\u001b[0m\u001b[0;34m\u001b[0m\u001b[0;34m\u001b[0m\u001b[0m\n\u001b[0m\u001b[1;32m     19\u001b[0m         \u001b[0;32mif\u001b[0m \u001b[0;32mnot\u001b[0m \u001b[0mitemID\u001b[0m \u001b[0;32min\u001b[0m \u001b[0mwatched\u001b[0m\u001b[0;34m:\u001b[0m\u001b[0;34m\u001b[0m\u001b[0;34m\u001b[0m\u001b[0m\n\u001b[1;32m     20\u001b[0m             \u001b[0mmovieID\u001b[0m \u001b[0;34m=\u001b[0m \u001b[0mtrainSet\u001b[0m\u001b[0;34m.\u001b[0m\u001b[0mto_raw_iid\u001b[0m\u001b[0;34m(\u001b[0m\u001b[0mitemID\u001b[0m\u001b[0;34m)\u001b[0m\u001b[0;34m\u001b[0m\u001b[0;34m\u001b[0m\u001b[0m\n",
            "\u001b[0;31mNameError\u001b[0m: name 'itemgetter' is not defined"
          ]
        }
      ]
    },
    {
      "cell_type": "code",
      "metadata": {
        "id": "wxfvVA5tYkeB"
      },
      "source": [
        ""
      ],
      "execution_count": null,
      "outputs": []
    }
  ]
}