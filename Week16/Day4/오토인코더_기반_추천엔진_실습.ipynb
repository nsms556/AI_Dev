{
  "nbformat": 4,
  "nbformat_minor": 0,
  "metadata": {
    "colab": {
      "name": "오토인코더 기반 추천엔진 실습.ipynb",
      "provenance": []
    },
    "kernelspec": {
      "name": "python3",
      "display_name": "Python 3"
    },
    "language_info": {
      "name": "python"
    }
  },
  "cells": [
    {
      "cell_type": "code",
      "metadata": {
        "id": "TvI88NvAdQC3"
      },
      "source": [
        "import os\n",
        "\n",
        "import numpy as np\n",
        "import pandas as pd\n",
        "import matplotlib.pyplot as plt\n",
        "\n",
        "from keras.layers import Input, Embedding, Flatten, Dot, Dense\n",
        "from keras.models import Model"
      ],
      "execution_count": 14,
      "outputs": []
    },
    {
      "cell_type": "code",
      "metadata": {
        "id": "bM3xoYugdj_-"
      },
      "source": [
        "ratings = pd.read_csv(\"https://grepp-reco-test.s3.ap-northeast-2.amazonaws.com/movielens/ratings.csv\")"
      ],
      "execution_count": 3,
      "outputs": []
    },
    {
      "cell_type": "code",
      "metadata": {
        "colab": {
          "base_uri": "https://localhost:8080/",
          "height": 204
        },
        "id": "2aGZZdF0d7Bx",
        "outputId": "501c7afa-4f12-4b5f-f56b-76e184a107d0"
      },
      "source": [
        "ratings.head()"
      ],
      "execution_count": 4,
      "outputs": [
        {
          "output_type": "execute_result",
          "data": {
            "text/html": [
              "<div>\n",
              "<style scoped>\n",
              "    .dataframe tbody tr th:only-of-type {\n",
              "        vertical-align: middle;\n",
              "    }\n",
              "\n",
              "    .dataframe tbody tr th {\n",
              "        vertical-align: top;\n",
              "    }\n",
              "\n",
              "    .dataframe thead th {\n",
              "        text-align: right;\n",
              "    }\n",
              "</style>\n",
              "<table border=\"1\" class=\"dataframe\">\n",
              "  <thead>\n",
              "    <tr style=\"text-align: right;\">\n",
              "      <th></th>\n",
              "      <th>userId</th>\n",
              "      <th>movieId</th>\n",
              "      <th>rating</th>\n",
              "      <th>timestamp</th>\n",
              "    </tr>\n",
              "  </thead>\n",
              "  <tbody>\n",
              "    <tr>\n",
              "      <th>0</th>\n",
              "      <td>1</td>\n",
              "      <td>31</td>\n",
              "      <td>2.5</td>\n",
              "      <td>1260759144</td>\n",
              "    </tr>\n",
              "    <tr>\n",
              "      <th>1</th>\n",
              "      <td>1</td>\n",
              "      <td>1029</td>\n",
              "      <td>3.0</td>\n",
              "      <td>1260759179</td>\n",
              "    </tr>\n",
              "    <tr>\n",
              "      <th>2</th>\n",
              "      <td>1</td>\n",
              "      <td>1061</td>\n",
              "      <td>3.0</td>\n",
              "      <td>1260759182</td>\n",
              "    </tr>\n",
              "    <tr>\n",
              "      <th>3</th>\n",
              "      <td>1</td>\n",
              "      <td>1129</td>\n",
              "      <td>2.0</td>\n",
              "      <td>1260759185</td>\n",
              "    </tr>\n",
              "    <tr>\n",
              "      <th>4</th>\n",
              "      <td>1</td>\n",
              "      <td>1172</td>\n",
              "      <td>4.0</td>\n",
              "      <td>1260759205</td>\n",
              "    </tr>\n",
              "  </tbody>\n",
              "</table>\n",
              "</div>"
            ],
            "text/plain": [
              "   userId  movieId  rating   timestamp\n",
              "0       1       31     2.5  1260759144\n",
              "1       1     1029     3.0  1260759179\n",
              "2       1     1061     3.0  1260759182\n",
              "3       1     1129     2.0  1260759185\n",
              "4       1     1172     4.0  1260759205"
            ]
          },
          "metadata": {},
          "execution_count": 4
        }
      ]
    },
    {
      "cell_type": "code",
      "metadata": {
        "colab": {
          "base_uri": "https://localhost:8080/"
        },
        "id": "TiNsdaSwexuJ",
        "outputId": "46d1d538-16dd-446f-ad48-e936a879e740"
      },
      "source": [
        "users = len(ratings['userId'].unique())\n",
        "movies = len(ratings['movieId'].unique())\n",
        "print(users, movies)"
      ],
      "execution_count": 5,
      "outputs": [
        {
          "output_type": "stream",
          "text": [
            "671 9066\n"
          ],
          "name": "stdout"
        }
      ]
    },
    {
      "cell_type": "code",
      "metadata": {
        "colab": {
          "base_uri": "https://localhost:8080/",
          "height": 297
        },
        "id": "SLgd_BczfEud",
        "outputId": "3f7562f4-be85-4f3e-ce16-fdb16fb0312e"
      },
      "source": [
        "ratings.describe()"
      ],
      "execution_count": 6,
      "outputs": [
        {
          "output_type": "execute_result",
          "data": {
            "text/html": [
              "<div>\n",
              "<style scoped>\n",
              "    .dataframe tbody tr th:only-of-type {\n",
              "        vertical-align: middle;\n",
              "    }\n",
              "\n",
              "    .dataframe tbody tr th {\n",
              "        vertical-align: top;\n",
              "    }\n",
              "\n",
              "    .dataframe thead th {\n",
              "        text-align: right;\n",
              "    }\n",
              "</style>\n",
              "<table border=\"1\" class=\"dataframe\">\n",
              "  <thead>\n",
              "    <tr style=\"text-align: right;\">\n",
              "      <th></th>\n",
              "      <th>userId</th>\n",
              "      <th>movieId</th>\n",
              "      <th>rating</th>\n",
              "      <th>timestamp</th>\n",
              "    </tr>\n",
              "  </thead>\n",
              "  <tbody>\n",
              "    <tr>\n",
              "      <th>count</th>\n",
              "      <td>100004.000000</td>\n",
              "      <td>100004.000000</td>\n",
              "      <td>100004.000000</td>\n",
              "      <td>1.000040e+05</td>\n",
              "    </tr>\n",
              "    <tr>\n",
              "      <th>mean</th>\n",
              "      <td>347.011310</td>\n",
              "      <td>12548.664363</td>\n",
              "      <td>3.543608</td>\n",
              "      <td>1.129639e+09</td>\n",
              "    </tr>\n",
              "    <tr>\n",
              "      <th>std</th>\n",
              "      <td>195.163838</td>\n",
              "      <td>26369.198969</td>\n",
              "      <td>1.058064</td>\n",
              "      <td>1.916858e+08</td>\n",
              "    </tr>\n",
              "    <tr>\n",
              "      <th>min</th>\n",
              "      <td>1.000000</td>\n",
              "      <td>1.000000</td>\n",
              "      <td>0.500000</td>\n",
              "      <td>7.896520e+08</td>\n",
              "    </tr>\n",
              "    <tr>\n",
              "      <th>25%</th>\n",
              "      <td>182.000000</td>\n",
              "      <td>1028.000000</td>\n",
              "      <td>3.000000</td>\n",
              "      <td>9.658478e+08</td>\n",
              "    </tr>\n",
              "    <tr>\n",
              "      <th>50%</th>\n",
              "      <td>367.000000</td>\n",
              "      <td>2406.500000</td>\n",
              "      <td>4.000000</td>\n",
              "      <td>1.110422e+09</td>\n",
              "    </tr>\n",
              "    <tr>\n",
              "      <th>75%</th>\n",
              "      <td>520.000000</td>\n",
              "      <td>5418.000000</td>\n",
              "      <td>4.000000</td>\n",
              "      <td>1.296192e+09</td>\n",
              "    </tr>\n",
              "    <tr>\n",
              "      <th>max</th>\n",
              "      <td>671.000000</td>\n",
              "      <td>163949.000000</td>\n",
              "      <td>5.000000</td>\n",
              "      <td>1.476641e+09</td>\n",
              "    </tr>\n",
              "  </tbody>\n",
              "</table>\n",
              "</div>"
            ],
            "text/plain": [
              "              userId        movieId         rating     timestamp\n",
              "count  100004.000000  100004.000000  100004.000000  1.000040e+05\n",
              "mean      347.011310   12548.664363       3.543608  1.129639e+09\n",
              "std       195.163838   26369.198969       1.058064  1.916858e+08\n",
              "min         1.000000       1.000000       0.500000  7.896520e+08\n",
              "25%       182.000000    1028.000000       3.000000  9.658478e+08\n",
              "50%       367.000000    2406.500000       4.000000  1.110422e+09\n",
              "75%       520.000000    5418.000000       4.000000  1.296192e+09\n",
              "max       671.000000  163949.000000       5.000000  1.476641e+09"
            ]
          },
          "metadata": {},
          "execution_count": 6
        }
      ]
    },
    {
      "cell_type": "code",
      "metadata": {
        "id": "78HcIbt_fHyo"
      },
      "source": [
        "movieId_to_seqId = {}\n",
        "seqId_to_movieId = {}\n",
        "\n",
        "for sId, id in enumerate(ratings['movieId'].unique()) :\n",
        "  seqId_to_movieId[sId] = id\n",
        "  movieId_to_seqId[id] = sId"
      ],
      "execution_count": 7,
      "outputs": []
    },
    {
      "cell_type": "code",
      "metadata": {
        "id": "ae-rI730fhE2"
      },
      "source": [
        "def return_movieId_to_seqId(row) :\n",
        "  return movieId_to_seqId[row.movieId]\n",
        "\n",
        "ratings['new_movieId'] = ratings.apply(return_movieId_to_seqId, axis=1)"
      ],
      "execution_count": 8,
      "outputs": []
    },
    {
      "cell_type": "code",
      "metadata": {
        "colab": {
          "base_uri": "https://localhost:8080/",
          "height": 297
        },
        "id": "71sPBgK-fzJL",
        "outputId": "77a0c453-72f4-4799-cb22-bcf195813f80"
      },
      "source": [
        "ratings.describe()"
      ],
      "execution_count": 9,
      "outputs": [
        {
          "output_type": "execute_result",
          "data": {
            "text/html": [
              "<div>\n",
              "<style scoped>\n",
              "    .dataframe tbody tr th:only-of-type {\n",
              "        vertical-align: middle;\n",
              "    }\n",
              "\n",
              "    .dataframe tbody tr th {\n",
              "        vertical-align: top;\n",
              "    }\n",
              "\n",
              "    .dataframe thead th {\n",
              "        text-align: right;\n",
              "    }\n",
              "</style>\n",
              "<table border=\"1\" class=\"dataframe\">\n",
              "  <thead>\n",
              "    <tr style=\"text-align: right;\">\n",
              "      <th></th>\n",
              "      <th>userId</th>\n",
              "      <th>movieId</th>\n",
              "      <th>rating</th>\n",
              "      <th>timestamp</th>\n",
              "      <th>new_movieId</th>\n",
              "    </tr>\n",
              "  </thead>\n",
              "  <tbody>\n",
              "    <tr>\n",
              "      <th>count</th>\n",
              "      <td>100004.000000</td>\n",
              "      <td>100004.000000</td>\n",
              "      <td>100004.000000</td>\n",
              "      <td>1.000040e+05</td>\n",
              "      <td>100004.000000</td>\n",
              "    </tr>\n",
              "    <tr>\n",
              "      <th>mean</th>\n",
              "      <td>347.011310</td>\n",
              "      <td>12548.664363</td>\n",
              "      <td>3.543608</td>\n",
              "      <td>1.129639e+09</td>\n",
              "      <td>1660.778349</td>\n",
              "    </tr>\n",
              "    <tr>\n",
              "      <th>std</th>\n",
              "      <td>195.163838</td>\n",
              "      <td>26369.198969</td>\n",
              "      <td>1.058064</td>\n",
              "      <td>1.916858e+08</td>\n",
              "      <td>1893.955817</td>\n",
              "    </tr>\n",
              "    <tr>\n",
              "      <th>min</th>\n",
              "      <td>1.000000</td>\n",
              "      <td>1.000000</td>\n",
              "      <td>0.500000</td>\n",
              "      <td>7.896520e+08</td>\n",
              "      <td>0.000000</td>\n",
              "    </tr>\n",
              "    <tr>\n",
              "      <th>25%</th>\n",
              "      <td>182.000000</td>\n",
              "      <td>1028.000000</td>\n",
              "      <td>3.000000</td>\n",
              "      <td>9.658478e+08</td>\n",
              "      <td>327.000000</td>\n",
              "    </tr>\n",
              "    <tr>\n",
              "      <th>50%</th>\n",
              "      <td>367.000000</td>\n",
              "      <td>2406.500000</td>\n",
              "      <td>4.000000</td>\n",
              "      <td>1.110422e+09</td>\n",
              "      <td>873.000000</td>\n",
              "    </tr>\n",
              "    <tr>\n",
              "      <th>75%</th>\n",
              "      <td>520.000000</td>\n",
              "      <td>5418.000000</td>\n",
              "      <td>4.000000</td>\n",
              "      <td>1.296192e+09</td>\n",
              "      <td>2344.000000</td>\n",
              "    </tr>\n",
              "    <tr>\n",
              "      <th>max</th>\n",
              "      <td>671.000000</td>\n",
              "      <td>163949.000000</td>\n",
              "      <td>5.000000</td>\n",
              "      <td>1.476641e+09</td>\n",
              "      <td>9065.000000</td>\n",
              "    </tr>\n",
              "  </tbody>\n",
              "</table>\n",
              "</div>"
            ],
            "text/plain": [
              "              userId        movieId         rating     timestamp    new_movieId\n",
              "count  100004.000000  100004.000000  100004.000000  1.000040e+05  100004.000000\n",
              "mean      347.011310   12548.664363       3.543608  1.129639e+09    1660.778349\n",
              "std       195.163838   26369.198969       1.058064  1.916858e+08    1893.955817\n",
              "min         1.000000       1.000000       0.500000  7.896520e+08       0.000000\n",
              "25%       182.000000    1028.000000       3.000000  9.658478e+08     327.000000\n",
              "50%       367.000000    2406.500000       4.000000  1.110422e+09     873.000000\n",
              "75%       520.000000    5418.000000       4.000000  1.296192e+09    2344.000000\n",
              "max       671.000000  163949.000000       5.000000  1.476641e+09    9065.000000"
            ]
          },
          "metadata": {},
          "execution_count": 9
        }
      ]
    },
    {
      "cell_type": "code",
      "metadata": {
        "id": "gw_oG6nLf5y2"
      },
      "source": [
        "from sklearn.model_selection import train_test_split\n",
        "\n",
        "train, test = train_test_split(ratings, test_size=0.2, random_state=42)"
      ],
      "execution_count": 10,
      "outputs": []
    },
    {
      "cell_type": "code",
      "metadata": {
        "colab": {
          "base_uri": "https://localhost:8080/",
          "height": 204
        },
        "id": "FLnyOZDHgQfq",
        "outputId": "71862ad2-d86c-4b02-96b1-5d1e61f1389f"
      },
      "source": [
        "train.head()"
      ],
      "execution_count": 11,
      "outputs": [
        {
          "output_type": "execute_result",
          "data": {
            "text/html": [
              "<div>\n",
              "<style scoped>\n",
              "    .dataframe tbody tr th:only-of-type {\n",
              "        vertical-align: middle;\n",
              "    }\n",
              "\n",
              "    .dataframe tbody tr th {\n",
              "        vertical-align: top;\n",
              "    }\n",
              "\n",
              "    .dataframe thead th {\n",
              "        text-align: right;\n",
              "    }\n",
              "</style>\n",
              "<table border=\"1\" class=\"dataframe\">\n",
              "  <thead>\n",
              "    <tr style=\"text-align: right;\">\n",
              "      <th></th>\n",
              "      <th>userId</th>\n",
              "      <th>movieId</th>\n",
              "      <th>rating</th>\n",
              "      <th>timestamp</th>\n",
              "      <th>new_movieId</th>\n",
              "    </tr>\n",
              "  </thead>\n",
              "  <tbody>\n",
              "    <tr>\n",
              "      <th>37865</th>\n",
              "      <td>273</td>\n",
              "      <td>5816</td>\n",
              "      <td>4.5</td>\n",
              "      <td>1466946328</td>\n",
              "      <td>364</td>\n",
              "    </tr>\n",
              "    <tr>\n",
              "      <th>46342</th>\n",
              "      <td>339</td>\n",
              "      <td>2028</td>\n",
              "      <td>4.5</td>\n",
              "      <td>1446663181</td>\n",
              "      <td>113</td>\n",
              "    </tr>\n",
              "    <tr>\n",
              "      <th>64614</th>\n",
              "      <td>461</td>\n",
              "      <td>3895</td>\n",
              "      <td>0.5</td>\n",
              "      <td>1093224965</td>\n",
              "      <td>4626</td>\n",
              "    </tr>\n",
              "    <tr>\n",
              "      <th>41974</th>\n",
              "      <td>300</td>\n",
              "      <td>3578</td>\n",
              "      <td>4.5</td>\n",
              "      <td>1086010878</td>\n",
              "      <td>468</td>\n",
              "    </tr>\n",
              "    <tr>\n",
              "      <th>50236</th>\n",
              "      <td>369</td>\n",
              "      <td>292</td>\n",
              "      <td>3.0</td>\n",
              "      <td>847465462</td>\n",
              "      <td>48</td>\n",
              "    </tr>\n",
              "  </tbody>\n",
              "</table>\n",
              "</div>"
            ],
            "text/plain": [
              "       userId  movieId  rating   timestamp  new_movieId\n",
              "37865     273     5816     4.5  1466946328          364\n",
              "46342     339     2028     4.5  1446663181          113\n",
              "64614     461     3895     0.5  1093224965         4626\n",
              "41974     300     3578     4.5  1086010878          468\n",
              "50236     369      292     3.0   847465462           48"
            ]
          },
          "metadata": {},
          "execution_count": 11
        }
      ]
    },
    {
      "cell_type": "code",
      "metadata": {
        "colab": {
          "base_uri": "https://localhost:8080/",
          "height": 204
        },
        "id": "q9hminEBgRs9",
        "outputId": "df3bb638-16e9-4b8e-b63e-7ffaecc82fb2"
      },
      "source": [
        "test.head()"
      ],
      "execution_count": 12,
      "outputs": [
        {
          "output_type": "execute_result",
          "data": {
            "text/html": [
              "<div>\n",
              "<style scoped>\n",
              "    .dataframe tbody tr th:only-of-type {\n",
              "        vertical-align: middle;\n",
              "    }\n",
              "\n",
              "    .dataframe tbody tr th {\n",
              "        vertical-align: top;\n",
              "    }\n",
              "\n",
              "    .dataframe thead th {\n",
              "        text-align: right;\n",
              "    }\n",
              "</style>\n",
              "<table border=\"1\" class=\"dataframe\">\n",
              "  <thead>\n",
              "    <tr style=\"text-align: right;\">\n",
              "      <th></th>\n",
              "      <th>userId</th>\n",
              "      <th>movieId</th>\n",
              "      <th>rating</th>\n",
              "      <th>timestamp</th>\n",
              "      <th>new_movieId</th>\n",
              "    </tr>\n",
              "  </thead>\n",
              "  <tbody>\n",
              "    <tr>\n",
              "      <th>19090</th>\n",
              "      <td>128</td>\n",
              "      <td>1028</td>\n",
              "      <td>5.0</td>\n",
              "      <td>1049690908</td>\n",
              "      <td>165</td>\n",
              "    </tr>\n",
              "    <tr>\n",
              "      <th>99678</th>\n",
              "      <td>665</td>\n",
              "      <td>4736</td>\n",
              "      <td>1.0</td>\n",
              "      <td>1010197684</td>\n",
              "      <td>9064</td>\n",
              "    </tr>\n",
              "    <tr>\n",
              "      <th>18455</th>\n",
              "      <td>120</td>\n",
              "      <td>4002</td>\n",
              "      <td>3.0</td>\n",
              "      <td>1167420604</td>\n",
              "      <td>2763</td>\n",
              "    </tr>\n",
              "    <tr>\n",
              "      <th>35755</th>\n",
              "      <td>257</td>\n",
              "      <td>1274</td>\n",
              "      <td>4.0</td>\n",
              "      <td>1348544094</td>\n",
              "      <td>2190</td>\n",
              "    </tr>\n",
              "    <tr>\n",
              "      <th>66536</th>\n",
              "      <td>468</td>\n",
              "      <td>6440</td>\n",
              "      <td>4.0</td>\n",
              "      <td>1296191715</td>\n",
              "      <td>1333</td>\n",
              "    </tr>\n",
              "  </tbody>\n",
              "</table>\n",
              "</div>"
            ],
            "text/plain": [
              "       userId  movieId  rating   timestamp  new_movieId\n",
              "19090     128     1028     5.0  1049690908          165\n",
              "99678     665     4736     1.0  1010197684         9064\n",
              "18455     120     4002     3.0  1167420604         2763\n",
              "35755     257     1274     4.0  1348544094         2190\n",
              "66536     468     6440     4.0  1296191715         1333"
            ]
          },
          "metadata": {},
          "execution_count": 12
        }
      ]
    },
    {
      "cell_type": "code",
      "metadata": {
        "id": "GWio3BPCgTCh"
      },
      "source": [
        "movie_input = Input(shape=[1], name='Movies')\n",
        "\n",
        "movie_embedding = Embedding(movies+1, 5, name='Embedded_Movies')(movie_input)\n",
        "movie_final = Flatten(name='Flatten_Movies')(movie_embedding)"
      ],
      "execution_count": 15,
      "outputs": []
    },
    {
      "cell_type": "code",
      "metadata": {
        "id": "24L1es2ggqqI"
      },
      "source": [
        "user_input = Input(shape=[1], name='Users')\n",
        "user_embedding = Embedding(users+1, 5, name='Embedded_Users')(user_input)\n",
        "user_final = Flatten(name='Flatten_Users')(user_embedding)"
      ],
      "execution_count": 17,
      "outputs": []
    },
    {
      "cell_type": "code",
      "metadata": {
        "id": "zK-y68f3hJvB"
      },
      "source": [
        "mult = Dot(name='Dot_Product', axes=1)([movie_final, user_final])"
      ],
      "execution_count": 18,
      "outputs": []
    },
    {
      "cell_type": "code",
      "metadata": {
        "colab": {
          "base_uri": "https://localhost:8080/"
        },
        "id": "3Mv8OfabhSeo",
        "outputId": "4cf8edcc-a8a8-4f25-f9a2-8bbe7376be77"
      },
      "source": [
        "from keras.losses import mean_squared_error\n",
        "from keras import backend as K\n",
        "\n",
        "def root_mean_squared_error(y_true, y_pred) :\n",
        "  return K.sqrt(mean_squared_error(y_true, y_pred))\n",
        "\n",
        "model = Model([movie_input, user_input], mult)\n",
        "model.compile(optimizer='adam', loss=root_mean_squared_error)\n",
        "model.summary()"
      ],
      "execution_count": 19,
      "outputs": [
        {
          "output_type": "stream",
          "text": [
            "Model: \"model\"\n",
            "__________________________________________________________________________________________________\n",
            "Layer (type)                    Output Shape         Param #     Connected to                     \n",
            "==================================================================================================\n",
            "Movies (InputLayer)             [(None, 1)]          0                                            \n",
            "__________________________________________________________________________________________________\n",
            "Users (InputLayer)              [(None, 1)]          0                                            \n",
            "__________________________________________________________________________________________________\n",
            "Embedded_Movies (Embedding)     (None, 1, 5)         45335       Movies[0][0]                     \n",
            "__________________________________________________________________________________________________\n",
            "Embedded_Users (Embedding)      (None, 1, 5)         3360        Users[0][0]                      \n",
            "__________________________________________________________________________________________________\n",
            "Flatten_Movies (Flatten)        (None, 5)            0           Embedded_Movies[0][0]            \n",
            "__________________________________________________________________________________________________\n",
            "Flatten_Users (Flatten)         (None, 5)            0           Embedded_Users[0][0]             \n",
            "__________________________________________________________________________________________________\n",
            "Dot_Product (Dot)               (None, 1)            0           Flatten_Movies[0][0]             \n",
            "                                                                 Flatten_Users[0][0]              \n",
            "==================================================================================================\n",
            "Total params: 48,695\n",
            "Trainable params: 48,695\n",
            "Non-trainable params: 0\n",
            "__________________________________________________________________________________________________\n"
          ],
          "name": "stdout"
        }
      ]
    },
    {
      "cell_type": "code",
      "metadata": {
        "colab": {
          "base_uri": "https://localhost:8080/",
          "height": 317
        },
        "id": "GBNPWa1QiDKg",
        "outputId": "5ce6316c-c388-4f93-d733-7d133f37922c"
      },
      "source": [
        "from keras.utils.vis_utils import plot_model\n",
        "\n",
        "plot_model(model, to_file='model_plot.png', show_shapes=True, show_layer_names=True)"
      ],
      "execution_count": 21,
      "outputs": [
        {
          "output_type": "execute_result",
          "data": {
            "image/png": "[encoded data removed]",
            "text/plain": [
              "<IPython.core.display.Image object>"
            ]
          },
          "metadata": {},
          "execution_count": 21
        }
      ]
    },
    {
      "cell_type": "code",
      "metadata": {
        "colab": {
          "base_uri": "https://localhost:8080/",
          "height": 625
        },
        "id": "XEoneGm5iUAv",
        "outputId": "2d35a537-b1ec-4503-fbe1-aa777d0ad02b"
      },
      "source": [
        "from keras.models import load_model\n",
        "\n",
        "history = model.fit([train.new_movieId, train.userId], train.rating, epochs=10, verbose=1)\n",
        "\n",
        "model.save('recommender_model.h5')\n",
        "\n",
        "plt.plot(history.history['loss'])\n",
        "plt.xlabel = ('Epochs')\n",
        "plt.ylabel = ('Training_Error')\n",
        "\n",
        "plt.show()"
      ],
      "execution_count": 22,
      "outputs": [
        {
          "output_type": "stream",
          "text": [
            "Epoch 1/10\n",
            "2501/2501 [==============================] - 5s 2ms/step - loss: 3.2985\n",
            "Epoch 2/10\n",
            "2501/2501 [==============================] - 4s 2ms/step - loss: 1.8860\n",
            "Epoch 3/10\n",
            "2501/2501 [==============================] - 5s 2ms/step - loss: 1.2453\n",
            "Epoch 4/10\n",
            "2501/2501 [==============================] - 4s 2ms/step - loss: 0.9896\n",
            "Epoch 5/10\n",
            "2501/2501 [==============================] - 4s 2ms/step - loss: 0.8679\n",
            "Epoch 6/10\n",
            "2501/2501 [==============================] - 4s 2ms/step - loss: 0.8002\n",
            "Epoch 7/10\n",
            "2501/2501 [==============================] - 4s 2ms/step - loss: 0.7581\n",
            "Epoch 8/10\n",
            "2501/2501 [==============================] - 4s 2ms/step - loss: 0.7289\n",
            "Epoch 9/10\n",
            "2501/2501 [==============================] - 4s 2ms/step - loss: 0.7081\n",
            "Epoch 10/10\n",
            "2501/2501 [==============================] - 4s 2ms/step - loss: 0.6927\n"
          ],
          "name": "stdout"
        },
        {
          "output_type": "display_data",
          "data": {
            "image/png": "[encoded data removed]",
            "text/plain": [
              "<Figure size 432x288 with 1 Axes>"
            ]
          },
          "metadata": {
            "needs_background": "light"
          }
        }
      ]
    },
    {
      "cell_type": "code",
      "metadata": {
        "colab": {
          "base_uri": "https://localhost:8080/"
        },
        "id": "YyLerGaUi698",
        "outputId": "76ab6933-832d-4313-8a6f-34110993f90e"
      },
      "source": [
        "model.evaluate([test.new_movieId, test.userId], test.rating)"
      ],
      "execution_count": 23,
      "outputs": [
        {
          "output_type": "stream",
          "text": [
            "626/626 [==============================] - 1s 1ms/step - loss: 0.8109\n"
          ],
          "name": "stdout"
        },
        {
          "output_type": "execute_result",
          "data": {
            "text/plain": [
              "0.8109461069107056"
            ]
          },
          "metadata": {},
          "execution_count": 23
        }
      ]
    },
    {
      "cell_type": "code",
      "metadata": {
        "id": "rV5ZiedmjkNM"
      },
      "source": [
        "predictions = model.predict([test.new_movieId.head(8), test.userId.head(8)])"
      ],
      "execution_count": 24,
      "outputs": []
    },
    {
      "cell_type": "code",
      "metadata": {
        "colab": {
          "base_uri": "https://localhost:8080/"
        },
        "id": "uzU4gpcqjtjA",
        "outputId": "3b308708-6359-4937-be2e-6ae3d19683c4"
      },
      "source": [
        "print(predictions)"
      ],
      "execution_count": 25,
      "outputs": [
        {
          "output_type": "stream",
          "text": [
            "[[ 4.890539  ]\n",
            " [-0.01031067]\n",
            " [ 3.4706728 ]\n",
            " [ 3.6973326 ]\n",
            " [ 3.2651215 ]\n",
            " [ 3.8935225 ]\n",
            " [ 3.7599697 ]\n",
            " [-0.06341225]]\n"
          ],
          "name": "stdout"
        }
      ]
    },
    {
      "cell_type": "code",
      "metadata": {
        "colab": {
          "base_uri": "https://localhost:8080/"
        },
        "id": "xmf88RG-ju49",
        "outputId": "8e85a3b5-0c5e-4d7b-aedb-e48938bb299a"
      },
      "source": [
        "for i in range(8) :\n",
        "  print(predictions[i], test.rating.iloc[i])"
      ],
      "execution_count": 26,
      "outputs": [
        {
          "output_type": "stream",
          "text": [
            "[4.890539] 5.0\n",
            "[-0.01031067] 1.0\n",
            "[3.4706728] 3.0\n",
            "[3.6973326] 4.0\n",
            "[3.2651215] 4.0\n",
            "[3.8935225] 5.0\n",
            "[3.7599697] 5.0\n",
            "[-0.06341225] 4.0\n"
          ],
          "name": "stdout"
        }
      ]
    },
    {
      "cell_type": "code",
      "metadata": {
        "id": "ysR17AoUj5Ct"
      },
      "source": [
        ""
      ],
      "execution_count": null,
      "outputs": []
    }
  ]
}