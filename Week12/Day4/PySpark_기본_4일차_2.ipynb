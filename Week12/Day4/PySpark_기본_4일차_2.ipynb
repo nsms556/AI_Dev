{
  "nbformat": 4,
  "nbformat_minor": 0,
  "metadata": {
    "colab": {
      "name": "PySpark 기본: 4일차-2",
      "provenance": []
    },
    "kernelspec": {
      "name": "python3",
      "display_name": "Python 3"
    }
  },
  "cells": [
    {
      "cell_type": "markdown",
      "metadata": {
        "id": "xAqhTDfuWrcM"
      },
      "source": [
        "PySpark을 로컬머신에 설치하고 노트북을 사용하기 보다는 머신러닝 관련 다양한 라이브러리가 이미 설치되었고 좋은 하드웨어를 제공해주는 Google Colab을 통해 실습을 진행한다."
      ]
    },
    {
      "cell_type": "markdown",
      "metadata": {
        "id": "XIA23YgbXKJd"
      },
      "source": [
        "이를 위해 pyspark과 Py4J 패키지를 설치한다. Py4J 패키지는 파이썬 프로그램이 자바가상머신상의 오브젝트들을 접근할 수 있게 해준다. Local Standalone Spark을 사용한다."
      ]
    },
    {
      "cell_type": "code",
      "metadata": {
        "colab": {
          "base_uri": "https://localhost:8080/"
        },
        "id": "NbT0rpGfVdiq",
        "outputId": "d35383ba-7242-4b13-da64-b138c86155fd"
      },
      "source": [
        "!pip install pyspark==3.0.1 py4j==0.10.9 "
      ],
      "execution_count": 1,
      "outputs": [
        {
          "output_type": "stream",
          "text": [
            "Collecting pyspark==3.0.1\n",
            "  Downloading pyspark-3.0.1.tar.gz (204.2 MB)\n",
            "\u001b[K     |████████████████████████████████| 204.2 MB 27 kB/s \n",
            "\u001b[?25hCollecting py4j==0.10.9\n",
            "  Downloading py4j-0.10.9-py2.py3-none-any.whl (198 kB)\n",
            "\u001b[K     |████████████████████████████████| 198 kB 17.7 MB/s \n",
            "\u001b[?25hBuilding wheels for collected packages: pyspark\n",
            "  Building wheel for pyspark (setup.py) ... \u001b[?25l\u001b[?25hdone\n",
            "  Created wheel for pyspark: filename=pyspark-3.0.1-py2.py3-none-any.whl size=204612242 sha256=2f3635e486a18e90f80ccc0e54b86b7fb8f5e9bc31ad9020b6c3e8c1434e0379\n",
            "  Stored in directory: /root/.cache/pip/wheels/5e/34/fa/b37b5cef503fc5148b478b2495043ba61b079120b7ff379f9b\n",
            "Successfully built pyspark\n",
            "Installing collected packages: py4j, pyspark\n",
            "Successfully installed py4j-0.10.9 pyspark-3.0.1\n"
          ],
          "name": "stdout"
        }
      ]
    },
    {
      "cell_type": "code",
      "metadata": {
        "id": "3vm6tgcPXdnR"
      },
      "source": [
        "from pyspark.sql import SparkSession\n",
        "\n",
        "spark = SparkSession \\\n",
        "    .builder \\\n",
        "    .appName(\"Titanic Binary Classification example\") \\\n",
        "    .getOrCreate()"
      ],
      "execution_count": 2,
      "outputs": []
    },
    {
      "cell_type": "markdown",
      "metadata": {
        "id": "pyl0gES0KhkF"
      },
      "source": [
        "# 타이타닉 생존 예측 모델 만들기\n",
        "\n",
        "\n"
      ]
    },
    {
      "cell_type": "code",
      "metadata": {
        "colab": {
          "base_uri": "https://localhost:8080/",
          "height": 217
        },
        "id": "LSs_1PYaYWxI",
        "outputId": "e5142ddb-c849-45a1-d03e-45126cb06628"
      },
      "source": [
        "spark"
      ],
      "execution_count": 3,
      "outputs": [
        {
          "output_type": "execute_result",
          "data": {
            "text/html": [
              "\n",
              "            <div>\n",
              "                <p><b>SparkSession - in-memory</b></p>\n",
              "                \n",
              "        <div>\n",
              "            <p><b>SparkContext</b></p>\n",
              "\n",
              "            <p><a href=\"http://9961a7d69500:4040\">Spark UI</a></p>\n",
              "\n",
              "            <dl>\n",
              "              <dt>Version</dt>\n",
              "                <dd><code>v3.0.1</code></dd>\n",
              "              <dt>Master</dt>\n",
              "                <dd><code>local[*]</code></dd>\n",
              "              <dt>AppName</dt>\n",
              "                <dd><code>Titanic Binary Classification example</code></dd>\n",
              "            </dl>\n",
              "        </div>\n",
              "        \n",
              "            </div>\n",
              "        "
            ],
            "text/plain": [
              "<pyspark.sql.session.SparkSession at 0x7f8608a641d0>"
            ]
          },
          "metadata": {
            "tags": []
          },
          "execution_count": 3
        }
      ]
    },
    {
      "cell_type": "code",
      "metadata": {
        "id": "vE8iL4vy6705",
        "colab": {
          "base_uri": "https://localhost:8080/"
        },
        "outputId": "25a683da-b271-44d2-9bda-0d54b8d9a8a5"
      },
      "source": [
        "!wget https://s3-geospatial.s3-us-west-2.amazonaws.com/titanic.csv"
      ],
      "execution_count": 4,
      "outputs": [
        {
          "output_type": "stream",
          "text": [
            "--2021-07-22 07:42:35--  https://s3-geospatial.s3-us-west-2.amazonaws.com/titanic.csv\n",
            "Resolving s3-geospatial.s3-us-west-2.amazonaws.com (s3-geospatial.s3-us-west-2.amazonaws.com)... 52.92.145.74\n",
            "Connecting to s3-geospatial.s3-us-west-2.amazonaws.com (s3-geospatial.s3-us-west-2.amazonaws.com)|52.92.145.74|:443... connected.\n",
            "HTTP request sent, awaiting response... 200 OK\n",
            "Length: 61197 (60K) [text/csv]\n",
            "Saving to: ‘titanic.csv’\n",
            "\n",
            "titanic.csv         100%[===================>]  59.76K   366KB/s    in 0.2s    \n",
            "\n",
            "2021-07-22 07:42:35 (366 KB/s) - ‘titanic.csv’ saved [61197/61197]\n",
            "\n"
          ],
          "name": "stdout"
        }
      ]
    },
    {
      "cell_type": "code",
      "metadata": {
        "id": "-mH3roiKIOix"
      },
      "source": [
        "data = spark.read.csv('./titanic.csv', header=True, inferSchema=True)"
      ],
      "execution_count": 5,
      "outputs": []
    },
    {
      "cell_type": "code",
      "metadata": {
        "colab": {
          "base_uri": "https://localhost:8080/"
        },
        "id": "SCty0kw6ITVi",
        "outputId": "a165f9aa-4d62-4026-9161-8a344871c222"
      },
      "source": [
        "data.printSchema()"
      ],
      "execution_count": 6,
      "outputs": [
        {
          "output_type": "stream",
          "text": [
            "root\n",
            " |-- PassengerId: integer (nullable = true)\n",
            " |-- Survived: integer (nullable = true)\n",
            " |-- Pclass: integer (nullable = true)\n",
            " |-- Name: string (nullable = true)\n",
            " |-- Gender: string (nullable = true)\n",
            " |-- Age: double (nullable = true)\n",
            " |-- SibSp: integer (nullable = true)\n",
            " |-- Parch: integer (nullable = true)\n",
            " |-- Ticket: string (nullable = true)\n",
            " |-- Fare: double (nullable = true)\n",
            " |-- Cabin: string (nullable = true)\n",
            " |-- Embarked: string (nullable = true)\n",
            "\n"
          ],
          "name": "stdout"
        }
      ]
    },
    {
      "cell_type": "code",
      "metadata": {
        "colab": {
          "base_uri": "https://localhost:8080/"
        },
        "id": "nrlYYyVfIV1e",
        "outputId": "0567b5c7-6906-40bd-f19b-a7775f1c30c2"
      },
      "source": [
        "data.show()"
      ],
      "execution_count": 7,
      "outputs": [
        {
          "output_type": "stream",
          "text": [
            "+-----------+--------+------+--------------------+------+----+-----+-----+----------------+-------+-----+--------+\n",
            "|PassengerId|Survived|Pclass|                Name|Gender| Age|SibSp|Parch|          Ticket|   Fare|Cabin|Embarked|\n",
            "+-----------+--------+------+--------------------+------+----+-----+-----+----------------+-------+-----+--------+\n",
            "|          1|       0|     3|Braund, Mr. Owen ...|  male|22.0|    1|    0|       A/5 21171|   7.25| null|       S|\n",
            "|          2|       1|     1|Cumings, Mrs. Joh...|female|38.0|    1|    0|        PC 17599|71.2833|  C85|       C|\n",
            "|          3|       1|     3|Heikkinen, Miss. ...|female|26.0|    0|    0|STON/O2. 3101282|  7.925| null|       S|\n",
            "|          4|       1|     1|Futrelle, Mrs. Ja...|female|35.0|    1|    0|          113803|   53.1| C123|       S|\n",
            "|          5|       0|     3|Allen, Mr. Willia...|  male|35.0|    0|    0|          373450|   8.05| null|       S|\n",
            "|          6|       0|     3|    Moran, Mr. James|  male|null|    0|    0|          330877| 8.4583| null|       Q|\n",
            "|          7|       0|     1|McCarthy, Mr. Tim...|  male|54.0|    0|    0|           17463|51.8625|  E46|       S|\n",
            "|          8|       0|     3|Palsson, Master. ...|  male| 2.0|    3|    1|          349909| 21.075| null|       S|\n",
            "|          9|       1|     3|Johnson, Mrs. Osc...|female|27.0|    0|    2|          347742|11.1333| null|       S|\n",
            "|         10|       1|     2|Nasser, Mrs. Nich...|female|14.0|    1|    0|          237736|30.0708| null|       C|\n",
            "|         11|       1|     3|Sandstrom, Miss. ...|female| 4.0|    1|    1|         PP 9549|   16.7|   G6|       S|\n",
            "|         12|       1|     1|Bonnell, Miss. El...|female|58.0|    0|    0|          113783|  26.55| C103|       S|\n",
            "|         13|       0|     3|Saundercock, Mr. ...|  male|20.0|    0|    0|       A/5. 2151|   8.05| null|       S|\n",
            "|         14|       0|     3|Andersson, Mr. An...|  male|39.0|    1|    5|          347082| 31.275| null|       S|\n",
            "|         15|       0|     3|Vestrom, Miss. Hu...|female|14.0|    0|    0|          350406| 7.8542| null|       S|\n",
            "|         16|       1|     2|Hewlett, Mrs. (Ma...|female|55.0|    0|    0|          248706|   16.0| null|       S|\n",
            "|         17|       0|     3|Rice, Master. Eugene|  male| 2.0|    4|    1|          382652| 29.125| null|       Q|\n",
            "|         18|       1|     2|Williams, Mr. Cha...|  male|null|    0|    0|          244373|   13.0| null|       S|\n",
            "|         19|       0|     3|Vander Planke, Mr...|female|31.0|    1|    0|          345763|   18.0| null|       S|\n",
            "|         20|       1|     3|Masselmani, Mrs. ...|female|null|    0|    0|            2649|  7.225| null|       C|\n",
            "+-----------+--------+------+--------------------+------+----+-----+-----+----------------+-------+-----+--------+\n",
            "only showing top 20 rows\n",
            "\n"
          ],
          "name": "stdout"
        }
      ]
    },
    {
      "cell_type": "code",
      "metadata": {
        "colab": {
          "base_uri": "https://localhost:8080/"
        },
        "id": "rW75AqANmRZN",
        "outputId": "75b7e6f5-b64f-466b-cd97-2a0a8843a195"
      },
      "source": [
        "data.select(['*']).describe().show()"
      ],
      "execution_count": 8,
      "outputs": [
        {
          "output_type": "stream",
          "text": [
            "+-------+-----------------+-------------------+------------------+--------------------+------+------------------+------------------+-------------------+------------------+-----------------+-----+--------+\n",
            "|summary|      PassengerId|           Survived|            Pclass|                Name|Gender|               Age|             SibSp|              Parch|            Ticket|             Fare|Cabin|Embarked|\n",
            "+-------+-----------------+-------------------+------------------+--------------------+------+------------------+------------------+-------------------+------------------+-----------------+-----+--------+\n",
            "|  count|              891|                891|               891|                 891|   891|               714|               891|                891|               891|              891|  204|     889|\n",
            "|   mean|            446.0| 0.3838383838383838| 2.308641975308642|                null|  null| 29.69911764705882|0.5230078563411896|0.38159371492704824|260318.54916792738| 32.2042079685746| null|    null|\n",
            "| stddev|257.3538420152301|0.48659245426485753|0.8360712409770491|                null|  null|14.526497332334035|1.1027434322934315| 0.8060572211299488|471609.26868834975|49.69342859718089| null|    null|\n",
            "|    min|                1|                  0|                 1|\"Andersson, Mr. A...|female|              0.42|                 0|                  0|            110152|              0.0|  A10|       C|\n",
            "|    max|              891|                  1|                 3|van Melkebeke, Mr...|  male|              80.0|                 8|                  6|         WE/P 5735|         512.3292|    T|       S|\n",
            "+-------+-----------------+-------------------+------------------+--------------------+------+------------------+------------------+-------------------+------------------+-----------------+-----+--------+\n",
            "\n"
          ],
          "name": "stdout"
        }
      ]
    },
    {
      "cell_type": "markdown",
      "metadata": {
        "id": "teK9rhGml7gE"
      },
      "source": [
        "**데이터 클린업**: \n",
        "\n",
        "*   PassengerID, Name, Ticket, Embarked는 사용하지 않을 예정 (아무 의미가 없음).\n",
        "*   Cabin도 비어있는 값이 너무 많아서 사용하지 않을 예정\n",
        "*   Age는 중요한 정보인데 비어있는 레코드들이 많아서 디폴트값을 채워줄 예정\n",
        "*   Gender의 경우 카테고리 정보이기에 숫자로 인코딩 필요\n",
        "\n"
      ]
    },
    {
      "cell_type": "code",
      "metadata": {
        "id": "FeP0qwDyl-tp"
      },
      "source": [
        "final_data = data.select(['Survived', 'Pclass', 'Gender', 'Age', 'SibSp', 'Parch', 'Fare'])"
      ],
      "execution_count": 9,
      "outputs": []
    },
    {
      "cell_type": "code",
      "metadata": {
        "colab": {
          "base_uri": "https://localhost:8080/"
        },
        "id": "fyuHao_xVki4",
        "outputId": "51ac1d4e-fdbd-411d-8c47-0b9ccbf976eb"
      },
      "source": [
        "final_data.show()"
      ],
      "execution_count": 10,
      "outputs": [
        {
          "output_type": "stream",
          "text": [
            "+--------+------+------+----+-----+-----+-------+\n",
            "|Survived|Pclass|Gender| Age|SibSp|Parch|   Fare|\n",
            "+--------+------+------+----+-----+-----+-------+\n",
            "|       0|     3|  male|22.0|    1|    0|   7.25|\n",
            "|       1|     1|female|38.0|    1|    0|71.2833|\n",
            "|       1|     3|female|26.0|    0|    0|  7.925|\n",
            "|       1|     1|female|35.0|    1|    0|   53.1|\n",
            "|       0|     3|  male|35.0|    0|    0|   8.05|\n",
            "|       0|     3|  male|null|    0|    0| 8.4583|\n",
            "|       0|     1|  male|54.0|    0|    0|51.8625|\n",
            "|       0|     3|  male| 2.0|    3|    1| 21.075|\n",
            "|       1|     3|female|27.0|    0|    2|11.1333|\n",
            "|       1|     2|female|14.0|    1|    0|30.0708|\n",
            "|       1|     3|female| 4.0|    1|    1|   16.7|\n",
            "|       1|     1|female|58.0|    0|    0|  26.55|\n",
            "|       0|     3|  male|20.0|    0|    0|   8.05|\n",
            "|       0|     3|  male|39.0|    1|    5| 31.275|\n",
            "|       0|     3|female|14.0|    0|    0| 7.8542|\n",
            "|       1|     2|female|55.0|    0|    0|   16.0|\n",
            "|       0|     3|  male| 2.0|    4|    1| 29.125|\n",
            "|       1|     2|  male|null|    0|    0|   13.0|\n",
            "|       0|     3|female|31.0|    1|    0|   18.0|\n",
            "|       1|     3|female|null|    0|    0|  7.225|\n",
            "+--------+------+------+----+-----+-----+-------+\n",
            "only showing top 20 rows\n",
            "\n"
          ],
          "name": "stdout"
        }
      ]
    },
    {
      "cell_type": "markdown",
      "metadata": {
        "id": "Ucie7Nj1nkaD"
      },
      "source": [
        "Age는 평균값으로 채운다"
      ]
    },
    {
      "cell_type": "code",
      "metadata": {
        "id": "zG4rFKaSnpHf"
      },
      "source": [
        "from pyspark.ml.feature import Imputer\n",
        "\n",
        "imputer = Imputer(strategy='mean', inputCols=['Age'], outputCols=['AgeImputed'])\n",
        "imputer_model = imputer.fit(final_data)\n",
        "final_data = imputer_model.transform(final_data)"
      ],
      "execution_count": 11,
      "outputs": []
    },
    {
      "cell_type": "code",
      "metadata": {
        "colab": {
          "base_uri": "https://localhost:8080/"
        },
        "id": "WD8cDy6Onv0X",
        "outputId": "20350792-8263-4940-9655-1048ef66195f"
      },
      "source": [
        "final_data.select(\"Age\", \"AgeImputed\").show()"
      ],
      "execution_count": 12,
      "outputs": [
        {
          "output_type": "stream",
          "text": [
            "+----+-----------------+\n",
            "| Age|       AgeImputed|\n",
            "+----+-----------------+\n",
            "|22.0|             22.0|\n",
            "|38.0|             38.0|\n",
            "|26.0|             26.0|\n",
            "|35.0|             35.0|\n",
            "|35.0|             35.0|\n",
            "|null|29.69911764705882|\n",
            "|54.0|             54.0|\n",
            "| 2.0|              2.0|\n",
            "|27.0|             27.0|\n",
            "|14.0|             14.0|\n",
            "| 4.0|              4.0|\n",
            "|58.0|             58.0|\n",
            "|20.0|             20.0|\n",
            "|39.0|             39.0|\n",
            "|14.0|             14.0|\n",
            "|55.0|             55.0|\n",
            "| 2.0|              2.0|\n",
            "|null|29.69911764705882|\n",
            "|31.0|             31.0|\n",
            "|null|29.69911764705882|\n",
            "+----+-----------------+\n",
            "only showing top 20 rows\n",
            "\n"
          ],
          "name": "stdout"
        }
      ]
    },
    {
      "cell_type": "markdown",
      "metadata": {
        "id": "6GFsTmtRn7EW"
      },
      "source": [
        "성별 정보 인코딩: male -> 0, female -> 1"
      ]
    },
    {
      "cell_type": "code",
      "metadata": {
        "id": "5BMZzehCn4s1"
      },
      "source": [
        "from pyspark.ml.feature import StringIndexer\n",
        "\n",
        "gender_indexer = StringIndexer(inputCol='Gender', outputCol='GenderIndexed')\n",
        "gender_indexer_model = gender_indexer.fit(final_data)\n",
        "final_data = gender_indexer_model.transform(final_data)"
      ],
      "execution_count": 13,
      "outputs": []
    },
    {
      "cell_type": "code",
      "metadata": {
        "colab": {
          "base_uri": "https://localhost:8080/"
        },
        "id": "jYSjGzLnoMU2",
        "outputId": "45c7804d-5eb5-4091-c971-483830871716"
      },
      "source": [
        "final_data.select(\"Gender\", \"GenderIndexed\").show()"
      ],
      "execution_count": 14,
      "outputs": [
        {
          "output_type": "stream",
          "text": [
            "+------+-------------+\n",
            "|Gender|GenderIndexed|\n",
            "+------+-------------+\n",
            "|  male|          0.0|\n",
            "|female|          1.0|\n",
            "|female|          1.0|\n",
            "|female|          1.0|\n",
            "|  male|          0.0|\n",
            "|  male|          0.0|\n",
            "|  male|          0.0|\n",
            "|  male|          0.0|\n",
            "|female|          1.0|\n",
            "|female|          1.0|\n",
            "|female|          1.0|\n",
            "|female|          1.0|\n",
            "|  male|          0.0|\n",
            "|  male|          0.0|\n",
            "|female|          1.0|\n",
            "|female|          1.0|\n",
            "|  male|          0.0|\n",
            "|  male|          0.0|\n",
            "|female|          1.0|\n",
            "|female|          1.0|\n",
            "+------+-------------+\n",
            "only showing top 20 rows\n",
            "\n"
          ],
          "name": "stdout"
        }
      ]
    },
    {
      "cell_type": "markdown",
      "metadata": {
        "id": "cGMk-ULmLcVM"
      },
      "source": [
        "## 피쳐 벡터를 만들기"
      ]
    },
    {
      "cell_type": "code",
      "metadata": {
        "id": "vBYWOVQYIXEt"
      },
      "source": [
        "from pyspark.ml.feature import VectorAssembler\n",
        "\n",
        "assembler = VectorAssembler(inputCols=['Pclass', 'SibSp', 'Parch', 'Fare', 'AgeImputed', 'GenderIndexed'], outputCol='features')\n",
        "data_vec = assembler.transform(final_data)"
      ],
      "execution_count": 15,
      "outputs": []
    },
    {
      "cell_type": "code",
      "metadata": {
        "colab": {
          "base_uri": "https://localhost:8080/"
        },
        "id": "e0WZHfxmIuxr",
        "outputId": "474c912c-0a45-44d6-9f1e-99c74a38d273"
      },
      "source": [
        "data_vec.show()"
      ],
      "execution_count": 16,
      "outputs": [
        {
          "output_type": "stream",
          "text": [
            "+--------+------+------+----+-----+-----+-------+-----------------+-------------+--------------------+\n",
            "|Survived|Pclass|Gender| Age|SibSp|Parch|   Fare|       AgeImputed|GenderIndexed|            features|\n",
            "+--------+------+------+----+-----+-----+-------+-----------------+-------------+--------------------+\n",
            "|       0|     3|  male|22.0|    1|    0|   7.25|             22.0|          0.0|[3.0,1.0,0.0,7.25...|\n",
            "|       1|     1|female|38.0|    1|    0|71.2833|             38.0|          1.0|[1.0,1.0,0.0,71.2...|\n",
            "|       1|     3|female|26.0|    0|    0|  7.925|             26.0|          1.0|[3.0,0.0,0.0,7.92...|\n",
            "|       1|     1|female|35.0|    1|    0|   53.1|             35.0|          1.0|[1.0,1.0,0.0,53.1...|\n",
            "|       0|     3|  male|35.0|    0|    0|   8.05|             35.0|          0.0|[3.0,0.0,0.0,8.05...|\n",
            "|       0|     3|  male|null|    0|    0| 8.4583|29.69911764705882|          0.0|[3.0,0.0,0.0,8.45...|\n",
            "|       0|     1|  male|54.0|    0|    0|51.8625|             54.0|          0.0|[1.0,0.0,0.0,51.8...|\n",
            "|       0|     3|  male| 2.0|    3|    1| 21.075|              2.0|          0.0|[3.0,3.0,1.0,21.0...|\n",
            "|       1|     3|female|27.0|    0|    2|11.1333|             27.0|          1.0|[3.0,0.0,2.0,11.1...|\n",
            "|       1|     2|female|14.0|    1|    0|30.0708|             14.0|          1.0|[2.0,1.0,0.0,30.0...|\n",
            "|       1|     3|female| 4.0|    1|    1|   16.7|              4.0|          1.0|[3.0,1.0,1.0,16.7...|\n",
            "|       1|     1|female|58.0|    0|    0|  26.55|             58.0|          1.0|[1.0,0.0,0.0,26.5...|\n",
            "|       0|     3|  male|20.0|    0|    0|   8.05|             20.0|          0.0|[3.0,0.0,0.0,8.05...|\n",
            "|       0|     3|  male|39.0|    1|    5| 31.275|             39.0|          0.0|[3.0,1.0,5.0,31.2...|\n",
            "|       0|     3|female|14.0|    0|    0| 7.8542|             14.0|          1.0|[3.0,0.0,0.0,7.85...|\n",
            "|       1|     2|female|55.0|    0|    0|   16.0|             55.0|          1.0|[2.0,0.0,0.0,16.0...|\n",
            "|       0|     3|  male| 2.0|    4|    1| 29.125|              2.0|          0.0|[3.0,4.0,1.0,29.1...|\n",
            "|       1|     2|  male|null|    0|    0|   13.0|29.69911764705882|          0.0|[2.0,0.0,0.0,13.0...|\n",
            "|       0|     3|female|31.0|    1|    0|   18.0|             31.0|          1.0|[3.0,1.0,0.0,18.0...|\n",
            "|       1|     3|female|null|    0|    0|  7.225|29.69911764705882|          1.0|[3.0,0.0,0.0,7.22...|\n",
            "+--------+------+------+----+-----+-----+-------+-----------------+-------------+--------------------+\n",
            "only showing top 20 rows\n",
            "\n"
          ],
          "name": "stdout"
        }
      ]
    },
    {
      "cell_type": "markdown",
      "metadata": {
        "id": "6kK7gG2JLjy_"
      },
      "source": [
        "## 훈련용과 테스트용 데이터를 나누고 binary classification 모델을 하나 만든다"
      ]
    },
    {
      "cell_type": "code",
      "metadata": {
        "id": "OEmZtDfzIyvc"
      },
      "source": [
        "train, test = data_vec.randomSplit([0.7, 0.3])"
      ],
      "execution_count": 17,
      "outputs": []
    },
    {
      "cell_type": "code",
      "metadata": {
        "id": "y1cKT-0-I2rt"
      },
      "source": [
        "from pyspark.ml.classification import LogisticRegression\n",
        "\n",
        "algo = LogisticRegression(featuresCol=\"features\", labelCol=\"Survived\")\n",
        "model = algo.fit(train)"
      ],
      "execution_count": 18,
      "outputs": []
    },
    {
      "cell_type": "markdown",
      "metadata": {
        "id": "ELSupsQVLFK-"
      },
      "source": [
        "## 모델 성능 측정"
      ]
    },
    {
      "cell_type": "code",
      "metadata": {
        "id": "LX019b8qqK_d"
      },
      "source": [
        "predictions = model.transform(test)"
      ],
      "execution_count": 19,
      "outputs": []
    },
    {
      "cell_type": "code",
      "metadata": {
        "colab": {
          "base_uri": "https://localhost:8080/"
        },
        "id": "b_YF28U_qM6b",
        "outputId": "fd700f80-8a72-4b93-bfd2-fc2757f7783d"
      },
      "source": [
        "predictions.select(['Survived','prediction', 'probability']).show()"
      ],
      "execution_count": 20,
      "outputs": [
        {
          "output_type": "stream",
          "text": [
            "+--------+----------+--------------------+\n",
            "|Survived|prediction|         probability|\n",
            "+--------+----------+--------------------+\n",
            "|       0|       1.0|[0.02257790424501...|\n",
            "|       0|       1.0|[0.10872578458522...|\n",
            "|       0|       1.0|[0.48410872290990...|\n",
            "|       0|       1.0|[0.48187686330439...|\n",
            "|       0|       1.0|[0.47802007553252...|\n",
            "|       0|       1.0|[0.45307798708457...|\n",
            "|       0|       1.0|[0.45050514709964...|\n",
            "|       0|       1.0|[0.25341916072425...|\n",
            "|       0|       1.0|[0.24781448430415...|\n",
            "|       0|       1.0|[0.36407155192241...|\n",
            "|       0|       1.0|[0.23011623977321...|\n",
            "|       0|       1.0|[0.48489973367323...|\n",
            "|       0|       1.0|[0.46478458290476...|\n",
            "|       0|       0.0|[0.60362257829558...|\n",
            "|       0|       0.0|[0.61583227359299...|\n",
            "|       0|       0.0|[0.67625665718152...|\n",
            "|       0|       0.0|[0.64561602808645...|\n",
            "|       0|       0.0|[0.63553151474881...|\n",
            "|       0|       0.0|[0.69369216052913...|\n",
            "|       0|       0.0|[0.71441133958500...|\n",
            "+--------+----------+--------------------+\n",
            "only showing top 20 rows\n",
            "\n"
          ],
          "name": "stdout"
        }
      ]
    },
    {
      "cell_type": "code",
      "metadata": {
        "id": "LDzlKgOTJkTJ",
        "colab": {
          "base_uri": "https://localhost:8080/"
        },
        "outputId": "76646e07-f5e0-4c46-f91a-e89245f9c907"
      },
      "source": [
        "from pyspark.ml.evaluation import BinaryClassificationEvaluator\n",
        "\n",
        "evaluator = BinaryClassificationEvaluator(labelCol='Survived', metricName='areaUnderROC')\n",
        "evaluator.evaluate(predictions)"
      ],
      "execution_count": 21,
      "outputs": [
        {
          "output_type": "execute_result",
          "data": {
            "text/plain": [
              "0.8557130942452041"
            ]
          },
          "metadata": {
            "tags": []
          },
          "execution_count": 21
        }
      ]
    },
    {
      "cell_type": "code",
      "metadata": {
        "id": "hwwDouIePxUn"
      },
      "source": [
        ""
      ],
      "execution_count": null,
      "outputs": []
    }
  ]
}