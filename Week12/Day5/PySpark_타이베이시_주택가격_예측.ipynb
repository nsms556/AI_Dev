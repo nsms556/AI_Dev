{
  "nbformat": 4,
  "nbformat_minor": 0,
  "metadata": {
    "colab": {
      "name": "PySpark 타이베이시 주택가격 예측의 사본",
      "provenance": [],
      "collapsed_sections": []
    },
    "kernelspec": {
      "name": "python3",
      "display_name": "Python 3"
    }
  },
  "cells": [
    {
      "cell_type": "markdown",
      "metadata": {
        "id": "xAqhTDfuWrcM"
      },
      "source": [
        "PySpark을 로컬머신에 설치하고 노트북을 사용하기 보다는 머신러닝 관련 다양한 라이브러리가 이미 설치되었고 좋은 하드웨어를 제공해주는 Google Colab을 통해 실습을 진행한다."
      ]
    },
    {
      "cell_type": "markdown",
      "metadata": {
        "id": "XIA23YgbXKJd"
      },
      "source": [
        "이를 위해 pyspark과 Py4J 패키지를 설치한다. Py4J 패키지는 파이썬 프로그램이 자바가상머신상의 오브젝트들을 접근할 수 있게 해준다. Local Standalone Spark을 사용한다."
      ]
    },
    {
      "cell_type": "code",
      "metadata": {
        "id": "NbT0rpGfVdiq",
        "colab": {
          "base_uri": "https://localhost:8080/"
        },
        "outputId": "2867b8ba-eaba-4f4c-9da5-73cb4bec365c"
      },
      "source": [
        "!pip install pyspark==3.0.1 py4j==0.10.9 "
      ],
      "execution_count": 1,
      "outputs": [
        {
          "output_type": "stream",
          "text": [
            "Collecting pyspark==3.0.1\n",
            "  Downloading pyspark-3.0.1.tar.gz (204.2 MB)\n",
            "\u001b[K     |████████████████████████████████| 204.2 MB 34 kB/s \n",
            "\u001b[?25hCollecting py4j==0.10.9\n",
            "  Downloading py4j-0.10.9-py2.py3-none-any.whl (198 kB)\n",
            "\u001b[K     |████████████████████████████████| 198 kB 21.5 MB/s \n",
            "\u001b[?25hBuilding wheels for collected packages: pyspark\n",
            "  Building wheel for pyspark (setup.py) ... \u001b[?25l\u001b[?25hdone\n",
            "  Created wheel for pyspark: filename=pyspark-3.0.1-py2.py3-none-any.whl size=204612242 sha256=917628c818ef3bae81cd2aaa7ae9a366344b53586b176a5a55fb3e26a91ebdd4\n",
            "  Stored in directory: /root/.cache/pip/wheels/5e/34/fa/b37b5cef503fc5148b478b2495043ba61b079120b7ff379f9b\n",
            "Successfully built pyspark\n",
            "Installing collected packages: py4j, pyspark\n",
            "Successfully installed py4j-0.10.9 pyspark-3.0.1\n"
          ],
          "name": "stdout"
        }
      ]
    },
    {
      "cell_type": "code",
      "metadata": {
        "id": "3vm6tgcPXdnR"
      },
      "source": [
        "from pyspark.sql import SparkSession\n",
        "\n",
        "spark = SparkSession \\\n",
        "    .builder \\\n",
        "    .appName(\"Taipei Housing Price Prediction\") \\\n",
        "    .getOrCreate()"
      ],
      "execution_count": 2,
      "outputs": []
    },
    {
      "cell_type": "code",
      "metadata": {
        "id": "LSs_1PYaYWxI",
        "colab": {
          "base_uri": "https://localhost:8080/",
          "height": 217
        },
        "outputId": "50d332e4-b963-48f6-cabd-03326fb8fe10"
      },
      "source": [
        "spark"
      ],
      "execution_count": 3,
      "outputs": [
        {
          "output_type": "execute_result",
          "data": {
            "text/html": [
              "\n",
              "            <div>\n",
              "                <p><b>SparkSession - in-memory</b></p>\n",
              "                \n",
              "        <div>\n",
              "            <p><b>SparkContext</b></p>\n",
              "\n",
              "            <p><a href=\"http://13c80c29d68c:4040\">Spark UI</a></p>\n",
              "\n",
              "            <dl>\n",
              "              <dt>Version</dt>\n",
              "                <dd><code>v3.0.1</code></dd>\n",
              "              <dt>Master</dt>\n",
              "                <dd><code>local[*]</code></dd>\n",
              "              <dt>AppName</dt>\n",
              "                <dd><code>Taipei Housing Price Prediction</code></dd>\n",
              "            </dl>\n",
              "        </div>\n",
              "        \n",
              "            </div>\n",
              "        "
            ],
            "text/plain": [
              "<pyspark.sql.session.SparkSession at 0x7f6a1a116750>"
            ]
          },
          "metadata": {
            "tags": []
          },
          "execution_count": 3
        }
      ]
    },
    {
      "cell_type": "markdown",
      "metadata": {
        "id": "pyl0gES0KhkF"
      },
      "source": [
        "# 타이베이 주택 가격 예측 모델 만들기\n",
        "\n",
        "\n"
      ]
    },
    {
      "cell_type": "markdown",
      "metadata": {
        "id": "BSkgIWglmw3-"
      },
      "source": [
        "데이터셋 설명\n",
        "\n",
        "이번 문제는 대만 타이베이 시의 신단 지역에서 수집된 주택 거래 관련 정보를 바탕으로 주택 가격(정확히는 주택의 평당 가격)을 예측하는 Regression 모델을 만들어보는 것이다. 총 6개의 피쳐와 주택의 평당 가격에 해당하는 레이블 정보가 훈련 데이터로 제공된다. 레이블의 경우에는 주택의 최종 가격이 아니라 평당 가격이란 점을 다시 한번 강조한다.\n",
        "\n",
        "각 컬럼에 대한 설명은 아래와 같으며 모든 필드는 X4를 제외하고는 실수 타입이다.\n",
        "\n",
        "* X1: 주택 거래 날짜를 실수로 제공한다. 소수점 부분은 달을 나타낸다. 예를 들어 2013.250이라면 2013년 3월임을 나타낸다 (0.250 = 3/12)\n",
        "* X2: 주택 나이 (년수)\n",
        "* X3: 가장 가까운 지하철역까지의 거리 (미터)\n",
        "* X4: 주택 근방 걸어갈 수 있는 거리내 편의점 수\n",
        "* X5: 주택 위치의 위도 (latitude)\n",
        "* X6: 주택 위치의 경도 (longitude)\n",
        "* Y: 주택 평당 가격\n",
        "\n"
      ]
    },
    {
      "cell_type": "code",
      "metadata": {
        "id": "vE8iL4vy6705",
        "colab": {
          "base_uri": "https://localhost:8080/"
        },
        "outputId": "6e9c0662-26ee-4a3d-c28a-efaaff508ed1"
      },
      "source": [
        "!wget https://grepp-reco-test.s3.ap-northeast-2.amazonaws.com/Taipei_sindan_housing.csv"
      ],
      "execution_count": 4,
      "outputs": [
        {
          "output_type": "stream",
          "text": [
            "--2021-07-23 09:57:54--  https://grepp-reco-test.s3.ap-northeast-2.amazonaws.com/Taipei_sindan_housing.csv\n",
            "Resolving grepp-reco-test.s3.ap-northeast-2.amazonaws.com (grepp-reco-test.s3.ap-northeast-2.amazonaws.com)... 52.219.148.15\n",
            "Connecting to grepp-reco-test.s3.ap-northeast-2.amazonaws.com (grepp-reco-test.s3.ap-northeast-2.amazonaws.com)|52.219.148.15|:443... connected.\n",
            "HTTP request sent, awaiting response... 200 OK\n",
            "Length: 20014 (20K) [text/csv]\n",
            "Saving to: ‘Taipei_sindan_housing.csv’\n",
            "\n",
            "Taipei_sindan_housi 100%[===================>]  19.54K   105KB/s    in 0.2s    \n",
            "\n",
            "2021-07-23 09:57:55 (105 KB/s) - ‘Taipei_sindan_housing.csv’ saved [20014/20014]\n",
            "\n"
          ],
          "name": "stdout"
        }
      ]
    },
    {
      "cell_type": "code",
      "metadata": {
        "id": "GfSzc03fOC6e",
        "colab": {
          "base_uri": "https://localhost:8080/"
        },
        "outputId": "0c13caa6-b2df-4ea8-e6a2-49230eb0996b"
      },
      "source": [
        "!ls -tl"
      ],
      "execution_count": 5,
      "outputs": [
        {
          "output_type": "stream",
          "text": [
            "total 24\n",
            "-rw-r--r-- 1 root root 20014 Jul 17 17:35 Taipei_sindan_housing.csv\n",
            "drwxr-xr-x 1 root root  4096 Jul 16 13:20 sample_data\n"
          ],
          "name": "stdout"
        }
      ]
    },
    {
      "cell_type": "code",
      "metadata": {
        "id": "-mH3roiKIOix"
      },
      "source": [
        "data = spark.read.csv('./Taipei_sindan_housing.csv', header=True, inferSchema=True)"
      ],
      "execution_count": 6,
      "outputs": []
    },
    {
      "cell_type": "code",
      "metadata": {
        "id": "SCty0kw6ITVi",
        "colab": {
          "base_uri": "https://localhost:8080/"
        },
        "outputId": "8ad03027-9a89-49a3-aca1-cf8bd7dc836f"
      },
      "source": [
        "data.printSchema()"
      ],
      "execution_count": 7,
      "outputs": [
        {
          "output_type": "stream",
          "text": [
            "root\n",
            " |-- X1: double (nullable = true)\n",
            " |-- X2: double (nullable = true)\n",
            " |-- X3: double (nullable = true)\n",
            " |-- X4: integer (nullable = true)\n",
            " |-- X5: double (nullable = true)\n",
            " |-- X6: double (nullable = true)\n",
            " |-- Y: double (nullable = true)\n",
            "\n"
          ],
          "name": "stdout"
        }
      ]
    },
    {
      "cell_type": "code",
      "metadata": {
        "id": "nrlYYyVfIV1e",
        "colab": {
          "base_uri": "https://localhost:8080/"
        },
        "outputId": "5ce0aae2-dae6-4dc9-e8eb-6e1dfda1de47"
      },
      "source": [
        "data.show()"
      ],
      "execution_count": 8,
      "outputs": [
        {
          "output_type": "stream",
          "text": [
            "+--------+----+--------+---+--------+---------+----+\n",
            "|      X1|  X2|      X3| X4|      X5|       X6|   Y|\n",
            "+--------+----+--------+---+--------+---------+----+\n",
            "|2012.917|32.0|84.87882| 10|24.98298|121.54024|37.9|\n",
            "|2012.917|19.5|306.5947|  9|24.98034|121.53951|42.2|\n",
            "|2013.583|13.3|561.9845|  5|24.98746|121.54391|47.3|\n",
            "|  2013.5|13.3|561.9845|  5|24.98746|121.54391|54.8|\n",
            "|2012.833| 5.0|390.5684|  5|24.97937|121.54245|43.1|\n",
            "|2012.667| 7.1| 2175.03|  3|24.96305|121.51254|32.1|\n",
            "|2012.667|34.5|623.4731|  7|24.97933|121.53642|40.3|\n",
            "|2013.417|20.3|287.6025|  6|24.98042|121.54228|46.7|\n",
            "|  2013.5|31.7|5512.038|  1|24.95095|121.48458|18.8|\n",
            "|2013.417|17.9| 1783.18|  3|24.96731|121.51486|22.1|\n",
            "|2013.083|34.8|405.2134|  1|24.97349|121.53372|41.4|\n",
            "|2013.333| 6.3|90.45606|  9|24.97433| 121.5431|58.1|\n",
            "|2012.917|13.0|492.2313|  5|24.96515|121.53737|39.3|\n",
            "|2012.667|20.4|2469.645|  4|24.96108|121.51046|23.8|\n",
            "|  2013.5|13.2|1164.838|  4|24.99156|121.53406|34.3|\n",
            "|2013.583|35.7|579.2083|  2| 24.9824|121.54619|50.5|\n",
            "| 2013.25| 0.0|292.9978|  6|24.97744|121.54458|70.1|\n",
            "| 2012.75|17.7|350.8515|  1|24.97544|121.53119|37.4|\n",
            "|2013.417|16.9|368.1363|  8| 24.9675|121.54451|42.3|\n",
            "|2012.667| 1.5|23.38284|  7|24.96772|121.54102|47.7|\n",
            "+--------+----+--------+---+--------+---------+----+\n",
            "only showing top 20 rows\n",
            "\n"
          ],
          "name": "stdout"
        }
      ]
    },
    {
      "cell_type": "code",
      "metadata": {
        "colab": {
          "base_uri": "https://localhost:8080/"
        },
        "id": "PzGBVBmqNrYN",
        "outputId": "f4ee5fe5-61a4-4ff5-99a7-80ef8a53a039"
      },
      "source": [
        "data.select(['*']).describe().show()"
      ],
      "execution_count": 9,
      "outputs": [
        {
          "output_type": "stream",
          "text": [
            "+-------+------------------+------------------+------------------+------------------+--------------------+--------------------+------------------+\n",
            "|summary|                X1|                X2|                X3|                X4|                  X5|                  X6|                 Y|\n",
            "+-------+------------------+------------------+------------------+------------------+--------------------+--------------------+------------------+\n",
            "|  count|               414|               414|               414|               414|                 414|                 414|               414|\n",
            "|   mean|2013.1489710144933| 17.71256038647343|1083.8856889130436| 4.094202898550725|  24.969030072463745|  121.53336108695667| 37.98019323671498|\n",
            "| stddev|0.2819672402629999|11.392484533242524| 1262.109595407851|2.9455618056636177|0.012410196590450208|0.015347183004592374|13.606487697735316|\n",
            "|    min|          2012.667|               0.0|          23.38284|                 0|            24.93207|           121.47353|               7.6|\n",
            "|    max|          2013.583|              43.8|          6488.021|                10|            25.01459|           121.56627|             117.5|\n",
            "+-------+------------------+------------------+------------------+------------------+--------------------+--------------------+------------------+\n",
            "\n"
          ],
          "name": "stdout"
        }
      ]
    },
    {
      "cell_type": "code",
      "metadata": {
        "colab": {
          "base_uri": "https://localhost:8080/"
        },
        "id": "2SqJTmuBOVJ5",
        "outputId": "bde7eaaf-b9e9-4860-dccb-8fc07c8dc56a"
      },
      "source": [
        "from pyspark.sql.functions import isnan, when, count, col, isnull\n",
        "\n",
        "data.select([count(when(isnull(c), c)).alias(c) for c in data.columns]).show()"
      ],
      "execution_count": 10,
      "outputs": [
        {
          "output_type": "stream",
          "text": [
            "+---+---+---+---+---+---+---+\n",
            "| X1| X2| X3| X4| X5| X6|  Y|\n",
            "+---+---+---+---+---+---+---+\n",
            "|  0|  0|  0|  0|  0|  0|  0|\n",
            "+---+---+---+---+---+---+---+\n",
            "\n"
          ],
          "name": "stdout"
        }
      ]
    },
    {
      "cell_type": "markdown",
      "metadata": {
        "id": "yooa59hMGNyQ"
      },
      "source": [
        "\n",
        "## Feature Vector 생성"
      ]
    },
    {
      "cell_type": "code",
      "metadata": {
        "colab": {
          "base_uri": "https://localhost:8080/"
        },
        "id": "f_xAfnGAFu-m",
        "outputId": "f7c65dfb-9c19-4624-f41c-f4f6a16f2401"
      },
      "source": [
        "from pyspark.ml.feature import VectorAssembler\n",
        "\n",
        "feature_columns = data.columns[:-1]\n",
        "assembler = VectorAssembler(inputCols=feature_columns, outputCol='features')\n",
        "feature_columns"
      ],
      "execution_count": 11,
      "outputs": [
        {
          "output_type": "execute_result",
          "data": {
            "text/plain": [
              "['X1', 'X2', 'X3', 'X4', 'X5', 'X6']"
            ]
          },
          "metadata": {
            "tags": []
          },
          "execution_count": 11
        }
      ]
    },
    {
      "cell_type": "code",
      "metadata": {
        "colab": {
          "base_uri": "https://localhost:8080/"
        },
        "id": "X4zOotepGu89",
        "outputId": "5d73691f-8e91-4fcc-9f8c-81e8573adc3f"
      },
      "source": [
        "data_2 = assembler.transform(data)\n",
        "data_2.show()"
      ],
      "execution_count": 12,
      "outputs": [
        {
          "output_type": "stream",
          "text": [
            "+--------+----+--------+---+--------+---------+----+--------------------+\n",
            "|      X1|  X2|      X3| X4|      X5|       X6|   Y|            features|\n",
            "+--------+----+--------+---+--------+---------+----+--------------------+\n",
            "|2012.917|32.0|84.87882| 10|24.98298|121.54024|37.9|[2012.917,32.0,84...|\n",
            "|2012.917|19.5|306.5947|  9|24.98034|121.53951|42.2|[2012.917,19.5,30...|\n",
            "|2013.583|13.3|561.9845|  5|24.98746|121.54391|47.3|[2013.583,13.3,56...|\n",
            "|  2013.5|13.3|561.9845|  5|24.98746|121.54391|54.8|[2013.5,13.3,561....|\n",
            "|2012.833| 5.0|390.5684|  5|24.97937|121.54245|43.1|[2012.833,5.0,390...|\n",
            "|2012.667| 7.1| 2175.03|  3|24.96305|121.51254|32.1|[2012.667,7.1,217...|\n",
            "|2012.667|34.5|623.4731|  7|24.97933|121.53642|40.3|[2012.667,34.5,62...|\n",
            "|2013.417|20.3|287.6025|  6|24.98042|121.54228|46.7|[2013.417,20.3,28...|\n",
            "|  2013.5|31.7|5512.038|  1|24.95095|121.48458|18.8|[2013.5,31.7,5512...|\n",
            "|2013.417|17.9| 1783.18|  3|24.96731|121.51486|22.1|[2013.417,17.9,17...|\n",
            "|2013.083|34.8|405.2134|  1|24.97349|121.53372|41.4|[2013.083,34.8,40...|\n",
            "|2013.333| 6.3|90.45606|  9|24.97433| 121.5431|58.1|[2013.333,6.3,90....|\n",
            "|2012.917|13.0|492.2313|  5|24.96515|121.53737|39.3|[2012.917,13.0,49...|\n",
            "|2012.667|20.4|2469.645|  4|24.96108|121.51046|23.8|[2012.667,20.4,24...|\n",
            "|  2013.5|13.2|1164.838|  4|24.99156|121.53406|34.3|[2013.5,13.2,1164...|\n",
            "|2013.583|35.7|579.2083|  2| 24.9824|121.54619|50.5|[2013.583,35.7,57...|\n",
            "| 2013.25| 0.0|292.9978|  6|24.97744|121.54458|70.1|[2013.25,0.0,292....|\n",
            "| 2012.75|17.7|350.8515|  1|24.97544|121.53119|37.4|[2012.75,17.7,350...|\n",
            "|2013.417|16.9|368.1363|  8| 24.9675|121.54451|42.3|[2013.417,16.9,36...|\n",
            "|2012.667| 1.5|23.38284|  7|24.96772|121.54102|47.7|[2012.667,1.5,23....|\n",
            "+--------+----+--------+---+--------+---------+----+--------------------+\n",
            "only showing top 20 rows\n",
            "\n"
          ],
          "name": "stdout"
        }
      ]
    },
    {
      "cell_type": "markdown",
      "metadata": {
        "id": "14etrmj4KIU9"
      },
      "source": [
        "## Data Split"
      ]
    },
    {
      "cell_type": "code",
      "metadata": {
        "id": "pVNDgDMXHE1T"
      },
      "source": [
        "train, test = data_2.randomSplit([0.7, 0.3])"
      ],
      "execution_count": 13,
      "outputs": []
    },
    {
      "cell_type": "markdown",
      "metadata": {
        "id": "FVMH4-_lKwxL"
      },
      "source": [
        "## 모델 생성"
      ]
    },
    {
      "cell_type": "code",
      "metadata": {
        "id": "wiWzgb4cHVFJ"
      },
      "source": [
        "from pyspark.ml.regression import LinearRegression, RandomForestRegressor, GBTRegressor"
      ],
      "execution_count": 14,
      "outputs": []
    },
    {
      "cell_type": "markdown",
      "metadata": {
        "id": "qvL8ya_VLsSs"
      },
      "source": [
        "### LinearRegression"
      ]
    },
    {
      "cell_type": "code",
      "metadata": {
        "id": "oyOGhbADLr7u"
      },
      "source": [
        "linear = LinearRegression(featuresCol='features', labelCol='Y')\n",
        "linear_model = linear.fit(train)"
      ],
      "execution_count": 15,
      "outputs": []
    },
    {
      "cell_type": "markdown",
      "metadata": {
        "id": "zqj7suOOXCQr"
      },
      "source": [
        "### RandomForestRegressor"
      ]
    },
    {
      "cell_type": "code",
      "metadata": {
        "id": "_oO5n6CmXJkD"
      },
      "source": [
        "rf = RandomForestRegressor(featuresCol='features', labelCol='Y')\n",
        "rf_model = rf.fit(train)"
      ],
      "execution_count": 16,
      "outputs": []
    },
    {
      "cell_type": "markdown",
      "metadata": {
        "id": "1FBOeUEUXGZ0"
      },
      "source": [
        "### GBTRegressor"
      ]
    },
    {
      "cell_type": "code",
      "metadata": {
        "id": "0C8_cAC6XXLw"
      },
      "source": [
        "gbt = GBTRegressor(featuresCol='features', labelCol='Y')\n",
        "gbt_model = gbt.fit(train)"
      ],
      "execution_count": 17,
      "outputs": []
    },
    {
      "cell_type": "markdown",
      "metadata": {
        "id": "qaY9uWNKQAZw"
      },
      "source": [
        "## 성능 평가"
      ]
    },
    {
      "cell_type": "code",
      "metadata": {
        "colab": {
          "base_uri": "https://localhost:8080/"
        },
        "id": "BZYMcJCIQCRB",
        "outputId": "8789a20e-8518-4120-ef01-a030034ec18d"
      },
      "source": [
        "from pyspark.ml.evaluation import RegressionEvaluator\n",
        "\n",
        "evaluator = RegressionEvaluator(predictionCol='prediction', labelCol='Y', metricName='rmse')\n",
        "evaluator"
      ],
      "execution_count": 18,
      "outputs": [
        {
          "output_type": "execute_result",
          "data": {
            "text/plain": [
              "RegressionEvaluator_f014fdbe0fd4"
            ]
          },
          "metadata": {
            "tags": []
          },
          "execution_count": 18
        }
      ]
    },
    {
      "cell_type": "code",
      "metadata": {
        "id": "3scq75U2SHqL"
      },
      "source": [
        "linear_pred = linear_model.transform(test)\n",
        "rf_pred = rf_model.transform(test)\n",
        "gbt_pred = gbt_model.transform(test)"
      ],
      "execution_count": 19,
      "outputs": []
    },
    {
      "cell_type": "code",
      "metadata": {
        "colab": {
          "base_uri": "https://localhost:8080/"
        },
        "id": "t_BWEwziZGEQ",
        "outputId": "f57c0ed3-b00e-4a4a-9027-87a52239a6cf"
      },
      "source": [
        "evaluator.evaluate(linear_pred), evaluator.evaluate(rf_pred), evaluator.evaluate(gbt_pred)"
      ],
      "execution_count": 20,
      "outputs": [
        {
          "output_type": "execute_result",
          "data": {
            "text/plain": [
              "(8.988568117087084, 7.198784017933859, 8.44532447110716)"
            ]
          },
          "metadata": {
            "tags": []
          },
          "execution_count": 20
        }
      ]
    },
    {
      "cell_type": "markdown",
      "metadata": {
        "id": "rzHiLB1rZkTX"
      },
      "source": [
        "## MinMaxScaler 적용\n",
        "  - ML Pipeline"
      ]
    },
    {
      "cell_type": "code",
      "metadata": {
        "id": "mtcduHEJq6o1"
      },
      "source": [
        "from pyspark.ml.feature import MinMaxScaler\n",
        "from pyspark.ml import Pipeline"
      ],
      "execution_count": 21,
      "outputs": []
    },
    {
      "cell_type": "code",
      "metadata": {
        "id": "tiLnb7jTaHN0"
      },
      "source": [
        "columns_to_scale = ['X1','X2','X3','X4','X5','X6']\n",
        "assemblers = [VectorAssembler(inputCols=[col], outputCol=col + \"_vec\") for col in columns_to_scale]\n",
        "scalers = [MinMaxScaler(inputCol=col + \"_vec\", outputCol=col + \"_scaled\") for col in columns_to_scale]"
      ],
      "execution_count": 22,
      "outputs": []
    },
    {
      "cell_type": "code",
      "metadata": {
        "colab": {
          "base_uri": "https://localhost:8080/"
        },
        "id": "486XDepCdnwj",
        "outputId": "47c794de-ecbf-4612-f65c-b15bf074f190"
      },
      "source": [
        "pipeline = Pipeline(stages = assemblers + scalers)\n",
        "scalerModel = pipeline.fit(data)\n",
        "scaledData = scalerModel.transform(data)\n",
        "\n",
        "scaledData.show()"
      ],
      "execution_count": 37,
      "outputs": [
        {
          "output_type": "stream",
          "text": [
            "+--------+----+--------+---+--------+---------+----+----------+------+----------+------+----------+-----------+--------------------+--------------------+--------------------+--------------------+--------------------+--------------------+\n",
            "|      X1|  X2|      X3| X4|      X5|       X6|   Y|    X1_vec|X2_vec|    X3_vec|X4_vec|    X5_vec|     X6_vec|           X1_scaled|           X2_scaled|           X3_scaled|           X4_scaled|           X5_scaled|           X6_scaled|\n",
            "+--------+----+--------+---+--------+---------+----+----------+------+----------+------+----------+-----------+--------------------+--------------------+--------------------+--------------------+--------------------+--------------------+\n",
            "|2012.917|32.0|84.87882| 10|24.98298|121.54024|37.9|[2012.917]|[32.0]|[84.87882]|[10.0]|[24.98298]|[121.54024]|[0.27292576419208...|[0.7305936073059361]|[0.00951267162646...|               [1.0]| [0.616941347552139]|[0.7193228380417942]|\n",
            "|2012.917|19.5|306.5947|  9|24.98034|121.53951|42.2|[2012.917]|[19.5]|[306.5947]| [9.0]|[24.98034]|[121.53951]|[0.27292576419208...|[0.44520547945205...|[0.04380939087238...|               [0.9]|[0.5849491032477332]|[0.7114513694199474]|\n",
            "|2013.583|13.3|561.9845|  5|24.98746|121.54391|47.3|[2013.583]|[13.3]|[561.9845]| [5.0]|[24.98746]|[121.54391]|[0.9999999999999999]|[0.30365296803652...|[0.0833150513098478]|               [0.5]| [0.671231216674745]|[0.7588958378261307]|\n",
            "|  2013.5|13.3|561.9845|  5|24.98746|121.54391|54.8|  [2013.5]|[13.3]|[561.9845]| [5.0]|[24.98746]|[121.54391]|[0.9093886462881348]|[0.30365296803652...|[0.0833150513098478]|               [0.5]| [0.671231216674745]|[0.7588958378261307]|\n",
            "|2012.833| 5.0|390.5684|  5|24.97937|121.54245|43.1|[2012.833]| [5.0]|[390.5684]| [5.0]|[24.97937]|[121.54245]|[0.18122270742373...|[0.11415525114155...|[0.05679908927803...|               [0.5]| [0.573194377120705]|[0.7431529005822838]|\n",
            "|2012.667| 7.1| 2175.03|  3|24.96305|121.51254|32.1|[2012.667]| [7.1]| [2175.03]| [3.0]|[24.96305]|[121.51254]|               [0.0]|[0.16210045662100...|[0.3328333476285392]|[0.30000000000000...|[0.3754241396025207]|[0.42063834375676...|\n",
            "|2012.667|34.5|623.4731|  7|24.97933|121.53642|40.3|[2012.667]|[34.5]|[623.4731]| [7.0]|[24.97933]|[121.53642]|               [0.0]|[0.7876712328767124]|[0.09282658134109...|[0.7000000000000001]|[0.5727096461464141]|[0.6781324131982517]|\n",
            "|2013.417|20.3|287.6025|  6|24.98042|121.54228|46.7|[2013.417]|[20.3]|[287.6025]| [6.0]|[24.98042]|[121.54228]|[0.8187772925762695]|[0.46347031963470...|[0.04087153116084...|[0.6000000000000001]| [0.585918565196315]|[0.7413198188484353]|\n",
            "|  2013.5|31.7|5512.038|  1|24.95095|121.48458|18.8|  [2013.5]|[31.7]|[5512.038]| [1.0]|[24.95095]|[121.48458]|[0.9093886462881348]| [0.723744292237443]|[0.8490274357443697]|               [0.1]|[0.22879301987396...|[0.11915031270214...|\n",
            "|2013.417|17.9| 1783.18|  3|24.96731|121.51486|22.1|[2013.417]|[17.9]| [1783.18]| [3.0]|[24.96731]|[121.51486]|[0.8187772925762695]| [0.408675799086758]|[0.2722189728867981]|[0.30000000000000...|[0.4270479883664835]|[0.44565451800732...|\n",
            "|2013.083|34.8|405.2134|  1|24.97349|121.53372|41.4|[2013.083]|[34.8]|[405.2134]| [1.0]|[24.97349]|[121.53372]|[0.4541484716158202]|[0.7945205479452055]|[0.05906449062572...|               [0.1]|[0.5019389238972712]|[0.6490187621307061]|\n",
            "|2013.333| 6.3|90.45606|  9|24.97433| 121.5431|58.1|[2013.333]| [6.3]|[90.45606]| [9.0]|[24.97433]| [121.5431]|[0.7270742358079101]|[0.14383561643835...|[0.01037540204725...|               [0.9]| [0.512118274357725]| [0.750161742505867]|\n",
            "|2012.917|13.0|492.2313|  5|24.96515|121.53737|39.3|[2012.917]|[13.0]|[492.2313]| [5.0]|[24.96515]|[121.53737]|[0.27292576419208...|[0.29680365296803...|[0.07252508932379...|               [0.5]|[0.4008725157537839]|   [0.6883761052404]|\n",
            "|2012.667|20.4|2469.645|  4|24.96108|121.51046|23.8|[2012.667]|[20.4]|[2469.645]| [4.0]|[24.96108]|[121.51046]|               [0.0]|[0.4657534246575343]|[0.37840666398566...|               [0.4]| [0.351551139117789]|[0.39821004960098...|\n",
            "|  2013.5|13.2|1164.838|  4|24.99156|121.53406|34.3|  [2013.5]|[13.2]|[1164.838]| [4.0]|[24.99156]|[121.53406]|[0.9093886462881348]|[0.30136986301369...|[0.17656907188754...|               [0.4]| [0.720916141541458]| [0.652684925598403]|\n",
            "|2013.583|35.7|579.2083|  2| 24.9824|121.54619|50.5|[2013.583]|[35.7]|[579.2083]| [2.0]| [24.9824]|[121.54619]|[0.9999999999999999]|[0.8150684931506851]|[0.08597936129498...|               [0.2]|[0.6099127484246194]|[0.7834806987275627]|\n",
            "| 2013.25| 0.0|292.9978|  6|24.97744|121.54458|70.1| [2013.25]| [0.0]|[292.9978]| [6.0]|[24.97744]|[121.54458]|[0.6364628820960448]|               [0.0]|[0.04170611770172...|[0.6000000000000001]|[0.5498061076103072]|[0.7661203364243565]|\n",
            "| 2012.75|17.7|350.8515|  1|24.97544|121.53119|37.4| [2012.75]|[17.7]|[350.8515]| [1.0]|[24.97544]|[121.53119]|[0.09061135371186...|[0.4041095890410959]|[0.05065537341690...|               [0.1]|[0.5255695588948144]|[0.6217381927970088]|\n",
            "|2013.417|16.9|368.1363|  8| 24.9675|121.54451|42.3|[2013.417]|[16.9]|[368.1363]| [8.0]| [24.9675]|[121.54451]|[0.8187772925762695]|[0.3858447488584475]|[0.05332911935166...|               [0.8]|[0.42935046049445...|[0.7653655380634141]|\n",
            "|2012.667| 1.5|23.38284|  7|24.96772|121.54102|47.7|[2012.667]| [1.5]|[23.38284]| [7.0]|[24.96772]|[121.54102]|               [0.0]|[0.03424657534246...|               [0.0]|[0.7000000000000001]|[0.4320164808531376]|[0.7277334483502473]|\n",
            "+--------+----+--------+---+--------+---------+----+----------+------+----------+------+----------+-----------+--------------------+--------------------+--------------------+--------------------+--------------------+--------------------+\n",
            "only showing top 20 rows\n",
            "\n"
          ],
          "name": "stdout"
        }
      ]
    },
    {
      "cell_type": "code",
      "metadata": {
        "id": "AW94fmvax633"
      },
      "source": [
        "scaledData = scaledData.select(['X1_scaled','X2_scaled','X3_scaled','X4_scaled','X5_scaled','X6_scaled','Y'])"
      ],
      "execution_count": 38,
      "outputs": []
    },
    {
      "cell_type": "code",
      "metadata": {
        "colab": {
          "base_uri": "https://localhost:8080/"
        },
        "id": "MOBDtIKafsnU",
        "outputId": "96fbcc47-3405-456e-ccd9-702bf75cebf8"
      },
      "source": [
        "feature_columns = scaledData.columns[:-1]\n",
        "assembler = VectorAssembler(inputCols=feature_columns, outputCol='features')\n",
        "scaledData_2 = assembler.transform(scaledData)\n",
        "\n",
        "scaledData_2.show()"
      ],
      "execution_count": 39,
      "outputs": [
        {
          "output_type": "stream",
          "text": [
            "+--------------------+--------------------+--------------------+--------------------+--------------------+--------------------+----+--------------------+\n",
            "|           X1_scaled|           X2_scaled|           X3_scaled|           X4_scaled|           X5_scaled|           X6_scaled|   Y|            features|\n",
            "+--------------------+--------------------+--------------------+--------------------+--------------------+--------------------+----+--------------------+\n",
            "|[0.27292576419208...|[0.7305936073059361]|[0.00951267162646...|               [1.0]| [0.616941347552139]|[0.7193228380417942]|37.9|[0.27292576419208...|\n",
            "|[0.27292576419208...|[0.44520547945205...|[0.04380939087238...|               [0.9]|[0.5849491032477332]|[0.7114513694199474]|42.2|[0.27292576419208...|\n",
            "|[0.9999999999999999]|[0.30365296803652...|[0.0833150513098478]|               [0.5]| [0.671231216674745]|[0.7588958378261307]|47.3|[0.99999999999999...|\n",
            "|[0.9093886462881348]|[0.30365296803652...|[0.0833150513098478]|               [0.5]| [0.671231216674745]|[0.7588958378261307]|54.8|[0.90938864628813...|\n",
            "|[0.18122270742373...|[0.11415525114155...|[0.05679908927803...|               [0.5]| [0.573194377120705]|[0.7431529005822838]|43.1|[0.18122270742373...|\n",
            "|               [0.0]|[0.16210045662100...|[0.3328333476285392]|[0.30000000000000...|[0.3754241396025207]|[0.42063834375676...|32.1|[0.0,0.1621004566...|\n",
            "|               [0.0]|[0.7876712328767124]|[0.09282658134109...|[0.7000000000000001]|[0.5727096461464141]|[0.6781324131982517]|40.3|[0.0,0.7876712328...|\n",
            "|[0.8187772925762695]|[0.46347031963470...|[0.04087153116084...|[0.6000000000000001]| [0.585918565196315]|[0.7413198188484353]|46.7|[0.81877729257626...|\n",
            "|[0.9093886462881348]| [0.723744292237443]|[0.8490274357443697]|               [0.1]|[0.22879301987396...|[0.11915031270214...|18.8|[0.90938864628813...|\n",
            "|[0.8187772925762695]| [0.408675799086758]|[0.2722189728867981]|[0.30000000000000...|[0.4270479883664835]|[0.44565451800732...|22.1|[0.81877729257626...|\n",
            "|[0.4541484716158202]|[0.7945205479452055]|[0.05906449062572...|               [0.1]|[0.5019389238972712]|[0.6490187621307061]|41.4|[0.45414847161582...|\n",
            "|[0.7270742358079101]|[0.14383561643835...|[0.01037540204725...|               [0.9]| [0.512118274357725]| [0.750161742505867]|58.1|[0.72707423580791...|\n",
            "|[0.27292576419208...|[0.29680365296803...|[0.07252508932379...|               [0.5]|[0.4008725157537839]|   [0.6883761052404]|39.3|[0.27292576419208...|\n",
            "|               [0.0]|[0.4657534246575343]|[0.37840666398566...|               [0.4]| [0.351551139117789]|[0.39821004960098...|23.8|[0.0,0.4657534246...|\n",
            "|[0.9093886462881348]|[0.30136986301369...|[0.17656907188754...|               [0.4]| [0.720916141541458]| [0.652684925598403]|34.3|[0.90938864628813...|\n",
            "|[0.9999999999999999]|[0.8150684931506851]|[0.08597936129498...|               [0.2]|[0.6099127484246194]|[0.7834806987275627]|50.5|[0.99999999999999...|\n",
            "|[0.6364628820960448]|               [0.0]|[0.04170611770172...|[0.6000000000000001]|[0.5498061076103072]|[0.7661203364243565]|70.1|[0.63646288209604...|\n",
            "|[0.09061135371186...|[0.4041095890410959]|[0.05065537341690...|               [0.1]|[0.5255695588948144]|[0.6217381927970088]|37.4|[0.09061135371186...|\n",
            "|[0.8187772925762695]|[0.3858447488584475]|[0.05332911935166...|               [0.8]|[0.42935046049445...|[0.7653655380634141]|42.3|[0.81877729257626...|\n",
            "|               [0.0]|[0.03424657534246...|               [0.0]|[0.7000000000000001]|[0.4320164808531376]|[0.7277334483502473]|47.7|[0.0,0.0342465753...|\n",
            "+--------------------+--------------------+--------------------+--------------------+--------------------+--------------------+----+--------------------+\n",
            "only showing top 20 rows\n",
            "\n"
          ],
          "name": "stdout"
        }
      ]
    },
    {
      "cell_type": "code",
      "metadata": {
        "colab": {
          "base_uri": "https://localhost:8080/"
        },
        "id": "Iivgnq9BvKn-",
        "outputId": "4857c501-27ac-4292-8481-dfbdd504bdd6"
      },
      "source": [
        "scaledData_2.printSchema()"
      ],
      "execution_count": 26,
      "outputs": [
        {
          "output_type": "stream",
          "text": [
            "root\n",
            " |-- X1_scaled: vector (nullable = true)\n",
            " |-- X2_scaled: vector (nullable = true)\n",
            " |-- X3_scaled: vector (nullable = true)\n",
            " |-- X4_scaled: vector (nullable = true)\n",
            " |-- X5_scaled: vector (nullable = true)\n",
            " |-- X6_scaled: vector (nullable = true)\n",
            " |-- Y: double (nullable = true)\n",
            " |-- features: vector (nullable = true)\n",
            "\n"
          ],
          "name": "stdout"
        }
      ]
    },
    {
      "cell_type": "markdown",
      "metadata": {
        "id": "mw4sCZBagZ23"
      },
      "source": [
        "### 스케일링 전후 성능 비교"
      ]
    },
    {
      "cell_type": "code",
      "metadata": {
        "id": "WoinOntC1LDy"
      },
      "source": [
        "import pandas as pd"
      ],
      "execution_count": 44,
      "outputs": []
    },
    {
      "cell_type": "code",
      "metadata": {
        "colab": {
          "base_uri": "https://localhost:8080/",
          "height": 106
        },
        "id": "JPmOpg8AgM8v",
        "outputId": "9be96c7c-2736-41ce-8cc7-d5bed2691391"
      },
      "source": [
        "train_scaled, test_scaled = scaledData_2.randomSplit([0.7, 0.3])\n",
        "\n",
        "linear_scaled_model = linear.fit(train_scaled)\n",
        "rf_scaled_model = rf.fit(train_scaled)\n",
        "gbt_scaled_model = gbt.fit(train_scaled)\n",
        "\n",
        "linear_scaled_pred = linear_scaled_model.transform(test_scaled)\n",
        "rf_scaled_pred = rf_scaled_model.transform(test_scaled)\n",
        "gbt_scaled_pred = gbt_scaled_model.transform(test_scaled)\n",
        "\n",
        "pd.DataFrame([[evaluator.evaluate(linear_pred), evaluator.evaluate(rf_pred), evaluator.evaluate(gbt_pred)], \n",
        "              [evaluator.evaluate(linear_scaled_pred), evaluator.evaluate(rf_scaled_pred), evaluator.evaluate(gbt_scaled_pred)]], \n",
        "             columns=['Linear', 'RandomForest', 'GBT'])"
      ],
      "execution_count": 45,
      "outputs": [
        {
          "output_type": "execute_result",
          "data": {
            "text/html": [
              "<div>\n",
              "<style scoped>\n",
              "    .dataframe tbody tr th:only-of-type {\n",
              "        vertical-align: middle;\n",
              "    }\n",
              "\n",
              "    .dataframe tbody tr th {\n",
              "        vertical-align: top;\n",
              "    }\n",
              "\n",
              "    .dataframe thead th {\n",
              "        text-align: right;\n",
              "    }\n",
              "</style>\n",
              "<table border=\"1\" class=\"dataframe\">\n",
              "  <thead>\n",
              "    <tr style=\"text-align: right;\">\n",
              "      <th></th>\n",
              "      <th>Linear</th>\n",
              "      <th>RandomForest</th>\n",
              "      <th>GBT</th>\n",
              "    </tr>\n",
              "  </thead>\n",
              "  <tbody>\n",
              "    <tr>\n",
              "      <th>0</th>\n",
              "      <td>8.988568</td>\n",
              "      <td>7.198784</td>\n",
              "      <td>8.445324</td>\n",
              "    </tr>\n",
              "    <tr>\n",
              "      <th>1</th>\n",
              "      <td>7.984950</td>\n",
              "      <td>6.443968</td>\n",
              "      <td>7.509495</td>\n",
              "    </tr>\n",
              "  </tbody>\n",
              "</table>\n",
              "</div>"
            ],
            "text/plain": [
              "     Linear  RandomForest       GBT\n",
              "0  8.988568      7.198784  8.445324\n",
              "1  7.984950      6.443968  7.509495"
            ]
          },
          "metadata": {
            "tags": []
          },
          "execution_count": 45
        }
      ]
    },
    {
      "cell_type": "markdown",
      "metadata": {
        "id": "seYj-H_Phseo"
      },
      "source": [
        "- 전체적으로 RMSE 점수가 낮아졌다\n",
        "  - ~사실 돌릴 때마다 들쭉날쭉 하는건 비밀~"
      ]
    },
    {
      "cell_type": "code",
      "metadata": {
        "id": "d6inHgM25Sq7"
      },
      "source": [
        ""
      ],
      "execution_count": null,
      "outputs": []
    }
  ]
}