{
 "cells": [
  {
   "cell_type": "code",
   "execution_count": 1,
   "metadata": {
    "ExecuteTime": {
     "end_time": "2021-06-09T06:51:19.910690Z",
     "start_time": "2021-06-09T06:51:11.965328Z"
    }
   },
   "outputs": [],
   "source": [
    "%matplotlib inline\n",
    "import matplotlib.pyplot as plt\n",
    "import seaborn as sns; sns.set()\n",
    "import numpy as np\n",
    "\n",
    "from sklearn.linear_model import LinearRegression\n",
    "model = LinearRegression(fit_intercept=True)"
   ]
  },
  {
   "cell_type": "code",
   "execution_count": 2,
   "metadata": {
    "ExecuteTime": {
     "end_time": "2021-06-09T06:51:21.593964Z",
     "start_time": "2021-06-09T06:51:21.497583Z"
    }
   },
   "outputs": [
    {
     "data": {
      "text/plain": [
       "(1000,)"
      ]
     },
     "execution_count": 2,
     "metadata": {},
     "output_type": "execute_result"
    }
   ],
   "source": [
    "N = 1000\n",
    "M = 3\n",
    "rng = np.random.RandomState(1)\n",
    "rng.rand(N, M).shape\n",
    "X = 10 * rng.rand(N, M)\n",
    "np.dot(X, [1.5, -2., 1.]).shape"
   ]
  },
  {
   "cell_type": "code",
   "execution_count": 3,
   "metadata": {
    "ExecuteTime": {
     "end_time": "2021-06-09T06:51:23.924676Z",
     "start_time": "2021-06-09T06:51:23.839761Z"
    }
   },
   "outputs": [
    {
     "name": "stdout",
     "output_type": "stream",
     "text": [
      "0.4999999999999636\n",
      "[ 1.5 -2.   1. ]\n"
     ]
    }
   ],
   "source": [
    "rng = np.random.RandomState(1)\n",
    "X = 10 * rng.rand(N, M)\n",
    "y = 0.5 + np.dot(X, [1.5, -2., 1.])\n",
    "\n",
    "model.fit(X, y)\n",
    "print(model.intercept_)\n",
    "print(model.coef_)"
   ]
  },
  {
   "cell_type": "markdown",
   "metadata": {},
   "source": [
    "### Normal Equations"
   ]
  },
  {
   "cell_type": "code",
   "execution_count": 4,
   "metadata": {
    "ExecuteTime": {
     "end_time": "2021-06-09T06:52:24.899261Z",
     "start_time": "2021-06-09T06:52:24.865274Z"
    }
   },
   "outputs": [],
   "source": [
    "import numpy.linalg as LA\n",
    "normal_equation_solution = LA.inv(X.T@X)@X.T@y"
   ]
  },
  {
   "cell_type": "code",
   "execution_count": 5,
   "metadata": {
    "ExecuteTime": {
     "end_time": "2021-06-09T06:52:26.004849Z",
     "start_time": "2021-06-09T06:52:25.983859Z"
    },
    "scrolled": true
   },
   "outputs": [
    {
     "data": {
      "text/plain": [
       "array([ 1.52825484, -1.96886193,  1.03058857])"
      ]
     },
     "execution_count": 5,
     "metadata": {},
     "output_type": "execute_result"
    }
   ],
   "source": [
    "normal_equation_solution"
   ]
  },
  {
   "cell_type": "markdown",
   "metadata": {},
   "source": [
    "### Small Memory Normal Equations (Online)"
   ]
  },
  {
   "cell_type": "code",
   "execution_count": 6,
   "metadata": {
    "ExecuteTime": {
     "end_time": "2021-06-09T06:54:12.425250Z",
     "start_time": "2021-06-09T06:54:12.411260Z"
    }
   },
   "outputs": [],
   "source": [
    "A = np.zeros([M, M])\n",
    "b = np.zeros([M, 1])"
   ]
  },
  {
   "cell_type": "code",
   "execution_count": 7,
   "metadata": {
    "ExecuteTime": {
     "end_time": "2021-06-09T06:54:15.035707Z",
     "start_time": "2021-06-09T06:54:15.009722Z"
    }
   },
   "outputs": [],
   "source": [
    "for i in range(N):\n",
    "    A = A + X[i, np.newaxis].T@X[i, np.newaxis]\n",
    "    b = b + X[i, np.newaxis].T*y[i]\n",
    "solution = LA.inv(A)@b"
   ]
  },
  {
   "cell_type": "code",
   "execution_count": 9,
   "metadata": {
    "ExecuteTime": {
     "end_time": "2021-06-09T06:55:37.044542Z",
     "start_time": "2021-06-09T06:55:37.034549Z"
    }
   },
   "outputs": [
    {
     "data": {
      "text/plain": [
       "array([[ 1.52825484],\n",
       "       [-1.96886193],\n",
       "       [ 1.03058857]])"
      ]
     },
     "execution_count": 9,
     "metadata": {},
     "output_type": "execute_result"
    }
   ],
   "source": [
    "solution"
   ]
  },
  {
   "cell_type": "markdown",
   "metadata": {},
   "source": [
    "### SGD"
   ]
  },
  {
   "cell_type": "code",
   "execution_count": 10,
   "metadata": {
    "ExecuteTime": {
     "end_time": "2021-06-09T06:55:38.370063Z",
     "start_time": "2021-06-09T06:55:38.362068Z"
    }
   },
   "outputs": [],
   "source": [
    "w = np.zeros([M, 1])"
   ]
  },
  {
   "cell_type": "code",
   "execution_count": 11,
   "metadata": {
    "ExecuteTime": {
     "end_time": "2021-06-09T06:55:39.535819Z",
     "start_time": "2021-06-09T06:55:39.516829Z"
    }
   },
   "outputs": [],
   "source": [
    "eta = 0.001\n",
    "n_iter = 1000"
   ]
  },
  {
   "cell_type": "code",
   "execution_count": 12,
   "metadata": {
    "ExecuteTime": {
     "end_time": "2021-06-09T06:55:41.887834Z",
     "start_time": "2021-06-09T06:55:41.865850Z"
    }
   },
   "outputs": [
    {
     "name": "stdout",
     "output_type": "stream",
     "text": [
      "[[ 1.5271529 ]\n",
      " [-1.97170249]\n",
      " [ 1.0336901 ]]\n"
     ]
    }
   ],
   "source": [
    "for i in range(n_iter):\n",
    "    i = i % N\n",
    "    neg_gradient = (y[i] - w.T@X[i, np.newaxis].T) * X[i, np.newaxis].T\n",
    "    w = w + eta * neg_gradient\n",
    "print(w)"
   ]
  }
 ],
 "metadata": {
  "kernelspec": {
   "display_name": "Python 3",
   "language": "python",
   "name": "python3"
  },
  "language_info": {
   "codemirror_mode": {
    "name": "ipython",
    "version": 3
   },
   "file_extension": ".py",
   "mimetype": "text/x-python",
   "name": "python",
   "nbconvert_exporter": "python",
   "pygments_lexer": "ipython3",
   "version": "3.8.5"
  },
  "toc": {
   "base_numbering": 1,
   "nav_menu": {},
   "number_sections": true,
   "sideBar": true,
   "skip_h1_title": false,
   "title_cell": "Table of Contents",
   "title_sidebar": "Contents",
   "toc_cell": false,
   "toc_position": {},
   "toc_section_display": true,
   "toc_window_display": false
  }
 },
 "nbformat": 4,
 "nbformat_minor": 4
}
