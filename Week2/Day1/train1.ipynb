{
 "cells": [
  {
   "cell_type": "markdown",
   "id": "closed-kazakhstan",
   "metadata": {},
   "source": [
    "# 선형 시스템 실습"
   ]
  },
  {
   "cell_type": "code",
   "execution_count": 1,
   "id": "unnecessary-slope",
   "metadata": {
    "ExecuteTime": {
     "end_time": "2021-04-26T04:15:18.228650Z",
     "start_time": "2021-04-26T04:15:17.418375Z"
    }
   },
   "outputs": [],
   "source": [
    "import numpy as np"
   ]
  },
  {
   "cell_type": "markdown",
   "id": "broken-nicaragua",
   "metadata": {},
   "source": [
    "## 행렬과 벡터"
   ]
  },
  {
   "cell_type": "code",
   "execution_count": 19,
   "id": "twelve-scottish",
   "metadata": {
    "ExecuteTime": {
     "end_time": "2021-04-26T04:30:43.271416Z",
     "start_time": "2021-04-26T04:30:43.255805Z"
    }
   },
   "outputs": [
    {
     "name": "stdout",
     "output_type": "stream",
     "text": [
      "A\n",
      "[[ 3  1  1]\n",
      " [ 1 -2  1]\n",
      " [ 2 -4  1]]\n",
      "(3, 3)\n",
      "\n",
      "B\n",
      "[[2]\n",
      " [3]\n",
      " [6]]\n",
      "(3, 1)\n"
     ]
    }
   ],
   "source": [
    "A = np.array([[3, 1, 1], [1, -2, 1], [2, -4, 1]])\n",
    "B = np.array([[2], [3], [6]])\n",
    "\n",
    "print('A')\n",
    "print(A)\n",
    "print(A.shape)\n",
    "\n",
    "print('\\nB')\n",
    "print(B)\n",
    "print(B.shape)\n"
   ]
  },
  {
   "cell_type": "markdown",
   "id": "changed-segment",
   "metadata": {},
   "source": [
    "## 역행렬"
   ]
  },
  {
   "cell_type": "markdown",
   "id": "knowing-gardening",
   "metadata": {},
   "source": [
    "### 역행렬 구하기"
   ]
  },
  {
   "cell_type": "code",
   "execution_count": 20,
   "id": "right-environment",
   "metadata": {
    "ExecuteTime": {
     "end_time": "2021-04-26T04:30:45.036919Z",
     "start_time": "2021-04-26T04:30:45.005707Z"
    }
   },
   "outputs": [
    {
     "name": "stdout",
     "output_type": "stream",
     "text": [
      "[[ 0.28571429 -0.71428571  0.42857143]\n",
      " [ 0.14285714  0.14285714 -0.28571429]\n",
      " [ 0.          2.         -1.        ]]\n",
      "(3, 3)\n"
     ]
    }
   ],
   "source": [
    "A_inv = np.linalg.inv(A)\n",
    "\n",
    "print(A_inv)\n",
    "print(A_inv.shape)"
   ]
  },
  {
   "cell_type": "markdown",
   "id": "higher-departure",
   "metadata": {},
   "source": [
    "### 역행렬을 통한 Ax = b의 해"
   ]
  },
  {
   "cell_type": "code",
   "execution_count": 21,
   "id": "assumed-depression",
   "metadata": {
    "ExecuteTime": {
     "end_time": "2021-04-26T04:30:45.927485Z",
     "start_time": "2021-04-26T04:30:45.911894Z"
    }
   },
   "outputs": [
    {
     "name": "stdout",
     "output_type": "stream",
     "text": [
      "x\n",
      "[[ 1.]\n",
      " [-1.]\n",
      " [ 0.]]\n",
      "(3, 1)\n"
     ]
    }
   ],
   "source": [
    "x = np.matmul(A_inv, B)\n",
    "\n",
    "print('x')\n",
    "print(x)\n",
    "print(x.shape)"
   ]
  },
  {
   "cell_type": "markdown",
   "id": "furnished-karma",
   "metadata": {},
   "source": [
    "### 검산"
   ]
  },
  {
   "cell_type": "code",
   "execution_count": 22,
   "id": "decreased-tyler",
   "metadata": {
    "ExecuteTime": {
     "end_time": "2021-04-26T04:30:51.286492Z",
     "start_time": "2021-04-26T04:30:51.255259Z"
    }
   },
   "outputs": [
    {
     "name": "stdout",
     "output_type": "stream",
     "text": [
      "[[2.]\n",
      " [3.]\n",
      " [6.]]\n",
      "(3, 1)\n",
      "O\n"
     ]
    }
   ],
   "source": [
    "b2 = np.matmul(A, x)\n",
    "\n",
    "print(b2)\n",
    "print(b2.shape)\n",
    "\n",
    "if np.linalg.norm(B - b2) < 1e-3 :\n",
    "    print('O')\n",
    "else :\n",
    "    print('X')"
   ]
  }
 ],
 "metadata": {
  "kernelspec": {
   "display_name": "Python 3",
   "language": "python",
   "name": "python3"
  },
  "language_info": {
   "codemirror_mode": {
    "name": "ipython",
    "version": 3
   },
   "file_extension": ".py",
   "mimetype": "text/x-python",
   "name": "python",
   "nbconvert_exporter": "python",
   "pygments_lexer": "ipython3",
   "version": "3.8.5"
  },
  "toc": {
   "base_numbering": 1,
   "nav_menu": {},
   "number_sections": true,
   "sideBar": true,
   "skip_h1_title": false,
   "title_cell": "Table of Contents",
   "title_sidebar": "Contents",
   "toc_cell": false,
   "toc_position": {},
   "toc_section_display": true,
   "toc_window_display": false
  }
 },
 "nbformat": 4,
 "nbformat_minor": 5
}
