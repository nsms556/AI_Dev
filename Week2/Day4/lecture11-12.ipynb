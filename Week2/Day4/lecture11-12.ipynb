{
 "cells": [
  {
   "cell_type": "markdown",
   "id": "american-conversation",
   "metadata": {},
   "source": [
    "# 베이즈 정리"
   ]
  },
  {
   "cell_type": "markdown",
   "id": "posted-digest",
   "metadata": {},
   "source": [
    "## 사자와 호랑이\n",
    "  - 전체 동물 중 사자가 70%, 나머지는 전부 호랑이\n",
    "  - 사자 중 2살 이상은 60%, 호랑이 중 2살 이상은 40%"
   ]
  },
  {
   "cell_type": "markdown",
   "id": "black-diana",
   "metadata": {},
   "source": [
    "- 사건 A : 사자, 사건 B : 2살 이상  \n",
    "- 사건 A<sup>C</sup> : 호랑이"
   ]
  },
  {
   "cell_type": "markdown",
   "id": "ethical-drawing",
   "metadata": {},
   "source": [
    "1. 전체 동물 중 하나를 골랐을 때 2살 이상인 확률?"
   ]
  },
  {
   "cell_type": "code",
   "execution_count": 1,
   "id": "treated-capability",
   "metadata": {
    "ExecuteTime": {
     "end_time": "2021-04-29T07:55:01.078165Z",
     "start_time": "2021-04-29T07:55:01.062174Z"
    }
   },
   "outputs": [
    {
     "name": "stdout",
     "output_type": "stream",
     "text": [
      "0.54\n"
     ]
    }
   ],
   "source": [
    "# P(B)?\n",
    "A = 0.7\n",
    "notA = 1 - A\n",
    "\n",
    "BinA = 0.6\n",
    "BinNotA = 0.4\n",
    "\n",
    "B = BinA * A + BinNotA * notA\n",
    "\n",
    "print(B)"
   ]
  },
  {
   "cell_type": "markdown",
   "id": "green-illustration",
   "metadata": {},
   "source": [
    "2. 전체 동물 중 하나를 골랐을 때 2살 이상인 경우, 사자일 확률?"
   ]
  },
  {
   "cell_type": "code",
   "execution_count": 3,
   "id": "cellular-stake",
   "metadata": {
    "ExecuteTime": {
     "end_time": "2021-04-29T07:59:01.844248Z",
     "start_time": "2021-04-29T07:59:01.829018Z"
    }
   },
   "outputs": [
    {
     "name": "stdout",
     "output_type": "stream",
     "text": [
      "0.7777777777777777\n"
     ]
    }
   ],
   "source": [
    "# P(A|B)?\n",
    "\n",
    "AinB = (BinA * A) / ((BinA * A) + (BinNotA * notA))\n",
    "\n",
    "print(AinB)"
   ]
  },
  {
   "cell_type": "markdown",
   "id": "better-continent",
   "metadata": {},
   "source": [
    "## 셔츠와 넥타이\n",
    "  - 검은 셔츠 3/4, 흰 셔츠 1/4\n",
    "  - 검은 셔츠일 때 넥타이 3/4\n",
    "  - 흰 셔츠일 때 넥타이 1/2"
   ]
  },
  {
   "cell_type": "markdown",
   "id": "forward-cooler",
   "metadata": {},
   "source": [
    "- 검은 셔츠 : A, 넥타이 : B\n",
    "- 흰 셔츠 : A<sup>C</sup>"
   ]
  },
  {
   "cell_type": "markdown",
   "id": "naked-encyclopedia",
   "metadata": {},
   "source": [
    "1. 넥타이를 맸을 때 검은 셔츠일 확률?"
   ]
  },
  {
   "cell_type": "code",
   "execution_count": null,
   "id": "defensive-world",
   "metadata": {},
   "outputs": [],
   "source": []
  }
 ],
 "metadata": {
  "kernelspec": {
   "display_name": "Python 3",
   "language": "python",
   "name": "python3"
  },
  "language_info": {
   "codemirror_mode": {
    "name": "ipython",
    "version": 3
   },
   "file_extension": ".py",
   "mimetype": "text/x-python",
   "name": "python",
   "nbconvert_exporter": "python",
   "pygments_lexer": "ipython3",
   "version": "3.8.5"
  },
  "toc": {
   "base_numbering": 1,
   "nav_menu": {},
   "number_sections": true,
   "sideBar": true,
   "skip_h1_title": false,
   "title_cell": "Table of Contents",
   "title_sidebar": "Contents",
   "toc_cell": false,
   "toc_position": {},
   "toc_section_display": true,
   "toc_window_display": false
  }
 },
 "nbformat": 4,
 "nbformat_minor": 5
}
