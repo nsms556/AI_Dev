{
 "cells": [
  {
   "cell_type": "code",
   "execution_count": 1,
   "id": "purple-regard",
   "metadata": {
    "ExecuteTime": {
     "end_time": "2021-04-30T11:22:39.140693Z",
     "start_time": "2021-04-30T11:22:36.638833Z"
    }
   },
   "outputs": [],
   "source": [
    "from scipy import stats"
   ]
  },
  {
   "cell_type": "markdown",
   "id": "natural-witness",
   "metadata": {},
   "source": [
    "## 랜덤박스\n",
    "  - 뽑기 성공 확률 0.2\n",
    "  - 3개 뽑았을때, 적어도 하나 이상 성공할 확률?"
   ]
  },
  {
   "cell_type": "code",
   "execution_count": 3,
   "id": "front-worthy",
   "metadata": {
    "ExecuteTime": {
     "end_time": "2021-04-30T11:24:28.343260Z",
     "start_time": "2021-04-30T11:24:28.333266Z"
    }
   },
   "outputs": [
    {
     "data": {
      "text/plain": [
       "0.4879999999999999"
      ]
     },
     "execution_count": 3,
     "metadata": {},
     "output_type": "execute_result"
    }
   ],
   "source": [
    "1 - stats.binom.cdf(0, n=3, p=0.2)"
   ]
  },
  {
   "cell_type": "markdown",
   "id": "amended-burning",
   "metadata": {},
   "source": [
    "## 표준정규분포"
   ]
  },
  {
   "cell_type": "markdown",
   "id": "potential-holocaust",
   "metadata": {},
   "source": [
    "### *X~N*(4, 3<sup>2</sup>)\n",
    "  - Z = (X - 4) / 3"
   ]
  },
  {
   "cell_type": "markdown",
   "id": "attempted-pearl",
   "metadata": {},
   "source": [
    "#### P[X <= 4] ?"
   ]
  },
  {
   "cell_type": "code",
   "execution_count": 4,
   "id": "unable-offset",
   "metadata": {
    "ExecuteTime": {
     "end_time": "2021-04-30T11:44:53.705934Z",
     "start_time": "2021-04-30T11:44:53.682945Z"
    }
   },
   "outputs": [
    {
     "data": {
      "text/plain": [
       "0.5"
      ]
     },
     "execution_count": 4,
     "metadata": {},
     "output_type": "execute_result"
    }
   ],
   "source": [
    "stats.norm.cdf(4, loc=4, scale=3)"
   ]
  },
  {
   "cell_type": "markdown",
   "id": "capable-raise",
   "metadata": {},
   "source": [
    "#### P[4 <= X <= 7] ?"
   ]
  },
  {
   "cell_type": "code",
   "execution_count": 5,
   "id": "lovely-capital",
   "metadata": {
    "ExecuteTime": {
     "end_time": "2021-04-30T11:47:33.984764Z",
     "start_time": "2021-04-30T11:47:33.969774Z"
    }
   },
   "outputs": [
    {
     "data": {
      "text/plain": [
       "0.3413447460685429"
      ]
     },
     "execution_count": 5,
     "metadata": {},
     "output_type": "execute_result"
    }
   ],
   "source": [
    "stats.norm.cdf(7, loc=4, scale=3) - stats.norm.cdf(4, loc=4, scale=3)"
   ]
  },
  {
   "cell_type": "markdown",
   "id": "quality-feedback",
   "metadata": {},
   "source": [
    "### 주가\n",
    "- 평균이 전날 종가, 편차가 50인 정규분포"
   ]
  },
  {
   "cell_type": "markdown",
   "id": "mineral-welcome",
   "metadata": {},
   "source": [
    "- 전날 종가 1000 -> 다음날 종가 1100 확률 ?\n",
    "  - P[X >= 1100] ?"
   ]
  },
  {
   "cell_type": "code",
   "execution_count": 6,
   "id": "reported-dance",
   "metadata": {
    "ExecuteTime": {
     "end_time": "2021-04-30T11:53:38.124024Z",
     "start_time": "2021-04-30T11:53:38.110032Z"
    }
   },
   "outputs": [
    {
     "data": {
      "text/plain": [
       "0.02275013194817921"
      ]
     },
     "execution_count": 6,
     "metadata": {},
     "output_type": "execute_result"
    }
   ],
   "source": [
    "1 - stats.norm.cdf(1100, loc=1000, scale=50)"
   ]
  },
  {
   "cell_type": "markdown",
   "id": "described-atlas",
   "metadata": {},
   "source": [
    "## 포아송 분포"
   ]
  },
  {
   "cell_type": "markdown",
   "id": "pacific-garlic",
   "metadata": {},
   "source": [
    "### 웹사이트\n",
    "- 시간당 접속자 수 : 평균 3인 포아송 분포"
   ]
  },
  {
   "cell_type": "markdown",
   "id": "checked-russell",
   "metadata": {
    "ExecuteTime": {
     "end_time": "2021-04-30T12:01:28.141329Z",
     "start_time": "2021-04-30T12:01:28.125342Z"
    }
   },
   "source": [
    "- 1시간 동안 접속자 수가 2명 이하일 확률?\n",
    "  - P[X <= 2] ?"
   ]
  },
  {
   "cell_type": "code",
   "execution_count": 8,
   "id": "legendary-consultancy",
   "metadata": {
    "ExecuteTime": {
     "end_time": "2021-04-30T12:02:04.296003Z",
     "start_time": "2021-04-30T12:02:04.273015Z"
    }
   },
   "outputs": [
    {
     "data": {
      "text/plain": [
       "0.42319008112684364"
      ]
     },
     "execution_count": 8,
     "metadata": {},
     "output_type": "execute_result"
    }
   ],
   "source": [
    "stats.poisson.cdf(2, mu=3)"
   ]
  },
  {
   "cell_type": "markdown",
   "id": "exciting-sunday",
   "metadata": {},
   "source": [
    "## 지수분포"
   ]
  },
  {
   "cell_type": "markdown",
   "id": "matched-lancaster",
   "metadata": {},
   "source": [
    "## 웹사이트\n",
    "  - 시간당 접속자수 : lambda = 3인 포아송 분포"
   ]
  },
  {
   "cell_type": "markdown",
   "id": "needed-tenant",
   "metadata": {},
   "source": [
    "- 30분 안에 접속자가 올 확률 ?\n",
    "  - P[X <= 0.5] ?"
   ]
  },
  {
   "cell_type": "code",
   "execution_count": 9,
   "id": "framed-hazard",
   "metadata": {
    "ExecuteTime": {
     "end_time": "2021-04-30T12:10:54.609046Z",
     "start_time": "2021-04-30T12:10:54.583061Z"
    }
   },
   "outputs": [
    {
     "data": {
      "text/plain": [
       "0.7768698398515702"
      ]
     },
     "execution_count": 9,
     "metadata": {},
     "output_type": "execute_result"
    }
   ],
   "source": [
    "lamb = 3\n",
    "stats.expon.cdf(0.5, scale=1/lamb)"
   ]
  }
 ],
 "metadata": {
  "kernelspec": {
   "display_name": "Python 3",
   "language": "python",
   "name": "python3"
  },
  "language_info": {
   "codemirror_mode": {
    "name": "ipython",
    "version": 3
   },
   "file_extension": ".py",
   "mimetype": "text/x-python",
   "name": "python",
   "nbconvert_exporter": "python",
   "pygments_lexer": "ipython3",
   "version": "3.8.5"
  },
  "toc": {
   "base_numbering": 1,
   "nav_menu": {},
   "number_sections": true,
   "sideBar": true,
   "skip_h1_title": false,
   "title_cell": "Table of Contents",
   "title_sidebar": "Contents",
   "toc_cell": false,
   "toc_position": {},
   "toc_section_display": true,
   "toc_window_display": false
  }
 },
 "nbformat": 4,
 "nbformat_minor": 5
}
